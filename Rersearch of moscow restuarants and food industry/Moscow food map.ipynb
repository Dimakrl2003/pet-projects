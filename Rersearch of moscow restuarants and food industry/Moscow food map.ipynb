{
 "cells": [
  {
   "cell_type": "markdown",
   "id": "4149134c",
   "metadata": {
    "id": "4149134c"
   },
   "source": [
    "### Цели и задачи проекта\n",
    "\n",
    "- **Цель проекта:** создать \"карту\" заведений общественного питания в г. Москва, чтобы определить наиболее перспективный для инвестирования *формат, меню, график работы и пр. особенности работы заведения*"
   ]
  },
  {
   "cell_type": "markdown",
   "id": "728986ea",
   "metadata": {
    "id": "728986ea"
   },
   "source": [
    "### Описание данных\n",
    "\n",
    "    Файл /datasets/rest_info.csv содержит информацию о заведениях общественного питания:\n",
    "    1. name — название заведения;\n",
    "    2. address — адрес заведения;\n",
    "    3. district — административный район, в котором находится заведение, например Центральный административный округ;\n",
    "    4. category — категория заведения, например «кафе», «пиццерия» или «кофейня»;\n",
    "    5. hours — информация о днях и часах работы;\n",
    "    6. rating — рейтинг заведения по оценкам пользователей в Яндекс Картах (высшая оценка — 5.0);\n",
    "    7. chain — число, выраженное 0 или 1, которое показывает, является ли заведение сетевым;\n",
    "    8. seats — количество посадочных мест.\n",
    "    \n",
    "    Файл /datasets/rest_price.csv содержит информацию о среднем чеке в заведениях общественного питания:\n",
    "    1. price — категория цен в заведении, например «средние», «ниже среднего», «выше среднего» и так далее;\n",
    "    2. avg_bill — строка, которая хранит среднюю стоимость заказа в виде диапазона, например:\n",
    "        А) «Средний счёт: 1000–1500 ₽»;\n",
    "        Б) «Цена чашки капучино: 130–220 ₽»;\n",
    "        В) «Цена бокала пива: 400–600 ₽».\n",
    "    3. middle_avg_bill — число с оценкой среднего чека, которое указано только для значений из столбца avg_bill, начинающихся с подстроки «Средний счёт»:\n",
    "        А) Если в строке указан ценовой диапазон из двух значений, в столбец войдёт медиана этих двух значений.\n",
    "        Б) Если в строке указано одно число — цена без диапазона, то в столбец войдёт это число.\n",
    "        В) Если значения нет или оно не начинается с подстроки «Средний счёт», то в столбец ничего не войдёт.\n",
    "    4. middle_coffee_cup — число с оценкой одной чашки капучино, которое указано только для значений из столбца avg_bill, начинающихся с подстроки «Цена одной чашки капучино»:\n",
    "        А) Если в строке указан ценовой диапазон из двух значений, в столбец войдёт медиана этих двух значений.\n",
    "        Б) Если в строке указано одно число — цена без диапазона, то в столбец войдёт это число.\n",
    "        В) Если значения нет или оно не начинается с подстроки «Цена одной чашки капучино», то в столбец ничего не войдёт.\n"
   ]
  },
  {
   "cell_type": "markdown",
   "id": "4fecaf95",
   "metadata": {
    "id": "4fecaf95"
   },
   "source": [
    "### Содержимое проекта\n",
    "\n",
    "<font color='#777778'>Перечислите основные шаги проекта или напишите оглавление. Используйте описание проекта, чтобы зафиксировать основные шаги.</font>\n",
    "\n",
    "---"
   ]
  },
  {
   "cell_type": "markdown",
   "id": "6f7d21d6",
   "metadata": {
    "id": "6f7d21d6"
   },
   "source": [
    "## Загрузка данных и знакомство с ними\n",
    "\n",
    "- Загружаем данные о заведениях общественного питания Москвы. Путь к файлам: `/datasets/rest_info.csv` и `/datasets/rest_price.csv`."
   ]
  },
  {
   "cell_type": "code",
   "execution_count": 1,
   "id": "aac235f1",
   "metadata": {},
   "outputs": [
    {
     "name": "stdout",
     "output_type": "stream",
     "text": [
      "Requirement already satisfied: phik==0.11.1 in /opt/conda/lib/python3.9/site-packages (0.11.1)\n",
      "Requirement already satisfied: scipy>=1.5.2 in /opt/conda/lib/python3.9/site-packages (from phik==0.11.1) (1.9.1)\n",
      "Requirement already satisfied: numpy>=1.18.0 in /opt/conda/lib/python3.9/site-packages (from phik==0.11.1) (1.21.1)\n",
      "Requirement already satisfied: matplotlib>=2.2.3 in /opt/conda/lib/python3.9/site-packages (from phik==0.11.1) (3.3.4)\n",
      "Requirement already satisfied: joblib>=0.14.1 in /opt/conda/lib/python3.9/site-packages (from phik==0.11.1) (1.1.0)\n",
      "Requirement already satisfied: pandas>=0.25.1 in /opt/conda/lib/python3.9/site-packages (from phik==0.11.1) (1.2.4)\n",
      "Requirement already satisfied: pyparsing!=2.0.4,!=2.1.2,!=2.1.6,>=2.0.3 in /opt/conda/lib/python3.9/site-packages (from matplotlib>=2.2.3->phik==0.11.1) (2.4.7)\n",
      "Requirement already satisfied: python-dateutil>=2.1 in /opt/conda/lib/python3.9/site-packages (from matplotlib>=2.2.3->phik==0.11.1) (2.8.1)\n",
      "Requirement already satisfied: cycler>=0.10 in /opt/conda/lib/python3.9/site-packages (from matplotlib>=2.2.3->phik==0.11.1) (0.11.0)\n",
      "Requirement already satisfied: kiwisolver>=1.0.1 in /opt/conda/lib/python3.9/site-packages (from matplotlib>=2.2.3->phik==0.11.1) (1.4.4)\n",
      "Requirement already satisfied: pillow>=6.2.0 in /opt/conda/lib/python3.9/site-packages (from matplotlib>=2.2.3->phik==0.11.1) (8.4.0)\n",
      "Requirement already satisfied: pytz>=2017.3 in /opt/conda/lib/python3.9/site-packages (from pandas>=0.25.1->phik==0.11.1) (2021.1)\n",
      "Requirement already satisfied: six>=1.5 in /opt/conda/lib/python3.9/site-packages (from python-dateutil>=2.1->matplotlib>=2.2.3->phik==0.11.1) (1.16.0)\n"
     ]
    }
   ],
   "source": [
    "!pip install phik==0.11.1"
   ]
  },
  {
   "cell_type": "code",
   "execution_count": 2,
   "id": "0a1bfb83",
   "metadata": {},
   "outputs": [],
   "source": [
    "import pandas as pd\n",
    "import matplotlib.pyplot as plt\n",
    "import seaborn as sns  "
   ]
  },
  {
   "cell_type": "code",
   "execution_count": 3,
   "id": "af9ef167",
   "metadata": {},
   "outputs": [],
   "source": [
    "from phik import phik_matrix"
   ]
  },
  {
   "cell_type": "code",
   "execution_count": 4,
   "id": "90fee493",
   "metadata": {
    "id": "90fee493"
   },
   "outputs": [],
   "source": [
    "df_cafe = pd.read_csv('/datasets/rest_info.csv')\n",
    "df_price = pd.read_csv('/datasets/rest_price.csv')"
   ]
  },
  {
   "cell_type": "markdown",
   "id": "18b5dfff",
   "metadata": {
    "id": "18b5dfff"
   },
   "source": [
    "- Знакомимся с данными массива df_cafe"
   ]
  },
  {
   "cell_type": "code",
   "execution_count": 5,
   "id": "f68a7419",
   "metadata": {
    "id": "f68a7419"
   },
   "outputs": [
    {
     "name": "stdout",
     "output_type": "stream",
     "text": [
      "<class 'pandas.core.frame.DataFrame'>\n",
      "RangeIndex: 8406 entries, 0 to 8405\n",
      "Data columns (total 9 columns):\n",
      " #   Column    Non-Null Count  Dtype  \n",
      "---  ------    --------------  -----  \n",
      " 0   id        8406 non-null   object \n",
      " 1   name      8406 non-null   object \n",
      " 2   category  8406 non-null   object \n",
      " 3   address   8406 non-null   object \n",
      " 4   district  8406 non-null   object \n",
      " 5   hours     7870 non-null   object \n",
      " 6   rating    8406 non-null   float64\n",
      " 7   chain     8406 non-null   int64  \n",
      " 8   seats     4795 non-null   float64\n",
      "dtypes: float64(2), int64(1), object(6)\n",
      "memory usage: 591.2+ KB\n",
      "None\n"
     ]
    }
   ],
   "source": [
    "print(df_cafe.info())"
   ]
  },
  {
   "cell_type": "code",
   "execution_count": 6,
   "id": "5573a98b",
   "metadata": {},
   "outputs": [
    {
     "data": {
      "text/html": [
       "<div>\n",
       "<style scoped>\n",
       "    .dataframe tbody tr th:only-of-type {\n",
       "        vertical-align: middle;\n",
       "    }\n",
       "\n",
       "    .dataframe tbody tr th {\n",
       "        vertical-align: top;\n",
       "    }\n",
       "\n",
       "    .dataframe thead th {\n",
       "        text-align: right;\n",
       "    }\n",
       "</style>\n",
       "<table border=\"1\" class=\"dataframe\">\n",
       "  <thead>\n",
       "    <tr style=\"text-align: right;\">\n",
       "      <th></th>\n",
       "      <th>id</th>\n",
       "      <th>name</th>\n",
       "      <th>category</th>\n",
       "      <th>address</th>\n",
       "      <th>district</th>\n",
       "      <th>hours</th>\n",
       "      <th>rating</th>\n",
       "      <th>chain</th>\n",
       "      <th>seats</th>\n",
       "    </tr>\n",
       "  </thead>\n",
       "  <tbody>\n",
       "    <tr>\n",
       "      <th>0</th>\n",
       "      <td>0c3e3439a8c64ea5bf6ecd6ca6ae19f0</td>\n",
       "      <td>WoWфли</td>\n",
       "      <td>кафе</td>\n",
       "      <td>Москва, улица Дыбенко, 7/1</td>\n",
       "      <td>Северный административный округ</td>\n",
       "      <td>ежедневно, 10:00–22:00</td>\n",
       "      <td>5.0</td>\n",
       "      <td>0</td>\n",
       "      <td>NaN</td>\n",
       "    </tr>\n",
       "    <tr>\n",
       "      <th>1</th>\n",
       "      <td>045780ada3474c57a2112e505d74b633</td>\n",
       "      <td>Четыре комнаты</td>\n",
       "      <td>ресторан</td>\n",
       "      <td>Москва, улица Дыбенко, 36, корп. 1</td>\n",
       "      <td>Северный административный округ</td>\n",
       "      <td>ежедневно, 10:00–22:00</td>\n",
       "      <td>4.5</td>\n",
       "      <td>0</td>\n",
       "      <td>4.0</td>\n",
       "    </tr>\n",
       "    <tr>\n",
       "      <th>2</th>\n",
       "      <td>1070b6b59144425896c65889347fcff6</td>\n",
       "      <td>Хазри</td>\n",
       "      <td>кафе</td>\n",
       "      <td>Москва, Клязьминская улица, 15</td>\n",
       "      <td>Северный административный округ</td>\n",
       "      <td>пн-чт 11:00–02:00; пт,сб 11:00–05:00; вс 11:00...</td>\n",
       "      <td>4.6</td>\n",
       "      <td>0</td>\n",
       "      <td>45.0</td>\n",
       "    </tr>\n",
       "    <tr>\n",
       "      <th>3</th>\n",
       "      <td>03ac7cd772104f65b58b349dc59f03ee</td>\n",
       "      <td>Dormouse Coffee Shop</td>\n",
       "      <td>кофейня</td>\n",
       "      <td>Москва, улица Маршала Федоренко, 12</td>\n",
       "      <td>Северный административный округ</td>\n",
       "      <td>ежедневно, 09:00–22:00</td>\n",
       "      <td>5.0</td>\n",
       "      <td>0</td>\n",
       "      <td>NaN</td>\n",
       "    </tr>\n",
       "    <tr>\n",
       "      <th>4</th>\n",
       "      <td>a163aada139c4c7f87b0b1c0b466a50f</td>\n",
       "      <td>Иль Марко</td>\n",
       "      <td>пиццерия</td>\n",
       "      <td>Москва, Правобережная улица, 1Б</td>\n",
       "      <td>Северный административный округ</td>\n",
       "      <td>ежедневно, 10:00–22:00</td>\n",
       "      <td>5.0</td>\n",
       "      <td>1</td>\n",
       "      <td>148.0</td>\n",
       "    </tr>\n",
       "  </tbody>\n",
       "</table>\n",
       "</div>"
      ],
      "text/plain": [
       "                                 id                  name  category  \\\n",
       "0  0c3e3439a8c64ea5bf6ecd6ca6ae19f0                WoWфли      кафе   \n",
       "1  045780ada3474c57a2112e505d74b633        Четыре комнаты  ресторан   \n",
       "2  1070b6b59144425896c65889347fcff6                 Хазри      кафе   \n",
       "3  03ac7cd772104f65b58b349dc59f03ee  Dormouse Coffee Shop   кофейня   \n",
       "4  a163aada139c4c7f87b0b1c0b466a50f             Иль Марко  пиццерия   \n",
       "\n",
       "                               address                         district  \\\n",
       "0           Москва, улица Дыбенко, 7/1  Северный административный округ   \n",
       "1   Москва, улица Дыбенко, 36, корп. 1  Северный административный округ   \n",
       "2       Москва, Клязьминская улица, 15  Северный административный округ   \n",
       "3  Москва, улица Маршала Федоренко, 12  Северный административный округ   \n",
       "4      Москва, Правобережная улица, 1Б  Северный административный округ   \n",
       "\n",
       "                                               hours  rating  chain  seats  \n",
       "0                             ежедневно, 10:00–22:00     5.0      0    NaN  \n",
       "1                             ежедневно, 10:00–22:00     4.5      0    4.0  \n",
       "2  пн-чт 11:00–02:00; пт,сб 11:00–05:00; вс 11:00...     4.6      0   45.0  \n",
       "3                             ежедневно, 09:00–22:00     5.0      0    NaN  \n",
       "4                             ежедневно, 10:00–22:00     5.0      1  148.0  "
      ]
     },
     "execution_count": 6,
     "metadata": {},
     "output_type": "execute_result"
    }
   ],
   "source": [
    "df_cafe.head()"
   ]
  },
  {
   "cell_type": "markdown",
   "id": "7c1e658d",
   "metadata": {
    "id": "dd415c80"
   },
   "source": [
    "#### Общая информация о массиве df_cafe\n",
    "\n",
    "1. В массиве собрана информация о **8406 заведений**\n",
    "2. В массиве df_price для столбцов *id*, *name*, *category*, *address*, *district*, *hours* тип данных задан **object**, для  столбцов *rating*, *seats* данные в формате **float64**, а для столбца *chain* в формате **int64**\n",
    "3. В столбце *hours* представлено **636** пропуска, а в столбце *seats* гораздо большее количество пропусков - **3611**"
   ]
  },
  {
   "cell_type": "markdown",
   "id": "a122623f",
   "metadata": {},
   "source": [
    "--- \n",
    "- Пропуски в столбце *hours* могут быть связаны с тем, что кафе в настоящий момент закрыто (например, по причине временного ремонта или прекратило свою деятельность)\n",
    "\n",
    "- Пропуски в столбце *seats* могут быть связаны с тем, что точка просто не имеет сидячих мест и работает как точка \"кофе с собой\" или (что наиболее вероятно) при переносе данных произошёл технический сбой и не все данные получилось корректно перенести"
   ]
  },
  {
   "cell_type": "code",
   "execution_count": 7,
   "id": "3158ad37",
   "metadata": {
    "id": "3158ad37",
    "scrolled": true
   },
   "outputs": [
    {
     "name": "stdout",
     "output_type": "stream",
     "text": [
      "<class 'pandas.core.frame.DataFrame'>\n",
      "RangeIndex: 4058 entries, 0 to 4057\n",
      "Data columns (total 5 columns):\n",
      " #   Column             Non-Null Count  Dtype  \n",
      "---  ------             --------------  -----  \n",
      " 0   id                 4058 non-null   object \n",
      " 1   price              3315 non-null   object \n",
      " 2   avg_bill           3816 non-null   object \n",
      " 3   middle_avg_bill    3149 non-null   float64\n",
      " 4   middle_coffee_cup  535 non-null    float64\n",
      "dtypes: float64(2), object(3)\n",
      "memory usage: 158.6+ KB\n",
      "None\n"
     ]
    }
   ],
   "source": [
    "print(df_price.info())"
   ]
  },
  {
   "cell_type": "code",
   "execution_count": 8,
   "id": "768f4ba4",
   "metadata": {
    "scrolled": true
   },
   "outputs": [
    {
     "data": {
      "text/html": [
       "<div>\n",
       "<style scoped>\n",
       "    .dataframe tbody tr th:only-of-type {\n",
       "        vertical-align: middle;\n",
       "    }\n",
       "\n",
       "    .dataframe tbody tr th {\n",
       "        vertical-align: top;\n",
       "    }\n",
       "\n",
       "    .dataframe thead th {\n",
       "        text-align: right;\n",
       "    }\n",
       "</style>\n",
       "<table border=\"1\" class=\"dataframe\">\n",
       "  <thead>\n",
       "    <tr style=\"text-align: right;\">\n",
       "      <th></th>\n",
       "      <th>id</th>\n",
       "      <th>price</th>\n",
       "      <th>avg_bill</th>\n",
       "      <th>middle_avg_bill</th>\n",
       "      <th>middle_coffee_cup</th>\n",
       "    </tr>\n",
       "  </thead>\n",
       "  <tbody>\n",
       "    <tr>\n",
       "      <th>0</th>\n",
       "      <td>045780ada3474c57a2112e505d74b633</td>\n",
       "      <td>выше среднего</td>\n",
       "      <td>Средний счёт:1500–1600 ₽</td>\n",
       "      <td>1550.0</td>\n",
       "      <td>NaN</td>\n",
       "    </tr>\n",
       "    <tr>\n",
       "      <th>1</th>\n",
       "      <td>1070b6b59144425896c65889347fcff6</td>\n",
       "      <td>средние</td>\n",
       "      <td>Средний счёт:от 1000 ₽</td>\n",
       "      <td>1000.0</td>\n",
       "      <td>NaN</td>\n",
       "    </tr>\n",
       "    <tr>\n",
       "      <th>2</th>\n",
       "      <td>03ac7cd772104f65b58b349dc59f03ee</td>\n",
       "      <td>NaN</td>\n",
       "      <td>Цена чашки капучино:155–185 ₽</td>\n",
       "      <td>NaN</td>\n",
       "      <td>170.0</td>\n",
       "    </tr>\n",
       "    <tr>\n",
       "      <th>3</th>\n",
       "      <td>a163aada139c4c7f87b0b1c0b466a50f</td>\n",
       "      <td>средние</td>\n",
       "      <td>Средний счёт:400–600 ₽</td>\n",
       "      <td>500.0</td>\n",
       "      <td>NaN</td>\n",
       "    </tr>\n",
       "    <tr>\n",
       "      <th>4</th>\n",
       "      <td>8a343546b24e4a499ad96eb7d0797a8a</td>\n",
       "      <td>средние</td>\n",
       "      <td>NaN</td>\n",
       "      <td>NaN</td>\n",
       "      <td>NaN</td>\n",
       "    </tr>\n",
       "  </tbody>\n",
       "</table>\n",
       "</div>"
      ],
      "text/plain": [
       "                                 id          price  \\\n",
       "0  045780ada3474c57a2112e505d74b633  выше среднего   \n",
       "1  1070b6b59144425896c65889347fcff6        средние   \n",
       "2  03ac7cd772104f65b58b349dc59f03ee            NaN   \n",
       "3  a163aada139c4c7f87b0b1c0b466a50f        средние   \n",
       "4  8a343546b24e4a499ad96eb7d0797a8a        средние   \n",
       "\n",
       "                        avg_bill  middle_avg_bill  middle_coffee_cup  \n",
       "0       Средний счёт:1500–1600 ₽           1550.0                NaN  \n",
       "1         Средний счёт:от 1000 ₽           1000.0                NaN  \n",
       "2  Цена чашки капучино:155–185 ₽              NaN              170.0  \n",
       "3         Средний счёт:400–600 ₽            500.0                NaN  \n",
       "4                            NaN              NaN                NaN  "
      ]
     },
     "execution_count": 8,
     "metadata": {},
     "output_type": "execute_result"
    }
   ],
   "source": [
    "df_price.head()"
   ]
  },
  {
   "cell_type": "markdown",
   "id": "e84085a4",
   "metadata": {},
   "source": [
    "#### Общая информация о массиве df_price\n",
    "\n",
    "1. В массиве собрана информация о **4058 заведениях**\n",
    "2. В массиве df_price для столбцов *id*, *price*, *avg_bill* тип данных задан **object**, для остальных столбцов данные в формате **float64**: *middle_avg_bill*, *middle_coffee_cup*\n",
    "3. В четырёх столбцах представлено большое количество пропусков: price (**743**), avg_bill (**242**), middle_avg_bill (**911**), middle_coffee_cup (**3523**)"
   ]
  },
  {
   "cell_type": "markdown",
   "id": "be6a6bd5",
   "metadata": {},
   "source": [
    "---\n",
    "- Пропуски данных в таких столбцах как *price*, *avg_bill* и *middle_avg_bill* могут быть связаны с тем, что эти данные либо не были предоставлены, либо при их получении возникла техническая ошибка и многие ячейки были заполнены некорректно\n",
    "\n",
    "- В столбце *middle_coffee_cup* пропуски могут быть связаны с тем, что данные заведения просто не занимаются продажей кофе или данная позиция является вторичной и не основной в данном заведении (рестораны, пабы, бары и пр. заведения) "
   ]
  },
  {
   "cell_type": "markdown",
   "id": "2c614a62",
   "metadata": {
    "id": "2c614a62"
   },
   "source": [
    "---\n",
    "\n",
    "### Промежуточный вывод\n",
    "\n",
    "- **Объём данных и количество пропусков:** \n",
    "- **Описание данных и корректность огравления:** "
   ]
  },
  {
   "cell_type": "markdown",
   "id": "8a8d1491",
   "metadata": {
    "id": "8a8d1491"
   },
   "source": [
    "### Подготовка единого датафрейма"
   ]
  },
  {
   "cell_type": "code",
   "execution_count": 9,
   "id": "3408e303",
   "metadata": {
    "id": "3408e303"
   },
   "outputs": [
    {
     "data": {
      "text/html": [
       "<div>\n",
       "<style scoped>\n",
       "    .dataframe tbody tr th:only-of-type {\n",
       "        vertical-align: middle;\n",
       "    }\n",
       "\n",
       "    .dataframe tbody tr th {\n",
       "        vertical-align: top;\n",
       "    }\n",
       "\n",
       "    .dataframe thead th {\n",
       "        text-align: right;\n",
       "    }\n",
       "</style>\n",
       "<table border=\"1\" class=\"dataframe\">\n",
       "  <thead>\n",
       "    <tr style=\"text-align: right;\">\n",
       "      <th></th>\n",
       "      <th>id</th>\n",
       "      <th>name</th>\n",
       "      <th>category</th>\n",
       "      <th>address</th>\n",
       "      <th>district</th>\n",
       "      <th>hours</th>\n",
       "      <th>rating</th>\n",
       "      <th>chain</th>\n",
       "      <th>seats</th>\n",
       "      <th>price</th>\n",
       "      <th>avg_bill</th>\n",
       "      <th>middle_avg_bill</th>\n",
       "      <th>middle_coffee_cup</th>\n",
       "    </tr>\n",
       "  </thead>\n",
       "  <tbody>\n",
       "    <tr>\n",
       "      <th>0</th>\n",
       "      <td>0c3e3439a8c64ea5bf6ecd6ca6ae19f0</td>\n",
       "      <td>WoWфли</td>\n",
       "      <td>кафе</td>\n",
       "      <td>Москва, улица Дыбенко, 7/1</td>\n",
       "      <td>Северный административный округ</td>\n",
       "      <td>ежедневно, 10:00–22:00</td>\n",
       "      <td>5.0</td>\n",
       "      <td>0</td>\n",
       "      <td>NaN</td>\n",
       "      <td>NaN</td>\n",
       "      <td>NaN</td>\n",
       "      <td>NaN</td>\n",
       "      <td>NaN</td>\n",
       "    </tr>\n",
       "    <tr>\n",
       "      <th>1</th>\n",
       "      <td>045780ada3474c57a2112e505d74b633</td>\n",
       "      <td>Четыре комнаты</td>\n",
       "      <td>ресторан</td>\n",
       "      <td>Москва, улица Дыбенко, 36, корп. 1</td>\n",
       "      <td>Северный административный округ</td>\n",
       "      <td>ежедневно, 10:00–22:00</td>\n",
       "      <td>4.5</td>\n",
       "      <td>0</td>\n",
       "      <td>4.0</td>\n",
       "      <td>выше среднего</td>\n",
       "      <td>Средний счёт:1500–1600 ₽</td>\n",
       "      <td>1550.0</td>\n",
       "      <td>NaN</td>\n",
       "    </tr>\n",
       "    <tr>\n",
       "      <th>2</th>\n",
       "      <td>1070b6b59144425896c65889347fcff6</td>\n",
       "      <td>Хазри</td>\n",
       "      <td>кафе</td>\n",
       "      <td>Москва, Клязьминская улица, 15</td>\n",
       "      <td>Северный административный округ</td>\n",
       "      <td>пн-чт 11:00–02:00; пт,сб 11:00–05:00; вс 11:00...</td>\n",
       "      <td>4.6</td>\n",
       "      <td>0</td>\n",
       "      <td>45.0</td>\n",
       "      <td>средние</td>\n",
       "      <td>Средний счёт:от 1000 ₽</td>\n",
       "      <td>1000.0</td>\n",
       "      <td>NaN</td>\n",
       "    </tr>\n",
       "    <tr>\n",
       "      <th>3</th>\n",
       "      <td>03ac7cd772104f65b58b349dc59f03ee</td>\n",
       "      <td>Dormouse Coffee Shop</td>\n",
       "      <td>кофейня</td>\n",
       "      <td>Москва, улица Маршала Федоренко, 12</td>\n",
       "      <td>Северный административный округ</td>\n",
       "      <td>ежедневно, 09:00–22:00</td>\n",
       "      <td>5.0</td>\n",
       "      <td>0</td>\n",
       "      <td>NaN</td>\n",
       "      <td>NaN</td>\n",
       "      <td>Цена чашки капучино:155–185 ₽</td>\n",
       "      <td>NaN</td>\n",
       "      <td>170.0</td>\n",
       "    </tr>\n",
       "    <tr>\n",
       "      <th>4</th>\n",
       "      <td>a163aada139c4c7f87b0b1c0b466a50f</td>\n",
       "      <td>Иль Марко</td>\n",
       "      <td>пиццерия</td>\n",
       "      <td>Москва, Правобережная улица, 1Б</td>\n",
       "      <td>Северный административный округ</td>\n",
       "      <td>ежедневно, 10:00–22:00</td>\n",
       "      <td>5.0</td>\n",
       "      <td>1</td>\n",
       "      <td>148.0</td>\n",
       "      <td>средние</td>\n",
       "      <td>Средний счёт:400–600 ₽</td>\n",
       "      <td>500.0</td>\n",
       "      <td>NaN</td>\n",
       "    </tr>\n",
       "  </tbody>\n",
       "</table>\n",
       "</div>"
      ],
      "text/plain": [
       "                                 id                  name  category  \\\n",
       "0  0c3e3439a8c64ea5bf6ecd6ca6ae19f0                WoWфли      кафе   \n",
       "1  045780ada3474c57a2112e505d74b633        Четыре комнаты  ресторан   \n",
       "2  1070b6b59144425896c65889347fcff6                 Хазри      кафе   \n",
       "3  03ac7cd772104f65b58b349dc59f03ee  Dormouse Coffee Shop   кофейня   \n",
       "4  a163aada139c4c7f87b0b1c0b466a50f             Иль Марко  пиццерия   \n",
       "\n",
       "                               address                         district  \\\n",
       "0           Москва, улица Дыбенко, 7/1  Северный административный округ   \n",
       "1   Москва, улица Дыбенко, 36, корп. 1  Северный административный округ   \n",
       "2       Москва, Клязьминская улица, 15  Северный административный округ   \n",
       "3  Москва, улица Маршала Федоренко, 12  Северный административный округ   \n",
       "4      Москва, Правобережная улица, 1Б  Северный административный округ   \n",
       "\n",
       "                                               hours  rating  chain  seats  \\\n",
       "0                             ежедневно, 10:00–22:00     5.0      0    NaN   \n",
       "1                             ежедневно, 10:00–22:00     4.5      0    4.0   \n",
       "2  пн-чт 11:00–02:00; пт,сб 11:00–05:00; вс 11:00...     4.6      0   45.0   \n",
       "3                             ежедневно, 09:00–22:00     5.0      0    NaN   \n",
       "4                             ежедневно, 10:00–22:00     5.0      1  148.0   \n",
       "\n",
       "           price                       avg_bill  middle_avg_bill  \\\n",
       "0            NaN                            NaN              NaN   \n",
       "1  выше среднего       Средний счёт:1500–1600 ₽           1550.0   \n",
       "2        средние         Средний счёт:от 1000 ₽           1000.0   \n",
       "3            NaN  Цена чашки капучино:155–185 ₽              NaN   \n",
       "4        средние         Средний счёт:400–600 ₽            500.0   \n",
       "\n",
       "   middle_coffee_cup  \n",
       "0                NaN  \n",
       "1                NaN  \n",
       "2                NaN  \n",
       "3              170.0  \n",
       "4                NaN  "
      ]
     },
     "execution_count": 9,
     "metadata": {},
     "output_type": "execute_result"
    }
   ],
   "source": [
    "# Объединение датафреймов будем осуществлять посредством столбца id\n",
    "# Будем использовать left join, чтобы перенести все заведения из df_cafe\n",
    "df = pd.merge(df_cafe, df_price, on = 'id', how = 'left')\n",
    "df.head()"
   ]
  },
  {
   "cell_type": "markdown",
   "id": "956e82e2",
   "metadata": {
    "id": "956e82e2"
   },
   "source": [
    "## Предобработка данных\n",
    "\n",
    "Подготовка данных к исследовательскому анализу:"
   ]
  },
  {
   "cell_type": "code",
   "execution_count": 10,
   "id": "67956690",
   "metadata": {
    "id": "67956690"
   },
   "outputs": [
    {
     "name": "stdout",
     "output_type": "stream",
     "text": [
      "<class 'pandas.core.frame.DataFrame'>\n",
      "Int64Index: 8406 entries, 0 to 8405\n",
      "Data columns (total 13 columns):\n",
      " #   Column             Non-Null Count  Dtype  \n",
      "---  ------             --------------  -----  \n",
      " 0   id                 8406 non-null   object \n",
      " 1   name               8406 non-null   object \n",
      " 2   category           8406 non-null   object \n",
      " 3   address            8406 non-null   object \n",
      " 4   district           8406 non-null   object \n",
      " 5   hours              7870 non-null   object \n",
      " 6   rating             8406 non-null   float64\n",
      " 7   chain              8406 non-null   int64  \n",
      " 8   seats              4795 non-null   float64\n",
      " 9   price              3315 non-null   object \n",
      " 10  avg_bill           3816 non-null   object \n",
      " 11  middle_avg_bill    3149 non-null   float64\n",
      " 12  middle_coffee_cup  535 non-null    float64\n",
      "dtypes: float64(4), int64(1), object(8)\n",
      "memory usage: 919.4+ KB\n"
     ]
    }
   ],
   "source": [
    "df.info()"
   ]
  },
  {
   "cell_type": "markdown",
   "id": "4b7ee469",
   "metadata": {
    "id": "4b7ee469"
   },
   "source": [
    "### Анализ  пропусков"
   ]
  },
  {
   "cell_type": "code",
   "execution_count": 11,
   "id": "3d8840ca",
   "metadata": {
    "id": "3d8840ca"
   },
   "outputs": [
    {
     "data": {
      "text/plain": [
       "middle_coffee_cup    93.635498\n",
       "middle_avg_bill      62.538663\n",
       "price                60.563883\n",
       "avg_bill             54.603854\n",
       "seats                42.957411\n",
       "hours                 6.376398\n",
       "id                    0.000000\n",
       "name                  0.000000\n",
       "category              0.000000\n",
       "address               0.000000\n",
       "district              0.000000\n",
       "rating                0.000000\n",
       "chain                 0.000000\n",
       "dtype: float64"
      ]
     },
     "execution_count": 11,
     "metadata": {},
     "output_type": "execute_result"
    }
   ],
   "source": [
    "# Абсолютное количество пропусков в каждом столбце\n",
    "df.isna().sum().sort_values(ascending = False)\n",
    "\n",
    "# Относительное количесвто пропусков в каждом столбце\n",
    "df.isna().sum().sort_values(ascending = False) / len(df) * 100"
   ]
  },
  {
   "cell_type": "markdown",
   "id": "f7855500",
   "metadata": {
    "id": "2ea145ca"
   },
   "source": [
    "- Пропуска данных наблюдаются в столбцах:\n",
    "    - Пропуски в таких столбцах как *avg_price, middle_coffee_cup, middle_avg_bill, price* являются данными которые, скорее всего, были получени при помощи Яндекс.Карт, на которых многие заведения имеют недостаточное количество отзывов или данных внесённых хозяевами заведения (**MAR**); \n",
    "    - *hours* были \"подтянуты\", скорее всего, их Яндекс.Бизнес и в них могут встречаться пропуски в первую очередь из-за того, что вознила ошибка при переносе данных (*относится к hours*);\n",
    "    - *seats* тоже были предоставлены Яндекс.Бизнесом и в них могли встретиться пропуски в связи по следующим причинам:\n",
    "        1. Для заведения неактуальна данная информация (бар, паб и пр.)\n",
    "        2. Компания не посчитала нужным предоставлять данную информацию"
   ]
  },
  {
   "cell_type": "markdown",
   "id": "c4d5f04d",
   "metadata": {
    "id": "c4d5f04d"
   },
   "source": [
    "### Анализ дубликатов"
   ]
  },
  {
   "cell_type": "code",
   "execution_count": 12,
   "id": "0769b681",
   "metadata": {
    "id": "0769b681"
   },
   "outputs": [
    {
     "data": {
      "text/plain": [
       "0                     wowфли\n",
       "1             четыре комнаты\n",
       "2                      хазри\n",
       "3       dormouse coffee shop\n",
       "4                  иль марко\n",
       "                ...         \n",
       "8401              суши мания\n",
       "8402               миславнес\n",
       "8403                 самовар\n",
       "8404            чайхана sabr\n",
       "8405              kebab time\n",
       "Name: name, Length: 8406, dtype: object"
      ]
     },
     "execution_count": 12,
     "metadata": {},
     "output_type": "execute_result"
    }
   ],
   "source": [
    "# Нормализация значений в столбце с названием заведения\n",
    "\n",
    "# Приводим всё к нижнему регистру\n",
    "df['name'] = df['name'].str.lower()\n",
    "\n",
    "# Выводим результат\n",
    "df['name']"
   ]
  },
  {
   "cell_type": "code",
   "execution_count": 13,
   "id": "b52bae9a",
   "metadata": {
    "id": "b52bae9a",
    "scrolled": true
   },
   "outputs": [
    {
     "name": "stdout",
     "output_type": "stream",
     "text": [
      "Количество явных дубликатов:\n",
      "0\n",
      "\n",
      " Дубликаты:\n"
     ]
    },
    {
     "data": {
      "text/plain": [
       "0       False\n",
       "1       False\n",
       "2       False\n",
       "3       False\n",
       "4       False\n",
       "        ...  \n",
       "8401    False\n",
       "8402    False\n",
       "8403    False\n",
       "8404    False\n",
       "8405    False\n",
       "Length: 8406, dtype: bool"
      ]
     },
     "execution_count": 13,
     "metadata": {},
     "output_type": "execute_result"
    }
   ],
   "source": [
    "# Проверка на явные дубликаты\n",
    "duplicates = df.duplicated()\n",
    "\n",
    "print('Количество явных дубликатов:')\n",
    "print(duplicates.sum())\n",
    "\n",
    "print('\\n Дубликаты:')\n",
    "duplicates"
   ]
  },
  {
   "cell_type": "markdown",
   "id": "9f553185",
   "metadata": {},
   "source": [
    "- Изучим данные о том, какие значения есть в категориалных переменных:"
   ]
  },
  {
   "cell_type": "code",
   "execution_count": 14,
   "id": "d9e1f40d",
   "metadata": {},
   "outputs": [
    {
     "name": "stdout",
     "output_type": "stream",
     "text": [
      "Уникальные значения столбца catagery:\n",
      "['кафе', 'ресторан', 'кофейня', 'пиццерия', 'бар,паб', 'быстрое питание', 'булочная', 'столовая']\n",
      "\n",
      "Уникальные значения столбца district:\n",
      "['Северный административный округ', 'Северо-Восточный административный округ', 'Северо-Западный административный округ', 'Западный административный округ', 'Центральный административный округ', 'Восточный административный округ', 'Юго-Восточный административный округ', 'Южный административный округ', 'Юго-Западный административный округ']\n"
     ]
    }
   ],
   "source": [
    "# Catgory \n",
    "print('Уникальные значения столбца catagery:')\n",
    "print(list(df['category'].unique()))\n",
    "\n",
    "# District\n",
    "print('\\nУникальные значения столбца district:')\n",
    "print(list(df['district'].unique()))"
   ]
  },
  {
   "cell_type": "markdown",
   "id": "b3b1fb35",
   "metadata": {},
   "source": [
    "- Подсчёт неявных дубликатов"
   ]
  },
  {
   "cell_type": "code",
   "execution_count": 15,
   "id": "9c095612",
   "metadata": {},
   "outputs": [
    {
     "data": {
      "text/plain": [
       "3"
      ]
     },
     "execution_count": 15,
     "metadata": {},
     "output_type": "execute_result"
    }
   ],
   "source": [
    "# Посчитаем колчиество неявных дуюликатов\n",
    "df.duplicated(subset = ['name', 'address']).sum()"
   ]
  },
  {
   "cell_type": "code",
   "execution_count": 16,
   "id": "1d7587d9",
   "metadata": {
    "scrolled": true
   },
   "outputs": [
    {
     "data": {
      "text/html": [
       "<div>\n",
       "<style scoped>\n",
       "    .dataframe tbody tr th:only-of-type {\n",
       "        vertical-align: middle;\n",
       "    }\n",
       "\n",
       "    .dataframe tbody tr th {\n",
       "        vertical-align: top;\n",
       "    }\n",
       "\n",
       "    .dataframe thead th {\n",
       "        text-align: right;\n",
       "    }\n",
       "</style>\n",
       "<table border=\"1\" class=\"dataframe\">\n",
       "  <thead>\n",
       "    <tr style=\"text-align: right;\">\n",
       "      <th></th>\n",
       "      <th>id</th>\n",
       "      <th>name</th>\n",
       "      <th>category</th>\n",
       "      <th>address</th>\n",
       "      <th>district</th>\n",
       "      <th>hours</th>\n",
       "      <th>rating</th>\n",
       "      <th>chain</th>\n",
       "      <th>seats</th>\n",
       "      <th>price</th>\n",
       "      <th>avg_bill</th>\n",
       "      <th>middle_avg_bill</th>\n",
       "      <th>middle_coffee_cup</th>\n",
       "    </tr>\n",
       "  </thead>\n",
       "  <tbody>\n",
       "    <tr>\n",
       "      <th>1430</th>\n",
       "      <td>62608690e9cc464fbcd980cfd552e334</td>\n",
       "      <td>more poke</td>\n",
       "      <td>ресторан</td>\n",
       "      <td>Москва, Волоколамское шоссе, 11, стр. 2</td>\n",
       "      <td>Северный административный округ</td>\n",
       "      <td>ежедневно, 09:00–21:00</td>\n",
       "      <td>4.2</td>\n",
       "      <td>0</td>\n",
       "      <td>188.0</td>\n",
       "      <td>NaN</td>\n",
       "      <td>NaN</td>\n",
       "      <td>NaN</td>\n",
       "      <td>NaN</td>\n",
       "    </tr>\n",
       "    <tr>\n",
       "      <th>1511</th>\n",
       "      <td>a69f018d5c064873a3b491b0121bc1b4</td>\n",
       "      <td>more poke</td>\n",
       "      <td>ресторан</td>\n",
       "      <td>Москва, Волоколамское шоссе, 11, стр. 2</td>\n",
       "      <td>Северный административный округ</td>\n",
       "      <td>пн-чт 09:00–18:00; пт,сб 09:00–21:00; вс 09:00...</td>\n",
       "      <td>4.2</td>\n",
       "      <td>1</td>\n",
       "      <td>188.0</td>\n",
       "      <td>NaN</td>\n",
       "      <td>NaN</td>\n",
       "      <td>NaN</td>\n",
       "      <td>NaN</td>\n",
       "    </tr>\n",
       "    <tr>\n",
       "      <th>2211</th>\n",
       "      <td>c6ef39ae8a8c483d8f9a6531bc386a2c</td>\n",
       "      <td>раковарня клешни и хвосты</td>\n",
       "      <td>ресторан</td>\n",
       "      <td>Москва, проспект Мира, 118</td>\n",
       "      <td>Северо-Восточный административный округ</td>\n",
       "      <td>ежедневно, 12:00–00:00</td>\n",
       "      <td>4.4</td>\n",
       "      <td>0</td>\n",
       "      <td>150.0</td>\n",
       "      <td>NaN</td>\n",
       "      <td>NaN</td>\n",
       "      <td>NaN</td>\n",
       "      <td>NaN</td>\n",
       "    </tr>\n",
       "    <tr>\n",
       "      <th>2420</th>\n",
       "      <td>aba1de7ad7d64ac0a3f8684bda29d905</td>\n",
       "      <td>раковарня клешни и хвосты</td>\n",
       "      <td>бар,паб</td>\n",
       "      <td>Москва, проспект Мира, 118</td>\n",
       "      <td>Северо-Восточный административный округ</td>\n",
       "      <td>пн-чт 12:00–00:00; пт,сб 12:00–01:00; вс 12:00...</td>\n",
       "      <td>4.4</td>\n",
       "      <td>1</td>\n",
       "      <td>150.0</td>\n",
       "      <td>NaN</td>\n",
       "      <td>NaN</td>\n",
       "      <td>NaN</td>\n",
       "      <td>NaN</td>\n",
       "    </tr>\n",
       "    <tr>\n",
       "      <th>3091</th>\n",
       "      <td>3c2a73ea79a04be48858fab3685f2f37</td>\n",
       "      <td>хлеб да выпечка</td>\n",
       "      <td>булочная</td>\n",
       "      <td>Москва, Ярцевская улица, 19</td>\n",
       "      <td>Западный административный округ</td>\n",
       "      <td>ежедневно, 09:00–22:00</td>\n",
       "      <td>4.1</td>\n",
       "      <td>1</td>\n",
       "      <td>276.0</td>\n",
       "      <td>NaN</td>\n",
       "      <td>NaN</td>\n",
       "      <td>NaN</td>\n",
       "      <td>NaN</td>\n",
       "    </tr>\n",
       "    <tr>\n",
       "      <th>3109</th>\n",
       "      <td>d3116844e4e048f99614eb30be3214e0</td>\n",
       "      <td>хлеб да выпечка</td>\n",
       "      <td>кафе</td>\n",
       "      <td>Москва, Ярцевская улица, 19</td>\n",
       "      <td>Западный административный округ</td>\n",
       "      <td>NaN</td>\n",
       "      <td>4.1</td>\n",
       "      <td>0</td>\n",
       "      <td>276.0</td>\n",
       "      <td>NaN</td>\n",
       "      <td>NaN</td>\n",
       "      <td>NaN</td>\n",
       "      <td>NaN</td>\n",
       "    </tr>\n",
       "  </tbody>\n",
       "</table>\n",
       "</div>"
      ],
      "text/plain": [
       "                                    id                       name  category  \\\n",
       "1430  62608690e9cc464fbcd980cfd552e334                  more poke  ресторан   \n",
       "1511  a69f018d5c064873a3b491b0121bc1b4                  more poke  ресторан   \n",
       "2211  c6ef39ae8a8c483d8f9a6531bc386a2c  раковарня клешни и хвосты  ресторан   \n",
       "2420  aba1de7ad7d64ac0a3f8684bda29d905  раковарня клешни и хвосты   бар,паб   \n",
       "3091  3c2a73ea79a04be48858fab3685f2f37            хлеб да выпечка  булочная   \n",
       "3109  d3116844e4e048f99614eb30be3214e0            хлеб да выпечка      кафе   \n",
       "\n",
       "                                      address  \\\n",
       "1430  Москва, Волоколамское шоссе, 11, стр. 2   \n",
       "1511  Москва, Волоколамское шоссе, 11, стр. 2   \n",
       "2211               Москва, проспект Мира, 118   \n",
       "2420               Москва, проспект Мира, 118   \n",
       "3091              Москва, Ярцевская улица, 19   \n",
       "3109              Москва, Ярцевская улица, 19   \n",
       "\n",
       "                                     district  \\\n",
       "1430          Северный административный округ   \n",
       "1511          Северный административный округ   \n",
       "2211  Северо-Восточный административный округ   \n",
       "2420  Северо-Восточный административный округ   \n",
       "3091          Западный административный округ   \n",
       "3109          Западный административный округ   \n",
       "\n",
       "                                                  hours  rating  chain  seats  \\\n",
       "1430                             ежедневно, 09:00–21:00     4.2      0  188.0   \n",
       "1511  пн-чт 09:00–18:00; пт,сб 09:00–21:00; вс 09:00...     4.2      1  188.0   \n",
       "2211                             ежедневно, 12:00–00:00     4.4      0  150.0   \n",
       "2420  пн-чт 12:00–00:00; пт,сб 12:00–01:00; вс 12:00...     4.4      1  150.0   \n",
       "3091                             ежедневно, 09:00–22:00     4.1      1  276.0   \n",
       "3109                                                NaN     4.1      0  276.0   \n",
       "\n",
       "     price avg_bill  middle_avg_bill  middle_coffee_cup  \n",
       "1430   NaN      NaN              NaN                NaN  \n",
       "1511   NaN      NaN              NaN                NaN  \n",
       "2211   NaN      NaN              NaN                NaN  \n",
       "2420   NaN      NaN              NaN                NaN  \n",
       "3091   NaN      NaN              NaN                NaN  \n",
       "3109   NaN      NaN              NaN                NaN  "
      ]
     },
     "execution_count": 16,
     "metadata": {},
     "output_type": "execute_result"
    }
   ],
   "source": [
    "# Фильтрация дубликатов (все вхождения)\n",
    "duplicates = df[df.duplicated(subset=['name', 'address'], keep=False)]\n",
    "\n",
    "# Сортировка для группировки одинаковых записей\n",
    "duplicates.sort_values(by=['name', 'address'])"
   ]
  },
  {
   "cell_type": "markdown",
   "id": "a5dd7499",
   "metadata": {},
   "source": [
    "- Как можно видеть, в рассматриваемых данных присутствует три неявных дубликата. Заведения имеюют одинаковые названия за исклоючением id и отдельных характеристик: расписание, категория заведения и т.п. Это может быть связано с тем, что данное заведение второй делало **повторную регистрацию в системе из-за чего ему был присвоен второй id**, а повторная регистрация могла быть связана с: (1) **изменением категории заведения** или (2) **изменением расписания раброты заведения**."
   ]
  },
  {
   "cell_type": "code",
   "execution_count": 17,
   "id": "518be00f",
   "metadata": {},
   "outputs": [],
   "source": [
    "# Избавимся от неявных дубликатов\n",
    "df = df.drop_duplicates(subset=['name', 'address'])"
   ]
  },
  {
   "cell_type": "markdown",
   "id": "4c0563f2",
   "metadata": {
    "id": "4c0563f2"
   },
   "source": [
    "- Для дальнейшей работы был создан столбец `is_24_7` с обозначением того, что заведение работает ежедневно и круглосуточно, то есть 24/7:\n",
    "  - логическое значение `True` — если заведение работает ежедневно и круглосуточно;\n",
    "  - логическое значение `False` — в противоположном случае."
   ]
  },
  {
   "cell_type": "code",
   "execution_count": 18,
   "id": "d8a8a963",
   "metadata": {
    "id": "d8a8a963"
   },
   "outputs": [],
   "source": [
    "# Создаём новый столбец\n",
    "df['is_24_7'] = df['hours'] == 'ежедневно, круглосуточно'"
   ]
  },
  {
   "cell_type": "code",
   "execution_count": 19,
   "id": "42d1e685",
   "metadata": {
    "id": "42d1e685",
    "scrolled": true
   },
   "outputs": [
    {
     "data": {
      "text/html": [
       "<div>\n",
       "<style scoped>\n",
       "    .dataframe tbody tr th:only-of-type {\n",
       "        vertical-align: middle;\n",
       "    }\n",
       "\n",
       "    .dataframe tbody tr th {\n",
       "        vertical-align: top;\n",
       "    }\n",
       "\n",
       "    .dataframe thead th {\n",
       "        text-align: right;\n",
       "    }\n",
       "</style>\n",
       "<table border=\"1\" class=\"dataframe\">\n",
       "  <thead>\n",
       "    <tr style=\"text-align: right;\">\n",
       "      <th></th>\n",
       "      <th>id</th>\n",
       "      <th>hours</th>\n",
       "      <th>is_24_7</th>\n",
       "    </tr>\n",
       "  </thead>\n",
       "  <tbody>\n",
       "    <tr>\n",
       "      <th>0</th>\n",
       "      <td>0c3e3439a8c64ea5bf6ecd6ca6ae19f0</td>\n",
       "      <td>ежедневно, 10:00–22:00</td>\n",
       "      <td>False</td>\n",
       "    </tr>\n",
       "    <tr>\n",
       "      <th>1</th>\n",
       "      <td>045780ada3474c57a2112e505d74b633</td>\n",
       "      <td>ежедневно, 10:00–22:00</td>\n",
       "      <td>False</td>\n",
       "    </tr>\n",
       "    <tr>\n",
       "      <th>2</th>\n",
       "      <td>1070b6b59144425896c65889347fcff6</td>\n",
       "      <td>пн-чт 11:00–02:00; пт,сб 11:00–05:00; вс 11:00...</td>\n",
       "      <td>False</td>\n",
       "    </tr>\n",
       "    <tr>\n",
       "      <th>3</th>\n",
       "      <td>03ac7cd772104f65b58b349dc59f03ee</td>\n",
       "      <td>ежедневно, 09:00–22:00</td>\n",
       "      <td>False</td>\n",
       "    </tr>\n",
       "    <tr>\n",
       "      <th>4</th>\n",
       "      <td>a163aada139c4c7f87b0b1c0b466a50f</td>\n",
       "      <td>ежедневно, 10:00–22:00</td>\n",
       "      <td>False</td>\n",
       "    </tr>\n",
       "    <tr>\n",
       "      <th>...</th>\n",
       "      <td>...</td>\n",
       "      <td>...</td>\n",
       "      <td>...</td>\n",
       "    </tr>\n",
       "    <tr>\n",
       "      <th>8401</th>\n",
       "      <td>0342ad1a45ed41ba89dcba246a8267e5</td>\n",
       "      <td>ежедневно, 09:00–02:00</td>\n",
       "      <td>False</td>\n",
       "    </tr>\n",
       "    <tr>\n",
       "      <th>8402</th>\n",
       "      <td>ee6bb7c3650e47bd8186fca08eda1091</td>\n",
       "      <td>ежедневно, 08:00–22:00</td>\n",
       "      <td>False</td>\n",
       "    </tr>\n",
       "    <tr>\n",
       "      <th>8403</th>\n",
       "      <td>62e8c64d4c89467aba608e39ef87616b</td>\n",
       "      <td>ежедневно, круглосуточно</td>\n",
       "      <td>True</td>\n",
       "    </tr>\n",
       "    <tr>\n",
       "      <th>8404</th>\n",
       "      <td>06a0db5ecd4842d48cd6350aa923e297</td>\n",
       "      <td>ежедневно, круглосуточно</td>\n",
       "      <td>True</td>\n",
       "    </tr>\n",
       "    <tr>\n",
       "      <th>8405</th>\n",
       "      <td>9d56f8f7a7f74df1a925bc0fd2de8aae</td>\n",
       "      <td>ежедневно, круглосуточно</td>\n",
       "      <td>True</td>\n",
       "    </tr>\n",
       "  </tbody>\n",
       "</table>\n",
       "<p>8403 rows × 3 columns</p>\n",
       "</div>"
      ],
      "text/plain": [
       "                                    id  \\\n",
       "0     0c3e3439a8c64ea5bf6ecd6ca6ae19f0   \n",
       "1     045780ada3474c57a2112e505d74b633   \n",
       "2     1070b6b59144425896c65889347fcff6   \n",
       "3     03ac7cd772104f65b58b349dc59f03ee   \n",
       "4     a163aada139c4c7f87b0b1c0b466a50f   \n",
       "...                                ...   \n",
       "8401  0342ad1a45ed41ba89dcba246a8267e5   \n",
       "8402  ee6bb7c3650e47bd8186fca08eda1091   \n",
       "8403  62e8c64d4c89467aba608e39ef87616b   \n",
       "8404  06a0db5ecd4842d48cd6350aa923e297   \n",
       "8405  9d56f8f7a7f74df1a925bc0fd2de8aae   \n",
       "\n",
       "                                                  hours  is_24_7  \n",
       "0                                ежедневно, 10:00–22:00    False  \n",
       "1                                ежедневно, 10:00–22:00    False  \n",
       "2     пн-чт 11:00–02:00; пт,сб 11:00–05:00; вс 11:00...    False  \n",
       "3                                ежедневно, 09:00–22:00    False  \n",
       "4                                ежедневно, 10:00–22:00    False  \n",
       "...                                                 ...      ...  \n",
       "8401                             ежедневно, 09:00–02:00    False  \n",
       "8402                             ежедневно, 08:00–22:00    False  \n",
       "8403                           ежедневно, круглосуточно     True  \n",
       "8404                           ежедневно, круглосуточно     True  \n",
       "8405                           ежедневно, круглосуточно     True  \n",
       "\n",
       "[8403 rows x 3 columns]"
      ]
     },
     "execution_count": 19,
     "metadata": {},
     "output_type": "execute_result"
    }
   ],
   "source": [
    "# Проверяем, как заполнился данный столбец\n",
    "df[['id', 'hours', 'is_24_7']]"
   ]
  },
  {
   "cell_type": "code",
   "execution_count": 20,
   "id": "66672c95",
   "metadata": {
    "scrolled": true
   },
   "outputs": [
    {
     "name": "stdout",
     "output_type": "stream",
     "text": [
      "Количество круглосуточно работающих заведений: 730\n",
      "Доля круглосуточно работающих заведений: 8.69%\n"
     ]
    }
   ],
   "source": [
    "daily = df['is_24_7'].sum()\n",
    "print(f'Количество круглосуточно работающих заведений: {daily}')\n",
    "daily_prop = round((df['is_24_7'].sum() / len(df)) * 100, 2)\n",
    "print(f'Доля круглосуточно работающих заведений: {daily_prop}%')"
   ]
  },
  {
   "cell_type": "markdown",
   "id": "562f30ab",
   "metadata": {
    "id": "562f30ab"
   },
   "source": [
    "---\n",
    "\n",
    "### Промежуточный вывод"
   ]
  },
  {
   "cell_type": "markdown",
   "id": "27f2d004",
   "metadata": {
    "id": "4e587ce1"
   },
   "source": [
    "- **В ходе предобработки данных:**\n",
    "1. Объединены массивы данных с общей информацией о заведениях и ценах в заведениях общественного питания;\n",
    "2. Скорректированы типы данных для упрощения дальнейшей работы с данными;\n",
    "3. Удаление неявных дубликатов, вызванных повторной регистрацией заведения;\n",
    "4. Создание вспомогательной бинарной переменной 'is_24_7', отражающей график работы заведений общественного питания (круглосуточно / некруглосуточно) и посчитана доля круглосуточных организаций. "
   ]
  },
  {
   "cell_type": "markdown",
   "id": "6953e84c",
   "metadata": {
    "id": "6953e84c"
   },
   "source": [
    "## 3. Исследовательский анализ данных\n",
    "Проведите исследовательский анализ исходных данных.\n",
    "\n",
    "При исследовании данных используйте визуализации. Проверьте, что для каждого случая подобран оптимальный тип визуализации с корректным оформлением. У графика должен быть заголовок, понятные подписи по осям, при необходимости легенда, а его размер является оптимальным для изучения.\n",
    "\n",
    "После исследования каждого пункта оставляйте небольшой комментарий с выводом или обсуждением результата. В конце шага обобщите результаты, выделив, по вашему мнению, самые важные."
   ]
  },
  {
   "cell_type": "markdown",
   "id": "8555d840",
   "metadata": {
    "id": "8555d840"
   },
   "source": [
    "---\n",
    "\n",
    "### Задача 1\n",
    "\n",
    "Какие категории заведений представлены в данных? Исследуйте количество объектов общественного питания по каждой категории. Результат сопроводите подходящей визуализацией."
   ]
  },
  {
   "cell_type": "code",
   "execution_count": 21,
   "id": "ef2bffe9",
   "metadata": {
    "id": "ef2bffe9"
   },
   "outputs": [
    {
     "name": "stdout",
     "output_type": "stream",
     "text": [
      "Уникальные значения столбца catagery:\n",
      "['кафе', 'ресторан', 'кофейня', 'пиццерия', 'бар,паб', 'быстрое питание', 'булочная', 'столовая']\n"
     ]
    }
   ],
   "source": [
    "# Catgory \n",
    "print('Уникальные значения столбца catagery:')\n",
    "print(list(df['category'].unique()))"
   ]
  },
  {
   "cell_type": "code",
   "execution_count": 22,
   "id": "71ab5e91",
   "metadata": {
    "id": "71ab5e91",
    "scrolled": true
   },
   "outputs": [
    {
     "data": {
      "text/html": [
       "<div>\n",
       "<style scoped>\n",
       "    .dataframe tbody tr th:only-of-type {\n",
       "        vertical-align: middle;\n",
       "    }\n",
       "\n",
       "    .dataframe tbody tr th {\n",
       "        vertical-align: top;\n",
       "    }\n",
       "\n",
       "    .dataframe thead th {\n",
       "        text-align: right;\n",
       "    }\n",
       "</style>\n",
       "<table border=\"1\" class=\"dataframe\">\n",
       "  <thead>\n",
       "    <tr style=\"text-align: right;\">\n",
       "      <th></th>\n",
       "      <th>category</th>\n",
       "      <th>count</th>\n",
       "      <th>prop</th>\n",
       "    </tr>\n",
       "  </thead>\n",
       "  <tbody>\n",
       "    <tr>\n",
       "      <th>0</th>\n",
       "      <td>кафе</td>\n",
       "      <td>2377</td>\n",
       "      <td>0.28</td>\n",
       "    </tr>\n",
       "    <tr>\n",
       "      <th>1</th>\n",
       "      <td>ресторан</td>\n",
       "      <td>2042</td>\n",
       "      <td>0.24</td>\n",
       "    </tr>\n",
       "    <tr>\n",
       "      <th>2</th>\n",
       "      <td>кофейня</td>\n",
       "      <td>1413</td>\n",
       "      <td>0.17</td>\n",
       "    </tr>\n",
       "    <tr>\n",
       "      <th>3</th>\n",
       "      <td>бар,паб</td>\n",
       "      <td>764</td>\n",
       "      <td>0.09</td>\n",
       "    </tr>\n",
       "    <tr>\n",
       "      <th>4</th>\n",
       "      <td>пиццерия</td>\n",
       "      <td>633</td>\n",
       "      <td>0.08</td>\n",
       "    </tr>\n",
       "    <tr>\n",
       "      <th>5</th>\n",
       "      <td>быстрое питание</td>\n",
       "      <td>603</td>\n",
       "      <td>0.07</td>\n",
       "    </tr>\n",
       "    <tr>\n",
       "      <th>6</th>\n",
       "      <td>столовая</td>\n",
       "      <td>315</td>\n",
       "      <td>0.04</td>\n",
       "    </tr>\n",
       "    <tr>\n",
       "      <th>7</th>\n",
       "      <td>булочная</td>\n",
       "      <td>256</td>\n",
       "      <td>0.03</td>\n",
       "    </tr>\n",
       "  </tbody>\n",
       "</table>\n",
       "</div>"
      ],
      "text/plain": [
       "          category  count  prop\n",
       "0             кафе   2377  0.28\n",
       "1         ресторан   2042  0.24\n",
       "2          кофейня   1413  0.17\n",
       "3          бар,паб    764  0.09\n",
       "4         пиццерия    633  0.08\n",
       "5  быстрое питание    603  0.07\n",
       "6         столовая    315  0.04\n",
       "7         булочная    256  0.03"
      ]
     },
     "execution_count": 22,
     "metadata": {},
     "output_type": "execute_result"
    }
   ],
   "source": [
    "# Таблица с количеством точек каждой категорииё\n",
    "df_category = (\n",
    "    df.groupby('category')['id']\n",
    "    .count()\n",
    "    .sort_values(ascending=False)\n",
    "    .reset_index(name='count')  # Переименовываем результирующий столбец\n",
    ")\n",
    "\n",
    "# Рассчитаем суммарное значение по столбцу\n",
    "total = df_category['count'].sum()\n",
    "\n",
    "# Рассчитаем столбец с относительными значениями\n",
    "df_category['prop'] = round(df_category['count'] / total, 2)\n",
    "df_category"
   ]
  },
  {
   "cell_type": "markdown",
   "id": "cb42c28f",
   "metadata": {},
   "source": [
    "<div class=\"alert alert-block alert-info\">\n",
    "Добавил прпорорции. \n",
    "</div>"
   ]
  },
  {
   "cell_type": "code",
   "execution_count": 23,
   "id": "63360b97",
   "metadata": {
    "id": "63360b97"
   },
   "outputs": [
    {
     "data": {
      "image/png": "[encoded data removed]",
      "text/plain": [
       "<Figure size 720x432 with 1 Axes>"
      ]
     },
     "metadata": {
      "needs_background": "light"
     },
     "output_type": "display_data"
    }
   ],
   "source": [
    "plt.figure(figsize=(10, 6))  \n",
    "plt.barh(df_category['category'], df_category['count'], color='skyblue') \n",
    "plt.xlabel('Количество')  \n",
    "plt.ylabel('Тип заведения')  \n",
    "plt.title('Разделение на категории')  \n",
    "plt.grid(axis='x')\n",
    "plt.tight_layout()\n",
    "plt.show() "
   ]
  },
  {
   "cell_type": "markdown",
   "id": "3887c7ed",
   "metadata": {},
   "source": [
    "- **Вывод:** самый популярный формат общепита в Москве - кафе (**2377 заведения**), на втором месте - ресторан (**2042**), а на третьем - кофейни (**1413**). Далее, с большим отрывом (более чем в два раза) идут остальные заведения: на последних местах оказались булочные (**256**) и столовые (**315**). Стоит отметить, что рестораны и кафе привычные форматы зведений для столицы, а кофейни начали появляться недавно и стали популярными благодаря растущей культуре потребления кофе и модным тенденциям среди молодежи."
   ]
  },
  {
   "cell_type": "markdown",
   "id": "6821e1d0",
   "metadata": {
    "id": "6821e1d0"
   },
   "source": [
    "---\n",
    "\n",
    "### Задача 2\n",
    "\n",
    "Какие административные районы Москвы присутствуют в данных? Исследуйте распределение количества заведений по административным районам Москвы, а также отдельно распределение заведений каждой категории в Центральном административном округе Москвы. Результат сопроводите подходящими визуализациями."
   ]
  },
  {
   "cell_type": "code",
   "execution_count": 24,
   "id": "e62f31be",
   "metadata": {
    "id": "e62f31be"
   },
   "outputs": [
    {
     "name": "stdout",
     "output_type": "stream",
     "text": [
      "Уникальные значения столбца district:\n",
      "['Северный административный округ', 'Северо-Восточный административный округ', 'Северо-Западный административный округ', 'Западный административный округ', 'Центральный административный округ', 'Восточный административный округ', 'Юго-Восточный административный округ', 'Южный административный округ', 'Юго-Западный административный округ']\n"
     ]
    }
   ],
   "source": [
    "# District\n",
    "print('Уникальные значения столбца district:')\n",
    "print(list(df['district'].unique()))"
   ]
  },
  {
   "cell_type": "code",
   "execution_count": 25,
   "id": "0a290cd1",
   "metadata": {
    "id": "0a290cd1"
   },
   "outputs": [
    {
     "data": {
      "text/html": [
       "<div>\n",
       "<style scoped>\n",
       "    .dataframe tbody tr th:only-of-type {\n",
       "        vertical-align: middle;\n",
       "    }\n",
       "\n",
       "    .dataframe tbody tr th {\n",
       "        vertical-align: top;\n",
       "    }\n",
       "\n",
       "    .dataframe thead th {\n",
       "        text-align: right;\n",
       "    }\n",
       "</style>\n",
       "<table border=\"1\" class=\"dataframe\">\n",
       "  <thead>\n",
       "    <tr style=\"text-align: right;\">\n",
       "      <th></th>\n",
       "      <th>district</th>\n",
       "      <th>count</th>\n",
       "      <th>prop</th>\n",
       "    </tr>\n",
       "  </thead>\n",
       "  <tbody>\n",
       "    <tr>\n",
       "      <th>0</th>\n",
       "      <td>Центральный административный округ</td>\n",
       "      <td>2242</td>\n",
       "      <td>0.27</td>\n",
       "    </tr>\n",
       "    <tr>\n",
       "      <th>1</th>\n",
       "      <td>Северный административный округ</td>\n",
       "      <td>899</td>\n",
       "      <td>0.11</td>\n",
       "    </tr>\n",
       "    <tr>\n",
       "      <th>2</th>\n",
       "      <td>Южный административный округ</td>\n",
       "      <td>892</td>\n",
       "      <td>0.11</td>\n",
       "    </tr>\n",
       "    <tr>\n",
       "      <th>3</th>\n",
       "      <td>Северо-Восточный административный округ</td>\n",
       "      <td>890</td>\n",
       "      <td>0.11</td>\n",
       "    </tr>\n",
       "    <tr>\n",
       "      <th>4</th>\n",
       "      <td>Западный административный округ</td>\n",
       "      <td>850</td>\n",
       "      <td>0.10</td>\n",
       "    </tr>\n",
       "    <tr>\n",
       "      <th>5</th>\n",
       "      <td>Восточный административный округ</td>\n",
       "      <td>798</td>\n",
       "      <td>0.09</td>\n",
       "    </tr>\n",
       "    <tr>\n",
       "      <th>6</th>\n",
       "      <td>Юго-Восточный административный округ</td>\n",
       "      <td>714</td>\n",
       "      <td>0.08</td>\n",
       "    </tr>\n",
       "    <tr>\n",
       "      <th>7</th>\n",
       "      <td>Юго-Западный административный округ</td>\n",
       "      <td>709</td>\n",
       "      <td>0.08</td>\n",
       "    </tr>\n",
       "    <tr>\n",
       "      <th>8</th>\n",
       "      <td>Северо-Западный административный округ</td>\n",
       "      <td>409</td>\n",
       "      <td>0.05</td>\n",
       "    </tr>\n",
       "  </tbody>\n",
       "</table>\n",
       "</div>"
      ],
      "text/plain": [
       "                                  district  count  prop\n",
       "0       Центральный административный округ   2242  0.27\n",
       "1          Северный административный округ    899  0.11\n",
       "2             Южный административный округ    892  0.11\n",
       "3  Северо-Восточный административный округ    890  0.11\n",
       "4          Западный административный округ    850  0.10\n",
       "5         Восточный административный округ    798  0.09\n",
       "6     Юго-Восточный административный округ    714  0.08\n",
       "7      Юго-Западный административный округ    709  0.08\n",
       "8   Северо-Западный административный округ    409  0.05"
      ]
     },
     "execution_count": 25,
     "metadata": {},
     "output_type": "execute_result"
    }
   ],
   "source": [
    "# Создаем таблицу с количеством заведений по районам\n",
    "df_district = (\n",
    "    df.groupby('district')['id']  # Группируем по районам\n",
    "    .count()                      # Считаем количество заведений\n",
    "    .sort_values(ascending=False) # Сортируем по убыванию\n",
    "    .reset_index(name='count')    # Сбрасываем индекс и задаем имя столбцу\n",
    ")\n",
    "\n",
    "# Добавляем столбец с долей (процент от общего количества)\n",
    "df_district['prop'] = df_district['count'] / df_district['count'].sum()\n",
    "\n",
    "# Форматируем долю для красивого вывода (два знака после запятой)\n",
    "df_district['prop'] = df_district['prop'].round(2)\n",
    "\n",
    "# Выводим результат\n",
    "df_district"
   ]
  },
  {
   "cell_type": "code",
   "execution_count": 26,
   "id": "41f1654a",
   "metadata": {
    "id": "41f1654a",
    "scrolled": true
   },
   "outputs": [
    {
     "data": {
      "image/png": "[encoded data removed]",
      "text/plain": [
       "<Figure size 720x432 with 1 Axes>"
      ]
     },
     "metadata": {
      "needs_background": "light"
     },
     "output_type": "display_data"
    }
   ],
   "source": [
    "plt.figure(figsize=(10, 6))  # Установите размер фигуры\n",
    "plt.barh(df_district['district'], df_district['count'], color='skyblue')  # Постройте диаграмму\n",
    "plt.xlabel('Количество')  # Подпишите ось X\n",
    "plt.ylabel('Район')  # Подпишите ось Y\n",
    "plt.title('Разделение на административные районы Москвы')  # Добавьте заголовок\n",
    "plt.grid(axis = 'x')  # Добавьте сетку по оси X для лучшей читаемости\n",
    "plt.show()  # Отобразите диаграмму"
   ]
  },
  {
   "cell_type": "code",
   "execution_count": 27,
   "id": "6c7fc4bc",
   "metadata": {
    "scrolled": true
   },
   "outputs": [
    {
     "data": {
      "text/html": [
       "<div>\n",
       "<style scoped>\n",
       "    .dataframe tbody tr th:only-of-type {\n",
       "        vertical-align: middle;\n",
       "    }\n",
       "\n",
       "    .dataframe tbody tr th {\n",
       "        vertical-align: top;\n",
       "    }\n",
       "\n",
       "    .dataframe thead th {\n",
       "        text-align: right;\n",
       "    }\n",
       "</style>\n",
       "<table border=\"1\" class=\"dataframe\">\n",
       "  <thead>\n",
       "    <tr style=\"text-align: right;\">\n",
       "      <th></th>\n",
       "      <th>district</th>\n",
       "      <th>category</th>\n",
       "      <th>id</th>\n",
       "    </tr>\n",
       "  </thead>\n",
       "  <tbody>\n",
       "    <tr>\n",
       "      <th>0</th>\n",
       "      <td>Центральный административный округ</td>\n",
       "      <td>ресторан</td>\n",
       "      <td>670</td>\n",
       "    </tr>\n",
       "    <tr>\n",
       "      <th>1</th>\n",
       "      <td>Центральный административный округ</td>\n",
       "      <td>кафе</td>\n",
       "      <td>464</td>\n",
       "    </tr>\n",
       "    <tr>\n",
       "      <th>2</th>\n",
       "      <td>Центральный административный округ</td>\n",
       "      <td>кофейня</td>\n",
       "      <td>428</td>\n",
       "    </tr>\n",
       "    <tr>\n",
       "      <th>3</th>\n",
       "      <td>Центральный административный округ</td>\n",
       "      <td>бар,паб</td>\n",
       "      <td>364</td>\n",
       "    </tr>\n",
       "    <tr>\n",
       "      <th>23</th>\n",
       "      <td>Центральный административный округ</td>\n",
       "      <td>пиццерия</td>\n",
       "      <td>113</td>\n",
       "    </tr>\n",
       "    <tr>\n",
       "      <th>28</th>\n",
       "      <td>Центральный административный округ</td>\n",
       "      <td>быстрое питание</td>\n",
       "      <td>87</td>\n",
       "    </tr>\n",
       "    <tr>\n",
       "      <th>40</th>\n",
       "      <td>Центральный административный округ</td>\n",
       "      <td>столовая</td>\n",
       "      <td>66</td>\n",
       "    </tr>\n",
       "    <tr>\n",
       "      <th>50</th>\n",
       "      <td>Центральный административный округ</td>\n",
       "      <td>булочная</td>\n",
       "      <td>50</td>\n",
       "    </tr>\n",
       "  </tbody>\n",
       "</table>\n",
       "</div>"
      ],
      "text/plain": [
       "                              district         category   id\n",
       "0   Центральный административный округ         ресторан  670\n",
       "1   Центральный административный округ             кафе  464\n",
       "2   Центральный административный округ          кофейня  428\n",
       "3   Центральный административный округ          бар,паб  364\n",
       "23  Центральный административный округ         пиццерия  113\n",
       "28  Центральный административный округ  быстрое питание   87\n",
       "40  Центральный административный округ         столовая   66\n",
       "50  Центральный административный округ         булочная   50"
      ]
     },
     "execution_count": 27,
     "metadata": {},
     "output_type": "execute_result"
    }
   ],
   "source": [
    "# Таблица с количеством точек в Центральном административном округе Москвы\n",
    "df_grouped = df.groupby(['district', 'category'])['id'].count().sort_values(ascending = False).reset_index()\n",
    "df_district_central = df_grouped.loc[df_grouped['district'] == 'Центральный административный округ']\n",
    "df_district_central"
   ]
  },
  {
   "cell_type": "code",
   "execution_count": 28,
   "id": "0c182a0c",
   "metadata": {
    "scrolled": true
   },
   "outputs": [
    {
     "data": {
      "image/png": "[encoded data removed]",
      "text/plain": [
       "<Figure size 720x360 with 1 Axes>"
      ]
     },
     "metadata": {
      "needs_background": "light"
     },
     "output_type": "display_data"
    }
   ],
   "source": [
    "plt.figure(figsize=(10, 5))  \n",
    "plt.barh(df_district_central['category'], df_district_central['id'], color='skyblue')  \n",
    "plt.xlabel('Количество')  \n",
    "plt.ylabel('Категория заведения')  \n",
    "plt.title('Рейтинг самых популярных типов заведений в Москве')\n",
    "plt.grid(axis = 'x')  \n",
    "plt.show() "
   ]
  },
  {
   "cell_type": "markdown",
   "id": "f964bce2",
   "metadata": {},
   "source": [
    "- **Вывод:** в центральном а.о. Москвы самое большее количество заведений среди всех а.о. столицы: 2242 заведения, что больше четверти (**27%**) от общего числа заведений общественного питания в Москве. Популярнее всего рестораны (**670**), что может быть связано с \"обеспеченностью\" района, а также популярностью данных мест у туристов, т.к. для туристы являются потребителями с самым высоким средним чеком. Остальные заведения "
   ]
  },
  {
   "cell_type": "markdown",
   "id": "7c824f58",
   "metadata": {
    "id": "7c824f58"
   },
   "source": [
    "---\n",
    "\n",
    "### Задача 3\n",
    "\n",
    "Изучите соотношение сетевых и несетевых заведений в целом по всем данным и в разрезе категорий заведения. Каких заведений больше — сетевых или несетевых? Какие категории заведений чаще являются сетевыми? Исследуйте данные, ответьте на вопросы и постройте необходимые визуализации."
   ]
  },
  {
   "cell_type": "code",
   "execution_count": 29,
   "id": "ef442d1a",
   "metadata": {
    "id": "ef442d1a",
    "scrolled": true
   },
   "outputs": [
    {
     "name": "stdout",
     "output_type": "stream",
     "text": [
      "Доля сетевых заведений составляет 38.12%\n"
     ]
    }
   ],
   "source": [
    "prop_chain = round(df['chain'].sum() / len(df) * 100, 2)\n",
    "print(f'Доля сетевых заведений составляет {prop_chain}%')"
   ]
  },
  {
   "cell_type": "code",
   "execution_count": 30,
   "id": "b2087069",
   "metadata": {},
   "outputs": [
    {
     "data": {
      "text/html": [
       "<div>\n",
       "<style scoped>\n",
       "    .dataframe tbody tr th:only-of-type {\n",
       "        vertical-align: middle;\n",
       "    }\n",
       "\n",
       "    .dataframe tbody tr th {\n",
       "        vertical-align: top;\n",
       "    }\n",
       "\n",
       "    .dataframe thead th {\n",
       "        text-align: right;\n",
       "    }\n",
       "</style>\n",
       "<table border=\"1\" class=\"dataframe\">\n",
       "  <thead>\n",
       "    <tr style=\"text-align: right;\">\n",
       "      <th></th>\n",
       "      <th>chain</th>\n",
       "      <th>id</th>\n",
       "    </tr>\n",
       "  </thead>\n",
       "  <tbody>\n",
       "    <tr>\n",
       "      <th>0</th>\n",
       "      <td>0</td>\n",
       "      <td>5200</td>\n",
       "    </tr>\n",
       "    <tr>\n",
       "      <th>1</th>\n",
       "      <td>1</td>\n",
       "      <td>3203</td>\n",
       "    </tr>\n",
       "  </tbody>\n",
       "</table>\n",
       "</div>"
      ],
      "text/plain": [
       "   chain    id\n",
       "0      0  5200\n",
       "1      1  3203"
      ]
     },
     "execution_count": 30,
     "metadata": {},
     "output_type": "execute_result"
    }
   ],
   "source": [
    "# Создаём массив данных о доли сетевых и несетевых заведений\n",
    "df_chain = df.groupby('chain')['id'].count().reset_index()\n",
    "df_chain"
   ]
  },
  {
   "cell_type": "code",
   "execution_count": 31,
   "id": "0de29fa2",
   "metadata": {
    "id": "0de29fa2"
   },
   "outputs": [
    {
     "data": {
      "image/png": "[encoded data removed]",
      "text/plain": [
       "<Figure size 432x432 with 1 Axes>"
      ]
     },
     "metadata": {},
     "output_type": "display_data"
    }
   ],
   "source": [
    "# Настроим название показателей\n",
    "labels = ['Несетевые', 'Сетевые']\n",
    "\n",
    "# Настроим пастельные цвета\n",
    "colors = ['#ff9999', '#66b3ff']\n",
    "\n",
    "plt.figure(figsize=(6, 6))\n",
    "plt.pie(df_chain['id'], labels = labels, autopct = '%1.1f%%', startangle = 90, colors = colors)\n",
    "plt.axis('equal')\n",
    "plt.title('Круговая диаграма сетевых и несетевых заведений')\n",
    "plt.tight_layout()\n",
    "plt.show()"
   ]
  },
  {
   "cell_type": "code",
   "execution_count": 32,
   "id": "a139bd72",
   "metadata": {
    "id": "a139bd72",
    "scrolled": true
   },
   "outputs": [
    {
     "data": {
      "text/html": [
       "<div>\n",
       "<style scoped>\n",
       "    .dataframe tbody tr th:only-of-type {\n",
       "        vertical-align: middle;\n",
       "    }\n",
       "\n",
       "    .dataframe tbody tr th {\n",
       "        vertical-align: top;\n",
       "    }\n",
       "\n",
       "    .dataframe thead th {\n",
       "        text-align: right;\n",
       "    }\n",
       "</style>\n",
       "<table border=\"1\" class=\"dataframe\">\n",
       "  <thead>\n",
       "    <tr style=\"text-align: right;\">\n",
       "      <th>chain</th>\n",
       "      <th>0</th>\n",
       "      <th>1</th>\n",
       "    </tr>\n",
       "    <tr>\n",
       "      <th>category</th>\n",
       "      <th></th>\n",
       "      <th></th>\n",
       "    </tr>\n",
       "  </thead>\n",
       "  <tbody>\n",
       "    <tr>\n",
       "      <th>бар,паб</th>\n",
       "      <td>596</td>\n",
       "      <td>168</td>\n",
       "    </tr>\n",
       "    <tr>\n",
       "      <th>булочная</th>\n",
       "      <td>99</td>\n",
       "      <td>157</td>\n",
       "    </tr>\n",
       "    <tr>\n",
       "      <th>быстрое питание</th>\n",
       "      <td>371</td>\n",
       "      <td>232</td>\n",
       "    </tr>\n",
       "    <tr>\n",
       "      <th>кафе</th>\n",
       "      <td>1598</td>\n",
       "      <td>779</td>\n",
       "    </tr>\n",
       "    <tr>\n",
       "      <th>кофейня</th>\n",
       "      <td>693</td>\n",
       "      <td>720</td>\n",
       "    </tr>\n",
       "    <tr>\n",
       "      <th>пиццерия</th>\n",
       "      <td>303</td>\n",
       "      <td>330</td>\n",
       "    </tr>\n",
       "    <tr>\n",
       "      <th>ресторан</th>\n",
       "      <td>1313</td>\n",
       "      <td>729</td>\n",
       "    </tr>\n",
       "    <tr>\n",
       "      <th>столовая</th>\n",
       "      <td>227</td>\n",
       "      <td>88</td>\n",
       "    </tr>\n",
       "  </tbody>\n",
       "</table>\n",
       "</div>"
      ],
      "text/plain": [
       "chain               0    1\n",
       "category                  \n",
       "бар,паб           596  168\n",
       "булочная           99  157\n",
       "быстрое питание   371  232\n",
       "кафе             1598  779\n",
       "кофейня           693  720\n",
       "пиццерия          303  330\n",
       "ресторан         1313  729\n",
       "столовая          227   88"
      ]
     },
     "execution_count": 32,
     "metadata": {},
     "output_type": "execute_result"
    }
   ],
   "source": [
    "# Создаём сводную таблицу по сетевым и несетевым по категориям\n",
    "df_pivot = pd.pivot_table(\n",
    "    data = df,\n",
    "    values = 'id',\n",
    "    index = 'category',         \n",
    "    columns = 'chain',       \n",
    "    aggfunc = 'count',       \n",
    "    fill_value = 0\n",
    ")\n",
    "\n",
    "df_pivot"
   ]
  },
  {
   "cell_type": "code",
   "execution_count": 33,
   "id": "c7bfe08f",
   "metadata": {
    "scrolled": true
   },
   "outputs": [
    {
     "data": {
      "image/png": "[encoded data removed]",
      "text/plain": [
       "<Figure size 864x432 with 1 Axes>"
      ]
     },
     "metadata": {
      "needs_background": "light"
     },
     "output_type": "display_data"
    }
   ],
   "source": [
    "plt.figure(figsize = (12, 6))  \n",
    "\n",
    "ax = plt.gca()  \n",
    "df_pivot.plot(kind = 'bar', ax = ax, color = ['#004d7a', '#8ebae6']) \n",
    "\n",
    "plt.title('Столбчатая диаграмма по распространению сетей \\n среди различных категорий заведений')\n",
    "plt.xlabel('Категории') \n",
    "plt.ylabel('Значения')\n",
    "plt.legend(title = 'Сеть')\n",
    "plt.xticks(rotation = 45)\n",
    "plt.tight_layout()\n",
    "plt.show()"
   ]
  },
  {
   "cell_type": "markdown",
   "id": "59a41b33",
   "metadata": {},
   "source": [
    "- **Вывод:** сетевая бизнес-модель является самой распространённой для: кофеен, пиццерий и булочных, однако, в остальных категориях заведений она является менее распространённой чем несетевой формат. Такое распределение может быть связано с тем, что пиццерии и кофейни достаточно молодая категория для столицы и сам формат сетевых заведений появился не так давно, поэтому среди данных заведений у них получилось получить наибольшую популярность. "
   ]
  },
  {
   "cell_type": "markdown",
   "id": "5913c3e3",
   "metadata": {
    "id": "5913c3e3"
   },
   "source": [
    "---\n",
    "\n",
    "### Задача 4\n",
    "\n",
    "Исследуйте количество посадочных мест в заведениях. Встречаются ли в данных аномальные значения или выбросы? Если да, то с чем они могут быть связаны? Приведите для каждой категории заведений наиболее типичное для него количество посадочных мест. Результат сопроводите подходящими визуализациями.\n"
   ]
  },
  {
   "cell_type": "code",
   "execution_count": 34,
   "id": "6cb238d2",
   "metadata": {
    "id": "6cb238d2"
   },
   "outputs": [
    {
     "data": {
      "text/plain": [
       "count    4792.000000\n",
       "mean      108.361436\n",
       "std       122.841130\n",
       "min         0.000000\n",
       "25%        40.000000\n",
       "50%        75.000000\n",
       "75%       140.000000\n",
       "max      1288.000000\n",
       "Name: seats, dtype: float64"
      ]
     },
     "execution_count": 34,
     "metadata": {},
     "output_type": "execute_result"
    }
   ],
   "source": [
    "df['seats'].describe()"
   ]
  },
  {
   "cell_type": "code",
   "execution_count": 35,
   "id": "062b55d8",
   "metadata": {
    "id": "062b55d8",
    "scrolled": true
   },
   "outputs": [
    {
     "data": {
      "image/png": "[encoded data removed]",
      "text/plain": [
       "<Figure size 720x360 with 1 Axes>"
      ]
     },
     "metadata": {
      "needs_background": "light"
     },
     "output_type": "display_data"
    }
   ],
   "source": [
    "#  Ниже был построен ящик с усамми\n",
    "df.boxplot(column = 'seats', vert=False)\n",
    "plt.gcf().set_size_inches(10, 5)"
   ]
  },
  {
   "cell_type": "markdown",
   "id": "6de5b8da",
   "metadata": {
    "id": "ceadf25b"
   },
   "source": [
    "- Как можно видеть, в построеном \"ящике с усами\" **большое количество выбросов**, поэтому в дальнейшем при оценки среднего значения сидячих мест данными стоит брать не среднее арифмитическое значение, а медианну"
   ]
  },
  {
   "cell_type": "code",
   "execution_count": 36,
   "id": "444c24bb",
   "metadata": {},
   "outputs": [
    {
     "data": {
      "text/html": [
       "<div>\n",
       "<style scoped>\n",
       "    .dataframe tbody tr th:only-of-type {\n",
       "        vertical-align: middle;\n",
       "    }\n",
       "\n",
       "    .dataframe tbody tr th {\n",
       "        vertical-align: top;\n",
       "    }\n",
       "\n",
       "    .dataframe thead th {\n",
       "        text-align: right;\n",
       "    }\n",
       "</style>\n",
       "<table border=\"1\" class=\"dataframe\">\n",
       "  <thead>\n",
       "    <tr style=\"text-align: right;\">\n",
       "      <th></th>\n",
       "      <th>category</th>\n",
       "      <th>seats</th>\n",
       "    </tr>\n",
       "  </thead>\n",
       "  <tbody>\n",
       "    <tr>\n",
       "      <th>0</th>\n",
       "      <td>булочная</td>\n",
       "      <td>50.0</td>\n",
       "    </tr>\n",
       "    <tr>\n",
       "      <th>1</th>\n",
       "      <td>пиццерия</td>\n",
       "      <td>55.0</td>\n",
       "    </tr>\n",
       "    <tr>\n",
       "      <th>2</th>\n",
       "      <td>кафе</td>\n",
       "      <td>60.0</td>\n",
       "    </tr>\n",
       "    <tr>\n",
       "      <th>3</th>\n",
       "      <td>быстрое питание</td>\n",
       "      <td>65.0</td>\n",
       "    </tr>\n",
       "    <tr>\n",
       "      <th>4</th>\n",
       "      <td>столовая</td>\n",
       "      <td>75.5</td>\n",
       "    </tr>\n",
       "    <tr>\n",
       "      <th>5</th>\n",
       "      <td>кофейня</td>\n",
       "      <td>80.0</td>\n",
       "    </tr>\n",
       "    <tr>\n",
       "      <th>6</th>\n",
       "      <td>бар,паб</td>\n",
       "      <td>82.0</td>\n",
       "    </tr>\n",
       "    <tr>\n",
       "      <th>7</th>\n",
       "      <td>ресторан</td>\n",
       "      <td>86.0</td>\n",
       "    </tr>\n",
       "  </tbody>\n",
       "</table>\n",
       "</div>"
      ],
      "text/plain": [
       "          category  seats\n",
       "0         булочная   50.0\n",
       "1         пиццерия   55.0\n",
       "2             кафе   60.0\n",
       "3  быстрое питание   65.0\n",
       "4         столовая   75.5\n",
       "5          кофейня   80.0\n",
       "6          бар,паб   82.0\n",
       "7         ресторан   86.0"
      ]
     },
     "execution_count": 36,
     "metadata": {},
     "output_type": "execute_result"
    }
   ],
   "source": [
    "# Оцениваем средние значения по медиане\n",
    "df_seats_category = df.groupby(['category'])['seats'].quantile(0.5).sort_values(ascending=True).reset_index()\n",
    "df_seats_category"
   ]
  },
  {
   "cell_type": "code",
   "execution_count": 37,
   "id": "a2455c5d",
   "metadata": {},
   "outputs": [
    {
     "data": {
      "image/png": "[encoded data removed]",
      "text/plain": [
       "<Figure size 864x432 with 1 Axes>"
      ]
     },
     "metadata": {
      "needs_background": "light"
     },
     "output_type": "display_data"
    }
   ],
   "source": [
    "plt.figure(figsize = (12, 6))\n",
    "plt.bar(df_seats_category['category'], df_seats_category['seats'], color = 'skyblue')\n",
    "plt.title('Столбчатая диаграмма среднего количества мест среди различных категорий заведений')\n",
    "plt.xlabel('Категории') \n",
    "plt.ylabel('Количество мест')\n",
    "plt.xticks(rotation = 45)\n",
    "plt.grid(axis='y', linestyle='--', alpha=0.7)\n",
    "plt.tight_layout()\n",
    "plt.show()"
   ]
  },
  {
   "cell_type": "markdown",
   "id": "3ef1d262",
   "metadata": {},
   "source": [
    "- **Вывод:** как можно видеть, в среднем, самое большое количество сидячих мест в ресторанах (**86 мест**), пабах (**82 места**) и кофейнях (**80 мест**), самое маленькое - в булочных (**50 мест**), что может быть связано с тем, что многие булочные работают по принципу \"на вынос\". В ресторанах, ожидаемо, самое большое количество мест, что связано с тем, что многие рестораны могут работать как банкетные залы на большое количество мест."
   ]
  },
  {
   "cell_type": "markdown",
   "id": "8ed065ea",
   "metadata": {
    "id": "8ed065ea"
   },
   "source": [
    "---\n",
    "\n",
    "### Задача 5\n",
    "\n",
    "Исследуйте рейтинг заведений. Визуализируйте распределение средних рейтингов по категориям заведений. Сильно ли различаются усреднённые рейтинги для разных типов общепита?"
   ]
  },
  {
   "cell_type": "code",
   "execution_count": 38,
   "id": "cc5206f8",
   "metadata": {
    "id": "cc5206f8"
   },
   "outputs": [
    {
     "data": {
      "text/html": [
       "<div>\n",
       "<style scoped>\n",
       "    .dataframe tbody tr th:only-of-type {\n",
       "        vertical-align: middle;\n",
       "    }\n",
       "\n",
       "    .dataframe tbody tr th {\n",
       "        vertical-align: top;\n",
       "    }\n",
       "\n",
       "    .dataframe thead th {\n",
       "        text-align: right;\n",
       "    }\n",
       "</style>\n",
       "<table border=\"1\" class=\"dataframe\">\n",
       "  <thead>\n",
       "    <tr style=\"text-align: right;\">\n",
       "      <th></th>\n",
       "      <th>category</th>\n",
       "      <th>rating</th>\n",
       "    </tr>\n",
       "  </thead>\n",
       "  <tbody>\n",
       "    <tr>\n",
       "      <th>0</th>\n",
       "      <td>быстрое питание</td>\n",
       "      <td>4.050249</td>\n",
       "    </tr>\n",
       "    <tr>\n",
       "      <th>1</th>\n",
       "      <td>кафе</td>\n",
       "      <td>4.123896</td>\n",
       "    </tr>\n",
       "    <tr>\n",
       "      <th>2</th>\n",
       "      <td>столовая</td>\n",
       "      <td>4.211429</td>\n",
       "    </tr>\n",
       "    <tr>\n",
       "      <th>3</th>\n",
       "      <td>булочная</td>\n",
       "      <td>4.268359</td>\n",
       "    </tr>\n",
       "    <tr>\n",
       "      <th>4</th>\n",
       "      <td>кофейня</td>\n",
       "      <td>4.277282</td>\n",
       "    </tr>\n",
       "    <tr>\n",
       "      <th>5</th>\n",
       "      <td>ресторан</td>\n",
       "      <td>4.290402</td>\n",
       "    </tr>\n",
       "    <tr>\n",
       "      <th>6</th>\n",
       "      <td>пиццерия</td>\n",
       "      <td>4.301264</td>\n",
       "    </tr>\n",
       "    <tr>\n",
       "      <th>7</th>\n",
       "      <td>бар,паб</td>\n",
       "      <td>4.387696</td>\n",
       "    </tr>\n",
       "  </tbody>\n",
       "</table>\n",
       "</div>"
      ],
      "text/plain": [
       "          category    rating\n",
       "0  быстрое питание  4.050249\n",
       "1             кафе  4.123896\n",
       "2         столовая  4.211429\n",
       "3         булочная  4.268359\n",
       "4          кофейня  4.277282\n",
       "5         ресторан  4.290402\n",
       "6         пиццерия  4.301264\n",
       "7          бар,паб  4.387696"
      ]
     },
     "execution_count": 38,
     "metadata": {},
     "output_type": "execute_result"
    }
   ],
   "source": [
    "# Составляем df с рейтингами (медиана и среднее арифмитическое)\n",
    "df_rating_category = df.groupby('category')['rating'].mean().sort_values(ascending=True).reset_index()\n",
    "df_rating_category"
   ]
  },
  {
   "cell_type": "code",
   "execution_count": 39,
   "id": "4124ede9",
   "metadata": {
    "id": "3e0ec5d7"
   },
   "outputs": [
    {
     "data": {
      "image/png": "[encoded data removed]",
      "text/plain": [
       "<Figure size 864x432 with 1 Axes>"
      ]
     },
     "metadata": {
      "needs_background": "light"
     },
     "output_type": "display_data"
    }
   ],
   "source": [
    "plt.figure(figsize = (12, 6))\n",
    "plt.bar(df_rating_category['category'], df_rating_category['rating'], color = 'skyblue')\n",
    "plt.title('Столбчатая диаграмма среднего рейтинга \\n среди различных категорий заведений')\n",
    "plt.xlabel('Категории') \n",
    "plt.ylabel('Количество мест')\n",
    "plt.grid(axis='y', linestyle='--', alpha=0.7)\n",
    "plt.xticks(rotation = 45)\n",
    "plt.tight_layout()\n",
    "plt.show()"
   ]
  },
  {
   "cell_type": "markdown",
   "id": "98379873",
   "metadata": {
    "id": "766c86cb"
   },
   "source": [
    "- **Вывод:** Как можно видеть, усреднённые оценки по категориям не сильно различаются, но при этом можно отметить, что наименьший рейтинг имеют заведения быстрого питания (**4,05 из 5**) и кафе (**4,12**), а самый высокий: пицерии (**4,3**) и пабы (**4,38**). Можно предположить, что заведения быстрого питяния, столовые, а также многие кафе получили низкие оценки из-за недостатка клиентского сервиса, потому что в быстром питании и столовых он вообще не предусмотрен. "
   ]
  },
  {
   "cell_type": "markdown",
   "id": "dd9702d9",
   "metadata": {
    "id": "dd9702d9"
   },
   "source": [
    "---\n",
    "\n",
    "### Задача 6\n",
    "\n",
    "Изучите, с какими данными показывают самую сильную корреляцию рейтинги заведений? Постройте и визуализируйте матрицу корреляции рейтинга заведения с разными данными: его категория, положение (административный район Москвы), статус сетевого заведения, количество мест, ценовая категория и признак, является ли заведения круглосуточным. Выберите самую сильную связь и проверьте её."
   ]
  },
  {
   "cell_type": "code",
   "execution_count": 40,
   "id": "edb17f6e",
   "metadata": {},
   "outputs": [
    {
     "data": {
      "text/plain": [
       "id                    object\n",
       "name                  object\n",
       "category              object\n",
       "address               object\n",
       "district              object\n",
       "hours                 object\n",
       "rating               float64\n",
       "chain                  int64\n",
       "seats                float64\n",
       "price                 object\n",
       "avg_bill              object\n",
       "middle_avg_bill      float64\n",
       "middle_coffee_cup    float64\n",
       "is_24_7                 bool\n",
       "dtype: object"
      ]
     },
     "execution_count": 40,
     "metadata": {},
     "output_type": "execute_result"
    }
   ],
   "source": [
    "df['rating'].unique()\n",
    "df.dtypes"
   ]
  },
  {
   "cell_type": "code",
   "execution_count": 41,
   "id": "15400eb9",
   "metadata": {
    "id": "15400eb9"
   },
   "outputs": [
    {
     "name": "stdout",
     "output_type": "stream",
     "text": [
      "interval columns not set, guessing: ['chain', 'seats', 'middle_avg_bill', 'rating']\n"
     ]
    },
    {
     "data": {
      "image/png": "[encoded data removed]",
      "text/plain": [
       "<Figure size 864x576 with 2 Axes>"
      ]
     },
     "metadata": {
      "needs_background": "light"
     },
     "output_type": "display_data"
    }
   ],
   "source": [
    "# Заполнение пропусков\n",
    "df['price'].fillna('Unknown', inplace=True)\n",
    "df.groupby('category')['middle_avg_bill'].transform(\n",
    "    lambda x: x.fillna(x.median())\n",
    ")\n",
    "df['seats'].fillna(df['seats'].median(), inplace=True)\n",
    "\n",
    "# Выбираем нужные столбцы\n",
    "target_columns = [\n",
    "    'district', 'category', 'chain', 'seats', \n",
    "    'price', 'middle_avg_bill', 'rating'\n",
    "]\n",
    "df_sub = df[target_columns]\n",
    "\n",
    "# Рассчитываем матрицу корреляций\n",
    "corr_matrix = df_sub.phik_matrix()\n",
    "\n",
    "# Тепловая карта для выбранных столбцов\n",
    "plt.figure(figsize=(12, 8))\n",
    "sns.heatmap(\n",
    "    corr_matrix,\n",
    "    annot=True, \n",
    "    fmt=\".2f\", \n",
    "    cmap='coolwarm', \n",
    "    vmin=-0.3, vmax=0.6,\n",
    "    linewidths=0.5\n",
    ")\n",
    "\n",
    "plt.title('Матрица корреляций Phi_k')\n",
    "plt.show()"
   ]
  },
  {
   "cell_type": "code",
   "execution_count": 42,
   "id": "8f0379af",
   "metadata": {
    "id": "8f0379af"
   },
   "outputs": [
    {
     "data": {
      "text/plain": [
       "<AxesSubplot:>"
      ]
     },
     "execution_count": 42,
     "metadata": {},
     "output_type": "execute_result"
    },
    {
     "data": {
      "image/png": "[encoded data removed]",
      "text/plain": [
       "<Figure size 288x576 with 2 Axes>"
      ]
     },
     "metadata": {
      "needs_background": "light"
     },
     "output_type": "display_data"
    }
   ],
   "source": [
    "corr_matrix_rating = corr_matrix.loc[corr_matrix.index != 'rating'][['rating']].sort_values(by='rating', ascending=False)\n",
    "\n",
    "plt.figure(figsize=(4, 8))\n",
    "\n",
    "sns.heatmap(\n",
    "    corr_matrix_rating,\n",
    "    annot = True, \n",
    "    fmt = \".2f\", \n",
    "    cmap = 'coolwarm', \n",
    "    vmin = -0.3, vmax=0.6,\n",
    "    linewidths = 0.5\n",
    ")"
   ]
  },
  {
   "cell_type": "code",
   "execution_count": 43,
   "id": "1a65a84d",
   "metadata": {
    "id": "1a65a84d"
   },
   "outputs": [
    {
     "data": {
      "image/png": "[encoded data removed]",
      "text/plain": [
       "<Figure size 720x432 with 1 Axes>"
      ]
     },
     "metadata": {
      "needs_background": "light"
     },
     "output_type": "display_data"
    }
   ],
   "source": [
    "plt.figure(figsize=(10, 6))\n",
    "\n",
    "df_price = df.groupby('price')['rating'].mean().reset_index()\n",
    "\n",
    "plt.bar(df_price['price'], df_price['rating'], color = 'skyblue')\n",
    "\n",
    "plt.title('Средние оценки заведений по ценовым категориям')\n",
    "plt.tight_layout()\n",
    "plt.grid(axis='y', linestyle='--', alpha=0.7)\n",
    "plt.show()"
   ]
  },
  {
   "cell_type": "code",
   "execution_count": 44,
   "id": "342572dc",
   "metadata": {},
   "outputs": [
    {
     "data": {
      "image/png": "[encoded data removed]",
      "text/plain": [
       "<Figure size 720x432 with 1 Axes>"
      ]
     },
     "metadata": {
      "needs_background": "light"
     },
     "output_type": "display_data"
    },
    {
     "data": {
      "image/png": "[encoded data removed]",
      "text/plain": [
       "<Figure size 720x432 with 1 Axes>"
      ]
     },
     "metadata": {
      "needs_background": "light"
     },
     "output_type": "display_data"
    },
    {
     "data": {
      "image/png": "[encoded data removed]",
      "text/plain": [
       "<Figure size 720x432 with 1 Axes>"
      ]
     },
     "metadata": {
      "needs_background": "light"
     },
     "output_type": "display_data"
    },
    {
     "data": {
      "image/png": "[encoded data removed]",
      "text/plain": [
       "<Figure size 720x432 with 1 Axes>"
      ]
     },
     "metadata": {
      "needs_background": "light"
     },
     "output_type": "display_data"
    }
   ],
   "source": [
    "# Потсроим нескоьлко гистограм, чтобы оценить распределения для заведений разных ценовых диапазонов\n",
    "\n",
    "# высокие\n",
    "plt.figure(figsize=(10, 6))\n",
    "plt.hist(df.loc[df['price'] == 'высокие', 'rating'], bins=30, color='skyblue', edgecolor='black', alpha=0.7)\n",
    "plt.title('Высокие цены')\n",
    "plt.tight_layout()\n",
    "plt.show()\n",
    "\n",
    "# выше среднего\n",
    "plt.figure(figsize=(10, 6))\n",
    "plt.hist(df.loc[df['price'] == 'выше среднего', 'rating'], bins=30, color='skyblue', edgecolor='black', alpha=0.7)\n",
    "plt.title('Цены выше среднего')\n",
    "plt.tight_layout()\n",
    "plt.show()\n",
    "\n",
    "# средние\n",
    "plt.figure(figsize=(10, 6))\n",
    "plt.hist(df.loc[df['price'] == 'средние', 'rating'], bins=30, color='skyblue', edgecolor='black', alpha=0.7)\n",
    "plt.title('Средние цены')\n",
    "plt.tight_layout()\n",
    "plt.show()\n",
    "\n",
    "# низкие\n",
    "plt.figure(figsize=(10, 6))\n",
    "plt.hist(df.loc[df['price'] == 'низкие', 'rating'], bins=30, color='skyblue', edgecolor='black', alpha=0.7)\n",
    "plt.title('Низкие цены')\n",
    "plt.tight_layout()\n",
    "plt.show()"
   ]
  },
  {
   "cell_type": "markdown",
   "id": "ab3910a8",
   "metadata": {},
   "source": [
    "- Как можно заметить на гистограмах, у зведений с более низкими ценовыми диапазонами распределение имеет маленький левый \"хвост\", однако, чем более дорогоо заведение, тем более распределение смещено вправо. Это также подтвержает столбчатая диаграма. которая отражает среднее арифмитическое значение по каждой категории. "
   ]
  },
  {
   "cell_type": "markdown",
   "id": "6f6552a3",
   "metadata": {},
   "source": [
    "- **Вывод:** заведения с высокими ценами, как правило, получают лучшие оценки относительно конкурентов с из более низких ценовых категорий. Тому может быть несколько причин:\n",
    "1. Заведения с высокими ценами предоставляют лучший сервис, что оставляет положительное впечатление;\n",
    "2. Более высокие цены привлекают более финансово обеспеченных людей, которые склонны реже оставлять негативные отзывы;\n",
    "3. В заведениях с низкими ценами могут чаще происходить случаи отравления из-за экономии на продуктах;\n",
    "4. Сами работники организаций могут оставлять отзывы, поэтому можно предположить, что в более \"дорогих\" заведениях, работники в большей мере удовлетворены уровнем своей з/п и рабочими условиями. "
   ]
  },
  {
   "cell_type": "markdown",
   "id": "370de703",
   "metadata": {
    "id": "370de703"
   },
   "source": [
    "---\n",
    "\n",
    "### Задача 7\n",
    "\n",
    "Сгруппируйте данные по названиям заведений и найдите топ-15 популярных сетей в Москве. Для них посчитайте значения среднего рейтинга. Под популярностью понимается количество заведений этой сети в регионе. К какой категории заведений они относятся? Результат сопроводите подходящими визуализациями."
   ]
  },
  {
   "cell_type": "code",
   "execution_count": 45,
   "id": "5d828a9a",
   "metadata": {
    "id": "5d828a9a",
    "scrolled": true
   },
   "outputs": [
    {
     "data": {
      "text/html": [
       "<div>\n",
       "<style scoped>\n",
       "    .dataframe tbody tr th:only-of-type {\n",
       "        vertical-align: middle;\n",
       "    }\n",
       "\n",
       "    .dataframe tbody tr th {\n",
       "        vertical-align: top;\n",
       "    }\n",
       "\n",
       "    .dataframe thead th {\n",
       "        text-align: right;\n",
       "    }\n",
       "</style>\n",
       "<table border=\"1\" class=\"dataframe\">\n",
       "  <thead>\n",
       "    <tr style=\"text-align: right;\">\n",
       "      <th></th>\n",
       "      <th>name</th>\n",
       "      <th>id</th>\n",
       "      <th>rating</th>\n",
       "    </tr>\n",
       "  </thead>\n",
       "  <tbody>\n",
       "    <tr>\n",
       "      <th>0</th>\n",
       "      <td>шоколадница</td>\n",
       "      <td>120</td>\n",
       "      <td>4.177500</td>\n",
       "    </tr>\n",
       "    <tr>\n",
       "      <th>1</th>\n",
       "      <td>домино'с пицца</td>\n",
       "      <td>76</td>\n",
       "      <td>4.169737</td>\n",
       "    </tr>\n",
       "    <tr>\n",
       "      <th>2</th>\n",
       "      <td>додо пицца</td>\n",
       "      <td>74</td>\n",
       "      <td>4.286486</td>\n",
       "    </tr>\n",
       "    <tr>\n",
       "      <th>3</th>\n",
       "      <td>one price coffee</td>\n",
       "      <td>71</td>\n",
       "      <td>4.064789</td>\n",
       "    </tr>\n",
       "    <tr>\n",
       "      <th>4</th>\n",
       "      <td>яндекс лавка</td>\n",
       "      <td>69</td>\n",
       "      <td>3.872464</td>\n",
       "    </tr>\n",
       "    <tr>\n",
       "      <th>5</th>\n",
       "      <td>cofix</td>\n",
       "      <td>65</td>\n",
       "      <td>4.075385</td>\n",
       "    </tr>\n",
       "    <tr>\n",
       "      <th>6</th>\n",
       "      <td>prime</td>\n",
       "      <td>50</td>\n",
       "      <td>4.116000</td>\n",
       "    </tr>\n",
       "    <tr>\n",
       "      <th>7</th>\n",
       "      <td>хинкальная</td>\n",
       "      <td>44</td>\n",
       "      <td>4.322727</td>\n",
       "    </tr>\n",
       "    <tr>\n",
       "      <th>8</th>\n",
       "      <td>кофепорт</td>\n",
       "      <td>42</td>\n",
       "      <td>4.147619</td>\n",
       "    </tr>\n",
       "    <tr>\n",
       "      <th>9</th>\n",
       "      <td>кулинарная лавка братьев караваевых</td>\n",
       "      <td>39</td>\n",
       "      <td>4.394872</td>\n",
       "    </tr>\n",
       "    <tr>\n",
       "      <th>10</th>\n",
       "      <td>теремок</td>\n",
       "      <td>38</td>\n",
       "      <td>4.123684</td>\n",
       "    </tr>\n",
       "    <tr>\n",
       "      <th>11</th>\n",
       "      <td>чайхана</td>\n",
       "      <td>37</td>\n",
       "      <td>3.924324</td>\n",
       "    </tr>\n",
       "    <tr>\n",
       "      <th>13</th>\n",
       "      <td>буханка</td>\n",
       "      <td>32</td>\n",
       "      <td>4.396875</td>\n",
       "    </tr>\n",
       "    <tr>\n",
       "      <th>12</th>\n",
       "      <td>cofefest</td>\n",
       "      <td>32</td>\n",
       "      <td>3.984375</td>\n",
       "    </tr>\n",
       "    <tr>\n",
       "      <th>14</th>\n",
       "      <td>му-му</td>\n",
       "      <td>27</td>\n",
       "      <td>4.229630</td>\n",
       "    </tr>\n",
       "  </tbody>\n",
       "</table>\n",
       "</div>"
      ],
      "text/plain": [
       "                                   name   id    rating\n",
       "0                           шоколадница  120  4.177500\n",
       "1                        домино'с пицца   76  4.169737\n",
       "2                            додо пицца   74  4.286486\n",
       "3                      one price coffee   71  4.064789\n",
       "4                          яндекс лавка   69  3.872464\n",
       "5                                 cofix   65  4.075385\n",
       "6                                 prime   50  4.116000\n",
       "7                            хинкальная   44  4.322727\n",
       "8                              кофепорт   42  4.147619\n",
       "9   кулинарная лавка братьев караваевых   39  4.394872\n",
       "10                              теремок   38  4.123684\n",
       "11                              чайхана   37  3.924324\n",
       "13                              буханка   32  4.396875\n",
       "12                             cofefest   32  3.984375\n",
       "14                                му-му   27  4.229630"
      ]
     },
     "execution_count": 45,
     "metadata": {},
     "output_type": "execute_result"
    }
   ],
   "source": [
    "# Фильтруем данные\n",
    "df_only_chain = df.loc[df['chain'] != 0]\n",
    "\n",
    "# Группируем отфильтрованные данные и получаем топ-15\n",
    "df_chain_popular = df_only_chain.groupby('name')['id'].count().sort_values(ascending = False).reset_index().head(15)\n",
    "\n",
    "# Считаем рейтинг для всех \n",
    "df_chain_rating = df_only_chain.groupby('name')['rating'].mean().sort_values(ascending = False).reset_index()\n",
    "\n",
    "# Объеденим полученые df и добавляем фильтрацию для заведений с одинаковым количеством заведений в Москве\n",
    "df_top = df_chain_popular.merge(df_chain_rating, on = 'name').sort_values(by=['id', 'rating'], ascending = False)\n",
    "\n",
    "# Выведем\n",
    "df_top"
   ]
  },
  {
   "cell_type": "code",
   "execution_count": 46,
   "id": "bd8fa151",
   "metadata": {},
   "outputs": [
    {
     "data": {
      "image/png": "[encoded data removed]",
      "text/plain": [
       "<Figure size 1440x720 with 2 Axes>"
      ]
     },
     "metadata": {
      "needs_background": "light"
     },
     "output_type": "display_data"
    }
   ],
   "source": [
    "width = 0.35\n",
    "x = range(len(df_top))\n",
    "\n",
    "fig, axis1 = plt.subplots(figsize=(20, 10))\n",
    "\n",
    "# Основной график\n",
    "axis1.bar(x, df_top['id'], width=width, color='#004d7a')\n",
    "axis1.set_ylabel('Количество заведений', color='#004d7a')\n",
    "\n",
    "# Вторичная ось\n",
    "axis2 = axis1.twinx()\n",
    "axis2.bar([i + width for i in x], df_top['rating'], width=width, color='#8ebae6')\n",
    "axis2.set_ylabel('Средний рейтинг', color='#8ebae6')\n",
    "\n",
    "# Обработка и поворот меток\n",
    "labels = [str(label) for label in df_top['name']]  # Преобразование в строки\n",
    "labels = [label[:15] + '...' if len(label) > 18 else label for label in labels]  # Сокращение\n",
    "\n",
    "axis1.set_xticks([i + width / 2 for i in x])\n",
    "axis1.set_xticklabels(\n",
    "    labels,\n",
    "    rotation=45,\n",
    "    ha='right',\n",
    "    fontsize=10,  # Уменьшение размера шрифта\n",
    "    rotation_mode='anchor'\n",
    ")\n",
    "\n",
    "# Настройка отступов\n",
    "plt.subplots_adjust(\n",
    "    bottom=0.3,   # Увеличение нижнего отступа\n",
    "    right=0.85    # Освобождение места для второй оси\n",
    ")\n",
    "\n",
    "plt.title('Количество заведений и средний рейтинг')\n",
    "plt.show()"
   ]
  },
  {
   "cell_type": "code",
   "execution_count": 47,
   "id": "d013c598",
   "metadata": {
    "id": "d013c598"
   },
   "outputs": [
    {
     "data": {
      "text/html": [
       "<div>\n",
       "<style scoped>\n",
       "    .dataframe tbody tr th:only-of-type {\n",
       "        vertical-align: middle;\n",
       "    }\n",
       "\n",
       "    .dataframe tbody tr th {\n",
       "        vertical-align: top;\n",
       "    }\n",
       "\n",
       "    .dataframe thead th {\n",
       "        text-align: right;\n",
       "    }\n",
       "</style>\n",
       "<table border=\"1\" class=\"dataframe\">\n",
       "  <thead>\n",
       "    <tr style=\"text-align: right;\">\n",
       "      <th></th>\n",
       "      <th>name</th>\n",
       "      <th>id</th>\n",
       "      <th>rating</th>\n",
       "      <th>category</th>\n",
       "    </tr>\n",
       "  </thead>\n",
       "  <tbody>\n",
       "    <tr>\n",
       "      <th>0</th>\n",
       "      <td>шоколадница</td>\n",
       "      <td>120</td>\n",
       "      <td>4.177500</td>\n",
       "      <td>кофейня</td>\n",
       "    </tr>\n",
       "    <tr>\n",
       "      <th>1</th>\n",
       "      <td>шоколадница</td>\n",
       "      <td>120</td>\n",
       "      <td>4.177500</td>\n",
       "      <td>кафе</td>\n",
       "    </tr>\n",
       "    <tr>\n",
       "      <th>2</th>\n",
       "      <td>домино'с пицца</td>\n",
       "      <td>76</td>\n",
       "      <td>4.169737</td>\n",
       "      <td>пиццерия</td>\n",
       "    </tr>\n",
       "    <tr>\n",
       "      <th>3</th>\n",
       "      <td>додо пицца</td>\n",
       "      <td>74</td>\n",
       "      <td>4.286486</td>\n",
       "      <td>пиццерия</td>\n",
       "    </tr>\n",
       "    <tr>\n",
       "      <th>4</th>\n",
       "      <td>one price coffee</td>\n",
       "      <td>71</td>\n",
       "      <td>4.064789</td>\n",
       "      <td>кофейня</td>\n",
       "    </tr>\n",
       "    <tr>\n",
       "      <th>5</th>\n",
       "      <td>яндекс лавка</td>\n",
       "      <td>69</td>\n",
       "      <td>3.872464</td>\n",
       "      <td>ресторан</td>\n",
       "    </tr>\n",
       "    <tr>\n",
       "      <th>6</th>\n",
       "      <td>cofix</td>\n",
       "      <td>65</td>\n",
       "      <td>4.075385</td>\n",
       "      <td>кофейня</td>\n",
       "    </tr>\n",
       "    <tr>\n",
       "      <th>7</th>\n",
       "      <td>prime</td>\n",
       "      <td>50</td>\n",
       "      <td>4.116000</td>\n",
       "      <td>ресторан</td>\n",
       "    </tr>\n",
       "    <tr>\n",
       "      <th>8</th>\n",
       "      <td>prime</td>\n",
       "      <td>50</td>\n",
       "      <td>4.116000</td>\n",
       "      <td>кафе</td>\n",
       "    </tr>\n",
       "    <tr>\n",
       "      <th>9</th>\n",
       "      <td>хинкальная</td>\n",
       "      <td>44</td>\n",
       "      <td>4.322727</td>\n",
       "      <td>быстрое питание</td>\n",
       "    </tr>\n",
       "    <tr>\n",
       "      <th>10</th>\n",
       "      <td>хинкальная</td>\n",
       "      <td>44</td>\n",
       "      <td>4.322727</td>\n",
       "      <td>кафе</td>\n",
       "    </tr>\n",
       "    <tr>\n",
       "      <th>11</th>\n",
       "      <td>хинкальная</td>\n",
       "      <td>44</td>\n",
       "      <td>4.322727</td>\n",
       "      <td>ресторан</td>\n",
       "    </tr>\n",
       "    <tr>\n",
       "      <th>12</th>\n",
       "      <td>хинкальная</td>\n",
       "      <td>44</td>\n",
       "      <td>4.322727</td>\n",
       "      <td>столовая</td>\n",
       "    </tr>\n",
       "    <tr>\n",
       "      <th>13</th>\n",
       "      <td>хинкальная</td>\n",
       "      <td>44</td>\n",
       "      <td>4.322727</td>\n",
       "      <td>бар,паб</td>\n",
       "    </tr>\n",
       "    <tr>\n",
       "      <th>14</th>\n",
       "      <td>кофепорт</td>\n",
       "      <td>42</td>\n",
       "      <td>4.147619</td>\n",
       "      <td>кофейня</td>\n",
       "    </tr>\n",
       "    <tr>\n",
       "      <th>15</th>\n",
       "      <td>кулинарная лавка братьев караваевых</td>\n",
       "      <td>39</td>\n",
       "      <td>4.394872</td>\n",
       "      <td>кафе</td>\n",
       "    </tr>\n",
       "    <tr>\n",
       "      <th>16</th>\n",
       "      <td>теремок</td>\n",
       "      <td>38</td>\n",
       "      <td>4.123684</td>\n",
       "      <td>ресторан</td>\n",
       "    </tr>\n",
       "    <tr>\n",
       "      <th>17</th>\n",
       "      <td>теремок</td>\n",
       "      <td>38</td>\n",
       "      <td>4.123684</td>\n",
       "      <td>быстрое питание</td>\n",
       "    </tr>\n",
       "    <tr>\n",
       "      <th>18</th>\n",
       "      <td>чайхана</td>\n",
       "      <td>37</td>\n",
       "      <td>3.924324</td>\n",
       "      <td>кафе</td>\n",
       "    </tr>\n",
       "    <tr>\n",
       "      <th>19</th>\n",
       "      <td>чайхана</td>\n",
       "      <td>37</td>\n",
       "      <td>3.924324</td>\n",
       "      <td>быстрое питание</td>\n",
       "    </tr>\n",
       "    <tr>\n",
       "      <th>20</th>\n",
       "      <td>чайхана</td>\n",
       "      <td>37</td>\n",
       "      <td>3.924324</td>\n",
       "      <td>ресторан</td>\n",
       "    </tr>\n",
       "    <tr>\n",
       "      <th>21</th>\n",
       "      <td>буханка</td>\n",
       "      <td>32</td>\n",
       "      <td>4.396875</td>\n",
       "      <td>булочная</td>\n",
       "    </tr>\n",
       "    <tr>\n",
       "      <th>22</th>\n",
       "      <td>буханка</td>\n",
       "      <td>32</td>\n",
       "      <td>4.396875</td>\n",
       "      <td>кофейня</td>\n",
       "    </tr>\n",
       "    <tr>\n",
       "      <th>23</th>\n",
       "      <td>буханка</td>\n",
       "      <td>32</td>\n",
       "      <td>4.396875</td>\n",
       "      <td>кафе</td>\n",
       "    </tr>\n",
       "    <tr>\n",
       "      <th>24</th>\n",
       "      <td>cofefest</td>\n",
       "      <td>32</td>\n",
       "      <td>3.984375</td>\n",
       "      <td>кофейня</td>\n",
       "    </tr>\n",
       "    <tr>\n",
       "      <th>25</th>\n",
       "      <td>cofefest</td>\n",
       "      <td>32</td>\n",
       "      <td>3.984375</td>\n",
       "      <td>кафе</td>\n",
       "    </tr>\n",
       "    <tr>\n",
       "      <th>26</th>\n",
       "      <td>му-му</td>\n",
       "      <td>27</td>\n",
       "      <td>4.229630</td>\n",
       "      <td>кафе</td>\n",
       "    </tr>\n",
       "    <tr>\n",
       "      <th>27</th>\n",
       "      <td>му-му</td>\n",
       "      <td>27</td>\n",
       "      <td>4.229630</td>\n",
       "      <td>ресторан</td>\n",
       "    </tr>\n",
       "    <tr>\n",
       "      <th>28</th>\n",
       "      <td>му-му</td>\n",
       "      <td>27</td>\n",
       "      <td>4.229630</td>\n",
       "      <td>кофейня</td>\n",
       "    </tr>\n",
       "    <tr>\n",
       "      <th>29</th>\n",
       "      <td>му-му</td>\n",
       "      <td>27</td>\n",
       "      <td>4.229630</td>\n",
       "      <td>быстрое питание</td>\n",
       "    </tr>\n",
       "    <tr>\n",
       "      <th>30</th>\n",
       "      <td>му-му</td>\n",
       "      <td>27</td>\n",
       "      <td>4.229630</td>\n",
       "      <td>пиццерия</td>\n",
       "    </tr>\n",
       "    <tr>\n",
       "      <th>31</th>\n",
       "      <td>му-му</td>\n",
       "      <td>27</td>\n",
       "      <td>4.229630</td>\n",
       "      <td>столовая</td>\n",
       "    </tr>\n",
       "    <tr>\n",
       "      <th>32</th>\n",
       "      <td>му-му</td>\n",
       "      <td>27</td>\n",
       "      <td>4.229630</td>\n",
       "      <td>бар,паб</td>\n",
       "    </tr>\n",
       "  </tbody>\n",
       "</table>\n",
       "</div>"
      ],
      "text/plain": [
       "                                   name   id    rating         category\n",
       "0                           шоколадница  120  4.177500          кофейня\n",
       "1                           шоколадница  120  4.177500             кафе\n",
       "2                        домино'с пицца   76  4.169737         пиццерия\n",
       "3                            додо пицца   74  4.286486         пиццерия\n",
       "4                      one price coffee   71  4.064789          кофейня\n",
       "5                          яндекс лавка   69  3.872464         ресторан\n",
       "6                                 cofix   65  4.075385          кофейня\n",
       "7                                 prime   50  4.116000         ресторан\n",
       "8                                 prime   50  4.116000             кафе\n",
       "9                            хинкальная   44  4.322727  быстрое питание\n",
       "10                           хинкальная   44  4.322727             кафе\n",
       "11                           хинкальная   44  4.322727         ресторан\n",
       "12                           хинкальная   44  4.322727         столовая\n",
       "13                           хинкальная   44  4.322727          бар,паб\n",
       "14                             кофепорт   42  4.147619          кофейня\n",
       "15  кулинарная лавка братьев караваевых   39  4.394872             кафе\n",
       "16                              теремок   38  4.123684         ресторан\n",
       "17                              теремок   38  4.123684  быстрое питание\n",
       "18                              чайхана   37  3.924324             кафе\n",
       "19                              чайхана   37  3.924324  быстрое питание\n",
       "20                              чайхана   37  3.924324         ресторан\n",
       "21                              буханка   32  4.396875         булочная\n",
       "22                              буханка   32  4.396875          кофейня\n",
       "23                              буханка   32  4.396875             кафе\n",
       "24                             cofefest   32  3.984375          кофейня\n",
       "25                             cofefest   32  3.984375             кафе\n",
       "26                                му-му   27  4.229630             кафе\n",
       "27                                му-му   27  4.229630         ресторан\n",
       "28                                му-му   27  4.229630          кофейня\n",
       "29                                му-му   27  4.229630  быстрое питание\n",
       "30                                му-му   27  4.229630         пиццерия\n",
       "31                                му-му   27  4.229630         столовая\n",
       "32                                му-му   27  4.229630          бар,паб"
      ]
     },
     "execution_count": 47,
     "metadata": {},
     "output_type": "execute_result"
    }
   ],
   "source": [
    "# Теперь определим категории заведений\n",
    "unique_combinations = df[['name', 'category']].drop_duplicates()\n",
    "df_top.merge(unique_combinations, on = 'name', how = 'inner')"
   ]
  },
  {
   "cell_type": "markdown",
   "id": "b4921c58",
   "metadata": {},
   "source": [
    "- **Вывод:** Саымыми популярными сетевыми заведениям в Москве являются: Шоколадница (**120**), за которой с большим отрывом идут домино'с пицца (**76**), До-до Пиццаы (**74**), а также кофейни, преимущественно расположенные возле вокзалов и станций метро, Cofix и OnePriceCoffee. Также хотелось бы отметить, что многие кофейни сочетают сразу несколько форматов. Например, Шоколадница представлена одновременно и как кофейня и как кофе, та Му-му представлена сразу в 7 форматах."
   ]
  },
  {
   "cell_type": "markdown",
   "id": "85a90a94",
   "metadata": {
    "id": "85a90a94"
   },
   "source": [
    "---\n",
    "\n",
    "### Задача 8\n",
    "\n",
    "Изучите вариацию среднего чека заведения (столбец `middle_avg_bill`) в зависимости от района Москвы. Проанализируйте цены в Центральном административном округе и других. Как удалённость от центра влияет на цены в заведениях? Результат сопроводите подходящими визуализациями.\n"
   ]
  },
  {
   "cell_type": "code",
   "execution_count": 48,
   "id": "857c3cd8",
   "metadata": {
    "scrolled": true
   },
   "outputs": [
    {
     "data": {
      "text/html": [
       "<div>\n",
       "<style scoped>\n",
       "    .dataframe tbody tr th:only-of-type {\n",
       "        vertical-align: middle;\n",
       "    }\n",
       "\n",
       "    .dataframe tbody tr th {\n",
       "        vertical-align: top;\n",
       "    }\n",
       "\n",
       "    .dataframe thead th {\n",
       "        text-align: right;\n",
       "    }\n",
       "</style>\n",
       "<table border=\"1\" class=\"dataframe\">\n",
       "  <thead>\n",
       "    <tr style=\"text-align: right;\">\n",
       "      <th></th>\n",
       "      <th>count</th>\n",
       "      <th>mean</th>\n",
       "      <th>std</th>\n",
       "      <th>min</th>\n",
       "      <th>25%</th>\n",
       "      <th>50%</th>\n",
       "      <th>75%</th>\n",
       "      <th>max</th>\n",
       "    </tr>\n",
       "    <tr>\n",
       "      <th>district</th>\n",
       "      <th></th>\n",
       "      <th></th>\n",
       "      <th></th>\n",
       "      <th></th>\n",
       "      <th></th>\n",
       "      <th></th>\n",
       "      <th></th>\n",
       "      <th></th>\n",
       "    </tr>\n",
       "  </thead>\n",
       "  <tbody>\n",
       "    <tr>\n",
       "      <th>Центральный административный округ</th>\n",
       "      <td>1060.0</td>\n",
       "      <td>1191.057547</td>\n",
       "      <td>920.014707</td>\n",
       "      <td>0.0</td>\n",
       "      <td>500.00</td>\n",
       "      <td>1000.0</td>\n",
       "      <td>1500.0</td>\n",
       "      <td>7250.0</td>\n",
       "    </tr>\n",
       "    <tr>\n",
       "      <th>Западный административный округ</th>\n",
       "      <td>306.0</td>\n",
       "      <td>1053.225490</td>\n",
       "      <td>779.008536</td>\n",
       "      <td>50.0</td>\n",
       "      <td>427.50</td>\n",
       "      <td>1000.0</td>\n",
       "      <td>1500.0</td>\n",
       "      <td>5250.0</td>\n",
       "    </tr>\n",
       "    <tr>\n",
       "      <th>Северный административный округ</th>\n",
       "      <td>322.0</td>\n",
       "      <td>927.959627</td>\n",
       "      <td>912.609221</td>\n",
       "      <td>130.0</td>\n",
       "      <td>350.00</td>\n",
       "      <td>650.0</td>\n",
       "      <td>1250.0</td>\n",
       "      <td>11000.0</td>\n",
       "    </tr>\n",
       "    <tr>\n",
       "      <th>Южный административный округ</th>\n",
       "      <td>314.0</td>\n",
       "      <td>834.398089</td>\n",
       "      <td>2008.640596</td>\n",
       "      <td>100.0</td>\n",
       "      <td>350.00</td>\n",
       "      <td>500.0</td>\n",
       "      <td>1037.5</td>\n",
       "      <td>35000.0</td>\n",
       "    </tr>\n",
       "    <tr>\n",
       "      <th>Северо-Западный административный округ</th>\n",
       "      <td>157.0</td>\n",
       "      <td>822.222930</td>\n",
       "      <td>595.055218</td>\n",
       "      <td>120.0</td>\n",
       "      <td>340.00</td>\n",
       "      <td>700.0</td>\n",
       "      <td>1100.0</td>\n",
       "      <td>2900.0</td>\n",
       "    </tr>\n",
       "    <tr>\n",
       "      <th>Восточный административный округ</th>\n",
       "      <td>260.0</td>\n",
       "      <td>820.626923</td>\n",
       "      <td>850.903310</td>\n",
       "      <td>50.0</td>\n",
       "      <td>338.00</td>\n",
       "      <td>575.0</td>\n",
       "      <td>1100.0</td>\n",
       "      <td>10000.0</td>\n",
       "    </tr>\n",
       "    <tr>\n",
       "      <th>Юго-Западный административный округ</th>\n",
       "      <td>235.0</td>\n",
       "      <td>792.561702</td>\n",
       "      <td>559.173122</td>\n",
       "      <td>100.0</td>\n",
       "      <td>350.00</td>\n",
       "      <td>600.0</td>\n",
       "      <td>1100.0</td>\n",
       "      <td>2750.0</td>\n",
       "    </tr>\n",
       "    <tr>\n",
       "      <th>Северо-Восточный административный округ</th>\n",
       "      <td>301.0</td>\n",
       "      <td>716.611296</td>\n",
       "      <td>591.232153</td>\n",
       "      <td>50.0</td>\n",
       "      <td>325.00</td>\n",
       "      <td>500.0</td>\n",
       "      <td>950.0</td>\n",
       "      <td>4500.0</td>\n",
       "    </tr>\n",
       "    <tr>\n",
       "      <th>Юго-Восточный административный округ</th>\n",
       "      <td>194.0</td>\n",
       "      <td>654.097938</td>\n",
       "      <td>566.825663</td>\n",
       "      <td>30.0</td>\n",
       "      <td>281.25</td>\n",
       "      <td>450.0</td>\n",
       "      <td>887.5</td>\n",
       "      <td>3750.0</td>\n",
       "    </tr>\n",
       "  </tbody>\n",
       "</table>\n",
       "</div>"
      ],
      "text/plain": [
       "                                          count         mean          std  \\\n",
       "district                                                                    \n",
       "Центральный административный округ       1060.0  1191.057547   920.014707   \n",
       "Западный административный округ           306.0  1053.225490   779.008536   \n",
       "Северный административный округ           322.0   927.959627   912.609221   \n",
       "Южный административный округ              314.0   834.398089  2008.640596   \n",
       "Северо-Западный административный округ    157.0   822.222930   595.055218   \n",
       "Восточный административный округ          260.0   820.626923   850.903310   \n",
       "Юго-Западный административный округ       235.0   792.561702   559.173122   \n",
       "Северо-Восточный административный округ   301.0   716.611296   591.232153   \n",
       "Юго-Восточный административный округ      194.0   654.097938   566.825663   \n",
       "\n",
       "                                           min     25%     50%     75%  \\\n",
       "district                                                                 \n",
       "Центральный административный округ         0.0  500.00  1000.0  1500.0   \n",
       "Западный административный округ           50.0  427.50  1000.0  1500.0   \n",
       "Северный административный округ          130.0  350.00   650.0  1250.0   \n",
       "Южный административный округ             100.0  350.00   500.0  1037.5   \n",
       "Северо-Западный административный округ   120.0  340.00   700.0  1100.0   \n",
       "Восточный административный округ          50.0  338.00   575.0  1100.0   \n",
       "Юго-Западный административный округ      100.0  350.00   600.0  1100.0   \n",
       "Северо-Восточный административный округ   50.0  325.00   500.0   950.0   \n",
       "Юго-Восточный административный округ      30.0  281.25   450.0   887.5   \n",
       "\n",
       "                                             max  \n",
       "district                                          \n",
       "Центральный административный округ        7250.0  \n",
       "Западный административный округ           5250.0  \n",
       "Северный административный округ          11000.0  \n",
       "Южный административный округ             35000.0  \n",
       "Северо-Западный административный округ    2900.0  \n",
       "Восточный административный округ         10000.0  \n",
       "Юго-Западный административный округ       2750.0  \n",
       "Северо-Восточный административный округ   4500.0  \n",
       "Юго-Восточный административный округ      3750.0  "
      ]
     },
     "execution_count": 48,
     "metadata": {},
     "output_type": "execute_result"
    }
   ],
   "source": [
    "# Группировка по районам и рименение describпe к среднему чеку\n",
    "df_pric_district = df.groupby('district')['middle_avg_bill'].describe().sort_values(by = 'mean', ascending = False)\n",
    "df_pric_district"
   ]
  },
  {
   "cell_type": "code",
   "execution_count": 49,
   "id": "862e17f6",
   "metadata": {
    "scrolled": true
   },
   "outputs": [],
   "source": [
    "df_pric_district = df_pric_district.reset_index()\n",
    "\n",
    "# Укоротим названия для лаконичности без потери смысла\n",
    "for district in df_pric_district['district']: \n",
    "    n_district = district.split()[0] + ' а.о.'\n",
    "    df_pric_district.loc[df_pric_district['district'] == district, 'district'] = n_district"
   ]
  },
  {
   "cell_type": "code",
   "execution_count": 50,
   "id": "18282afe",
   "metadata": {
    "scrolled": true
   },
   "outputs": [
    {
     "data": {
      "image/png": "[encoded data removed]",
      "text/plain": [
       "<Figure size 720x432 with 1 Axes>"
      ]
     },
     "metadata": {
      "needs_background": "light"
     },
     "output_type": "display_data"
    },
    {
     "data": {
      "image/png": "[encoded data removed]",
      "text/plain": [
       "<Figure size 720x432 with 1 Axes>"
      ]
     },
     "metadata": {
      "needs_background": "light"
     },
     "output_type": "display_data"
    },
    {
     "data": {
      "image/png": "[encoded data removed]",
      "text/plain": [
       "<Figure size 720x432 with 1 Axes>"
      ]
     },
     "metadata": {
      "needs_background": "light"
     },
     "output_type": "display_data"
    },
    {
     "data": {
      "image/png": "[encoded data removed]",
      "text/plain": [
       "<Figure size 720x432 with 1 Axes>"
      ]
     },
     "metadata": {
      "needs_background": "light"
     },
     "output_type": "display_data"
    },
    {
     "data": {
      "image/png": "[encoded data removed]",
      "text/plain": [
       "<Figure size 720x432 with 1 Axes>"
      ]
     },
     "metadata": {
      "needs_background": "light"
     },
     "output_type": "display_data"
    },
    {
     "data": {
      "image/png": "[encoded data removed]",
      "text/plain": [
       "<Figure size 720x432 with 1 Axes>"
      ]
     },
     "metadata": {
      "needs_background": "light"
     },
     "output_type": "display_data"
    },
    {
     "data": {
      "image/png": "[encoded data removed]",
      "text/plain": [
       "<Figure size 720x432 with 1 Axes>"
      ]
     },
     "metadata": {
      "needs_background": "light"
     },
     "output_type": "display_data"
    },
    {
     "data": {
      "image/png": "[encoded data removed]",
      "text/plain": [
       "<Figure size 720x432 with 1 Axes>"
      ]
     },
     "metadata": {
      "needs_background": "light"
     },
     "output_type": "display_data"
    },
    {
     "data": {
      "image/png": "[encoded data removed]",
      "text/plain": [
       "<Figure size 720x432 with 1 Axes>"
      ]
     },
     "metadata": {
      "needs_background": "light"
     },
     "output_type": "display_data"
    }
   ],
   "source": [
    "# Предположим, что df_pric_district - это список районов\n",
    "districts_list = list(df['district'].unique())\n",
    "\n",
    "for district in districts_list:\n",
    "    # Фильтруем данные по текущему району\n",
    "    district_data = df.loc[df['district'] == district, 'middle_avg_bill']\n",
    "    \n",
    "    # Проверяем, есть ли данные для этого района\n",
    "    plt.figure(figsize=(10, 6))\n",
    "    plt.hist(district_data, \n",
    "             bins=30, \n",
    "             color='skyblue', \n",
    "             edgecolor='black', \n",
    "             alpha=0.7)\n",
    "    plt.title(district)\n",
    "    plt.xlabel('Средний чек (руб)')\n",
    "    plt.ylabel('Количество заведений')\n",
    "    plt.tight_layout()\n",
    "    plt.show()"
   ]
  },
  {
   "cell_type": "markdown",
   "id": "c0eaaa0f",
   "metadata": {},
   "source": [
    "<div class=\"alert alert-block alert-info\">\n",
    "Построил гистаграммы для каждого района.\n",
    "</div>"
   ]
  },
  {
   "cell_type": "code",
   "execution_count": 51,
   "id": "978adf1c",
   "metadata": {
    "scrolled": true
   },
   "outputs": [
    {
     "name": "stderr",
     "output_type": "stream",
     "text": [
      "No handles with labels found to put in legend.\n"
     ]
    },
    {
     "data": {
      "image/png": "[encoded data removed]",
      "text/plain": [
       "<Figure size 720x288 with 1 Axes>"
      ]
     },
     "metadata": {},
     "output_type": "display_data"
    },
    {
     "name": "stderr",
     "output_type": "stream",
     "text": [
      "No handles with labels found to put in legend.\n"
     ]
    },
    {
     "data": {
      "image/png": "[encoded data removed]",
      "text/plain": [
       "<Figure size 720x288 with 1 Axes>"
      ]
     },
     "metadata": {},
     "output_type": "display_data"
    },
    {
     "name": "stderr",
     "output_type": "stream",
     "text": [
      "No handles with labels found to put in legend.\n"
     ]
    },
    {
     "data": {
      "image/png": "[encoded data removed]",
      "text/plain": [
       "<Figure size 720x288 with 1 Axes>"
      ]
     },
     "metadata": {},
     "output_type": "display_data"
    },
    {
     "name": "stderr",
     "output_type": "stream",
     "text": [
      "No handles with labels found to put in legend.\n"
     ]
    },
    {
     "data": {
      "image/png": "[encoded data removed]",
      "text/plain": [
       "<Figure size 720x288 with 1 Axes>"
      ]
     },
     "metadata": {},
     "output_type": "display_data"
    },
    {
     "name": "stderr",
     "output_type": "stream",
     "text": [
      "No handles with labels found to put in legend.\n"
     ]
    },
    {
     "data": {
      "image/png": "[encoded data removed]",
      "text/plain": [
       "<Figure size 720x288 with 1 Axes>"
      ]
     },
     "metadata": {},
     "output_type": "display_data"
    },
    {
     "name": "stderr",
     "output_type": "stream",
     "text": [
      "No handles with labels found to put in legend.\n"
     ]
    },
    {
     "data": {
      "image/png": "[encoded data removed]",
      "text/plain": [
       "<Figure size 720x288 with 1 Axes>"
      ]
     },
     "metadata": {},
     "output_type": "display_data"
    },
    {
     "name": "stderr",
     "output_type": "stream",
     "text": [
      "No handles with labels found to put in legend.\n"
     ]
    },
    {
     "data": {
      "image/png": "[encoded data removed]",
      "text/plain": [
       "<Figure size 720x288 with 1 Axes>"
      ]
     },
     "metadata": {},
     "output_type": "display_data"
    },
    {
     "name": "stderr",
     "output_type": "stream",
     "text": [
      "No handles with labels found to put in legend.\n"
     ]
    },
    {
     "data": {
      "image/png": "[encoded data removed]",
      "text/plain": [
       "<Figure size 720x288 with 1 Axes>"
      ]
     },
     "metadata": {},
     "output_type": "display_data"
    },
    {
     "name": "stderr",
     "output_type": "stream",
     "text": [
      "No handles with labels found to put in legend.\n"
     ]
    },
    {
     "data": {
      "image/png": "[encoded data removed]",
      "text/plain": [
       "<Figure size 720x288 with 1 Axes>"
      ]
     },
     "metadata": {},
     "output_type": "display_data"
    }
   ],
   "source": [
    "# Создаем список уникальных районов\n",
    "districts_list = list(df['district'].unique())\n",
    "\n",
    "# Настройка стиля графиков\n",
    "sns.set_theme(style=\"whitegrid\")\n",
    "plt.rcParams['font.size'] = 12\n",
    "\n",
    "# Строим ящики с усами для каждого района\n",
    "for district in districts_list:\n",
    "    # Фильтруем данные по текущему району\n",
    "    district_data = df.loc[df['district'] == district, 'middle_avg_bill']\n",
    "        \n",
    "    # Создаем фигуру\n",
    "    plt.figure(figsize=(10, 4))\n",
    "    \n",
    "    # Строим ящик с усами\n",
    "    sns.boxplot(\n",
    "        x=district_data,\n",
    "        orient='h',  # Горизонтальная ориентация\n",
    "        width=0.7,\n",
    "        color='skyblue',\n",
    "        flierprops=dict(marker='o', markersize=5, alpha=0.5)  # Настройки выбросов\n",
    "    )\n",
    "    \n",
    "    # Настройка оформления\n",
    "    plt.title(f'Распределение среднего чека: {district}', fontsize=16)\n",
    "    plt.xlabel('Средний чек (руб)', fontsize=12)\n",
    "    plt.ylabel('')\n",
    "    plt.legend()\n",
    "    plt.grid(axis='x', alpha=0.3)\n",
    "    \n",
    "    \n",
    "    plt.tight_layout()\n",
    "    plt.show()"
   ]
  },
  {
   "cell_type": "markdown",
   "id": "239e6981",
   "metadata": {},
   "source": [
    "- **Вывод:** как можно видеть, во всех а.о. наблюдается распределение с сильновыраженной правосторонней кривизной, однако, в Центральном а.о. (**1191 рублей**) наблюдается самое болшое количество выбросов, что может оказывать существенное влияение на значение среднего чека в округе, второе и третье место по размеру среднего чека занимают Западный (**1053 рублей**) и Северные (**927 рублей**) а.о. В Южном а.о. Так жо хотелось бы отметить, что из-за маленькой выборки заведений и наличия выбросов сформировалось самое большое значение средниквадратичного отклонения - **2008 рублей**, что может говорить о необходиости почистить данные от выбросов."
   ]
  },
  {
   "cell_type": "markdown",
   "id": "480f3422",
   "metadata": {
    "id": "480f3422"
   },
   "source": [
    "## Итоговый вывод и рекомендации"
   ]
  },
  {
   "cell_type": "markdown",
   "id": "f565a952",
   "metadata": {},
   "source": [
    "### Общий обзор проделанной работы"
   ]
  },
  {
   "cell_type": "markdown",
   "id": "51775155",
   "metadata": {},
   "source": [
    "- В ходе исследования проанализировали данные *более 8 тыс. заведений общественного питания в Москве*. Данные включали общую информацию о заведениях общепита и статистику цен в ресторанах, барах, кофейнях и пр. Обсновной целью исследования было определение самых привлекательных форматов заведения для открытия. Среди рассматриваемых харакетиристик были: типу, графику, административному району, рейтингу, количеству посадочных мест, бизнес-модели (*сетевые и несетевые*), ценовым характеристикам."
   ]
  },
  {
   "cell_type": "markdown",
   "id": "3572fb07",
   "metadata": {},
   "source": [
    "### Оветы на исследовательские вопросы"
   ]
  },
  {
   "cell_type": "markdown",
   "id": "058b8687",
   "metadata": {},
   "source": [
    "- Исследовательский анализ данных позволил построить следующую \"карту\" рынка заведенрий общественного питания в Москве: \n",
    "    - Самыми популярными категориями заведений являются: кафе (**2378**), ресторан (**2043**), кофейня (**1413**) и с сильными  отставанием бары и пабы (**745**);\n",
    "    - Больше всего заведений общепита в Москве в центральном а.о. (**2242**) и с сильным отставанием - Северный а.о. (**900**) и Южный а.о. (**892**). В Центральном а.о. популярнее всего рестораны (**670**);\n",
    "    - Несетевых заведений в столице больше чем сетевых: **61.9% против 38.1%**. Сетевые заведения превышают количество точек только среди кофеен, булочных и пиццерий, в остальных категориях, у несетевых заведений больше открытых  точек;\n",
    "    - Наибольшее количество сидячих мест есть в ресторанах и паба: в среднем, **более 100 сидячих мест**;\n",
    "    - Для боьшинства категорий средний рейтинг держдится в диапазоне от 4,2 до 4,4 звёзд, однако, у заведений бьыстрого питания (**4,05**) и кафе (**4,12**) он находится на самом низком уровне;\n",
    "    - **Рейтинг заведений в большей мере зависит от стоимости заведения**: чем выше стомость заведения, тем, в среднем, при прочих равных фаткорах будет выше рейтинг;\n",
    "    - Самыми популярными сетевыми заведениями в москве являются \"Шоколадница\", \"Домино'с пицца\" и \"ДоДо Пицца\", однако, у данных заведений реализован не один формат заведений (*category*), а сразу несколько, что позволяет в большей мере охватить рынок; \n",
    "    - Чек выше среднего по Москве в Центральном а.о. (**1191 рублей**), Западном а.о. (**1053**), Северном а.о. (**927**), в остальных а.о. средний чек не превышает среднего показателя по Москве. "
   ]
  },
  {
   "cell_type": "markdown",
   "id": "738c1fba",
   "metadata": {},
   "source": [
    "### Рекомендации на основе анализа данных"
   ]
  },
  {
   "cell_type": "markdown",
   "id": "ca69aa9a",
   "metadata": {},
   "source": [
    "**1 Враиант: Заказчик не рассматривает для себя варианта работы по франшизе**\n",
    "1. *Территория:* мы рекомендуем **не рассматривать Центральный а.о.**, где наблюдается самый высокий уровень конкуренции, а обратить внимание на другие а.о.;\n",
    "2. *Категория заведения:* если в дальнейшем компания-заказчик рассматривает для себя создание своей сети заведений общественного питания, то мы рекомендуем выбрать  формат кофеен, пицерий или булочных, где данная бизнес-модель показала свою эффективность, в альтернативном случае, можно рассматривать другие форматы заведений;  \n",
    "3. *Ценовая категория:* следует выбирать ценовую категорию **не ниже средней**, в среднюю стоимость чека включать развитие клиентского сервиса, чтобы улучшить репутацию и получить рейтинг выше чем у конкурентов;\n",
    "4. *Бизнес-модель:* рассматривать отдельные БМ стоит уже отталкиваясь от конкретного района, который больше всего будет интересовать заказчика."
   ]
  }
 ],
 "metadata": {
  "ExecuteTimeLog": [
   {
    "duration": 377,
    "start_time": "2025-07-07T08:53:06.690Z"
   },
   {
    "duration": 88,
    "start_time": "2025-07-07T08:53:39.338Z"
   },
   {
    "duration": 64,
    "start_time": "2025-07-07T08:55:51.173Z"
   },
   {
    "duration": 15,
    "start_time": "2025-07-07T08:56:04.430Z"
   },
   {
    "duration": 6,
    "start_time": "2025-07-07T08:56:16.427Z"
   },
   {
    "duration": 16,
    "start_time": "2025-07-07T08:56:24.688Z"
   },
   {
    "duration": 12,
    "start_time": "2025-07-07T08:57:54.573Z"
   },
   {
    "duration": 11,
    "start_time": "2025-07-07T08:58:11.398Z"
   },
   {
    "duration": 12,
    "start_time": "2025-07-07T08:58:16.919Z"
   },
   {
    "duration": 7,
    "start_time": "2025-07-07T09:05:18.912Z"
   },
   {
    "duration": 15,
    "start_time": "2025-07-07T09:05:24.126Z"
   },
   {
    "duration": 7,
    "start_time": "2025-07-07T09:14:33.296Z"
   },
   {
    "duration": 12,
    "start_time": "2025-07-07T09:14:37.784Z"
   },
   {
    "duration": 32,
    "start_time": "2025-07-07T09:25:11.768Z"
   },
   {
    "duration": 14,
    "start_time": "2025-07-07T09:59:08.113Z"
   },
   {
    "duration": 24,
    "start_time": "2025-07-07T09:59:22.704Z"
   },
   {
    "duration": 50,
    "start_time": "2025-07-07T13:08:11.621Z"
   },
   {
    "duration": 430,
    "start_time": "2025-07-07T13:08:23.625Z"
   },
   {
    "duration": 101,
    "start_time": "2025-07-07T13:08:24.059Z"
   },
   {
    "duration": 16,
    "start_time": "2025-07-07T13:08:24.963Z"
   },
   {
    "duration": 20,
    "start_time": "2025-07-07T13:08:26.253Z"
   },
   {
    "duration": 12,
    "start_time": "2025-07-07T13:08:28.267Z"
   },
   {
    "duration": 16,
    "start_time": "2025-07-07T13:08:28.745Z"
   },
   {
    "duration": 27,
    "start_time": "2025-07-07T13:08:30.752Z"
   },
   {
    "duration": 16,
    "start_time": "2025-07-07T13:08:33.693Z"
   },
   {
    "duration": 49,
    "start_time": "2025-07-08T22:50:02.904Z"
   },
   {
    "duration": 3,
    "start_time": "2025-07-08T22:50:09.305Z"
   },
   {
    "duration": 2,
    "start_time": "2025-07-08T22:50:10.010Z"
   },
   {
    "duration": 90,
    "start_time": "2025-07-08T22:50:10.322Z"
   },
   {
    "duration": 14,
    "start_time": "2025-07-08T22:50:10.956Z"
   },
   {
    "duration": 18,
    "start_time": "2025-07-08T22:50:11.306Z"
   },
   {
    "duration": 12,
    "start_time": "2025-07-08T22:50:12.225Z"
   },
   {
    "duration": 9,
    "start_time": "2025-07-08T22:50:12.695Z"
   },
   {
    "duration": 26,
    "start_time": "2025-07-08T22:50:14.805Z"
   },
   {
    "duration": 14,
    "start_time": "2025-07-08T22:50:15.902Z"
   },
   {
    "duration": 9,
    "start_time": "2025-07-08T22:50:17.951Z"
   },
   {
    "duration": 9,
    "start_time": "2025-07-08T22:50:47.436Z"
   },
   {
    "duration": 10,
    "start_time": "2025-07-08T22:51:51.091Z"
   },
   {
    "duration": 10,
    "start_time": "2025-07-08T22:52:05.896Z"
   },
   {
    "duration": 24,
    "start_time": "2025-07-08T22:53:34.914Z"
   },
   {
    "duration": 16,
    "start_time": "2025-07-08T22:53:52.494Z"
   },
   {
    "duration": 17,
    "start_time": "2025-07-08T22:58:26.058Z"
   },
   {
    "duration": 37,
    "start_time": "2025-07-08T23:02:45.425Z"
   },
   {
    "duration": 15,
    "start_time": "2025-07-08T23:02:47.278Z"
   },
   {
    "duration": 15,
    "start_time": "2025-07-08T23:02:49.530Z"
   },
   {
    "duration": 27,
    "start_time": "2025-07-08T23:11:32.465Z"
   },
   {
    "duration": 28,
    "start_time": "2025-07-08T23:11:43.893Z"
   },
   {
    "duration": 23,
    "start_time": "2025-07-08T23:11:59.497Z"
   },
   {
    "duration": 4,
    "start_time": "2025-07-08T23:14:28.570Z"
   },
   {
    "duration": 3,
    "start_time": "2025-07-08T23:14:44.189Z"
   },
   {
    "duration": 4,
    "start_time": "2025-07-08T23:14:44.970Z"
   },
   {
    "duration": 14,
    "start_time": "2025-07-08T23:15:53.017Z"
   },
   {
    "duration": 10,
    "start_time": "2025-07-08T23:22:07.957Z"
   },
   {
    "duration": 30,
    "start_time": "2025-07-08T23:23:13.557Z"
   },
   {
    "duration": 9,
    "start_time": "2025-07-08T23:23:16.872Z"
   },
   {
    "duration": 11,
    "start_time": "2025-07-08T23:23:42.006Z"
   },
   {
    "duration": 10,
    "start_time": "2025-07-08T23:23:53.001Z"
   },
   {
    "duration": 19,
    "start_time": "2025-07-08T23:26:04.570Z"
   },
   {
    "duration": 16,
    "start_time": "2025-07-08T23:26:12.083Z"
   },
   {
    "duration": 18,
    "start_time": "2025-07-08T23:27:05.817Z"
   },
   {
    "duration": 16,
    "start_time": "2025-07-08T23:27:19.722Z"
   },
   {
    "duration": 16,
    "start_time": "2025-07-08T23:27:47.616Z"
   },
   {
    "duration": 17,
    "start_time": "2025-07-08T23:28:44.022Z"
   },
   {
    "duration": 19,
    "start_time": "2025-07-08T23:28:50.114Z"
   },
   {
    "duration": 17,
    "start_time": "2025-07-08T23:29:02.710Z"
   },
   {
    "duration": 21,
    "start_time": "2025-07-08T23:29:25.460Z"
   },
   {
    "duration": 16,
    "start_time": "2025-07-08T23:29:35.526Z"
   },
   {
    "duration": 17,
    "start_time": "2025-07-08T23:29:45.238Z"
   },
   {
    "duration": 16,
    "start_time": "2025-07-08T23:29:49.785Z"
   },
   {
    "duration": 368,
    "start_time": "2025-07-08T23:36:00.513Z"
   },
   {
    "duration": 78,
    "start_time": "2025-07-08T23:36:00.882Z"
   },
   {
    "duration": 17,
    "start_time": "2025-07-08T23:36:00.961Z"
   },
   {
    "duration": 26,
    "start_time": "2025-07-08T23:36:00.980Z"
   },
   {
    "duration": 26,
    "start_time": "2025-07-08T23:36:01.007Z"
   },
   {
    "duration": 12,
    "start_time": "2025-07-08T23:36:01.035Z"
   },
   {
    "duration": 31,
    "start_time": "2025-07-08T23:36:01.048Z"
   },
   {
    "duration": 37,
    "start_time": "2025-07-08T23:36:01.081Z"
   },
   {
    "duration": 13,
    "start_time": "2025-07-08T23:36:01.120Z"
   },
   {
    "duration": 7,
    "start_time": "2025-07-08T23:36:01.136Z"
   },
   {
    "duration": 39,
    "start_time": "2025-07-08T23:36:01.145Z"
   },
   {
    "duration": 65,
    "start_time": "2025-07-08T23:36:01.185Z"
   },
   {
    "duration": 90,
    "start_time": "2025-07-08T23:36:01.251Z"
   },
   {
    "duration": 24,
    "start_time": "2025-07-08T23:36:01.343Z"
   },
   {
    "duration": 372,
    "start_time": "2025-07-08T23:37:43.724Z"
   },
   {
    "duration": 80,
    "start_time": "2025-07-08T23:37:44.098Z"
   },
   {
    "duration": 14,
    "start_time": "2025-07-08T23:37:44.180Z"
   },
   {
    "duration": 24,
    "start_time": "2025-07-08T23:37:44.196Z"
   },
   {
    "duration": 11,
    "start_time": "2025-07-08T23:37:44.222Z"
   },
   {
    "duration": 9,
    "start_time": "2025-07-08T23:37:44.235Z"
   },
   {
    "duration": 44,
    "start_time": "2025-07-08T23:37:44.246Z"
   },
   {
    "duration": 16,
    "start_time": "2025-07-08T23:37:44.292Z"
   },
   {
    "duration": 16,
    "start_time": "2025-07-08T23:37:44.310Z"
   },
   {
    "duration": 11,
    "start_time": "2025-07-08T23:37:44.328Z"
   },
   {
    "duration": 50,
    "start_time": "2025-07-08T23:37:44.340Z"
   },
   {
    "duration": 2,
    "start_time": "2025-07-08T23:37:44.392Z"
   },
   {
    "duration": 27,
    "start_time": "2025-07-08T23:37:44.395Z"
   },
   {
    "duration": 18,
    "start_time": "2025-07-08T23:37:44.424Z"
   },
   {
    "duration": 22,
    "start_time": "2025-07-09T00:01:48.168Z"
   },
   {
    "duration": 13,
    "start_time": "2025-07-09T00:01:56.688Z"
   },
   {
    "duration": 15,
    "start_time": "2025-07-09T00:02:04.949Z"
   },
   {
    "duration": 47,
    "start_time": "2025-07-09T03:31:05.124Z"
   },
   {
    "duration": 400,
    "start_time": "2025-07-09T03:31:16.103Z"
   },
   {
    "duration": 90,
    "start_time": "2025-07-09T03:31:16.506Z"
   },
   {
    "duration": 15,
    "start_time": "2025-07-09T03:31:16.597Z"
   },
   {
    "duration": 18,
    "start_time": "2025-07-09T03:31:16.614Z"
   },
   {
    "duration": 11,
    "start_time": "2025-07-09T03:31:16.636Z"
   },
   {
    "duration": 23,
    "start_time": "2025-07-09T03:31:16.648Z"
   },
   {
    "duration": 22,
    "start_time": "2025-07-09T03:31:16.673Z"
   },
   {
    "duration": 14,
    "start_time": "2025-07-09T03:31:16.696Z"
   },
   {
    "duration": 14,
    "start_time": "2025-07-09T03:31:16.711Z"
   },
   {
    "duration": 9,
    "start_time": "2025-07-09T03:31:16.727Z"
   },
   {
    "duration": 46,
    "start_time": "2025-07-09T03:31:16.737Z"
   },
   {
    "duration": 22,
    "start_time": "2025-07-09T03:31:16.784Z"
   },
   {
    "duration": 5,
    "start_time": "2025-07-09T03:31:16.808Z"
   },
   {
    "duration": 21,
    "start_time": "2025-07-09T03:31:16.815Z"
   },
   {
    "duration": 6,
    "start_time": "2025-07-09T03:31:16.838Z"
   },
   {
    "duration": 425,
    "start_time": "2025-07-09T03:32:10.266Z"
   },
   {
    "duration": 81,
    "start_time": "2025-07-09T03:32:10.693Z"
   },
   {
    "duration": 15,
    "start_time": "2025-07-09T03:32:10.775Z"
   },
   {
    "duration": 23,
    "start_time": "2025-07-09T03:32:10.792Z"
   },
   {
    "duration": 12,
    "start_time": "2025-07-09T03:32:10.817Z"
   },
   {
    "duration": 10,
    "start_time": "2025-07-09T03:32:10.831Z"
   },
   {
    "duration": 47,
    "start_time": "2025-07-09T03:32:10.843Z"
   },
   {
    "duration": 15,
    "start_time": "2025-07-09T03:32:10.892Z"
   },
   {
    "duration": 18,
    "start_time": "2025-07-09T03:32:10.909Z"
   },
   {
    "duration": 11,
    "start_time": "2025-07-09T03:32:10.929Z"
   },
   {
    "duration": 50,
    "start_time": "2025-07-09T03:32:10.941Z"
   },
   {
    "duration": 2,
    "start_time": "2025-07-09T03:32:10.993Z"
   },
   {
    "duration": 35,
    "start_time": "2025-07-09T03:32:10.996Z"
   },
   {
    "duration": 99,
    "start_time": "2025-07-09T03:32:11.032Z"
   },
   {
    "duration": 4,
    "start_time": "2025-07-09T03:32:11.132Z"
   },
   {
    "duration": 4,
    "start_time": "2025-07-09T03:33:42.643Z"
   },
   {
    "duration": 101,
    "start_time": "2025-07-09T03:34:21.772Z"
   },
   {
    "duration": 3,
    "start_time": "2025-07-09T03:35:19.739Z"
   },
   {
    "duration": 3237,
    "start_time": "2025-07-09T04:34:30.807Z"
   },
   {
    "duration": 5,
    "start_time": "2025-07-09T04:34:55.346Z"
   },
   {
    "duration": 5,
    "start_time": "2025-07-09T04:35:19.652Z"
   },
   {
    "duration": 6,
    "start_time": "2025-07-09T04:35:26.156Z"
   },
   {
    "duration": 6,
    "start_time": "2025-07-09T04:39:24.714Z"
   },
   {
    "duration": 4,
    "start_time": "2025-07-09T04:39:45.938Z"
   },
   {
    "duration": 34,
    "start_time": "2025-07-09T04:41:38.607Z"
   },
   {
    "duration": 4,
    "start_time": "2025-07-09T04:41:38.666Z"
   },
   {
    "duration": 5,
    "start_time": "2025-07-09T04:41:48.965Z"
   },
   {
    "duration": 44,
    "start_time": "2025-07-09T04:42:46.780Z"
   },
   {
    "duration": 5,
    "start_time": "2025-07-09T04:43:10.019Z"
   },
   {
    "duration": 11,
    "start_time": "2025-07-09T04:47:46.683Z"
   },
   {
    "duration": 12,
    "start_time": "2025-07-09T04:47:59.963Z"
   },
   {
    "duration": 9,
    "start_time": "2025-07-09T04:48:13.170Z"
   },
   {
    "duration": 11,
    "start_time": "2025-07-09T04:48:19.019Z"
   },
   {
    "duration": 117,
    "start_time": "2025-07-09T04:48:26.162Z"
   },
   {
    "duration": 9,
    "start_time": "2025-07-09T04:48:29.241Z"
   },
   {
    "duration": 8,
    "start_time": "2025-07-09T04:48:35.263Z"
   },
   {
    "duration": 10,
    "start_time": "2025-07-09T04:49:31.909Z"
   },
   {
    "duration": 4,
    "start_time": "2025-07-09T04:49:47.522Z"
   },
   {
    "duration": 8,
    "start_time": "2025-07-09T04:50:15.658Z"
   },
   {
    "duration": 4,
    "start_time": "2025-07-09T04:50:25.259Z"
   },
   {
    "duration": 14,
    "start_time": "2025-07-09T04:51:05.585Z"
   },
   {
    "duration": 5,
    "start_time": "2025-07-09T04:52:41.147Z"
   },
   {
    "duration": 13,
    "start_time": "2025-07-09T04:54:02.992Z"
   },
   {
    "duration": 21,
    "start_time": "2025-07-09T04:54:51.654Z"
   },
   {
    "duration": 17,
    "start_time": "2025-07-09T04:55:14.870Z"
   },
   {
    "duration": 11,
    "start_time": "2025-07-09T04:55:34.083Z"
   },
   {
    "duration": 10,
    "start_time": "2025-07-09T04:56:25.279Z"
   },
   {
    "duration": 6,
    "start_time": "2025-07-09T04:56:53.456Z"
   },
   {
    "duration": 471,
    "start_time": "2025-07-09T04:58:16.233Z"
   },
   {
    "duration": 1516,
    "start_time": "2025-07-09T05:00:04.122Z"
   },
   {
    "duration": 6,
    "start_time": "2025-07-09T05:00:35.110Z"
   },
   {
    "duration": 6,
    "start_time": "2025-07-09T05:00:43.596Z"
   },
   {
    "duration": 6,
    "start_time": "2025-07-09T05:02:32.797Z"
   },
   {
    "duration": 10,
    "start_time": "2025-07-09T05:03:15.697Z"
   },
   {
    "duration": 9292,
    "start_time": "2025-07-09T05:03:30.259Z"
   },
   {
    "duration": 10,
    "start_time": "2025-07-09T05:06:56.746Z"
   },
   {
    "duration": 161,
    "start_time": "2025-07-09T05:08:52.375Z"
   },
   {
    "duration": 96,
    "start_time": "2025-07-09T05:09:03.221Z"
   },
   {
    "duration": 144,
    "start_time": "2025-07-09T05:10:15.820Z"
   },
   {
    "duration": 140,
    "start_time": "2025-07-09T05:10:39.048Z"
   },
   {
    "duration": 142,
    "start_time": "2025-07-09T05:10:51.050Z"
   },
   {
    "duration": 9,
    "start_time": "2025-07-09T05:11:31.299Z"
   },
   {
    "duration": 146,
    "start_time": "2025-07-09T05:11:33.042Z"
   },
   {
    "duration": 5,
    "start_time": "2025-07-09T05:12:16.055Z"
   },
   {
    "duration": 8,
    "start_time": "2025-07-09T05:13:38.310Z"
   },
   {
    "duration": 8,
    "start_time": "2025-07-09T05:14:01.493Z"
   },
   {
    "duration": 178,
    "start_time": "2025-07-09T05:14:34.637Z"
   },
   {
    "duration": 181,
    "start_time": "2025-07-09T05:15:37.772Z"
   },
   {
    "duration": 10,
    "start_time": "2025-07-09T05:18:02.753Z"
   },
   {
    "duration": 11,
    "start_time": "2025-07-09T06:02:37.423Z"
   },
   {
    "duration": 8,
    "start_time": "2025-07-09T06:02:46.947Z"
   },
   {
    "duration": 11,
    "start_time": "2025-07-09T06:02:49.526Z"
   },
   {
    "duration": 21,
    "start_time": "2025-07-09T06:05:49.825Z"
   },
   {
    "duration": 4,
    "start_time": "2025-07-09T06:06:16.256Z"
   },
   {
    "duration": 17,
    "start_time": "2025-07-09T06:06:26.907Z"
   },
   {
    "duration": 11,
    "start_time": "2025-07-09T06:08:03.055Z"
   },
   {
    "duration": 12,
    "start_time": "2025-07-09T06:08:21.843Z"
   },
   {
    "duration": 190,
    "start_time": "2025-07-09T06:08:47.961Z"
   },
   {
    "duration": 133,
    "start_time": "2025-07-09T06:08:56.955Z"
   },
   {
    "duration": 506,
    "start_time": "2025-07-09T06:09:11.494Z"
   },
   {
    "duration": 157,
    "start_time": "2025-07-09T06:09:49.935Z"
   },
   {
    "duration": 6,
    "start_time": "2025-07-09T06:22:27.131Z"
   },
   {
    "duration": 8,
    "start_time": "2025-07-09T06:22:31.496Z"
   },
   {
    "duration": 13,
    "start_time": "2025-07-09T06:25:21.057Z"
   },
   {
    "duration": 11,
    "start_time": "2025-07-09T06:26:15.177Z"
   },
   {
    "duration": 110,
    "start_time": "2025-07-09T06:30:18.816Z"
   },
   {
    "duration": 112,
    "start_time": "2025-07-09T06:31:22.156Z"
   },
   {
    "duration": 96,
    "start_time": "2025-07-09T06:33:20.188Z"
   },
   {
    "duration": 11,
    "start_time": "2025-07-09T06:37:49.253Z"
   },
   {
    "duration": 10,
    "start_time": "2025-07-09T06:38:08.746Z"
   },
   {
    "duration": 827,
    "start_time": "2025-07-09T18:17:08.586Z"
   },
   {
    "duration": 123,
    "start_time": "2025-07-09T18:17:09.416Z"
   },
   {
    "duration": 17,
    "start_time": "2025-07-09T18:17:09.540Z"
   },
   {
    "duration": 16,
    "start_time": "2025-07-09T18:17:09.559Z"
   },
   {
    "duration": 11,
    "start_time": "2025-07-09T18:17:09.577Z"
   },
   {
    "duration": 11,
    "start_time": "2025-07-09T18:17:09.590Z"
   },
   {
    "duration": 30,
    "start_time": "2025-07-09T18:17:09.603Z"
   },
   {
    "duration": 36,
    "start_time": "2025-07-09T18:17:09.634Z"
   },
   {
    "duration": 17,
    "start_time": "2025-07-09T18:17:09.672Z"
   },
   {
    "duration": 10,
    "start_time": "2025-07-09T18:17:09.692Z"
   },
   {
    "duration": 20,
    "start_time": "2025-07-09T18:17:09.704Z"
   },
   {
    "duration": 5,
    "start_time": "2025-07-09T18:17:09.726Z"
   },
   {
    "duration": 10,
    "start_time": "2025-07-09T18:17:09.763Z"
   },
   {
    "duration": 4,
    "start_time": "2025-07-09T18:17:09.774Z"
   },
   {
    "duration": 14,
    "start_time": "2025-07-09T18:17:09.780Z"
   },
   {
    "duration": 4,
    "start_time": "2025-07-09T18:17:09.796Z"
   },
   {
    "duration": 9,
    "start_time": "2025-07-09T18:17:09.801Z"
   },
   {
    "duration": 8,
    "start_time": "2025-07-09T18:17:09.811Z"
   },
   {
    "duration": 197,
    "start_time": "2025-07-09T18:17:09.821Z"
   },
   {
    "duration": 5,
    "start_time": "2025-07-09T18:17:10.019Z"
   },
   {
    "duration": 16,
    "start_time": "2025-07-09T18:17:10.026Z"
   },
   {
    "duration": 231,
    "start_time": "2025-07-09T18:17:10.043Z"
   },
   {
    "duration": 77,
    "start_time": "2025-07-09T18:17:10.275Z"
   },
   {
    "duration": 0,
    "start_time": "2025-07-09T18:17:10.353Z"
   },
   {
    "duration": 0,
    "start_time": "2025-07-09T18:17:10.362Z"
   },
   {
    "duration": 0,
    "start_time": "2025-07-09T18:17:10.364Z"
   },
   {
    "duration": 0,
    "start_time": "2025-07-09T18:17:10.364Z"
   },
   {
    "duration": 0,
    "start_time": "2025-07-09T18:17:10.366Z"
   },
   {
    "duration": 4,
    "start_time": "2025-07-09T18:19:06.382Z"
   },
   {
    "duration": 4,
    "start_time": "2025-07-09T18:19:13.164Z"
   },
   {
    "duration": 4,
    "start_time": "2025-07-09T18:19:25.772Z"
   },
   {
    "duration": 3,
    "start_time": "2025-07-09T18:19:49.738Z"
   },
   {
    "duration": 4,
    "start_time": "2025-07-09T18:20:56.459Z"
   },
   {
    "duration": 4,
    "start_time": "2025-07-09T18:21:02.184Z"
   },
   {
    "duration": 10,
    "start_time": "2025-07-09T18:22:23.620Z"
   },
   {
    "duration": 4,
    "start_time": "2025-07-09T18:22:29.277Z"
   },
   {
    "duration": 812,
    "start_time": "2025-07-10T08:42:36.803Z"
   },
   {
    "duration": 89,
    "start_time": "2025-07-10T08:42:37.617Z"
   },
   {
    "duration": 16,
    "start_time": "2025-07-10T08:42:37.707Z"
   },
   {
    "duration": 33,
    "start_time": "2025-07-10T08:42:37.725Z"
   },
   {
    "duration": 11,
    "start_time": "2025-07-10T08:42:37.760Z"
   },
   {
    "duration": 33,
    "start_time": "2025-07-10T08:42:37.772Z"
   },
   {
    "duration": 31,
    "start_time": "2025-07-10T08:42:37.806Z"
   },
   {
    "duration": 32,
    "start_time": "2025-07-10T08:42:37.839Z"
   },
   {
    "duration": 16,
    "start_time": "2025-07-10T08:42:37.873Z"
   },
   {
    "duration": 10,
    "start_time": "2025-07-10T08:42:37.891Z"
   },
   {
    "duration": 26,
    "start_time": "2025-07-10T08:42:37.902Z"
   },
   {
    "duration": 5,
    "start_time": "2025-07-10T08:42:37.938Z"
   },
   {
    "duration": 10,
    "start_time": "2025-07-10T08:42:37.945Z"
   },
   {
    "duration": 10,
    "start_time": "2025-07-10T08:42:37.958Z"
   },
   {
    "duration": 15,
    "start_time": "2025-07-10T08:42:37.970Z"
   },
   {
    "duration": 4,
    "start_time": "2025-07-10T08:42:37.986Z"
   },
   {
    "duration": 47,
    "start_time": "2025-07-10T08:42:37.991Z"
   },
   {
    "duration": 14,
    "start_time": "2025-07-10T08:42:38.040Z"
   },
   {
    "duration": 159,
    "start_time": "2025-07-10T08:42:38.056Z"
   },
   {
    "duration": 4,
    "start_time": "2025-07-10T08:42:38.217Z"
   },
   {
    "duration": 95,
    "start_time": "2025-07-10T08:42:38.222Z"
   },
   {
    "duration": 209,
    "start_time": "2025-07-10T08:42:38.319Z"
   },
   {
    "duration": 78,
    "start_time": "2025-07-10T08:42:38.530Z"
   },
   {
    "duration": 0,
    "start_time": "2025-07-10T08:42:38.610Z"
   },
   {
    "duration": 0,
    "start_time": "2025-07-10T08:42:38.611Z"
   },
   {
    "duration": 0,
    "start_time": "2025-07-10T08:42:38.612Z"
   },
   {
    "duration": 0,
    "start_time": "2025-07-10T08:42:38.613Z"
   },
   {
    "duration": 0,
    "start_time": "2025-07-10T08:42:38.615Z"
   },
   {
    "duration": 0,
    "start_time": "2025-07-10T08:42:38.616Z"
   },
   {
    "duration": 0,
    "start_time": "2025-07-10T08:42:38.617Z"
   },
   {
    "duration": 13,
    "start_time": "2025-07-10T08:43:07.076Z"
   },
   {
    "duration": 17,
    "start_time": "2025-07-10T08:43:37.952Z"
   },
   {
    "duration": 16,
    "start_time": "2025-07-10T08:45:37.524Z"
   },
   {
    "duration": 15,
    "start_time": "2025-07-10T08:46:01.984Z"
   },
   {
    "duration": 12,
    "start_time": "2025-07-10T08:46:52.292Z"
   },
   {
    "duration": 11,
    "start_time": "2025-07-10T10:31:14.807Z"
   },
   {
    "duration": 13,
    "start_time": "2025-07-10T10:31:40.428Z"
   },
   {
    "duration": 13,
    "start_time": "2025-07-10T10:31:48.246Z"
   },
   {
    "duration": 17,
    "start_time": "2025-07-10T10:32:00.942Z"
   },
   {
    "duration": 14,
    "start_time": "2025-07-10T10:32:15.391Z"
   },
   {
    "duration": 11,
    "start_time": "2025-07-10T10:32:24.971Z"
   },
   {
    "duration": 10,
    "start_time": "2025-07-10T10:33:08.159Z"
   },
   {
    "duration": 11,
    "start_time": "2025-07-10T10:33:18.481Z"
   },
   {
    "duration": 169,
    "start_time": "2025-07-10T10:33:18.788Z"
   },
   {
    "duration": 4,
    "start_time": "2025-07-10T10:33:23.219Z"
   },
   {
    "duration": 11,
    "start_time": "2025-07-10T10:33:30.685Z"
   },
   {
    "duration": 6,
    "start_time": "2025-07-10T10:36:36.373Z"
   },
   {
    "duration": 6,
    "start_time": "2025-07-10T10:36:45.984Z"
   },
   {
    "duration": 7,
    "start_time": "2025-07-10T10:36:53.124Z"
   },
   {
    "duration": 166,
    "start_time": "2025-07-10T10:37:56.070Z"
   },
   {
    "duration": 124,
    "start_time": "2025-07-10T10:39:37.529Z"
   },
   {
    "duration": 99,
    "start_time": "2025-07-10T10:40:33.567Z"
   },
   {
    "duration": 10,
    "start_time": "2025-07-10T10:42:52.250Z"
   },
   {
    "duration": 9,
    "start_time": "2025-07-10T10:43:01.962Z"
   },
   {
    "duration": 7,
    "start_time": "2025-07-10T10:43:39.248Z"
   },
   {
    "duration": 1253,
    "start_time": "2025-07-10T10:45:59.877Z"
   },
   {
    "duration": 1183,
    "start_time": "2025-07-10T10:46:43.383Z"
   },
   {
    "duration": 1111,
    "start_time": "2025-07-10T10:47:21.466Z"
   },
   {
    "duration": 7,
    "start_time": "2025-07-10T10:48:26.030Z"
   },
   {
    "duration": 1031,
    "start_time": "2025-07-10T10:48:41.187Z"
   },
   {
    "duration": 1150,
    "start_time": "2025-07-10T10:51:07.468Z"
   },
   {
    "duration": 7,
    "start_time": "2025-07-10T10:51:29.182Z"
   },
   {
    "duration": 8,
    "start_time": "2025-07-10T10:51:51.808Z"
   },
   {
    "duration": 11,
    "start_time": "2025-07-10T10:52:10.428Z"
   },
   {
    "duration": 12,
    "start_time": "2025-07-10T10:52:14.413Z"
   },
   {
    "duration": 476,
    "start_time": "2025-07-10T11:01:58.833Z"
   },
   {
    "duration": 10,
    "start_time": "2025-07-10T11:03:18.052Z"
   },
   {
    "duration": 115,
    "start_time": "2025-07-10T11:16:59.973Z"
   },
   {
    "duration": 115,
    "start_time": "2025-07-10T11:17:15.960Z"
   },
   {
    "duration": 32,
    "start_time": "2025-07-10T11:17:27.865Z"
   },
   {
    "duration": 35,
    "start_time": "2025-07-10T11:22:08.227Z"
   },
   {
    "duration": 32,
    "start_time": "2025-07-10T11:22:16.675Z"
   },
   {
    "duration": 31,
    "start_time": "2025-07-10T11:23:15.580Z"
   },
   {
    "duration": 36,
    "start_time": "2025-07-10T11:23:37.197Z"
   },
   {
    "duration": 31,
    "start_time": "2025-07-10T11:23:51.877Z"
   },
   {
    "duration": 171,
    "start_time": "2025-07-10T11:24:37.138Z"
   },
   {
    "duration": 10921,
    "start_time": "2025-07-10T11:25:21.019Z"
   },
   {
    "duration": 240,
    "start_time": "2025-07-10T11:27:27.588Z"
   },
   {
    "duration": 15,
    "start_time": "2025-07-10T11:27:43.319Z"
   },
   {
    "duration": 912,
    "start_time": "2025-07-10T11:27:45.240Z"
   },
   {
    "duration": 192,
    "start_time": "2025-07-10T11:27:55.791Z"
   },
   {
    "duration": 215,
    "start_time": "2025-07-10T11:28:03.970Z"
   },
   {
    "duration": 190,
    "start_time": "2025-07-10T11:28:08.514Z"
   },
   {
    "duration": 189,
    "start_time": "2025-07-10T11:28:12.189Z"
   },
   {
    "duration": 192,
    "start_time": "2025-07-10T11:28:16.378Z"
   },
   {
    "duration": 247,
    "start_time": "2025-07-10T11:28:55.976Z"
   },
   {
    "duration": 187,
    "start_time": "2025-07-10T11:29:49.307Z"
   },
   {
    "duration": 209,
    "start_time": "2025-07-10T11:30:05.167Z"
   },
   {
    "duration": 215,
    "start_time": "2025-07-10T11:30:50.625Z"
   },
   {
    "duration": 207,
    "start_time": "2025-07-10T11:31:05.822Z"
   },
   {
    "duration": 9,
    "start_time": "2025-07-10T11:31:27.448Z"
   },
   {
    "duration": 8,
    "start_time": "2025-07-10T11:31:28.785Z"
   },
   {
    "duration": 201,
    "start_time": "2025-07-10T11:31:29.486Z"
   },
   {
    "duration": 11,
    "start_time": "2025-07-10T11:31:32.709Z"
   },
   {
    "duration": 8,
    "start_time": "2025-07-10T11:39:23.304Z"
   },
   {
    "duration": 6,
    "start_time": "2025-07-10T11:40:26.793Z"
   },
   {
    "duration": 8,
    "start_time": "2025-07-10T11:40:35.841Z"
   },
   {
    "duration": 163,
    "start_time": "2025-07-10T11:42:04.957Z"
   },
   {
    "duration": 149,
    "start_time": "2025-07-10T11:42:14.515Z"
   },
   {
    "duration": 183,
    "start_time": "2025-07-10T11:43:31.082Z"
   },
   {
    "duration": 194,
    "start_time": "2025-07-10T11:43:45.065Z"
   },
   {
    "duration": 165,
    "start_time": "2025-07-10T11:44:11.189Z"
   },
   {
    "duration": 133,
    "start_time": "2025-07-10T11:44:29.473Z"
   },
   {
    "duration": 21,
    "start_time": "2025-07-10T11:45:04.720Z"
   },
   {
    "duration": 156,
    "start_time": "2025-07-10T11:45:56.104Z"
   },
   {
    "duration": 159,
    "start_time": "2025-07-10T11:46:17.350Z"
   },
   {
    "duration": 171,
    "start_time": "2025-07-10T11:47:46.502Z"
   },
   {
    "duration": 253,
    "start_time": "2025-07-10T11:48:01.051Z"
   },
   {
    "duration": 194,
    "start_time": "2025-07-10T11:48:04.625Z"
   },
   {
    "duration": 16,
    "start_time": "2025-07-10T11:54:42.658Z"
   },
   {
    "duration": 7,
    "start_time": "2025-07-10T11:55:57.607Z"
   },
   {
    "duration": 9,
    "start_time": "2025-07-10T11:56:09.392Z"
   },
   {
    "duration": 11,
    "start_time": "2025-07-10T11:58:50.379Z"
   },
   {
    "duration": 1596,
    "start_time": "2025-07-10T11:58:56.020Z"
   },
   {
    "duration": 1586,
    "start_time": "2025-07-10T11:59:14.097Z"
   },
   {
    "duration": 8,
    "start_time": "2025-07-10T11:59:21.148Z"
   },
   {
    "duration": 1411,
    "start_time": "2025-07-10T11:59:22.707Z"
   },
   {
    "duration": 10,
    "start_time": "2025-07-10T11:59:47.030Z"
   },
   {
    "duration": 1996,
    "start_time": "2025-07-10T11:59:48.593Z"
   },
   {
    "duration": 158,
    "start_time": "2025-07-10T12:00:05.549Z"
   },
   {
    "duration": 8,
    "start_time": "2025-07-10T12:00:30.044Z"
   },
   {
    "duration": 145,
    "start_time": "2025-07-10T12:00:31.910Z"
   },
   {
    "duration": 10,
    "start_time": "2025-07-10T12:00:54.204Z"
   },
   {
    "duration": 153,
    "start_time": "2025-07-10T12:00:55.738Z"
   },
   {
    "duration": 141,
    "start_time": "2025-07-10T12:01:06.910Z"
   },
   {
    "duration": 135,
    "start_time": "2025-07-10T12:01:11.780Z"
   },
   {
    "duration": 147,
    "start_time": "2025-07-10T12:01:28.435Z"
   },
   {
    "duration": 13,
    "start_time": "2025-07-10T12:09:15.604Z"
   },
   {
    "duration": 16,
    "start_time": "2025-07-10T12:09:48.896Z"
   },
   {
    "duration": 14,
    "start_time": "2025-07-10T12:12:41.452Z"
   },
   {
    "duration": 14,
    "start_time": "2025-07-10T12:14:40.924Z"
   },
   {
    "duration": 11,
    "start_time": "2025-07-10T12:16:03.797Z"
   },
   {
    "duration": 8,
    "start_time": "2025-07-10T12:18:05.340Z"
   },
   {
    "duration": 9,
    "start_time": "2025-07-10T12:18:07.491Z"
   },
   {
    "duration": 9,
    "start_time": "2025-07-10T12:18:16.737Z"
   },
   {
    "duration": 13,
    "start_time": "2025-07-10T12:18:26.332Z"
   },
   {
    "duration": 18,
    "start_time": "2025-07-10T12:27:15.438Z"
   },
   {
    "duration": 17,
    "start_time": "2025-07-10T12:27:28.120Z"
   },
   {
    "duration": 20,
    "start_time": "2025-07-10T12:28:56.016Z"
   },
   {
    "duration": 93,
    "start_time": "2025-07-10T12:30:26.031Z"
   },
   {
    "duration": 18,
    "start_time": "2025-07-10T12:30:31.024Z"
   },
   {
    "duration": 24,
    "start_time": "2025-07-10T12:30:54.796Z"
   },
   {
    "duration": 21,
    "start_time": "2025-07-10T12:31:24.929Z"
   },
   {
    "duration": 18,
    "start_time": "2025-07-10T12:33:19.044Z"
   },
   {
    "duration": 27,
    "start_time": "2025-07-10T12:34:31.652Z"
   },
   {
    "duration": 199,
    "start_time": "2025-07-10T14:32:17.603Z"
   },
   {
    "duration": 202,
    "start_time": "2025-07-10T14:32:44.004Z"
   },
   {
    "duration": 247,
    "start_time": "2025-07-10T14:33:59.166Z"
   },
   {
    "duration": 1222,
    "start_time": "2025-07-10T14:34:41.157Z"
   },
   {
    "duration": 361,
    "start_time": "2025-07-10T14:34:42.381Z"
   },
   {
    "duration": 21,
    "start_time": "2025-07-10T14:34:42.744Z"
   },
   {
    "duration": 22,
    "start_time": "2025-07-10T14:34:42.767Z"
   },
   {
    "duration": 11,
    "start_time": "2025-07-10T14:34:42.791Z"
   },
   {
    "duration": 15,
    "start_time": "2025-07-10T14:34:42.803Z"
   },
   {
    "duration": 41,
    "start_time": "2025-07-10T14:34:42.820Z"
   },
   {
    "duration": 68,
    "start_time": "2025-07-10T14:34:42.863Z"
   },
   {
    "duration": 22,
    "start_time": "2025-07-10T14:34:42.933Z"
   },
   {
    "duration": 10,
    "start_time": "2025-07-10T14:34:42.957Z"
   },
   {
    "duration": 26,
    "start_time": "2025-07-10T14:34:42.968Z"
   },
   {
    "duration": 5,
    "start_time": "2025-07-10T14:34:42.996Z"
   },
   {
    "duration": 117,
    "start_time": "2025-07-10T14:34:43.003Z"
   },
   {
    "duration": 6,
    "start_time": "2025-07-10T14:34:43.121Z"
   },
   {
    "duration": 23,
    "start_time": "2025-07-10T14:34:43.128Z"
   },
   {
    "duration": 21,
    "start_time": "2025-07-10T14:34:43.152Z"
   },
   {
    "duration": 53,
    "start_time": "2025-07-10T14:34:43.175Z"
   },
   {
    "duration": 25,
    "start_time": "2025-07-10T14:34:43.230Z"
   },
   {
    "duration": 159,
    "start_time": "2025-07-10T14:34:43.257Z"
   },
   {
    "duration": 4,
    "start_time": "2025-07-10T14:34:43.417Z"
   },
   {
    "duration": 18,
    "start_time": "2025-07-10T14:34:43.422Z"
   },
   {
    "duration": 204,
    "start_time": "2025-07-10T14:34:43.442Z"
   },
   {
    "duration": 12,
    "start_time": "2025-07-10T14:34:43.648Z"
   },
   {
    "duration": 185,
    "start_time": "2025-07-10T14:34:43.661Z"
   },
   {
    "duration": 3,
    "start_time": "2025-07-10T14:34:43.848Z"
   },
   {
    "duration": 103,
    "start_time": "2025-07-10T14:34:43.852Z"
   },
   {
    "duration": 126,
    "start_time": "2025-07-10T14:34:43.956Z"
   },
   {
    "duration": 15,
    "start_time": "2025-07-10T14:34:44.085Z"
   },
   {
    "duration": 259,
    "start_time": "2025-07-10T14:34:44.102Z"
   },
   {
    "duration": 13,
    "start_time": "2025-07-10T14:34:44.363Z"
   },
   {
    "duration": 124,
    "start_time": "2025-07-10T14:34:44.378Z"
   },
   {
    "duration": 8,
    "start_time": "2025-07-10T14:34:44.503Z"
   },
   {
    "duration": 191,
    "start_time": "2025-07-10T14:34:44.512Z"
   },
   {
    "duration": 12,
    "start_time": "2025-07-10T14:34:44.705Z"
   },
   {
    "duration": 190,
    "start_time": "2025-07-10T14:34:44.720Z"
   },
   {
    "duration": 33,
    "start_time": "2025-07-10T14:34:44.912Z"
   },
   {
    "duration": 19,
    "start_time": "2025-07-10T14:34:44.947Z"
   },
   {
    "duration": 10307,
    "start_time": "2025-07-10T14:37:17.824Z"
   },
   {
    "duration": 10259,
    "start_time": "2025-07-10T14:55:23.937Z"
   },
   {
    "duration": 10362,
    "start_time": "2025-07-10T14:55:46.421Z"
   },
   {
    "duration": 190,
    "start_time": "2025-07-10T14:56:03.104Z"
   },
   {
    "duration": 174,
    "start_time": "2025-07-10T14:57:32.781Z"
   },
   {
    "duration": 176,
    "start_time": "2025-07-10T14:57:43.273Z"
   },
   {
    "duration": 175,
    "start_time": "2025-07-10T14:58:22.992Z"
   },
   {
    "duration": 1553,
    "start_time": "2025-07-10T14:58:49.142Z"
   },
   {
    "duration": 213,
    "start_time": "2025-07-10T14:59:12.634Z"
   },
   {
    "duration": 226,
    "start_time": "2025-07-10T14:59:47.239Z"
   },
   {
    "duration": 225,
    "start_time": "2025-07-10T15:00:13.555Z"
   },
   {
    "duration": 223,
    "start_time": "2025-07-10T15:00:29.453Z"
   },
   {
    "duration": 226,
    "start_time": "2025-07-10T15:00:38.675Z"
   },
   {
    "duration": 347,
    "start_time": "2025-07-10T15:01:42.744Z"
   },
   {
    "duration": 279,
    "start_time": "2025-07-10T15:02:02.041Z"
   },
   {
    "duration": 150,
    "start_time": "2025-07-10T15:10:58.648Z"
   },
   {
    "duration": 149,
    "start_time": "2025-07-10T15:11:12.985Z"
   },
   {
    "duration": 332,
    "start_time": "2025-07-10T15:11:28.779Z"
   },
   {
    "duration": 255,
    "start_time": "2025-07-10T15:12:23.666Z"
   },
   {
    "duration": 318,
    "start_time": "2025-07-10T15:14:18.538Z"
   },
   {
    "duration": 358,
    "start_time": "2025-07-10T15:14:46.994Z"
   },
   {
    "duration": 344,
    "start_time": "2025-07-10T15:14:53.844Z"
   },
   {
    "duration": 17,
    "start_time": "2025-07-10T15:17:19.547Z"
   },
   {
    "duration": 1675,
    "start_time": "2025-07-10T15:22:13.147Z"
   },
   {
    "duration": 89,
    "start_time": "2025-07-10T15:22:25.736Z"
   },
   {
    "duration": 12,
    "start_time": "2025-07-10T15:22:29.036Z"
   },
   {
    "duration": 10,
    "start_time": "2025-07-10T15:22:40.040Z"
   },
   {
    "duration": 11,
    "start_time": "2025-07-10T15:23:12.974Z"
   },
   {
    "duration": 9,
    "start_time": "2025-07-10T15:34:21.768Z"
   },
   {
    "duration": 376,
    "start_time": "2025-07-10T15:35:09.445Z"
   },
   {
    "duration": 385,
    "start_time": "2025-07-10T15:36:02.020Z"
   },
   {
    "duration": 12,
    "start_time": "2025-07-10T15:41:01.898Z"
   },
   {
    "duration": 8,
    "start_time": "2025-07-10T15:41:24.209Z"
   },
   {
    "duration": 14,
    "start_time": "2025-07-10T15:41:32.883Z"
   },
   {
    "duration": 18,
    "start_time": "2025-07-10T15:42:12.426Z"
   },
   {
    "duration": 24,
    "start_time": "2025-07-10T15:48:25.653Z"
   },
   {
    "duration": 28,
    "start_time": "2025-07-10T15:49:17.918Z"
   },
   {
    "duration": 28,
    "start_time": "2025-07-10T15:50:00.154Z"
   },
   {
    "duration": 29,
    "start_time": "2025-07-10T15:50:25.278Z"
   },
   {
    "duration": 82,
    "start_time": "2025-07-10T15:51:05.918Z"
   },
   {
    "duration": 26,
    "start_time": "2025-07-10T15:52:15.366Z"
   },
   {
    "duration": 25,
    "start_time": "2025-07-10T15:52:43.509Z"
   },
   {
    "duration": 25,
    "start_time": "2025-07-10T15:53:20.109Z"
   },
   {
    "duration": 20,
    "start_time": "2025-07-10T16:18:03.356Z"
   },
   {
    "duration": 5,
    "start_time": "2025-07-10T16:19:49.800Z"
   },
   {
    "duration": 6,
    "start_time": "2025-07-10T16:20:01.204Z"
   },
   {
    "duration": 11,
    "start_time": "2025-07-10T16:20:14.787Z"
   },
   {
    "duration": 6,
    "start_time": "2025-07-10T16:20:20.579Z"
   },
   {
    "duration": 6,
    "start_time": "2025-07-10T16:20:33.836Z"
   },
   {
    "duration": 9,
    "start_time": "2025-07-10T16:21:14.620Z"
   },
   {
    "duration": 9,
    "start_time": "2025-07-10T16:21:17.244Z"
   },
   {
    "duration": 7,
    "start_time": "2025-07-10T16:23:15.729Z"
   },
   {
    "duration": 6,
    "start_time": "2025-07-10T16:23:20.920Z"
   },
   {
    "duration": 16,
    "start_time": "2025-07-10T16:24:09.037Z"
   },
   {
    "duration": 454,
    "start_time": "2025-07-10T16:28:23.143Z"
   },
   {
    "duration": 13,
    "start_time": "2025-07-10T16:28:47.936Z"
   },
   {
    "duration": 483,
    "start_time": "2025-07-10T16:29:23.659Z"
   },
   {
    "duration": 6,
    "start_time": "2025-07-10T16:34:15.520Z"
   },
   {
    "duration": 6,
    "start_time": "2025-07-10T16:34:19.756Z"
   },
   {
    "duration": 13,
    "start_time": "2025-07-10T16:41:44.147Z"
   },
   {
    "duration": 1518,
    "start_time": "2025-07-10T16:43:28.551Z"
   },
   {
    "duration": 32,
    "start_time": "2025-07-10T16:43:46.306Z"
   },
   {
    "duration": 81,
    "start_time": "2025-07-11T17:07:38.253Z"
   },
   {
    "duration": 4386,
    "start_time": "2025-07-11T17:13:24.019Z"
   },
   {
    "duration": 1147,
    "start_time": "2025-07-11T17:14:31.599Z"
   },
   {
    "duration": 558,
    "start_time": "2025-07-11T17:14:34.702Z"
   },
   {
    "duration": 2600,
    "start_time": "2025-07-11T17:14:42.987Z"
   },
   {
    "duration": 1222,
    "start_time": "2025-07-11T17:14:45.589Z"
   },
   {
    "duration": 235,
    "start_time": "2025-07-11T17:14:46.812Z"
   },
   {
    "duration": 78,
    "start_time": "2025-07-11T17:14:47.049Z"
   },
   {
    "duration": 15,
    "start_time": "2025-07-11T17:14:47.129Z"
   },
   {
    "duration": 17,
    "start_time": "2025-07-11T17:14:47.146Z"
   },
   {
    "duration": 24,
    "start_time": "2025-07-11T17:14:47.165Z"
   },
   {
    "duration": 11,
    "start_time": "2025-07-11T17:14:47.191Z"
   },
   {
    "duration": 33,
    "start_time": "2025-07-11T17:14:47.204Z"
   },
   {
    "duration": 15,
    "start_time": "2025-07-11T17:14:47.240Z"
   },
   {
    "duration": 41,
    "start_time": "2025-07-11T17:14:47.257Z"
   },
   {
    "duration": 10,
    "start_time": "2025-07-11T17:14:47.300Z"
   },
   {
    "duration": 25,
    "start_time": "2025-07-11T17:14:47.311Z"
   },
   {
    "duration": 5,
    "start_time": "2025-07-11T17:14:47.338Z"
   },
   {
    "duration": 49,
    "start_time": "2025-07-11T17:14:47.345Z"
   },
   {
    "duration": 4,
    "start_time": "2025-07-11T17:14:47.396Z"
   },
   {
    "duration": 32,
    "start_time": "2025-07-11T17:14:47.402Z"
   },
   {
    "duration": 4,
    "start_time": "2025-07-11T17:14:47.439Z"
   },
   {
    "duration": 7,
    "start_time": "2025-07-11T17:14:47.445Z"
   },
   {
    "duration": 25,
    "start_time": "2025-07-11T17:14:47.454Z"
   },
   {
    "duration": 169,
    "start_time": "2025-07-11T17:14:47.481Z"
   },
   {
    "duration": 5,
    "start_time": "2025-07-11T17:14:47.652Z"
   },
   {
    "duration": 99,
    "start_time": "2025-07-11T17:14:47.659Z"
   },
   {
    "duration": 202,
    "start_time": "2025-07-11T17:14:47.760Z"
   },
   {
    "duration": 11,
    "start_time": "2025-07-11T17:14:47.964Z"
   },
   {
    "duration": 264,
    "start_time": "2025-07-11T17:14:47.976Z"
   },
   {
    "duration": 4,
    "start_time": "2025-07-11T17:14:48.242Z"
   },
   {
    "duration": 15,
    "start_time": "2025-07-11T17:14:48.250Z"
   },
   {
    "duration": 102,
    "start_time": "2025-07-11T17:14:48.267Z"
   },
   {
    "duration": 28,
    "start_time": "2025-07-11T17:14:48.371Z"
   },
   {
    "duration": 225,
    "start_time": "2025-07-11T17:14:48.401Z"
   },
   {
    "duration": 9,
    "start_time": "2025-07-11T17:14:48.627Z"
   },
   {
    "duration": 141,
    "start_time": "2025-07-11T17:14:48.637Z"
   },
   {
    "duration": 13,
    "start_time": "2025-07-11T17:14:48.780Z"
   },
   {
    "duration": 265,
    "start_time": "2025-07-11T17:14:48.795Z"
   },
   {
    "duration": 8,
    "start_time": "2025-07-11T17:14:49.062Z"
   },
   {
    "duration": 172,
    "start_time": "2025-07-11T17:14:49.072Z"
   },
   {
    "duration": 7,
    "start_time": "2025-07-11T17:14:49.247Z"
   },
   {
    "duration": 557,
    "start_time": "2025-07-11T17:14:49.255Z"
   },
   {
    "duration": 134,
    "start_time": "2025-07-11T17:14:49.814Z"
   },
   {
    "duration": 0,
    "start_time": "2025-07-11T17:14:49.949Z"
   },
   {
    "duration": 0,
    "start_time": "2025-07-11T17:14:49.951Z"
   },
   {
    "duration": 0,
    "start_time": "2025-07-11T17:14:49.952Z"
   },
   {
    "duration": 0,
    "start_time": "2025-07-11T17:14:49.953Z"
   },
   {
    "duration": 43602,
    "start_time": "2025-07-11T17:19:02.353Z"
   },
   {
    "duration": 112,
    "start_time": "2025-07-11T17:26:25.518Z"
   },
   {
    "duration": 1857,
    "start_time": "2025-07-11T17:44:15.025Z"
   },
   {
    "duration": 6,
    "start_time": "2025-07-11T17:44:52.170Z"
   },
   {
    "duration": 10,
    "start_time": "2025-07-11T17:45:06.434Z"
   },
   {
    "duration": 7,
    "start_time": "2025-07-11T17:45:30.065Z"
   },
   {
    "duration": 1410,
    "start_time": "2025-07-11T17:50:22.250Z"
   },
   {
    "duration": 89,
    "start_time": "2025-07-11T17:56:27.859Z"
   },
   {
    "duration": 36397,
    "start_time": "2025-07-11T18:04:20.400Z"
   },
   {
    "duration": 6,
    "start_time": "2025-07-11T18:06:57.068Z"
   },
   {
    "duration": 2777,
    "start_time": "2025-07-11T18:07:15.878Z"
   },
   {
    "duration": 1316,
    "start_time": "2025-07-11T18:07:18.657Z"
   },
   {
    "duration": 418,
    "start_time": "2025-07-11T18:07:19.975Z"
   },
   {
    "duration": 178,
    "start_time": "2025-07-11T18:07:20.396Z"
   },
   {
    "duration": 15,
    "start_time": "2025-07-11T18:07:20.575Z"
   },
   {
    "duration": 29,
    "start_time": "2025-07-11T18:07:20.592Z"
   },
   {
    "duration": 17,
    "start_time": "2025-07-11T18:07:20.623Z"
   },
   {
    "duration": 128,
    "start_time": "2025-07-11T18:07:20.642Z"
   },
   {
    "duration": 44,
    "start_time": "2025-07-11T18:07:20.772Z"
   },
   {
    "duration": 16,
    "start_time": "2025-07-11T18:07:20.819Z"
   },
   {
    "duration": 45,
    "start_time": "2025-07-11T18:07:20.837Z"
   },
   {
    "duration": 27,
    "start_time": "2025-07-11T18:07:20.884Z"
   },
   {
    "duration": 42,
    "start_time": "2025-07-11T18:07:20.915Z"
   },
   {
    "duration": 6,
    "start_time": "2025-07-11T18:07:20.959Z"
   },
   {
    "duration": 33,
    "start_time": "2025-07-11T18:07:20.967Z"
   },
   {
    "duration": 11,
    "start_time": "2025-07-11T18:07:21.002Z"
   },
   {
    "duration": 47,
    "start_time": "2025-07-11T18:07:21.015Z"
   },
   {
    "duration": 5,
    "start_time": "2025-07-11T18:07:21.063Z"
   },
   {
    "duration": 221,
    "start_time": "2025-07-11T18:07:21.070Z"
   },
   {
    "duration": 50,
    "start_time": "2025-07-11T18:07:21.294Z"
   },
   {
    "duration": 207,
    "start_time": "2025-07-11T18:07:21.347Z"
   },
   {
    "duration": 6,
    "start_time": "2025-07-11T18:07:21.556Z"
   },
   {
    "duration": 25,
    "start_time": "2025-07-11T18:07:21.564Z"
   },
   {
    "duration": 213,
    "start_time": "2025-07-11T18:07:21.592Z"
   },
   {
    "duration": 12,
    "start_time": "2025-07-11T18:07:21.807Z"
   },
   {
    "duration": 298,
    "start_time": "2025-07-11T18:07:21.820Z"
   },
   {
    "duration": 5,
    "start_time": "2025-07-11T18:07:22.120Z"
   },
   {
    "duration": 50,
    "start_time": "2025-07-11T18:07:22.129Z"
   },
   {
    "duration": 107,
    "start_time": "2025-07-11T18:07:22.181Z"
   },
   {
    "duration": 18,
    "start_time": "2025-07-11T18:07:22.292Z"
   },
   {
    "duration": 250,
    "start_time": "2025-07-11T18:07:22.312Z"
   },
   {
    "duration": 10,
    "start_time": "2025-07-11T18:07:22.563Z"
   },
   {
    "duration": 171,
    "start_time": "2025-07-11T18:07:22.575Z"
   },
   {
    "duration": 23,
    "start_time": "2025-07-11T18:07:22.748Z"
   },
   {
    "duration": 195,
    "start_time": "2025-07-11T18:07:22.773Z"
   },
   {
    "duration": 20,
    "start_time": "2025-07-11T18:07:22.970Z"
   },
   {
    "duration": 190,
    "start_time": "2025-07-11T18:07:22.993Z"
   },
   {
    "duration": 9,
    "start_time": "2025-07-11T18:07:23.185Z"
   },
   {
    "duration": 0,
    "start_time": "2025-07-11T18:07:23.289Z"
   },
   {
    "duration": 0,
    "start_time": "2025-07-11T18:07:23.291Z"
   },
   {
    "duration": 0,
    "start_time": "2025-07-11T18:07:23.293Z"
   },
   {
    "duration": 0,
    "start_time": "2025-07-11T18:07:23.296Z"
   },
   {
    "duration": 0,
    "start_time": "2025-07-11T18:07:23.297Z"
   },
   {
    "duration": 0,
    "start_time": "2025-07-11T18:07:23.298Z"
   },
   {
    "duration": 0,
    "start_time": "2025-07-11T18:07:23.300Z"
   },
   {
    "duration": 6,
    "start_time": "2025-07-11T18:07:25.792Z"
   },
   {
    "duration": 5030,
    "start_time": "2025-07-12T09:33:41.923Z"
   },
   {
    "duration": 1450,
    "start_time": "2025-07-12T09:33:46.955Z"
   },
   {
    "duration": 303,
    "start_time": "2025-07-12T09:33:48.407Z"
   },
   {
    "duration": 98,
    "start_time": "2025-07-12T09:33:48.712Z"
   },
   {
    "duration": 16,
    "start_time": "2025-07-12T09:33:48.812Z"
   },
   {
    "duration": 19,
    "start_time": "2025-07-12T09:33:48.830Z"
   },
   {
    "duration": 22,
    "start_time": "2025-07-12T09:33:48.858Z"
   },
   {
    "duration": 90,
    "start_time": "2025-07-12T09:33:48.882Z"
   },
   {
    "duration": 35,
    "start_time": "2025-07-12T09:33:48.978Z"
   },
   {
    "duration": 25,
    "start_time": "2025-07-12T09:33:49.016Z"
   },
   {
    "duration": 34,
    "start_time": "2025-07-12T09:33:49.043Z"
   },
   {
    "duration": 13,
    "start_time": "2025-07-12T09:33:49.080Z"
   },
   {
    "duration": 27,
    "start_time": "2025-07-12T09:33:49.095Z"
   },
   {
    "duration": 10,
    "start_time": "2025-07-12T09:33:49.123Z"
   },
   {
    "duration": 38,
    "start_time": "2025-07-12T09:33:49.135Z"
   },
   {
    "duration": 6,
    "start_time": "2025-07-12T09:33:49.174Z"
   },
   {
    "duration": 13,
    "start_time": "2025-07-12T09:33:49.182Z"
   },
   {
    "duration": 4,
    "start_time": "2025-07-12T09:33:49.197Z"
   },
   {
    "duration": 8,
    "start_time": "2025-07-12T09:33:49.203Z"
   },
   {
    "duration": 11,
    "start_time": "2025-07-12T09:33:49.212Z"
   },
   {
    "duration": 205,
    "start_time": "2025-07-12T09:33:49.225Z"
   },
   {
    "duration": 5,
    "start_time": "2025-07-12T09:33:49.432Z"
   },
   {
    "duration": 29,
    "start_time": "2025-07-12T09:33:49.439Z"
   },
   {
    "duration": 224,
    "start_time": "2025-07-12T09:33:49.471Z"
   },
   {
    "duration": 12,
    "start_time": "2025-07-12T09:33:49.697Z"
   },
   {
    "duration": 293,
    "start_time": "2025-07-12T09:33:49.712Z"
   },
   {
    "duration": 4,
    "start_time": "2025-07-12T09:33:50.007Z"
   },
   {
    "duration": 79,
    "start_time": "2025-07-12T09:33:50.015Z"
   },
   {
    "duration": 103,
    "start_time": "2025-07-12T09:33:50.096Z"
   },
   {
    "duration": 16,
    "start_time": "2025-07-12T09:33:50.201Z"
   },
   {
    "duration": 274,
    "start_time": "2025-07-12T09:33:50.219Z"
   },
   {
    "duration": 9,
    "start_time": "2025-07-12T09:33:50.495Z"
   },
   {
    "duration": 273,
    "start_time": "2025-07-12T09:33:50.506Z"
   },
   {
    "duration": 11,
    "start_time": "2025-07-12T09:33:50.781Z"
   },
   {
    "duration": 216,
    "start_time": "2025-07-12T09:33:50.794Z"
   },
   {
    "duration": 10,
    "start_time": "2025-07-12T09:33:51.013Z"
   },
   {
    "duration": 202,
    "start_time": "2025-07-12T09:33:51.027Z"
   },
   {
    "duration": 6,
    "start_time": "2025-07-12T09:33:51.231Z"
   },
   {
    "duration": 45,
    "start_time": "2025-07-12T09:33:51.239Z"
   },
   {
    "duration": 0,
    "start_time": "2025-07-12T09:33:51.286Z"
   },
   {
    "duration": 0,
    "start_time": "2025-07-12T09:33:51.288Z"
   },
   {
    "duration": 0,
    "start_time": "2025-07-12T09:33:51.290Z"
   },
   {
    "duration": 1,
    "start_time": "2025-07-12T09:33:51.291Z"
   },
   {
    "duration": 0,
    "start_time": "2025-07-12T09:33:51.293Z"
   },
   {
    "duration": 0,
    "start_time": "2025-07-12T09:33:51.295Z"
   },
   {
    "duration": 12509,
    "start_time": "2025-07-12T10:02:34.874Z"
   },
   {
    "duration": 1713,
    "start_time": "2025-07-12T10:04:06.702Z"
   },
   {
    "duration": 4,
    "start_time": "2025-07-12T10:05:39.976Z"
   },
   {
    "duration": 674,
    "start_time": "2025-07-12T10:06:20.967Z"
   },
   {
    "duration": 633,
    "start_time": "2025-07-12T10:08:08.989Z"
   },
   {
    "duration": 357,
    "start_time": "2025-07-12T10:08:19.937Z"
   },
   {
    "duration": 315,
    "start_time": "2025-07-12T10:08:32.207Z"
   },
   {
    "duration": 34477,
    "start_time": "2025-07-12T10:28:29.726Z"
   },
   {
    "duration": 129,
    "start_time": "2025-07-12T10:50:32.070Z"
   },
   {
    "duration": 8,
    "start_time": "2025-07-12T10:50:43.087Z"
   },
   {
    "duration": 1080,
    "start_time": "2025-07-12T11:03:50.311Z"
   },
   {
    "duration": 11,
    "start_time": "2025-07-12T11:04:37.741Z"
   },
   {
    "duration": 7,
    "start_time": "2025-07-12T11:04:48.431Z"
   },
   {
    "duration": 12,
    "start_time": "2025-07-12T11:05:35.493Z"
   },
   {
    "duration": 192,
    "start_time": "2025-07-12T11:07:54.010Z"
   },
   {
    "duration": 202,
    "start_time": "2025-07-12T11:09:06.343Z"
   },
   {
    "duration": 189,
    "start_time": "2025-07-12T11:10:07.496Z"
   },
   {
    "duration": 254,
    "start_time": "2025-07-12T11:11:56.161Z"
   },
   {
    "duration": 72,
    "start_time": "2025-07-12T11:14:03.456Z"
   },
   {
    "duration": 12,
    "start_time": "2025-07-12T11:14:54.677Z"
   },
   {
    "duration": 19,
    "start_time": "2025-07-12T11:15:01.749Z"
   },
   {
    "duration": 412,
    "start_time": "2025-07-12T11:15:17.393Z"
   },
   {
    "duration": 71,
    "start_time": "2025-07-12T11:15:24.103Z"
   },
   {
    "duration": 83,
    "start_time": "2025-07-12T11:15:39.802Z"
   },
   {
    "duration": 72,
    "start_time": "2025-07-12T11:16:00.174Z"
   },
   {
    "duration": 11942,
    "start_time": "2025-07-12T11:16:20.624Z"
   },
   {
    "duration": 178,
    "start_time": "2025-07-12T11:16:50.188Z"
   },
   {
    "duration": 172,
    "start_time": "2025-07-12T11:16:52.786Z"
   },
   {
    "duration": 13,
    "start_time": "2025-07-12T11:17:59.039Z"
   },
   {
    "duration": 12,
    "start_time": "2025-07-12T11:18:27.132Z"
   },
   {
    "duration": 1417,
    "start_time": "2025-07-12T11:18:30.591Z"
   },
   {
    "duration": 167,
    "start_time": "2025-07-12T11:18:49.136Z"
   },
   {
    "duration": 175,
    "start_time": "2025-07-12T11:18:57.894Z"
   },
   {
    "duration": 174,
    "start_time": "2025-07-12T11:19:04.362Z"
   },
   {
    "duration": 185,
    "start_time": "2025-07-12T11:19:10.560Z"
   },
   {
    "duration": 182,
    "start_time": "2025-07-12T11:20:17.642Z"
   },
   {
    "duration": 188,
    "start_time": "2025-07-12T11:20:35.774Z"
   },
   {
    "duration": 193,
    "start_time": "2025-07-12T11:20:43.296Z"
   },
   {
    "duration": 201,
    "start_time": "2025-07-12T11:20:56.521Z"
   },
   {
    "duration": 286,
    "start_time": "2025-07-12T11:26:28.490Z"
   },
   {
    "duration": 358,
    "start_time": "2025-07-12T11:27:45.931Z"
   },
   {
    "duration": 309,
    "start_time": "2025-07-12T11:27:59.395Z"
   },
   {
    "duration": 348,
    "start_time": "2025-07-12T11:28:06.028Z"
   },
   {
    "duration": 361,
    "start_time": "2025-07-12T11:28:12.044Z"
   },
   {
    "duration": 11,
    "start_time": "2025-07-12T11:31:46.394Z"
   },
   {
    "duration": 7,
    "start_time": "2025-07-12T11:31:52.135Z"
   },
   {
    "duration": 2464,
    "start_time": "2025-07-12T11:32:02.762Z"
   },
   {
    "duration": 1197,
    "start_time": "2025-07-12T11:32:05.229Z"
   },
   {
    "duration": 255,
    "start_time": "2025-07-12T11:32:06.430Z"
   },
   {
    "duration": 84,
    "start_time": "2025-07-12T11:32:06.687Z"
   },
   {
    "duration": 16,
    "start_time": "2025-07-12T11:32:06.773Z"
   },
   {
    "duration": 20,
    "start_time": "2025-07-12T11:32:06.791Z"
   },
   {
    "duration": 19,
    "start_time": "2025-07-12T11:32:06.813Z"
   },
   {
    "duration": 45,
    "start_time": "2025-07-12T11:32:06.834Z"
   },
   {
    "duration": 65,
    "start_time": "2025-07-12T11:32:06.883Z"
   },
   {
    "duration": 17,
    "start_time": "2025-07-12T11:32:06.950Z"
   },
   {
    "duration": 19,
    "start_time": "2025-07-12T11:32:06.969Z"
   },
   {
    "duration": 12,
    "start_time": "2025-07-12T11:32:06.991Z"
   },
   {
    "duration": 96,
    "start_time": "2025-07-12T11:32:07.005Z"
   },
   {
    "duration": 58,
    "start_time": "2025-07-12T11:32:07.104Z"
   },
   {
    "duration": 40,
    "start_time": "2025-07-12T11:32:07.164Z"
   },
   {
    "duration": 4,
    "start_time": "2025-07-12T11:32:07.206Z"
   },
   {
    "duration": 18,
    "start_time": "2025-07-12T11:32:07.212Z"
   },
   {
    "duration": 4,
    "start_time": "2025-07-12T11:32:07.233Z"
   },
   {
    "duration": 8,
    "start_time": "2025-07-12T11:32:07.238Z"
   },
   {
    "duration": 10,
    "start_time": "2025-07-12T11:32:07.248Z"
   },
   {
    "duration": 176,
    "start_time": "2025-07-12T11:32:07.259Z"
   },
   {
    "duration": 6,
    "start_time": "2025-07-12T11:32:07.437Z"
   },
   {
    "duration": 9,
    "start_time": "2025-07-12T11:32:07.458Z"
   },
   {
    "duration": 211,
    "start_time": "2025-07-12T11:32:07.469Z"
   },
   {
    "duration": 11,
    "start_time": "2025-07-12T11:32:07.681Z"
   },
   {
    "duration": 264,
    "start_time": "2025-07-12T11:32:07.694Z"
   },
   {
    "duration": 4,
    "start_time": "2025-07-12T11:32:07.961Z"
   },
   {
    "duration": 20,
    "start_time": "2025-07-12T11:32:07.966Z"
   },
   {
    "duration": 96,
    "start_time": "2025-07-12T11:32:07.988Z"
   },
   {
    "duration": 15,
    "start_time": "2025-07-12T11:32:08.085Z"
   },
   {
    "duration": 231,
    "start_time": "2025-07-12T11:32:08.102Z"
   },
   {
    "duration": 9,
    "start_time": "2025-07-12T11:32:08.335Z"
   },
   {
    "duration": 125,
    "start_time": "2025-07-12T11:32:08.345Z"
   },
   {
    "duration": 8,
    "start_time": "2025-07-12T11:32:08.472Z"
   },
   {
    "duration": 209,
    "start_time": "2025-07-12T11:32:08.482Z"
   },
   {
    "duration": 8,
    "start_time": "2025-07-12T11:32:08.693Z"
   },
   {
    "duration": 163,
    "start_time": "2025-07-12T11:32:08.702Z"
   },
   {
    "duration": 5,
    "start_time": "2025-07-12T11:32:08.867Z"
   },
   {
    "duration": 10479,
    "start_time": "2025-07-12T11:32:08.874Z"
   },
   {
    "duration": 326,
    "start_time": "2025-07-12T11:32:19.355Z"
   },
   {
    "duration": 29,
    "start_time": "2025-07-12T11:32:19.682Z"
   },
   {
    "duration": 476,
    "start_time": "2025-07-12T11:32:19.714Z"
   },
   {
    "duration": 20,
    "start_time": "2025-07-12T11:32:20.192Z"
   },
   {
    "duration": 26,
    "start_time": "2025-07-12T11:32:20.213Z"
   },
   {
    "duration": 346,
    "start_time": "2025-07-12T11:32:20.268Z"
   },
   {
    "duration": 6,
    "start_time": "2025-07-12T11:32:20.626Z"
   },
   {
    "duration": 132,
    "start_time": "2025-07-12T11:32:45.755Z"
   },
   {
    "duration": 8,
    "start_time": "2025-07-12T11:32:50.099Z"
   },
   {
    "duration": 8,
    "start_time": "2025-07-12T11:32:57.984Z"
   },
   {
    "duration": 9,
    "start_time": "2025-07-12T11:33:06.571Z"
   },
   {
    "duration": 8,
    "start_time": "2025-07-12T11:33:10.403Z"
   },
   {
    "duration": 8,
    "start_time": "2025-07-12T11:33:20.055Z"
   },
   {
    "duration": 17,
    "start_time": "2025-07-12T11:34:35.575Z"
   },
   {
    "duration": 15,
    "start_time": "2025-07-12T11:35:44.403Z"
   },
   {
    "duration": 357,
    "start_time": "2025-07-12T11:36:33.460Z"
   },
   {
    "duration": 12,
    "start_time": "2025-07-12T11:37:22.415Z"
   },
   {
    "duration": 327,
    "start_time": "2025-07-12T11:37:27.351Z"
   },
   {
    "duration": 321,
    "start_time": "2025-07-12T11:37:35.328Z"
   },
   {
    "duration": 5,
    "start_time": "2025-07-12T11:40:12.275Z"
   },
   {
    "duration": 9,
    "start_time": "2025-07-12T11:40:21.113Z"
   },
   {
    "duration": 14,
    "start_time": "2025-07-12T11:47:39.507Z"
   },
   {
    "duration": 330,
    "start_time": "2025-07-12T11:47:50.752Z"
   },
   {
    "duration": 18,
    "start_time": "2025-07-12T11:53:58.302Z"
   },
   {
    "duration": 1548,
    "start_time": "2025-07-12T11:54:07.277Z"
   },
   {
    "duration": 1350,
    "start_time": "2025-07-12T11:55:27.539Z"
   },
   {
    "duration": 1286,
    "start_time": "2025-07-12T11:56:19.223Z"
   },
   {
    "duration": 1408,
    "start_time": "2025-07-12T11:57:03.105Z"
   },
   {
    "duration": 1314,
    "start_time": "2025-07-12T11:58:31.879Z"
   },
   {
    "duration": 16,
    "start_time": "2025-07-12T11:59:12.387Z"
   },
   {
    "duration": 1109,
    "start_time": "2025-07-12T12:00:06.131Z"
   },
   {
    "duration": 1103,
    "start_time": "2025-07-12T12:00:16.825Z"
   },
   {
    "duration": 1040,
    "start_time": "2025-07-12T12:00:38.027Z"
   },
   {
    "duration": 1043,
    "start_time": "2025-07-12T12:00:47.515Z"
   },
   {
    "duration": 1051,
    "start_time": "2025-07-12T12:01:11.387Z"
   },
   {
    "duration": 2589,
    "start_time": "2025-07-12T12:01:34.653Z"
   },
   {
    "duration": 1225,
    "start_time": "2025-07-12T12:01:37.245Z"
   },
   {
    "duration": 469,
    "start_time": "2025-07-12T12:01:38.471Z"
   },
   {
    "duration": 81,
    "start_time": "2025-07-12T12:01:38.941Z"
   },
   {
    "duration": 27,
    "start_time": "2025-07-12T12:01:39.024Z"
   },
   {
    "duration": 16,
    "start_time": "2025-07-12T12:01:39.053Z"
   },
   {
    "duration": 11,
    "start_time": "2025-07-12T12:01:39.070Z"
   },
   {
    "duration": 11,
    "start_time": "2025-07-12T12:01:39.083Z"
   },
   {
    "duration": 99,
    "start_time": "2025-07-12T12:01:39.096Z"
   },
   {
    "duration": 15,
    "start_time": "2025-07-12T12:01:39.197Z"
   },
   {
    "duration": 18,
    "start_time": "2025-07-12T12:01:39.213Z"
   },
   {
    "duration": 91,
    "start_time": "2025-07-12T12:01:39.233Z"
   },
   {
    "duration": 20,
    "start_time": "2025-07-12T12:01:39.325Z"
   },
   {
    "duration": 5,
    "start_time": "2025-07-12T12:01:39.348Z"
   },
   {
    "duration": 12,
    "start_time": "2025-07-12T12:01:39.355Z"
   },
   {
    "duration": 6,
    "start_time": "2025-07-12T12:01:39.368Z"
   },
   {
    "duration": 16,
    "start_time": "2025-07-12T12:01:39.376Z"
   },
   {
    "duration": 3,
    "start_time": "2025-07-12T12:01:39.394Z"
   },
   {
    "duration": 13,
    "start_time": "2025-07-12T12:01:39.399Z"
   },
   {
    "duration": 10,
    "start_time": "2025-07-12T12:01:39.414Z"
   },
   {
    "duration": 172,
    "start_time": "2025-07-12T12:01:39.425Z"
   },
   {
    "duration": 5,
    "start_time": "2025-07-12T12:01:39.598Z"
   },
   {
    "duration": 24,
    "start_time": "2025-07-12T12:01:39.604Z"
   },
   {
    "duration": 187,
    "start_time": "2025-07-12T12:01:39.630Z"
   },
   {
    "duration": 11,
    "start_time": "2025-07-12T12:01:39.819Z"
   },
   {
    "duration": 270,
    "start_time": "2025-07-12T12:01:39.831Z"
   },
   {
    "duration": 5,
    "start_time": "2025-07-12T12:01:40.102Z"
   },
   {
    "duration": 11,
    "start_time": "2025-07-12T12:01:40.108Z"
   },
   {
    "duration": 112,
    "start_time": "2025-07-12T12:01:40.120Z"
   },
   {
    "duration": 26,
    "start_time": "2025-07-12T12:01:40.234Z"
   },
   {
    "duration": 227,
    "start_time": "2025-07-12T12:01:40.262Z"
   },
   {
    "duration": 10,
    "start_time": "2025-07-12T12:01:40.491Z"
   },
   {
    "duration": 135,
    "start_time": "2025-07-12T12:01:40.503Z"
   },
   {
    "duration": 18,
    "start_time": "2025-07-12T12:01:40.640Z"
   },
   {
    "duration": 185,
    "start_time": "2025-07-12T12:01:40.660Z"
   },
   {
    "duration": 10,
    "start_time": "2025-07-12T12:01:40.848Z"
   },
   {
    "duration": 180,
    "start_time": "2025-07-12T12:01:40.860Z"
   },
   {
    "duration": 6,
    "start_time": "2025-07-12T12:01:41.043Z"
   },
   {
    "duration": 143,
    "start_time": "2025-07-12T12:01:41.050Z"
   },
   {
    "duration": 0,
    "start_time": "2025-07-12T12:01:41.196Z"
   },
   {
    "duration": 0,
    "start_time": "2025-07-12T12:01:41.197Z"
   },
   {
    "duration": 0,
    "start_time": "2025-07-12T12:01:41.199Z"
   },
   {
    "duration": 0,
    "start_time": "2025-07-12T12:01:41.200Z"
   },
   {
    "duration": 0,
    "start_time": "2025-07-12T12:01:41.202Z"
   },
   {
    "duration": 0,
    "start_time": "2025-07-12T12:01:41.204Z"
   },
   {
    "duration": 0,
    "start_time": "2025-07-12T12:01:41.205Z"
   },
   {
    "duration": 0,
    "start_time": "2025-07-12T12:01:41.207Z"
   },
   {
    "duration": 0,
    "start_time": "2025-07-12T12:01:41.208Z"
   },
   {
    "duration": 0,
    "start_time": "2025-07-12T12:01:41.210Z"
   },
   {
    "duration": 20,
    "start_time": "2025-07-12T12:01:52.469Z"
   },
   {
    "duration": 10821,
    "start_time": "2025-07-12T12:02:16.893Z"
   },
   {
    "duration": 15,
    "start_time": "2025-07-12T12:02:43.600Z"
   },
   {
    "duration": 314,
    "start_time": "2025-07-12T12:02:52.980Z"
   },
   {
    "duration": 12,
    "start_time": "2025-07-12T12:03:04.433Z"
   },
   {
    "duration": 1705,
    "start_time": "2025-07-12T12:03:33.741Z"
   },
   {
    "duration": 1385,
    "start_time": "2025-07-12T12:03:38.028Z"
   },
   {
    "duration": 9,
    "start_time": "2025-07-12T12:03:48.984Z"
   },
   {
    "duration": 14,
    "start_time": "2025-07-12T12:03:55.842Z"
   },
   {
    "duration": 104,
    "start_time": "2025-07-12T12:04:04.480Z"
   },
   {
    "duration": 102,
    "start_time": "2025-07-12T12:04:12.074Z"
   },
   {
    "duration": 15,
    "start_time": "2025-07-12T12:08:12.267Z"
   },
   {
    "duration": 220,
    "start_time": "2025-07-12T12:08:22.666Z"
   },
   {
    "duration": 108,
    "start_time": "2025-07-12T12:08:35.910Z"
   },
   {
    "duration": 102,
    "start_time": "2025-07-12T12:11:26.821Z"
   },
   {
    "duration": 104,
    "start_time": "2025-07-12T12:11:38.968Z"
   },
   {
    "duration": 108,
    "start_time": "2025-07-12T12:11:56.982Z"
   },
   {
    "duration": 11,
    "start_time": "2025-07-12T12:16:53.971Z"
   },
   {
    "duration": 162,
    "start_time": "2025-07-12T12:17:00.095Z"
   },
   {
    "duration": 1108,
    "start_time": "2025-07-12T12:17:26.084Z"
   },
   {
    "duration": 179,
    "start_time": "2025-07-12T12:17:34.936Z"
   },
   {
    "duration": 161,
    "start_time": "2025-07-12T12:17:54.700Z"
   },
   {
    "duration": 153,
    "start_time": "2025-07-12T12:17:58.323Z"
   },
   {
    "duration": 156,
    "start_time": "2025-07-12T12:18:07.443Z"
   },
   {
    "duration": 157,
    "start_time": "2025-07-12T12:18:15.817Z"
   },
   {
    "duration": 414,
    "start_time": "2025-07-12T12:18:55.390Z"
   },
   {
    "duration": 455,
    "start_time": "2025-07-12T12:19:07.113Z"
   },
   {
    "duration": 439,
    "start_time": "2025-07-12T12:19:09.907Z"
   },
   {
    "duration": 742,
    "start_time": "2025-07-12T12:19:16.284Z"
   },
   {
    "duration": 591,
    "start_time": "2025-07-12T12:20:31.963Z"
   },
   {
    "duration": 617,
    "start_time": "2025-07-12T12:21:06.743Z"
   },
   {
    "duration": 777,
    "start_time": "2025-07-12T12:21:41.191Z"
   },
   {
    "duration": 615,
    "start_time": "2025-07-12T12:21:53.971Z"
   },
   {
    "duration": 633,
    "start_time": "2025-07-12T12:21:57.823Z"
   },
   {
    "duration": 13,
    "start_time": "2025-07-12T12:26:24.524Z"
   },
   {
    "duration": 328,
    "start_time": "2025-07-12T12:26:42.111Z"
   },
   {
    "duration": 114,
    "start_time": "2025-07-12T12:26:52.311Z"
   },
   {
    "duration": 13,
    "start_time": "2025-07-12T12:26:58.670Z"
   },
   {
    "duration": 213,
    "start_time": "2025-07-12T12:27:04.611Z"
   },
   {
    "duration": 215,
    "start_time": "2025-07-12T12:27:45.810Z"
   },
   {
    "duration": 364,
    "start_time": "2025-07-12T12:29:36.903Z"
   },
   {
    "duration": 342,
    "start_time": "2025-07-12T12:30:41.787Z"
   },
   {
    "duration": 358,
    "start_time": "2025-07-12T12:30:45.901Z"
   },
   {
    "duration": 256,
    "start_time": "2025-07-12T12:31:05.960Z"
   },
   {
    "duration": 305,
    "start_time": "2025-07-12T12:31:12.388Z"
   },
   {
    "duration": 12,
    "start_time": "2025-07-12T12:31:26.959Z"
   },
   {
    "duration": 11,
    "start_time": "2025-07-12T12:31:27.971Z"
   },
   {
    "duration": 324,
    "start_time": "2025-07-12T12:31:28.436Z"
   },
   {
    "duration": 385,
    "start_time": "2025-07-12T12:31:36.776Z"
   },
   {
    "duration": 405,
    "start_time": "2025-07-12T12:31:45.325Z"
   },
   {
    "duration": 874,
    "start_time": "2025-07-12T12:32:59.860Z"
   },
   {
    "duration": 724,
    "start_time": "2025-07-12T12:33:13.846Z"
   },
   {
    "duration": 916,
    "start_time": "2025-07-12T12:33:20.929Z"
   },
   {
    "duration": 825,
    "start_time": "2025-07-12T12:33:31.168Z"
   },
   {
    "duration": 1019,
    "start_time": "2025-07-12T12:33:47.249Z"
   },
   {
    "duration": 1295,
    "start_time": "2025-07-12T12:33:54.925Z"
   },
   {
    "duration": 235,
    "start_time": "2025-07-12T12:34:19.429Z"
   },
   {
    "duration": 251,
    "start_time": "2025-07-12T12:34:22.854Z"
   },
   {
    "duration": 261,
    "start_time": "2025-07-12T12:35:00.346Z"
   },
   {
    "duration": 275,
    "start_time": "2025-07-12T12:35:17.985Z"
   },
   {
    "duration": 294,
    "start_time": "2025-07-12T12:36:26.187Z"
   },
   {
    "duration": 326,
    "start_time": "2025-07-12T12:37:23.805Z"
   },
   {
    "duration": 322,
    "start_time": "2025-07-12T12:37:45.104Z"
   },
   {
    "duration": 49,
    "start_time": "2025-07-13T09:11:33.011Z"
   },
   {
    "duration": 4437,
    "start_time": "2025-07-13T09:11:50.235Z"
   },
   {
    "duration": 1621,
    "start_time": "2025-07-13T09:11:54.674Z"
   },
   {
    "duration": 253,
    "start_time": "2025-07-13T09:11:56.297Z"
   },
   {
    "duration": 81,
    "start_time": "2025-07-13T09:11:56.552Z"
   },
   {
    "duration": 128,
    "start_time": "2025-07-13T09:11:56.635Z"
   },
   {
    "duration": 47,
    "start_time": "2025-07-13T09:11:56.765Z"
   },
   {
    "duration": 11,
    "start_time": "2025-07-13T09:11:56.814Z"
   },
   {
    "duration": 31,
    "start_time": "2025-07-13T09:11:56.826Z"
   },
   {
    "duration": 30,
    "start_time": "2025-07-13T09:11:56.859Z"
   },
   {
    "duration": 14,
    "start_time": "2025-07-13T09:11:56.891Z"
   },
   {
    "duration": 21,
    "start_time": "2025-07-13T09:11:56.907Z"
   },
   {
    "duration": 13,
    "start_time": "2025-07-13T09:11:56.930Z"
   },
   {
    "duration": 54,
    "start_time": "2025-07-13T09:11:56.945Z"
   },
   {
    "duration": 6,
    "start_time": "2025-07-13T09:11:57.001Z"
   },
   {
    "duration": 15,
    "start_time": "2025-07-13T09:11:57.009Z"
   },
   {
    "duration": 5,
    "start_time": "2025-07-13T09:11:57.026Z"
   },
   {
    "duration": 43,
    "start_time": "2025-07-13T09:11:57.033Z"
   },
   {
    "duration": 10,
    "start_time": "2025-07-13T09:11:57.078Z"
   },
   {
    "duration": 10,
    "start_time": "2025-07-13T09:11:57.089Z"
   },
   {
    "duration": 14,
    "start_time": "2025-07-13T09:11:57.101Z"
   },
   {
    "duration": 162,
    "start_time": "2025-07-13T09:11:57.116Z"
   },
   {
    "duration": 4,
    "start_time": "2025-07-13T09:11:57.280Z"
   },
   {
    "duration": 85,
    "start_time": "2025-07-13T09:11:57.285Z"
   },
   {
    "duration": 177,
    "start_time": "2025-07-13T09:11:57.372Z"
   },
   {
    "duration": 11,
    "start_time": "2025-07-13T09:11:57.551Z"
   },
   {
    "duration": 243,
    "start_time": "2025-07-13T09:11:57.576Z"
   },
   {
    "duration": 4,
    "start_time": "2025-07-13T09:11:57.820Z"
   },
   {
    "duration": 15,
    "start_time": "2025-07-13T09:11:57.827Z"
   },
   {
    "duration": 104,
    "start_time": "2025-07-13T09:11:57.844Z"
   },
   {
    "duration": 14,
    "start_time": "2025-07-13T09:11:57.950Z"
   },
   {
    "duration": 449,
    "start_time": "2025-07-13T09:11:57.976Z"
   },
   {
    "duration": 8,
    "start_time": "2025-07-13T09:11:58.426Z"
   },
   {
    "duration": 120,
    "start_time": "2025-07-13T09:11:58.436Z"
   },
   {
    "duration": 7,
    "start_time": "2025-07-13T09:11:58.558Z"
   },
   {
    "duration": 463,
    "start_time": "2025-07-13T09:11:58.575Z"
   },
   {
    "duration": 9,
    "start_time": "2025-07-13T09:11:59.039Z"
   },
   {
    "duration": 294,
    "start_time": "2025-07-13T09:11:59.049Z"
   },
   {
    "duration": 6,
    "start_time": "2025-07-13T09:11:59.345Z"
   },
   {
    "duration": 11269,
    "start_time": "2025-07-13T09:11:59.352Z"
   },
   {
    "duration": 364,
    "start_time": "2025-07-13T09:12:10.623Z"
   },
   {
    "duration": 233,
    "start_time": "2025-07-13T09:12:10.988Z"
   },
   {
    "duration": 1339,
    "start_time": "2025-07-13T09:12:11.223Z"
   },
   {
    "duration": 31,
    "start_time": "2025-07-13T09:12:12.565Z"
   },
   {
    "duration": 499,
    "start_time": "2025-07-13T09:12:12.598Z"
   },
   {
    "duration": 19,
    "start_time": "2025-07-13T09:12:13.100Z"
   },
   {
    "duration": 28,
    "start_time": "2025-07-13T09:12:13.121Z"
   },
   {
    "duration": 34,
    "start_time": "2025-07-13T09:12:13.151Z"
   },
   {
    "duration": 367,
    "start_time": "2025-07-13T09:12:13.187Z"
   },
   {
    "duration": 7,
    "start_time": "2025-07-13T09:12:13.556Z"
   },
   {
    "duration": 9,
    "start_time": "2025-07-13T09:12:46.610Z"
   },
   {
    "duration": 187,
    "start_time": "2025-07-13T09:12:50.054Z"
   },
   {
    "duration": 14,
    "start_time": "2025-07-13T09:12:58.954Z"
   },
   {
    "duration": 15,
    "start_time": "2025-07-13T09:13:07.215Z"
   },
   {
    "duration": 166,
    "start_time": "2025-07-13T09:13:32.858Z"
   },
   {
    "duration": 19,
    "start_time": "2025-07-13T09:13:47.117Z"
   },
   {
    "duration": 169,
    "start_time": "2025-07-13T09:13:49.255Z"
   },
   {
    "duration": 10,
    "start_time": "2025-07-13T09:14:05.661Z"
   },
   {
    "duration": 90,
    "start_time": "2025-07-13T09:16:49.190Z"
   },
   {
    "duration": 94,
    "start_time": "2025-07-13T09:16:52.853Z"
   },
   {
    "duration": 367,
    "start_time": "2025-07-13T09:17:09.612Z"
   },
   {
    "duration": 311,
    "start_time": "2025-07-13T09:17:17.167Z"
   },
   {
    "duration": 243,
    "start_time": "2025-07-13T09:21:19.854Z"
   },
   {
    "duration": 169,
    "start_time": "2025-07-13T09:21:29.343Z"
   },
   {
    "duration": 183,
    "start_time": "2025-07-13T09:21:34.724Z"
   },
   {
    "duration": 224,
    "start_time": "2025-07-13T09:21:41.191Z"
   },
   {
    "duration": 177,
    "start_time": "2025-07-13T09:23:13.514Z"
   },
   {
    "duration": 213,
    "start_time": "2025-07-13T09:23:27.488Z"
   },
   {
    "duration": 17,
    "start_time": "2025-07-13T09:23:36.702Z"
   },
   {
    "duration": 356,
    "start_time": "2025-07-13T09:23:45.345Z"
   },
   {
    "duration": 8,
    "start_time": "2025-07-13T09:24:18.657Z"
   },
   {
    "duration": 112,
    "start_time": "2025-07-13T09:24:22.166Z"
   },
   {
    "duration": 12,
    "start_time": "2025-07-13T09:25:05.362Z"
   },
   {
    "duration": 10,
    "start_time": "2025-07-13T09:25:25.426Z"
   },
   {
    "duration": 275,
    "start_time": "2025-07-13T09:25:32.377Z"
   },
   {
    "duration": 6,
    "start_time": "2025-07-13T09:25:51.311Z"
   },
   {
    "duration": 263,
    "start_time": "2025-07-13T09:27:16.321Z"
   },
   {
    "duration": 324,
    "start_time": "2025-07-13T09:27:30.718Z"
   },
   {
    "duration": 244,
    "start_time": "2025-07-13T09:27:55.586Z"
   },
   {
    "duration": 341,
    "start_time": "2025-07-13T09:28:56.720Z"
   },
   {
    "duration": 607,
    "start_time": "2025-07-13T09:29:26.013Z"
   },
   {
    "duration": 431,
    "start_time": "2025-07-13T09:29:36.795Z"
   },
   {
    "duration": 520,
    "start_time": "2025-07-13T09:29:41.938Z"
   },
   {
    "duration": 329,
    "start_time": "2025-07-13T09:31:08.349Z"
   },
   {
    "duration": 472,
    "start_time": "2025-07-13T09:31:12.706Z"
   },
   {
    "duration": 471,
    "start_time": "2025-07-13T09:33:50.569Z"
   },
   {
    "duration": 20,
    "start_time": "2025-07-13T09:34:14.721Z"
   },
   {
    "duration": 34,
    "start_time": "2025-07-13T09:34:21.595Z"
   },
   {
    "duration": 12,
    "start_time": "2025-07-13T09:34:52.639Z"
   },
   {
    "duration": 373,
    "start_time": "2025-07-13T09:34:54.986Z"
   },
   {
    "duration": 7,
    "start_time": "2025-07-13T09:35:09.402Z"
   },
   {
    "duration": 297,
    "start_time": "2025-07-13T10:58:39.551Z"
   },
   {
    "duration": 329,
    "start_time": "2025-07-13T10:59:27.640Z"
   },
   {
    "duration": 100,
    "start_time": "2025-07-13T11:00:03.309Z"
   },
   {
    "duration": 366,
    "start_time": "2025-07-13T11:00:13.316Z"
   },
   {
    "duration": 375,
    "start_time": "2025-07-13T11:11:22.260Z"
   },
   {
    "duration": 166,
    "start_time": "2025-07-13T11:24:27.819Z"
   },
   {
    "duration": 16,
    "start_time": "2025-07-13T11:37:43.640Z"
   },
   {
    "duration": 92,
    "start_time": "2025-07-13T11:44:12.778Z"
   },
   {
    "duration": 4372,
    "start_time": "2025-07-13T17:51:47.621Z"
   },
   {
    "duration": 1283,
    "start_time": "2025-07-13T17:51:51.995Z"
   },
   {
    "duration": 269,
    "start_time": "2025-07-13T17:51:53.280Z"
   },
   {
    "duration": 89,
    "start_time": "2025-07-13T17:51:53.558Z"
   },
   {
    "duration": 27,
    "start_time": "2025-07-13T17:51:53.650Z"
   },
   {
    "duration": 18,
    "start_time": "2025-07-13T17:51:53.679Z"
   },
   {
    "duration": 23,
    "start_time": "2025-07-13T17:51:53.699Z"
   },
   {
    "duration": 40,
    "start_time": "2025-07-13T17:51:53.724Z"
   },
   {
    "duration": 26,
    "start_time": "2025-07-13T17:51:53.772Z"
   },
   {
    "duration": 14,
    "start_time": "2025-07-13T17:51:53.800Z"
   },
   {
    "duration": 20,
    "start_time": "2025-07-13T17:51:53.816Z"
   },
   {
    "duration": 37,
    "start_time": "2025-07-13T17:51:53.838Z"
   },
   {
    "duration": 115,
    "start_time": "2025-07-13T17:51:53.877Z"
   },
   {
    "duration": 6,
    "start_time": "2025-07-13T17:51:53.993Z"
   },
   {
    "duration": 12,
    "start_time": "2025-07-13T17:51:54.000Z"
   },
   {
    "duration": 4,
    "start_time": "2025-07-13T17:51:54.013Z"
   },
   {
    "duration": 12,
    "start_time": "2025-07-13T17:51:54.019Z"
   },
   {
    "duration": 4,
    "start_time": "2025-07-13T17:51:54.033Z"
   },
   {
    "duration": 12,
    "start_time": "2025-07-13T17:51:54.039Z"
   },
   {
    "duration": 19,
    "start_time": "2025-07-13T17:51:54.059Z"
   },
   {
    "duration": 197,
    "start_time": "2025-07-13T17:51:54.081Z"
   },
   {
    "duration": 4,
    "start_time": "2025-07-13T17:51:54.280Z"
   },
   {
    "duration": 11,
    "start_time": "2025-07-13T17:51:54.286Z"
   },
   {
    "duration": 221,
    "start_time": "2025-07-13T17:51:54.298Z"
   },
   {
    "duration": 13,
    "start_time": "2025-07-13T17:51:54.521Z"
   },
   {
    "duration": 303,
    "start_time": "2025-07-13T17:51:54.551Z"
   },
   {
    "duration": 6,
    "start_time": "2025-07-13T17:51:54.857Z"
   },
   {
    "duration": 10,
    "start_time": "2025-07-13T17:51:54.876Z"
   },
   {
    "duration": 204,
    "start_time": "2025-07-13T17:51:54.887Z"
   },
   {
    "duration": 17,
    "start_time": "2025-07-13T17:51:55.093Z"
   },
   {
    "duration": 483,
    "start_time": "2025-07-13T17:51:55.111Z"
   },
   {
    "duration": 9,
    "start_time": "2025-07-13T17:51:55.596Z"
   },
   {
    "duration": 146,
    "start_time": "2025-07-13T17:51:55.607Z"
   },
   {
    "duration": 22,
    "start_time": "2025-07-13T17:51:55.755Z"
   },
   {
    "duration": 354,
    "start_time": "2025-07-13T17:51:55.780Z"
   },
   {
    "duration": 32,
    "start_time": "2025-07-13T17:51:56.135Z"
   },
   {
    "duration": 294,
    "start_time": "2025-07-13T17:51:56.173Z"
   },
   {
    "duration": 7,
    "start_time": "2025-07-13T17:51:56.469Z"
   },
   {
    "duration": 12712,
    "start_time": "2025-07-13T17:51:56.477Z"
   },
   {
    "duration": 332,
    "start_time": "2025-07-13T17:52:09.191Z"
   },
   {
    "duration": 276,
    "start_time": "2025-07-13T17:52:09.525Z"
   },
   {
    "duration": 1436,
    "start_time": "2025-07-13T17:52:09.803Z"
   },
   {
    "duration": 33,
    "start_time": "2025-07-13T17:52:11.251Z"
   },
   {
    "duration": 384,
    "start_time": "2025-07-13T17:52:11.286Z"
   },
   {
    "duration": 21,
    "start_time": "2025-07-13T17:52:11.673Z"
   },
   {
    "duration": 17,
    "start_time": "2025-07-13T17:52:11.695Z"
   },
   {
    "duration": 455,
    "start_time": "2025-07-13T17:52:11.714Z"
   },
   {
    "duration": 7,
    "start_time": "2025-07-13T17:52:12.174Z"
   },
   {
    "duration": 2819,
    "start_time": "2025-07-13T18:22:30.918Z"
   },
   {
    "duration": 1291,
    "start_time": "2025-07-13T18:22:33.740Z"
   },
   {
    "duration": 304,
    "start_time": "2025-07-13T18:22:35.033Z"
   },
   {
    "duration": 154,
    "start_time": "2025-07-13T18:22:35.339Z"
   },
   {
    "duration": 16,
    "start_time": "2025-07-13T18:22:35.496Z"
   },
   {
    "duration": 49,
    "start_time": "2025-07-13T18:22:35.514Z"
   },
   {
    "duration": 14,
    "start_time": "2025-07-13T18:22:35.565Z"
   },
   {
    "duration": 26,
    "start_time": "2025-07-13T18:22:35.582Z"
   },
   {
    "duration": 64,
    "start_time": "2025-07-13T18:22:35.610Z"
   },
   {
    "duration": 15,
    "start_time": "2025-07-13T18:22:35.675Z"
   },
   {
    "duration": 24,
    "start_time": "2025-07-13T18:22:35.692Z"
   },
   {
    "duration": 11,
    "start_time": "2025-07-13T18:22:35.717Z"
   },
   {
    "duration": 27,
    "start_time": "2025-07-13T18:22:35.750Z"
   },
   {
    "duration": 6,
    "start_time": "2025-07-13T18:22:35.780Z"
   },
   {
    "duration": 25,
    "start_time": "2025-07-13T18:22:35.787Z"
   },
   {
    "duration": 36,
    "start_time": "2025-07-13T18:22:35.814Z"
   },
   {
    "duration": 24,
    "start_time": "2025-07-13T18:22:35.852Z"
   },
   {
    "duration": 4,
    "start_time": "2025-07-13T18:22:35.878Z"
   },
   {
    "duration": 18,
    "start_time": "2025-07-13T18:22:35.883Z"
   },
   {
    "duration": 25,
    "start_time": "2025-07-13T18:22:35.903Z"
   },
   {
    "duration": 260,
    "start_time": "2025-07-13T18:22:35.930Z"
   },
   {
    "duration": 5,
    "start_time": "2025-07-13T18:22:36.191Z"
   },
   {
    "duration": 44,
    "start_time": "2025-07-13T18:22:36.197Z"
   },
   {
    "duration": 237,
    "start_time": "2025-07-13T18:22:36.243Z"
   },
   {
    "duration": 19,
    "start_time": "2025-07-13T18:22:36.482Z"
   },
   {
    "duration": 315,
    "start_time": "2025-07-13T18:22:36.503Z"
   },
   {
    "duration": 4,
    "start_time": "2025-07-13T18:22:36.820Z"
   },
   {
    "duration": 26,
    "start_time": "2025-07-13T18:22:36.825Z"
   },
   {
    "duration": 226,
    "start_time": "2025-07-13T18:22:36.854Z"
   },
   {
    "duration": 16,
    "start_time": "2025-07-13T18:22:37.082Z"
   },
   {
    "duration": 386,
    "start_time": "2025-07-13T18:22:37.101Z"
   },
   {
    "duration": 9,
    "start_time": "2025-07-13T18:22:37.489Z"
   },
   {
    "duration": 137,
    "start_time": "2025-07-13T18:22:37.500Z"
   },
   {
    "duration": 21,
    "start_time": "2025-07-13T18:22:37.639Z"
   },
   {
    "duration": 377,
    "start_time": "2025-07-13T18:22:37.665Z"
   },
   {
    "duration": 19,
    "start_time": "2025-07-13T18:22:38.049Z"
   },
   {
    "duration": 450,
    "start_time": "2025-07-13T18:22:38.072Z"
   },
   {
    "duration": 5,
    "start_time": "2025-07-13T18:22:38.524Z"
   },
   {
    "duration": 13466,
    "start_time": "2025-07-13T18:22:38.531Z"
   },
   {
    "duration": 393,
    "start_time": "2025-07-13T18:22:51.999Z"
   },
   {
    "duration": 306,
    "start_time": "2025-07-13T18:22:52.397Z"
   },
   {
    "duration": 1428,
    "start_time": "2025-07-13T18:22:52.705Z"
   },
   {
    "duration": 49,
    "start_time": "2025-07-13T18:22:54.135Z"
   },
   {
    "duration": 384,
    "start_time": "2025-07-13T18:22:54.185Z"
   },
   {
    "duration": 22,
    "start_time": "2025-07-13T18:22:54.572Z"
   },
   {
    "duration": 17,
    "start_time": "2025-07-13T18:22:54.595Z"
   },
   {
    "duration": 418,
    "start_time": "2025-07-13T18:22:54.613Z"
   },
   {
    "duration": 18,
    "start_time": "2025-07-13T18:22:55.033Z"
   },
   {
    "duration": 53,
    "start_time": "2025-07-14T12:46:11.245Z"
   },
   {
    "duration": 4222,
    "start_time": "2025-07-14T12:46:22.884Z"
   },
   {
    "duration": 1427,
    "start_time": "2025-07-14T12:46:27.108Z"
   },
   {
    "duration": 287,
    "start_time": "2025-07-14T12:46:28.538Z"
   },
   {
    "duration": 98,
    "start_time": "2025-07-14T12:46:28.827Z"
   },
   {
    "duration": 17,
    "start_time": "2025-07-14T12:46:28.927Z"
   },
   {
    "duration": 29,
    "start_time": "2025-07-14T12:46:28.945Z"
   },
   {
    "duration": 29,
    "start_time": "2025-07-14T12:46:28.976Z"
   },
   {
    "duration": 12,
    "start_time": "2025-07-14T12:46:29.007Z"
   },
   {
    "duration": 29,
    "start_time": "2025-07-14T12:46:29.020Z"
   },
   {
    "duration": 15,
    "start_time": "2025-07-14T12:46:29.053Z"
   },
   {
    "duration": 19,
    "start_time": "2025-07-14T12:46:29.077Z"
   },
   {
    "duration": 12,
    "start_time": "2025-07-14T12:46:29.097Z"
   },
   {
    "duration": 63,
    "start_time": "2025-07-14T12:46:29.111Z"
   },
   {
    "duration": 6,
    "start_time": "2025-07-14T12:46:29.176Z"
   },
   {
    "duration": 132,
    "start_time": "2025-07-14T12:46:29.184Z"
   },
   {
    "duration": 0,
    "start_time": "2025-07-14T12:46:29.319Z"
   },
   {
    "duration": 0,
    "start_time": "2025-07-14T12:46:29.321Z"
   },
   {
    "duration": 0,
    "start_time": "2025-07-14T12:46:29.322Z"
   },
   {
    "duration": 0,
    "start_time": "2025-07-14T12:46:29.323Z"
   },
   {
    "duration": 0,
    "start_time": "2025-07-14T12:46:29.324Z"
   },
   {
    "duration": 0,
    "start_time": "2025-07-14T12:46:29.325Z"
   },
   {
    "duration": 0,
    "start_time": "2025-07-14T12:46:29.326Z"
   },
   {
    "duration": 0,
    "start_time": "2025-07-14T12:46:29.327Z"
   },
   {
    "duration": 0,
    "start_time": "2025-07-14T12:46:29.329Z"
   },
   {
    "duration": 0,
    "start_time": "2025-07-14T12:46:29.330Z"
   },
   {
    "duration": 0,
    "start_time": "2025-07-14T12:46:29.331Z"
   },
   {
    "duration": 0,
    "start_time": "2025-07-14T12:46:29.333Z"
   },
   {
    "duration": 0,
    "start_time": "2025-07-14T12:46:29.334Z"
   },
   {
    "duration": 0,
    "start_time": "2025-07-14T12:46:29.335Z"
   },
   {
    "duration": 0,
    "start_time": "2025-07-14T12:46:29.336Z"
   },
   {
    "duration": 0,
    "start_time": "2025-07-14T12:46:29.337Z"
   },
   {
    "duration": 0,
    "start_time": "2025-07-14T12:46:29.339Z"
   },
   {
    "duration": 0,
    "start_time": "2025-07-14T12:46:29.376Z"
   },
   {
    "duration": 0,
    "start_time": "2025-07-14T12:46:29.378Z"
   },
   {
    "duration": 0,
    "start_time": "2025-07-14T12:46:29.380Z"
   },
   {
    "duration": 0,
    "start_time": "2025-07-14T12:46:29.381Z"
   },
   {
    "duration": 0,
    "start_time": "2025-07-14T12:46:29.382Z"
   },
   {
    "duration": 0,
    "start_time": "2025-07-14T12:46:29.383Z"
   },
   {
    "duration": 0,
    "start_time": "2025-07-14T12:46:29.385Z"
   },
   {
    "duration": 0,
    "start_time": "2025-07-14T12:46:29.386Z"
   },
   {
    "duration": 0,
    "start_time": "2025-07-14T12:46:29.387Z"
   },
   {
    "duration": 0,
    "start_time": "2025-07-14T12:46:29.388Z"
   },
   {
    "duration": 0,
    "start_time": "2025-07-14T12:46:29.389Z"
   },
   {
    "duration": 0,
    "start_time": "2025-07-14T12:46:29.391Z"
   },
   {
    "duration": 0,
    "start_time": "2025-07-14T12:46:29.392Z"
   },
   {
    "duration": 0,
    "start_time": "2025-07-14T12:46:29.393Z"
   },
   {
    "duration": 0,
    "start_time": "2025-07-14T12:46:29.395Z"
   },
   {
    "duration": 0,
    "start_time": "2025-07-14T12:46:29.396Z"
   },
   {
    "duration": 9,
    "start_time": "2025-07-14T12:47:12.735Z"
   },
   {
    "duration": 13,
    "start_time": "2025-07-14T12:47:23.484Z"
   },
   {
    "duration": 9,
    "start_time": "2025-07-14T12:47:29.613Z"
   },
   {
    "duration": 9,
    "start_time": "2025-07-14T12:48:16.716Z"
   },
   {
    "duration": 14,
    "start_time": "2025-07-14T12:48:31.033Z"
   },
   {
    "duration": 103,
    "start_time": "2025-07-14T12:48:51.061Z"
   },
   {
    "duration": 1658,
    "start_time": "2025-07-14T12:49:07.470Z"
   },
   {
    "duration": 9,
    "start_time": "2025-07-14T12:51:56.054Z"
   },
   {
    "duration": 13,
    "start_time": "2025-07-14T12:52:04.934Z"
   },
   {
    "duration": 13,
    "start_time": "2025-07-14T12:52:09.286Z"
   },
   {
    "duration": 11,
    "start_time": "2025-07-14T12:55:59.735Z"
   },
   {
    "duration": 38,
    "start_time": "2025-07-14T12:56:05.835Z"
   },
   {
    "duration": 21,
    "start_time": "2025-07-14T12:56:14.997Z"
   },
   {
    "duration": 8,
    "start_time": "2025-07-14T13:35:34.528Z"
   },
   {
    "duration": 10,
    "start_time": "2025-07-14T13:35:51.145Z"
   },
   {
    "duration": 98,
    "start_time": "2025-07-14T13:38:39.519Z"
   },
   {
    "duration": 5,
    "start_time": "2025-07-14T13:39:00.958Z"
   },
   {
    "duration": 11,
    "start_time": "2025-07-14T13:39:03.659Z"
   },
   {
    "duration": 4,
    "start_time": "2025-07-14T13:39:08.200Z"
   },
   {
    "duration": 7,
    "start_time": "2025-07-14T13:40:49.784Z"
   },
   {
    "duration": 4,
    "start_time": "2025-07-14T13:41:07.889Z"
   },
   {
    "duration": 5,
    "start_time": "2025-07-14T13:41:16.708Z"
   },
   {
    "duration": 5,
    "start_time": "2025-07-14T13:41:30.350Z"
   },
   {
    "duration": 5,
    "start_time": "2025-07-14T13:41:33.205Z"
   },
   {
    "duration": 4,
    "start_time": "2025-07-14T13:50:01.302Z"
   },
   {
    "duration": 10,
    "start_time": "2025-07-14T13:50:02.388Z"
   },
   {
    "duration": 162,
    "start_time": "2025-07-14T13:50:04.687Z"
   },
   {
    "duration": 15,
    "start_time": "2025-07-14T13:51:33.109Z"
   },
   {
    "duration": 660,
    "start_time": "2025-07-14T13:51:41.954Z"
   },
   {
    "duration": 18,
    "start_time": "2025-07-14T13:52:20.299Z"
   },
   {
    "duration": 12,
    "start_time": "2025-07-14T13:56:18.605Z"
   },
   {
    "duration": 1520,
    "start_time": "2025-07-14T13:57:42.217Z"
   },
   {
    "duration": 102,
    "start_time": "2025-07-14T13:57:59.962Z"
   },
   {
    "duration": 12,
    "start_time": "2025-07-14T13:58:03.788Z"
   },
   {
    "duration": 96,
    "start_time": "2025-07-14T13:58:37.623Z"
   },
   {
    "duration": 12,
    "start_time": "2025-07-14T13:58:57.455Z"
   },
   {
    "duration": 13,
    "start_time": "2025-07-14T13:59:16.909Z"
   },
   {
    "duration": 6,
    "start_time": "2025-07-14T14:08:22.053Z"
   },
   {
    "duration": 5,
    "start_time": "2025-07-14T14:08:23.436Z"
   },
   {
    "duration": 22,
    "start_time": "2025-07-14T14:08:24.267Z"
   },
   {
    "duration": 190,
    "start_time": "2025-07-14T14:08:25.062Z"
   },
   {
    "duration": 21,
    "start_time": "2025-07-14T14:08:27.568Z"
   },
   {
    "duration": 188,
    "start_time": "2025-07-14T14:08:28.654Z"
   },
   {
    "duration": 4,
    "start_time": "2025-07-14T14:08:56.602Z"
   },
   {
    "duration": 10,
    "start_time": "2025-07-14T14:08:56.931Z"
   },
   {
    "duration": 253,
    "start_time": "2025-07-14T14:08:57.364Z"
   },
   {
    "duration": 19,
    "start_time": "2025-07-14T14:08:57.943Z"
   },
   {
    "duration": 382,
    "start_time": "2025-07-14T14:09:00.067Z"
   },
   {
    "duration": 15,
    "start_time": "2025-07-14T14:10:56.072Z"
   },
   {
    "duration": 115,
    "start_time": "2025-07-14T14:11:04.944Z"
   },
   {
    "duration": 14,
    "start_time": "2025-07-14T14:11:11.622Z"
   },
   {
    "duration": 321,
    "start_time": "2025-07-14T14:11:13.831Z"
   },
   {
    "duration": 14,
    "start_time": "2025-07-14T14:31:26.644Z"
   },
   {
    "duration": 14,
    "start_time": "2025-07-14T14:31:32.272Z"
   },
   {
    "duration": 15,
    "start_time": "2025-07-14T14:38:26.796Z"
   },
   {
    "duration": 326,
    "start_time": "2025-07-14T14:38:27.079Z"
   },
   {
    "duration": 6,
    "start_time": "2025-07-14T14:41:20.668Z"
   },
   {
    "duration": 5,
    "start_time": "2025-07-14T14:41:21.725Z"
   },
   {
    "duration": 12356,
    "start_time": "2025-07-14T14:41:22.124Z"
   },
   {
    "duration": 326,
    "start_time": "2025-07-14T14:41:34.483Z"
   },
   {
    "duration": 217,
    "start_time": "2025-07-14T14:41:34.811Z"
   },
   {
    "duration": 1538,
    "start_time": "2025-07-14T14:41:35.030Z"
   },
   {
    "duration": 25,
    "start_time": "2025-07-14T14:53:24.937Z"
   },
   {
    "duration": 355,
    "start_time": "2025-07-14T14:53:25.257Z"
   },
   {
    "duration": 24,
    "start_time": "2025-07-14T14:53:25.783Z"
   },
   {
    "duration": 17,
    "start_time": "2025-07-14T16:25:21.932Z"
   },
   {
    "duration": 374,
    "start_time": "2025-07-14T16:25:22.513Z"
   },
   {
    "duration": 15,
    "start_time": "2025-07-14T16:31:04.912Z"
   },
   {
    "duration": 23,
    "start_time": "2025-07-14T16:31:27.872Z"
   },
   {
    "duration": 24,
    "start_time": "2025-07-14T16:34:21.933Z"
   },
   {
    "duration": 38,
    "start_time": "2025-07-14T16:34:29.390Z"
   },
   {
    "duration": 578,
    "start_time": "2025-07-14T16:38:18.885Z"
   },
   {
    "duration": 543,
    "start_time": "2025-07-14T16:39:59.653Z"
   },
   {
    "duration": 706,
    "start_time": "2025-07-14T16:40:19.581Z"
   },
   {
    "duration": 552,
    "start_time": "2025-07-14T16:44:25.230Z"
   },
   {
    "duration": 563,
    "start_time": "2025-07-14T16:45:12.635Z"
   },
   {
    "duration": 583,
    "start_time": "2025-07-14T16:45:24.922Z"
   },
   {
    "duration": 13,
    "start_time": "2025-07-14T16:49:39.333Z"
   },
   {
    "duration": 34,
    "start_time": "2025-07-14T16:49:43.050Z"
   },
   {
    "duration": 48,
    "start_time": "2025-07-14T16:49:43.954Z"
   },
   {
    "duration": 1387,
    "start_time": "2025-07-14T16:49:44.505Z"
   },
   {
    "duration": 20,
    "start_time": "2025-07-14T16:50:12.421Z"
   },
   {
    "duration": 2365,
    "start_time": "2025-07-14T16:52:14.821Z"
   },
   {
    "duration": 9,
    "start_time": "2025-07-14T16:53:02.248Z"
   },
   {
    "duration": 343,
    "start_time": "2025-07-14T16:54:09.842Z"
   },
   {
    "duration": 2600,
    "start_time": "2025-07-14T16:55:24.042Z"
   },
   {
    "duration": 1180,
    "start_time": "2025-07-14T16:55:26.644Z"
   },
   {
    "duration": 267,
    "start_time": "2025-07-14T16:55:27.826Z"
   },
   {
    "duration": 94,
    "start_time": "2025-07-14T16:55:28.096Z"
   },
   {
    "duration": 16,
    "start_time": "2025-07-14T16:55:28.196Z"
   },
   {
    "duration": 104,
    "start_time": "2025-07-14T16:55:28.214Z"
   },
   {
    "duration": 69,
    "start_time": "2025-07-14T16:55:28.319Z"
   },
   {
    "duration": 46,
    "start_time": "2025-07-14T16:55:28.393Z"
   },
   {
    "duration": 68,
    "start_time": "2025-07-14T16:55:28.441Z"
   },
   {
    "duration": 128,
    "start_time": "2025-07-14T16:55:28.512Z"
   },
   {
    "duration": 85,
    "start_time": "2025-07-14T16:55:28.642Z"
   },
   {
    "duration": 70,
    "start_time": "2025-07-14T16:55:28.729Z"
   },
   {
    "duration": 25,
    "start_time": "2025-07-14T16:55:28.802Z"
   },
   {
    "duration": 53,
    "start_time": "2025-07-14T16:55:28.829Z"
   },
   {
    "duration": 30,
    "start_time": "2025-07-14T16:55:28.885Z"
   },
   {
    "duration": 30,
    "start_time": "2025-07-14T16:55:28.917Z"
   },
   {
    "duration": 31,
    "start_time": "2025-07-14T16:55:28.948Z"
   },
   {
    "duration": 25,
    "start_time": "2025-07-14T16:55:28.985Z"
   },
   {
    "duration": 56,
    "start_time": "2025-07-14T16:55:29.012Z"
   },
   {
    "duration": 33,
    "start_time": "2025-07-14T16:55:29.070Z"
   },
   {
    "duration": 113,
    "start_time": "2025-07-14T16:55:29.105Z"
   },
   {
    "duration": 89,
    "start_time": "2025-07-14T16:55:29.219Z"
   },
   {
    "duration": 1795,
    "start_time": "2025-07-14T16:55:29.309Z"
   },
   {
    "duration": 0,
    "start_time": "2025-07-14T16:55:31.106Z"
   },
   {
    "duration": 0,
    "start_time": "2025-07-14T16:55:31.107Z"
   },
   {
    "duration": 0,
    "start_time": "2025-07-14T16:55:31.109Z"
   },
   {
    "duration": 0,
    "start_time": "2025-07-14T16:55:31.110Z"
   },
   {
    "duration": 0,
    "start_time": "2025-07-14T16:55:31.111Z"
   },
   {
    "duration": 0,
    "start_time": "2025-07-14T16:55:31.113Z"
   },
   {
    "duration": 0,
    "start_time": "2025-07-14T16:55:31.114Z"
   },
   {
    "duration": 0,
    "start_time": "2025-07-14T16:55:31.115Z"
   },
   {
    "duration": 0,
    "start_time": "2025-07-14T16:55:31.116Z"
   },
   {
    "duration": 0,
    "start_time": "2025-07-14T16:55:31.117Z"
   },
   {
    "duration": 0,
    "start_time": "2025-07-14T16:55:31.119Z"
   },
   {
    "duration": 0,
    "start_time": "2025-07-14T16:55:31.119Z"
   },
   {
    "duration": 0,
    "start_time": "2025-07-14T16:55:31.121Z"
   },
   {
    "duration": 0,
    "start_time": "2025-07-14T16:55:31.122Z"
   },
   {
    "duration": 0,
    "start_time": "2025-07-14T16:55:31.123Z"
   },
   {
    "duration": 0,
    "start_time": "2025-07-14T16:55:31.124Z"
   },
   {
    "duration": 0,
    "start_time": "2025-07-14T16:55:31.127Z"
   },
   {
    "duration": 0,
    "start_time": "2025-07-14T16:55:31.128Z"
   },
   {
    "duration": 0,
    "start_time": "2025-07-14T16:55:31.129Z"
   },
   {
    "duration": 0,
    "start_time": "2025-07-14T16:55:31.130Z"
   },
   {
    "duration": 0,
    "start_time": "2025-07-14T16:55:31.132Z"
   },
   {
    "duration": 0,
    "start_time": "2025-07-14T16:55:31.134Z"
   },
   {
    "duration": 0,
    "start_time": "2025-07-14T16:55:31.135Z"
   },
   {
    "duration": 0,
    "start_time": "2025-07-14T16:55:31.137Z"
   },
   {
    "duration": 0,
    "start_time": "2025-07-14T16:55:31.138Z"
   },
   {
    "duration": 0,
    "start_time": "2025-07-14T16:55:31.140Z"
   },
   {
    "duration": 0,
    "start_time": "2025-07-14T16:55:31.176Z"
   },
   {
    "duration": 0,
    "start_time": "2025-07-14T16:55:31.177Z"
   },
   {
    "duration": 0,
    "start_time": "2025-07-14T16:55:31.183Z"
   },
   {
    "duration": 35,
    "start_time": "2025-07-14T16:55:42.393Z"
   },
   {
    "duration": 8,
    "start_time": "2025-07-14T16:55:43.429Z"
   },
   {
    "duration": 173,
    "start_time": "2025-07-14T16:57:37.853Z"
   },
   {
    "duration": 398,
    "start_time": "2025-07-14T17:00:52.326Z"
   },
   {
    "duration": 335,
    "start_time": "2025-07-14T17:01:35.022Z"
   },
   {
    "duration": 39,
    "start_time": "2025-07-14T17:02:38.693Z"
   },
   {
    "duration": 44,
    "start_time": "2025-07-14T17:02:43.865Z"
   },
   {
    "duration": 13,
    "start_time": "2025-07-14T17:06:11.653Z"
   },
   {
    "duration": 255,
    "start_time": "2025-07-14T17:06:26.762Z"
   },
   {
    "duration": 689,
    "start_time": "2025-07-14T17:09:29.333Z"
   },
   {
    "duration": 15,
    "start_time": "2025-07-14T17:09:54.434Z"
   },
   {
    "duration": 1791,
    "start_time": "2025-07-14T17:10:37.953Z"
   },
   {
    "duration": 1410,
    "start_time": "2025-07-14T17:10:53.998Z"
   },
   {
    "duration": 1477,
    "start_time": "2025-07-14T17:12:14.073Z"
   },
   {
    "duration": 3208,
    "start_time": "2025-07-14T17:12:41.412Z"
   },
   {
    "duration": 1620,
    "start_time": "2025-07-14T17:15:04.770Z"
   },
   {
    "duration": 7584,
    "start_time": "2025-07-14T17:15:21.143Z"
   },
   {
    "duration": 5128,
    "start_time": "2025-07-14T17:15:56.221Z"
   },
   {
    "duration": 5120,
    "start_time": "2025-07-14T17:16:19.522Z"
   },
   {
    "duration": 1423,
    "start_time": "2025-07-14T17:17:06.588Z"
   },
   {
    "duration": 7,
    "start_time": "2025-07-14T17:17:53.325Z"
   },
   {
    "duration": 3787,
    "start_time": "2025-07-14T17:20:51.905Z"
   },
   {
    "duration": 4181,
    "start_time": "2025-07-14T17:21:26.224Z"
   },
   {
    "duration": 9,
    "start_time": "2025-07-14T17:37:02.365Z"
   },
   {
    "duration": 138,
    "start_time": "2025-07-14T17:37:03.473Z"
   },
   {
    "duration": 10,
    "start_time": "2025-07-14T17:38:42.113Z"
   },
   {
    "duration": 295,
    "start_time": "2025-07-14T17:38:43.271Z"
   },
   {
    "duration": 11,
    "start_time": "2025-07-14T17:42:02.634Z"
   },
   {
    "duration": 419,
    "start_time": "2025-07-14T17:42:10.946Z"
   },
   {
    "duration": 12,
    "start_time": "2025-07-14T17:42:41.418Z"
   },
   {
    "duration": 327,
    "start_time": "2025-07-14T17:42:43.218Z"
   },
   {
    "duration": 335,
    "start_time": "2025-07-14T17:43:40.644Z"
   },
   {
    "duration": 1374,
    "start_time": "2025-07-14T17:48:05.033Z"
   },
   {
    "duration": 2469,
    "start_time": "2025-07-14T17:50:54.364Z"
   },
   {
    "duration": 1182,
    "start_time": "2025-07-14T17:50:56.836Z"
   },
   {
    "duration": 232,
    "start_time": "2025-07-14T17:50:58.019Z"
   },
   {
    "duration": 80,
    "start_time": "2025-07-14T17:50:58.253Z"
   },
   {
    "duration": 14,
    "start_time": "2025-07-14T17:50:58.334Z"
   },
   {
    "duration": 109,
    "start_time": "2025-07-14T17:50:58.350Z"
   },
   {
    "duration": 11,
    "start_time": "2025-07-14T17:50:58.461Z"
   },
   {
    "duration": 33,
    "start_time": "2025-07-14T17:50:58.473Z"
   },
   {
    "duration": 34,
    "start_time": "2025-07-14T17:50:58.508Z"
   },
   {
    "duration": 13,
    "start_time": "2025-07-14T17:50:58.544Z"
   },
   {
    "duration": 22,
    "start_time": "2025-07-14T17:50:58.559Z"
   },
   {
    "duration": 19,
    "start_time": "2025-07-14T17:50:58.583Z"
   },
   {
    "duration": 27,
    "start_time": "2025-07-14T17:50:58.603Z"
   },
   {
    "duration": 5,
    "start_time": "2025-07-14T17:50:58.632Z"
   },
   {
    "duration": 24,
    "start_time": "2025-07-14T17:50:58.638Z"
   },
   {
    "duration": 23,
    "start_time": "2025-07-14T17:50:58.664Z"
   },
   {
    "duration": 89,
    "start_time": "2025-07-14T17:50:58.689Z"
   },
   {
    "duration": 9,
    "start_time": "2025-07-14T17:50:58.779Z"
   },
   {
    "duration": 25,
    "start_time": "2025-07-14T17:50:58.790Z"
   },
   {
    "duration": 44,
    "start_time": "2025-07-14T17:50:58.817Z"
   },
   {
    "duration": 33,
    "start_time": "2025-07-14T17:50:58.863Z"
   },
   {
    "duration": 23,
    "start_time": "2025-07-14T17:50:58.898Z"
   },
   {
    "duration": 1563,
    "start_time": "2025-07-14T17:50:58.923Z"
   },
   {
    "duration": 0,
    "start_time": "2025-07-14T17:51:00.489Z"
   },
   {
    "duration": 0,
    "start_time": "2025-07-14T17:51:00.490Z"
   },
   {
    "duration": 0,
    "start_time": "2025-07-14T17:51:00.491Z"
   },
   {
    "duration": 0,
    "start_time": "2025-07-14T17:51:00.492Z"
   },
   {
    "duration": 0,
    "start_time": "2025-07-14T17:51:00.493Z"
   },
   {
    "duration": 0,
    "start_time": "2025-07-14T17:51:00.494Z"
   },
   {
    "duration": 0,
    "start_time": "2025-07-14T17:51:00.495Z"
   },
   {
    "duration": 0,
    "start_time": "2025-07-14T17:51:00.497Z"
   },
   {
    "duration": 0,
    "start_time": "2025-07-14T17:51:00.498Z"
   },
   {
    "duration": 0,
    "start_time": "2025-07-14T17:51:00.500Z"
   },
   {
    "duration": 0,
    "start_time": "2025-07-14T17:51:00.501Z"
   },
   {
    "duration": 0,
    "start_time": "2025-07-14T17:51:00.502Z"
   },
   {
    "duration": 0,
    "start_time": "2025-07-14T17:51:00.504Z"
   },
   {
    "duration": 0,
    "start_time": "2025-07-14T17:51:00.505Z"
   },
   {
    "duration": 0,
    "start_time": "2025-07-14T17:51:00.506Z"
   },
   {
    "duration": 0,
    "start_time": "2025-07-14T17:51:00.508Z"
   },
   {
    "duration": 0,
    "start_time": "2025-07-14T17:51:00.509Z"
   },
   {
    "duration": 0,
    "start_time": "2025-07-14T17:51:00.510Z"
   },
   {
    "duration": 0,
    "start_time": "2025-07-14T17:51:00.511Z"
   },
   {
    "duration": 0,
    "start_time": "2025-07-14T17:51:00.512Z"
   },
   {
    "duration": 0,
    "start_time": "2025-07-14T17:51:00.514Z"
   },
   {
    "duration": 0,
    "start_time": "2025-07-14T17:51:00.515Z"
   },
   {
    "duration": 0,
    "start_time": "2025-07-14T17:51:00.516Z"
   },
   {
    "duration": 0,
    "start_time": "2025-07-14T17:51:00.517Z"
   },
   {
    "duration": 0,
    "start_time": "2025-07-14T17:51:00.518Z"
   },
   {
    "duration": 0,
    "start_time": "2025-07-14T17:51:00.519Z"
   },
   {
    "duration": 0,
    "start_time": "2025-07-14T17:51:00.520Z"
   },
   {
    "duration": 0,
    "start_time": "2025-07-14T17:51:00.521Z"
   },
   {
    "duration": 1804,
    "start_time": "2025-07-14T17:51:55.092Z"
   },
   {
    "duration": 232,
    "start_time": "2025-07-14T17:52:29.722Z"
   },
   {
    "duration": 285,
    "start_time": "2025-07-14T17:52:47.641Z"
   },
   {
    "duration": 306,
    "start_time": "2025-07-14T17:52:55.034Z"
   },
   {
    "duration": 6,
    "start_time": "2025-07-14T17:53:05.893Z"
   },
   {
    "duration": 14,
    "start_time": "2025-07-14T17:53:06.770Z"
   },
   {
    "duration": 1411,
    "start_time": "2025-07-14T17:53:07.533Z"
   },
   {
    "duration": 196,
    "start_time": "2025-07-14T17:53:30.061Z"
   },
   {
    "duration": 195,
    "start_time": "2025-07-14T17:53:34.833Z"
   },
   {
    "duration": 14,
    "start_time": "2025-07-14T17:53:38.384Z"
   },
   {
    "duration": 189,
    "start_time": "2025-07-14T17:53:40.580Z"
   },
   {
    "duration": 158,
    "start_time": "2025-07-14T17:55:34.433Z"
   },
   {
    "duration": 3,
    "start_time": "2025-07-14T17:55:39.062Z"
   },
   {
    "duration": 9,
    "start_time": "2025-07-14T17:55:39.682Z"
   },
   {
    "duration": 157,
    "start_time": "2025-07-14T17:55:40.242Z"
   },
   {
    "duration": 18,
    "start_time": "2025-07-14T17:55:41.306Z"
   },
   {
    "duration": 362,
    "start_time": "2025-07-14T17:55:42.065Z"
   },
   {
    "duration": 9,
    "start_time": "2025-07-14T17:55:47.094Z"
   },
   {
    "duration": 109,
    "start_time": "2025-07-14T17:55:47.842Z"
   },
   {
    "duration": 11,
    "start_time": "2025-07-14T17:55:50.502Z"
   },
   {
    "duration": 317,
    "start_time": "2025-07-14T17:55:51.014Z"
   },
   {
    "duration": 11,
    "start_time": "2025-07-14T17:55:53.294Z"
   },
   {
    "duration": 258,
    "start_time": "2025-07-14T17:55:53.893Z"
   },
   {
    "duration": 5,
    "start_time": "2025-07-14T17:55:56.274Z"
   },
   {
    "duration": 10371,
    "start_time": "2025-07-14T17:55:56.870Z"
   },
   {
    "duration": 351,
    "start_time": "2025-07-14T17:56:07.243Z"
   },
   {
    "duration": 281,
    "start_time": "2025-07-14T17:56:08.742Z"
   },
   {
    "duration": 1154,
    "start_time": "2025-07-14T17:56:09.982Z"
   },
   {
    "duration": 24,
    "start_time": "2025-07-14T17:56:20.362Z"
   },
   {
    "duration": 353,
    "start_time": "2025-07-14T17:56:21.210Z"
   },
   {
    "duration": 19,
    "start_time": "2025-07-14T17:56:22.134Z"
   },
   {
    "duration": 33,
    "start_time": "2025-07-14T17:56:29.001Z"
   },
   {
    "duration": 10,
    "start_time": "2025-07-14T17:56:29.164Z"
   },
   {
    "duration": 3196,
    "start_time": "2025-07-14T17:56:29.520Z"
   },
   {
    "duration": 123,
    "start_time": "2025-07-14T17:56:32.718Z"
   },
   {
    "duration": 3999,
    "start_time": "2025-07-14T17:57:09.922Z"
   },
   {
    "duration": 3776,
    "start_time": "2025-07-14T17:57:38.002Z"
   },
   {
    "duration": 2690,
    "start_time": "2025-07-14T17:58:48.333Z"
   },
   {
    "duration": 3181,
    "start_time": "2025-07-14T17:59:54.700Z"
   },
   {
    "duration": 3987,
    "start_time": "2025-07-15T11:23:09.923Z"
   },
   {
    "duration": 1233,
    "start_time": "2025-07-15T11:23:13.912Z"
   },
   {
    "duration": 258,
    "start_time": "2025-07-15T11:23:15.147Z"
   },
   {
    "duration": 84,
    "start_time": "2025-07-15T11:23:15.407Z"
   },
   {
    "duration": 15,
    "start_time": "2025-07-15T11:23:15.493Z"
   },
   {
    "duration": 16,
    "start_time": "2025-07-15T11:23:15.510Z"
   },
   {
    "duration": 15,
    "start_time": "2025-07-15T11:23:15.528Z"
   },
   {
    "duration": 9,
    "start_time": "2025-07-15T11:23:15.545Z"
   },
   {
    "duration": 44,
    "start_time": "2025-07-15T11:23:15.556Z"
   },
   {
    "duration": 16,
    "start_time": "2025-07-15T11:23:15.603Z"
   },
   {
    "duration": 18,
    "start_time": "2025-07-15T11:23:15.620Z"
   },
   {
    "duration": 10,
    "start_time": "2025-07-15T11:23:15.640Z"
   },
   {
    "duration": 54,
    "start_time": "2025-07-15T11:23:15.652Z"
   },
   {
    "duration": 5,
    "start_time": "2025-07-15T11:23:15.708Z"
   },
   {
    "duration": 17,
    "start_time": "2025-07-15T11:23:15.715Z"
   },
   {
    "duration": 24,
    "start_time": "2025-07-15T11:23:15.734Z"
   },
   {
    "duration": 33,
    "start_time": "2025-07-15T11:23:15.760Z"
   },
   {
    "duration": 31,
    "start_time": "2025-07-15T11:23:15.795Z"
   },
   {
    "duration": 22,
    "start_time": "2025-07-15T11:23:15.828Z"
   },
   {
    "duration": 5,
    "start_time": "2025-07-15T11:23:15.852Z"
   },
   {
    "duration": 28,
    "start_time": "2025-07-15T11:23:15.860Z"
   },
   {
    "duration": 15,
    "start_time": "2025-07-15T11:23:15.890Z"
   },
   {
    "duration": 302,
    "start_time": "2025-07-15T11:23:15.907Z"
   },
   {
    "duration": 5,
    "start_time": "2025-07-15T11:23:16.211Z"
   },
   {
    "duration": 25,
    "start_time": "2025-07-15T11:23:16.217Z"
   },
   {
    "duration": 258,
    "start_time": "2025-07-15T11:23:16.243Z"
   },
   {
    "duration": 16,
    "start_time": "2025-07-15T11:23:16.503Z"
   },
   {
    "duration": 268,
    "start_time": "2025-07-15T11:23:16.522Z"
   },
   {
    "duration": 4,
    "start_time": "2025-07-15T11:23:16.791Z"
   },
   {
    "duration": 14,
    "start_time": "2025-07-15T11:23:16.797Z"
   },
   {
    "duration": 199,
    "start_time": "2025-07-15T11:23:16.813Z"
   },
   {
    "duration": 17,
    "start_time": "2025-07-15T11:23:17.014Z"
   },
   {
    "duration": 375,
    "start_time": "2025-07-15T11:23:17.033Z"
   },
   {
    "duration": 9,
    "start_time": "2025-07-15T11:23:17.410Z"
   },
   {
    "duration": 127,
    "start_time": "2025-07-15T11:23:17.420Z"
   },
   {
    "duration": 12,
    "start_time": "2025-07-15T11:23:17.548Z"
   },
   {
    "duration": 306,
    "start_time": "2025-07-15T11:23:17.562Z"
   },
   {
    "duration": 24,
    "start_time": "2025-07-15T11:23:17.870Z"
   },
   {
    "duration": 272,
    "start_time": "2025-07-15T11:23:17.895Z"
   },
   {
    "duration": 6,
    "start_time": "2025-07-15T11:23:18.169Z"
   },
   {
    "duration": 10731,
    "start_time": "2025-07-15T11:23:18.177Z"
   },
   {
    "duration": 307,
    "start_time": "2025-07-15T11:23:28.910Z"
   },
   {
    "duration": 222,
    "start_time": "2025-07-15T11:23:29.218Z"
   },
   {
    "duration": 1308,
    "start_time": "2025-07-15T11:23:29.442Z"
   },
   {
    "duration": 24,
    "start_time": "2025-07-15T11:23:30.752Z"
   },
   {
    "duration": 346,
    "start_time": "2025-07-15T11:23:30.790Z"
   },
   {
    "duration": 19,
    "start_time": "2025-07-15T11:23:31.138Z"
   },
   {
    "duration": 51,
    "start_time": "2025-07-15T11:23:31.159Z"
   },
   {
    "duration": 9,
    "start_time": "2025-07-15T11:23:31.212Z"
   },
   {
    "duration": 3198,
    "start_time": "2025-07-15T11:23:31.223Z"
   },
   {
    "duration": 2711,
    "start_time": "2025-07-15T11:23:34.423Z"
   },
   {
    "duration": 2652,
    "start_time": "2025-07-15T12:20:24.122Z"
   },
   {
    "duration": 1255,
    "start_time": "2025-07-15T12:20:26.776Z"
   },
   {
    "duration": 251,
    "start_time": "2025-07-15T12:20:28.033Z"
   },
   {
    "duration": 84,
    "start_time": "2025-07-15T12:20:28.290Z"
   },
   {
    "duration": 15,
    "start_time": "2025-07-15T12:20:28.376Z"
   },
   {
    "duration": 126,
    "start_time": "2025-07-15T12:20:28.393Z"
   },
   {
    "duration": 25,
    "start_time": "2025-07-15T12:20:28.521Z"
   },
   {
    "duration": 47,
    "start_time": "2025-07-15T12:20:28.548Z"
   },
   {
    "duration": 36,
    "start_time": "2025-07-15T12:20:28.597Z"
   },
   {
    "duration": 50,
    "start_time": "2025-07-15T12:20:28.636Z"
   },
   {
    "duration": 181,
    "start_time": "2025-07-15T12:20:28.687Z"
   },
   {
    "duration": 33,
    "start_time": "2025-07-15T12:20:28.870Z"
   },
   {
    "duration": 57,
    "start_time": "2025-07-15T12:20:28.904Z"
   },
   {
    "duration": 17,
    "start_time": "2025-07-15T12:20:28.962Z"
   },
   {
    "duration": 19,
    "start_time": "2025-07-15T12:20:28.980Z"
   },
   {
    "duration": 43,
    "start_time": "2025-07-15T12:20:29.000Z"
   },
   {
    "duration": 8,
    "start_time": "2025-07-15T12:20:29.045Z"
   },
   {
    "duration": 30,
    "start_time": "2025-07-15T12:20:29.055Z"
   },
   {
    "duration": 18,
    "start_time": "2025-07-15T12:20:29.087Z"
   },
   {
    "duration": 15,
    "start_time": "2025-07-15T12:20:29.107Z"
   },
   {
    "duration": 21,
    "start_time": "2025-07-15T12:20:29.124Z"
   },
   {
    "duration": 54,
    "start_time": "2025-07-15T12:20:29.147Z"
   },
   {
    "duration": 380,
    "start_time": "2025-07-15T12:20:29.202Z"
   },
   {
    "duration": 7,
    "start_time": "2025-07-15T12:20:29.584Z"
   },
   {
    "duration": 124,
    "start_time": "2025-07-15T12:20:29.593Z"
   },
   {
    "duration": 197,
    "start_time": "2025-07-15T12:20:29.719Z"
   },
   {
    "duration": 14,
    "start_time": "2025-07-15T12:20:29.918Z"
   },
   {
    "duration": 280,
    "start_time": "2025-07-15T12:20:29.936Z"
   },
   {
    "duration": 4,
    "start_time": "2025-07-15T12:20:30.218Z"
   },
   {
    "duration": 70,
    "start_time": "2025-07-15T12:20:30.223Z"
   },
   {
    "duration": 299,
    "start_time": "2025-07-15T12:20:30.295Z"
   },
   {
    "duration": 154,
    "start_time": "2025-07-15T12:20:30.596Z"
   },
   {
    "duration": 465,
    "start_time": "2025-07-15T12:20:30.752Z"
   },
   {
    "duration": 9,
    "start_time": "2025-07-15T12:20:31.219Z"
   },
   {
    "duration": 131,
    "start_time": "2025-07-15T12:20:31.230Z"
   },
   {
    "duration": 12,
    "start_time": "2025-07-15T12:20:31.362Z"
   },
   {
    "duration": 293,
    "start_time": "2025-07-15T12:20:31.376Z"
   },
   {
    "duration": 22,
    "start_time": "2025-07-15T12:20:31.671Z"
   },
   {
    "duration": 304,
    "start_time": "2025-07-15T12:20:31.695Z"
   },
   {
    "duration": 6,
    "start_time": "2025-07-15T12:20:32.001Z"
   },
   {
    "duration": 10885,
    "start_time": "2025-07-15T12:20:32.008Z"
   },
   {
    "duration": 324,
    "start_time": "2025-07-15T12:20:42.894Z"
   },
   {
    "duration": 228,
    "start_time": "2025-07-15T12:20:43.220Z"
   },
   {
    "duration": 1327,
    "start_time": "2025-07-15T12:20:43.450Z"
   },
   {
    "duration": 33,
    "start_time": "2025-07-15T12:20:44.779Z"
   },
   {
    "duration": 388,
    "start_time": "2025-07-15T12:20:44.813Z"
   },
   {
    "duration": 20,
    "start_time": "2025-07-15T12:20:45.203Z"
   },
   {
    "duration": 37,
    "start_time": "2025-07-15T12:20:45.225Z"
   },
   {
    "duration": 31,
    "start_time": "2025-07-15T12:20:45.263Z"
   },
   {
    "duration": 3286,
    "start_time": "2025-07-15T12:20:45.295Z"
   },
   {
    "duration": 2649,
    "start_time": "2025-07-15T12:20:48.583Z"
   }
  ],
  "colab": {
   "provenance": []
  },
  "kernelspec": {
   "display_name": "Python [conda env:base] *",
   "language": "python",
   "name": "conda-base-py"
  },
  "language_info": {
   "codemirror_mode": {
    "name": "ipython",
    "version": 3
   },
   "file_extension": ".py",
   "mimetype": "text/x-python",
   "name": "python",
   "nbconvert_exporter": "python",
   "pygments_lexer": "ipython3",
   "version": "3.13.5"
  },
  "toc": {
   "base_numbering": 1,
   "nav_menu": {},
   "number_sections": true,
   "sideBar": true,
   "skip_h1_title": true,
   "title_cell": "Table of Contents",
   "title_sidebar": "Contents",
   "toc_cell": false,
   "toc_position": {},
   "toc_section_display": true,
   "toc_window_display": false
  }
 },
 "nbformat": 4,
 "nbformat_minor": 5
}
