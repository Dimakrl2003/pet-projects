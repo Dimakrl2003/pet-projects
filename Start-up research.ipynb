{
 "cells": [
  {
   "cell_type": "markdown",
   "metadata": {
    "id": "4mJbK1knrJgz"
   },
   "source": [
    "# Проект: Исследование стартапов"
   ]
  },
  {
   "cell_type": "markdown",
   "metadata": {
    "id": "P6j0r3worJg0"
   },
   "source": [
    "## Введение"
   ]
  },
  {
   "cell_type": "markdown",
   "metadata": {},
   "source": [
    "- **Цель проекта:** описать рынок стартап-финансирования, выделить типичные объёмы инвестиций, рисковые и премиальные категории, а также связь между жизненным циклом компании и числом раундов."
   ]
  },
  {
   "cell_type": "markdown",
   "metadata": {},
   "source": [
    "- **Описание данных:**\n",
    "    - Таблица acquisition cодержит информацию о покупках одними компаниями других компаний:\n",
    "        - id — идентификатор покупки.\n",
    "        - acquiring_company_id — идентификатор покупающей компании.\n",
    "        - acquired_company_id — идентификатор покупаемой компании.\n",
    "        - term_code — варианты расчёта.\n",
    "        - price_amount — сумма сделки.\n",
    "        - acquired_at — дата сделки.\n",
    "    - Таблица company_and_rounds cодержит информацию о компаниях и раундах финансирования:\n",
    "        - company ID — идентификатор компании.\n",
    "        - name — название компании.\n",
    "        - category code — категория области деятельности компании.\n",
    "        - status — статус компании.\n",
    "        - founded at — дата инвестирования.\n",
    "        - closed at — дата закрытия компании.\n",
    "        - domain — официальный сайт компании.\n",
    "        - network username — ник компании в сети.\n",
    "        - country code — код страны компании.\n",
    "        - investment rounds — число инвестиционных раундов.\n",
    "        - funding rounds — число раундов финансирования.\n",
    "        - funding total — сумма финансирования.\n",
    "        - milestones — вехи финансирования.\n",
    "        - funding round id — идентификатор этапа финансирования.\n",
    "        - company id — идентификатор компании.\n",
    "        - funded at — дата финансирования.\n",
    "        - funding round type — тип финансирования.\n",
    "        - raised amount — сумма финансирования.\n",
    "        - pre money valuation — предварительная денежная оценка.\n",
    "        - participants — число участников.\n",
    "        - is first round — является ли раунд первым.\n",
    "        - is last round — является раунд последним.\n",
    "    - Таблица education cодержит информацию об образовании сотрудника:\n",
    "        - id — идентификатор записи об образовании.\n",
    "        - person_id — идентификатор работника.\n",
    "        - instituition — название учебного заведения.\n",
    "        - graduated_at — дата получения образования.\n",
    "    - Таблица people cодержит информацию о сотрудниках:\n",
    "        - id — идентификатор сотрудника.\n",
    "        - first_name — имя сотрудника.\n",
    "        - last_name — фамилия сотрудника.\n",
    "        - company_id — идентификатор компании.\n",
    "        - network_username — ник в социальных сетях.\n",
    "    - Таблица degrees cодержит информацию о типе образования сотрудника:\n",
    "        - id — идентификатор записи.\n",
    "        - object_id — идентификатор сотрудника.\n",
    "        - degree_type — тип образования.\n",
    "        - subject — специальность."
   ]
  },
  {
   "cell_type": "markdown",
   "metadata": {},
   "source": [
    "## Загрузка и предобработка данных"
   ]
  },
  {
   "cell_type": "code",
   "execution_count": 1,
   "metadata": {
    "id": "2Tm4Pk__Felf"
   },
   "outputs": [],
   "source": [
    "# Импортируем нужные для работы библиотеки\n",
    "import pandas as pd\n",
    "import  matplotlib.pyplot as plt\n",
    "import seaborn as sns\n",
    "import numpy as np"
   ]
  },
  {
   "cell_type": "code",
   "execution_count": 2,
   "metadata": {},
   "outputs": [
    {
     "name": "stdout",
     "output_type": "stream",
     "text": [
      "1.2.4\n"
     ]
    }
   ],
   "source": [
    "print(pd.__version__)"
   ]
  },
  {
   "cell_type": "code",
   "execution_count": 3,
   "metadata": {
    "id": "oNqJ2qpRFebv"
   },
   "outputs": [
    {
     "data": {
      "text/html": [
       "<div>\n",
       "<style scoped>\n",
       "    .dataframe tbody tr th:only-of-type {\n",
       "        vertical-align: middle;\n",
       "    }\n",
       "\n",
       "    .dataframe tbody tr th {\n",
       "        vertical-align: top;\n",
       "    }\n",
       "\n",
       "    .dataframe thead th {\n",
       "        text-align: right;\n",
       "    }\n",
       "</style>\n",
       "<table border=\"1\" class=\"dataframe\">\n",
       "  <thead>\n",
       "    <tr style=\"text-align: right;\">\n",
       "      <th></th>\n",
       "      <th>id</th>\n",
       "      <th>acquiring_company_id</th>\n",
       "      <th>acquired_company_id</th>\n",
       "      <th>term_code</th>\n",
       "      <th>price_amount</th>\n",
       "      <th>acquired_at</th>\n",
       "    </tr>\n",
       "  </thead>\n",
       "  <tbody>\n",
       "    <tr>\n",
       "      <th>0</th>\n",
       "      <td>1</td>\n",
       "      <td>11</td>\n",
       "      <td>10</td>\n",
       "      <td>NaN</td>\n",
       "      <td>20000000</td>\n",
       "      <td>2007-05-30</td>\n",
       "    </tr>\n",
       "    <tr>\n",
       "      <th>1</th>\n",
       "      <td>7</td>\n",
       "      <td>59</td>\n",
       "      <td>72</td>\n",
       "      <td>cash</td>\n",
       "      <td>60000000</td>\n",
       "      <td>2007-07-01</td>\n",
       "    </tr>\n",
       "    <tr>\n",
       "      <th>2</th>\n",
       "      <td>8</td>\n",
       "      <td>24</td>\n",
       "      <td>132</td>\n",
       "      <td>cash</td>\n",
       "      <td>280000000</td>\n",
       "      <td>2007-05-01</td>\n",
       "    </tr>\n",
       "    <tr>\n",
       "      <th>3</th>\n",
       "      <td>9</td>\n",
       "      <td>59</td>\n",
       "      <td>155</td>\n",
       "      <td>cash</td>\n",
       "      <td>100000000</td>\n",
       "      <td>2007-06-01</td>\n",
       "    </tr>\n",
       "    <tr>\n",
       "      <th>4</th>\n",
       "      <td>10</td>\n",
       "      <td>212</td>\n",
       "      <td>215</td>\n",
       "      <td>cash</td>\n",
       "      <td>25000000</td>\n",
       "      <td>2007-07-01</td>\n",
       "    </tr>\n",
       "  </tbody>\n",
       "</table>\n",
       "</div>"
      ],
      "text/plain": [
       "   id  acquiring_company_id  acquired_company_id term_code  price_amount  \\\n",
       "0   1                    11                   10       NaN      20000000   \n",
       "1   7                    59                   72      cash      60000000   \n",
       "2   8                    24                  132      cash     280000000   \n",
       "3   9                    59                  155      cash     100000000   \n",
       "4  10                   212                  215      cash      25000000   \n",
       "\n",
       "  acquired_at  \n",
       "0  2007-05-30  \n",
       "1  2007-07-01  \n",
       "2  2007-05-01  \n",
       "3  2007-06-01  \n",
       "4  2007-07-01  "
      ]
     },
     "execution_count": 3,
     "metadata": {},
     "output_type": "execute_result"
    }
   ],
   "source": [
    "# Загружаем df_acquisition\n",
    "df_acquisition = pd.read_csv('https://code.s3.yandex.net/datasets/acquisition.csv')\n",
    "\n",
    "# Познакомимся с данными в df_df_acquisition\n",
    "df_acquisition.head()"
   ]
  },
  {
   "cell_type": "code",
   "execution_count": 4,
   "metadata": {
    "scrolled": true
   },
   "outputs": [
    {
     "name": "stdout",
     "output_type": "stream",
     "text": [
      "<class 'pandas.core.frame.DataFrame'>\n",
      "RangeIndex: 9407 entries, 0 to 9406\n",
      "Data columns (total 6 columns):\n",
      " #   Column                Non-Null Count  Dtype \n",
      "---  ------                --------------  ----- \n",
      " 0   id                    9407 non-null   int64 \n",
      " 1   acquiring_company_id  9407 non-null   int64 \n",
      " 2   acquired_company_id   9407 non-null   int64 \n",
      " 3   term_code             1831 non-null   object\n",
      " 4   price_amount          9407 non-null   int64 \n",
      " 5   acquired_at           9378 non-null   object\n",
      "dtypes: int64(4), object(2)\n",
      "memory usage: 441.1+ KB\n"
     ]
    }
   ],
   "source": [
    "# Посмотрим ощую информацию о df_acquisition\n",
    "df_acquisition.info()"
   ]
  },
  {
   "cell_type": "code",
   "execution_count": 5,
   "metadata": {
    "scrolled": true
   },
   "outputs": [
    {
     "data": {
      "text/html": [
       "<div>\n",
       "<style scoped>\n",
       "    .dataframe tbody tr th:only-of-type {\n",
       "        vertical-align: middle;\n",
       "    }\n",
       "\n",
       "    .dataframe tbody tr th {\n",
       "        vertical-align: top;\n",
       "    }\n",
       "\n",
       "    .dataframe thead th {\n",
       "        text-align: right;\n",
       "    }\n",
       "</style>\n",
       "<table border=\"1\" class=\"dataframe\">\n",
       "  <thead>\n",
       "    <tr style=\"text-align: right;\">\n",
       "      <th></th>\n",
       "      <th>company  ID</th>\n",
       "      <th>name</th>\n",
       "      <th>category  code</th>\n",
       "      <th>status</th>\n",
       "      <th>founded  at</th>\n",
       "      <th>closed  at</th>\n",
       "      <th>domain</th>\n",
       "      <th>network  username</th>\n",
       "      <th>country  code</th>\n",
       "      <th>investment  rounds</th>\n",
       "      <th>...</th>\n",
       "      <th>milestones</th>\n",
       "      <th>funding  round  id</th>\n",
       "      <th>company  id</th>\n",
       "      <th>funded  at</th>\n",
       "      <th>funding  round  type</th>\n",
       "      <th>raised  amount</th>\n",
       "      <th>pre  money  valuation</th>\n",
       "      <th>participants</th>\n",
       "      <th>is  first  round</th>\n",
       "      <th>is  last  round</th>\n",
       "    </tr>\n",
       "  </thead>\n",
       "  <tbody>\n",
       "    <tr>\n",
       "      <th>0</th>\n",
       "      <td>1.0</td>\n",
       "      <td>Wetpaint</td>\n",
       "      <td>web</td>\n",
       "      <td>operating</td>\n",
       "      <td>2005-10-17</td>\n",
       "      <td>NaN</td>\n",
       "      <td>wetpaint-inc.com</td>\n",
       "      <td>BachelrWetpaint</td>\n",
       "      <td>USA</td>\n",
       "      <td>0.0</td>\n",
       "      <td>...</td>\n",
       "      <td>5.0</td>\n",
       "      <td>888.0</td>\n",
       "      <td>1.0</td>\n",
       "      <td>2005-10-01</td>\n",
       "      <td>series-a</td>\n",
       "      <td>5250000.0</td>\n",
       "      <td>0.0</td>\n",
       "      <td>2.0</td>\n",
       "      <td>0.0</td>\n",
       "      <td>1.0</td>\n",
       "    </tr>\n",
       "    <tr>\n",
       "      <th>1</th>\n",
       "      <td>1.0</td>\n",
       "      <td>Wetpaint</td>\n",
       "      <td>web</td>\n",
       "      <td>operating</td>\n",
       "      <td>2005-10-17</td>\n",
       "      <td>NaN</td>\n",
       "      <td>wetpaint-inc.com</td>\n",
       "      <td>BachelrWetpaint</td>\n",
       "      <td>USA</td>\n",
       "      <td>0.0</td>\n",
       "      <td>...</td>\n",
       "      <td>5.0</td>\n",
       "      <td>889.0</td>\n",
       "      <td>1.0</td>\n",
       "      <td>2007-01-01</td>\n",
       "      <td>series-b</td>\n",
       "      <td>9500000.0</td>\n",
       "      <td>0.0</td>\n",
       "      <td>3.0</td>\n",
       "      <td>0.0</td>\n",
       "      <td>0.0</td>\n",
       "    </tr>\n",
       "    <tr>\n",
       "      <th>2</th>\n",
       "      <td>1.0</td>\n",
       "      <td>Wetpaint</td>\n",
       "      <td>web</td>\n",
       "      <td>operating</td>\n",
       "      <td>2005-10-17</td>\n",
       "      <td>NaN</td>\n",
       "      <td>wetpaint-inc.com</td>\n",
       "      <td>BachelrWetpaint</td>\n",
       "      <td>USA</td>\n",
       "      <td>0.0</td>\n",
       "      <td>...</td>\n",
       "      <td>5.0</td>\n",
       "      <td>2312.0</td>\n",
       "      <td>1.0</td>\n",
       "      <td>2008-05-19</td>\n",
       "      <td>series-c+</td>\n",
       "      <td>25000000.0</td>\n",
       "      <td>0.0</td>\n",
       "      <td>4.0</td>\n",
       "      <td>1.0</td>\n",
       "      <td>0.0</td>\n",
       "    </tr>\n",
       "    <tr>\n",
       "      <th>3</th>\n",
       "      <td>10.0</td>\n",
       "      <td>Flektor</td>\n",
       "      <td>games_video</td>\n",
       "      <td>acquired</td>\n",
       "      <td>NaN</td>\n",
       "      <td>NaN</td>\n",
       "      <td>flektor.com</td>\n",
       "      <td>NaN</td>\n",
       "      <td>USA</td>\n",
       "      <td>0.0</td>\n",
       "      <td>...</td>\n",
       "      <td>0.0</td>\n",
       "      <td>NaN</td>\n",
       "      <td>NaN</td>\n",
       "      <td>NaN</td>\n",
       "      <td>NaN</td>\n",
       "      <td>NaN</td>\n",
       "      <td>NaN</td>\n",
       "      <td>NaN</td>\n",
       "      <td>NaN</td>\n",
       "      <td>NaN</td>\n",
       "    </tr>\n",
       "    <tr>\n",
       "      <th>4</th>\n",
       "      <td>100.0</td>\n",
       "      <td>There</td>\n",
       "      <td>games_video</td>\n",
       "      <td>acquired</td>\n",
       "      <td>NaN</td>\n",
       "      <td>NaN</td>\n",
       "      <td>there.com</td>\n",
       "      <td>NaN</td>\n",
       "      <td>USA</td>\n",
       "      <td>0.0</td>\n",
       "      <td>...</td>\n",
       "      <td>4.0</td>\n",
       "      <td>NaN</td>\n",
       "      <td>NaN</td>\n",
       "      <td>NaN</td>\n",
       "      <td>NaN</td>\n",
       "      <td>NaN</td>\n",
       "      <td>NaN</td>\n",
       "      <td>NaN</td>\n",
       "      <td>NaN</td>\n",
       "      <td>NaN</td>\n",
       "    </tr>\n",
       "  </tbody>\n",
       "</table>\n",
       "<p>5 rows × 22 columns</p>\n",
       "</div>"
      ],
      "text/plain": [
       "   company  ID      name category  code     status founded  at closed  at  \\\n",
       "0          1.0  Wetpaint            web  operating  2005-10-17        NaN   \n",
       "1          1.0  Wetpaint            web  operating  2005-10-17        NaN   \n",
       "2          1.0  Wetpaint            web  operating  2005-10-17        NaN   \n",
       "3         10.0   Flektor    games_video   acquired         NaN        NaN   \n",
       "4        100.0     There    games_video   acquired         NaN        NaN   \n",
       "\n",
       "             domain network  username country  code  investment  rounds  ...  \\\n",
       "0  wetpaint-inc.com   BachelrWetpaint           USA                 0.0  ...   \n",
       "1  wetpaint-inc.com   BachelrWetpaint           USA                 0.0  ...   \n",
       "2  wetpaint-inc.com   BachelrWetpaint           USA                 0.0  ...   \n",
       "3       flektor.com               NaN           USA                 0.0  ...   \n",
       "4         there.com               NaN           USA                 0.0  ...   \n",
       "\n",
       "   milestones  funding  round  id  company  id  funded  at  \\\n",
       "0         5.0               888.0          1.0  2005-10-01   \n",
       "1         5.0               889.0          1.0  2007-01-01   \n",
       "2         5.0              2312.0          1.0  2008-05-19   \n",
       "3         0.0                 NaN          NaN         NaN   \n",
       "4         4.0                 NaN          NaN         NaN   \n",
       "\n",
       "   funding  round  type raised  amount pre  money  valuation  participants  \\\n",
       "0              series-a      5250000.0                   0.0           2.0   \n",
       "1              series-b      9500000.0                   0.0           3.0   \n",
       "2             series-c+     25000000.0                   0.0           4.0   \n",
       "3                   NaN            NaN                   NaN           NaN   \n",
       "4                   NaN            NaN                   NaN           NaN   \n",
       "\n",
       "   is  first  round  is  last  round  \n",
       "0               0.0              1.0  \n",
       "1               0.0              0.0  \n",
       "2               1.0              0.0  \n",
       "3               NaN              NaN  \n",
       "4               NaN              NaN  \n",
       "\n",
       "[5 rows x 22 columns]"
      ]
     },
     "execution_count": 5,
     "metadata": {},
     "output_type": "execute_result"
    }
   ],
   "source": [
    "# Загружаем df_company_rounds\n",
    "df_company_rounds = pd.read_csv('https://code.s3.yandex.net/datasets/company_and_rounds.csv')\n",
    "\n",
    "# Познакомимся с данными в df_df_acquisition\n",
    "df_company_rounds.head()"
   ]
  },
  {
   "cell_type": "code",
   "execution_count": 6,
   "metadata": {
    "scrolled": true
   },
   "outputs": [
    {
     "name": "stdout",
     "output_type": "stream",
     "text": [
      "<class 'pandas.core.frame.DataFrame'>\n",
      "RangeIndex: 217774 entries, 0 to 217773\n",
      "Data columns (total 22 columns):\n",
      " #   Column                 Non-Null Count   Dtype  \n",
      "---  ------                 --------------   -----  \n",
      " 0   company  ID            217472 non-null  float64\n",
      " 1   name                   217472 non-null  object \n",
      " 2   category  code         143886 non-null  object \n",
      " 3   status                 217472 non-null  object \n",
      " 4   founded  at            109956 non-null  object \n",
      " 5   closed  at             3449 non-null    object \n",
      " 6   domain                 147159 non-null  object \n",
      " 7   network  username      95534 non-null   object \n",
      " 8   country  code          108607 non-null  object \n",
      " 9   investment  rounds     217472 non-null  float64\n",
      " 10  funding  rounds        217472 non-null  float64\n",
      " 11  funding  total         217472 non-null  float64\n",
      " 12  milestones             217472 non-null  float64\n",
      " 13  funding  round  id     52928 non-null   float64\n",
      " 14  company  id            52928 non-null   float64\n",
      " 15  funded  at             52680 non-null   object \n",
      " 16  funding  round  type   52928 non-null   object \n",
      " 17  raised  amount         52928 non-null   float64\n",
      " 18  pre  money  valuation  52928 non-null   float64\n",
      " 19  participants           52928 non-null   float64\n",
      " 20  is  first  round       52928 non-null   float64\n",
      " 21  is  last  round        52928 non-null   float64\n",
      "dtypes: float64(12), object(10)\n",
      "memory usage: 36.6+ MB\n"
     ]
    }
   ],
   "source": [
    "# Посмотрим ощую информацию о df_company_rounds\n",
    "df_company_rounds.info()"
   ]
  },
  {
   "cell_type": "code",
   "execution_count": 7,
   "metadata": {
    "scrolled": true
   },
   "outputs": [
    {
     "data": {
      "text/html": [
       "<div>\n",
       "<style scoped>\n",
       "    .dataframe tbody tr th:only-of-type {\n",
       "        vertical-align: middle;\n",
       "    }\n",
       "\n",
       "    .dataframe tbody tr th {\n",
       "        vertical-align: top;\n",
       "    }\n",
       "\n",
       "    .dataframe thead th {\n",
       "        text-align: right;\n",
       "    }\n",
       "</style>\n",
       "<table border=\"1\" class=\"dataframe\">\n",
       "  <thead>\n",
       "    <tr style=\"text-align: right;\">\n",
       "      <th></th>\n",
       "      <th>id</th>\n",
       "      <th>first_name</th>\n",
       "      <th>last_name</th>\n",
       "      <th>company_id</th>\n",
       "      <th>network_username</th>\n",
       "    </tr>\n",
       "  </thead>\n",
       "  <tbody>\n",
       "    <tr>\n",
       "      <th>0</th>\n",
       "      <td>10</td>\n",
       "      <td>Mark</td>\n",
       "      <td>Zuckerberg</td>\n",
       "      <td>5.0</td>\n",
       "      <td>NaN</td>\n",
       "    </tr>\n",
       "    <tr>\n",
       "      <th>1</th>\n",
       "      <td>100</td>\n",
       "      <td>Peter</td>\n",
       "      <td>Lester</td>\n",
       "      <td>27.0</td>\n",
       "      <td>NaN</td>\n",
       "    </tr>\n",
       "    <tr>\n",
       "      <th>2</th>\n",
       "      <td>1000</td>\n",
       "      <td>Dr. Steven</td>\n",
       "      <td>E. Saunders</td>\n",
       "      <td>292.0</td>\n",
       "      <td>NaN</td>\n",
       "    </tr>\n",
       "    <tr>\n",
       "      <th>3</th>\n",
       "      <td>10000</td>\n",
       "      <td>Neil</td>\n",
       "      <td>Capel</td>\n",
       "      <td>2526.0</td>\n",
       "      <td>NaN</td>\n",
       "    </tr>\n",
       "    <tr>\n",
       "      <th>4</th>\n",
       "      <td>100000</td>\n",
       "      <td>Sue</td>\n",
       "      <td>Pilsch</td>\n",
       "      <td>NaN</td>\n",
       "      <td>NaN</td>\n",
       "    </tr>\n",
       "  </tbody>\n",
       "</table>\n",
       "</div>"
      ],
      "text/plain": [
       "       id  first_name    last_name  company_id network_username\n",
       "0      10        Mark   Zuckerberg         5.0              NaN\n",
       "1     100       Peter       Lester        27.0              NaN\n",
       "2    1000  Dr. Steven  E. Saunders       292.0              NaN\n",
       "3   10000        Neil        Capel      2526.0              NaN\n",
       "4  100000         Sue       Pilsch         NaN              NaN"
      ]
     },
     "execution_count": 7,
     "metadata": {},
     "output_type": "execute_result"
    }
   ],
   "source": [
    "# Загружаем df_people\n",
    "df_people = pd.read_csv('https://code.s3.yandex.net/datasets/people.csv')\n",
    "\n",
    "# Познакомимся с данными в df_people\n",
    "df_people.head()"
   ]
  },
  {
   "cell_type": "code",
   "execution_count": 8,
   "metadata": {
    "scrolled": true
   },
   "outputs": [
    {
     "name": "stdout",
     "output_type": "stream",
     "text": [
      "<class 'pandas.core.frame.DataFrame'>\n",
      "RangeIndex: 226709 entries, 0 to 226708\n",
      "Data columns (total 5 columns):\n",
      " #   Column            Non-Null Count   Dtype  \n",
      "---  ------            --------------   -----  \n",
      " 0   id                226709 non-null  int64  \n",
      " 1   first_name        226704 non-null  object \n",
      " 2   last_name         226708 non-null  object \n",
      " 3   company_id        34615 non-null   float64\n",
      " 4   network_username  38867 non-null   object \n",
      "dtypes: float64(1), int64(1), object(3)\n",
      "memory usage: 8.6+ MB\n"
     ]
    }
   ],
   "source": [
    "# Посмотрим ощую информацию о df_company_rounds\n",
    "df_people.info()"
   ]
  },
  {
   "cell_type": "code",
   "execution_count": 9,
   "metadata": {},
   "outputs": [
    {
     "data": {
      "text/html": [
       "<div>\n",
       "<style scoped>\n",
       "    .dataframe tbody tr th:only-of-type {\n",
       "        vertical-align: middle;\n",
       "    }\n",
       "\n",
       "    .dataframe tbody tr th {\n",
       "        vertical-align: top;\n",
       "    }\n",
       "\n",
       "    .dataframe thead th {\n",
       "        text-align: right;\n",
       "    }\n",
       "</style>\n",
       "<table border=\"1\" class=\"dataframe\">\n",
       "  <thead>\n",
       "    <tr style=\"text-align: right;\">\n",
       "      <th></th>\n",
       "      <th>id</th>\n",
       "      <th>person_id</th>\n",
       "      <th>instituition</th>\n",
       "      <th>graduated_at</th>\n",
       "    </tr>\n",
       "  </thead>\n",
       "  <tbody>\n",
       "    <tr>\n",
       "      <th>0</th>\n",
       "      <td>1</td>\n",
       "      <td>6117</td>\n",
       "      <td>NaN</td>\n",
       "      <td>NaN</td>\n",
       "    </tr>\n",
       "    <tr>\n",
       "      <th>1</th>\n",
       "      <td>2</td>\n",
       "      <td>6136</td>\n",
       "      <td>Washington University, St. Louis</td>\n",
       "      <td>1990-01-01</td>\n",
       "    </tr>\n",
       "    <tr>\n",
       "      <th>2</th>\n",
       "      <td>3</td>\n",
       "      <td>6136</td>\n",
       "      <td>Boston University</td>\n",
       "      <td>1992-01-01</td>\n",
       "    </tr>\n",
       "    <tr>\n",
       "      <th>3</th>\n",
       "      <td>4</td>\n",
       "      <td>6005</td>\n",
       "      <td>University of Greenwich</td>\n",
       "      <td>2006-01-01</td>\n",
       "    </tr>\n",
       "    <tr>\n",
       "      <th>4</th>\n",
       "      <td>5</td>\n",
       "      <td>5832</td>\n",
       "      <td>Rice University</td>\n",
       "      <td>NaN</td>\n",
       "    </tr>\n",
       "  </tbody>\n",
       "</table>\n",
       "</div>"
      ],
      "text/plain": [
       "   id  person_id                      instituition graduated_at\n",
       "0   1       6117                               NaN          NaN\n",
       "1   2       6136  Washington University, St. Louis   1990-01-01\n",
       "2   3       6136                 Boston University   1992-01-01\n",
       "3   4       6005           University of Greenwich   2006-01-01\n",
       "4   5       5832                   Rice University          NaN"
      ]
     },
     "execution_count": 9,
     "metadata": {},
     "output_type": "execute_result"
    }
   ],
   "source": [
    "# Загружаем df_people\n",
    "df_education = pd.read_csv('https://code.s3.yandex.net/datasets/education.csv')\n",
    "\n",
    "# Познакомимся с данными в df_people\n",
    "df_education.head()"
   ]
  },
  {
   "cell_type": "code",
   "execution_count": 10,
   "metadata": {
    "scrolled": true
   },
   "outputs": [
    {
     "name": "stdout",
     "output_type": "stream",
     "text": [
      "<class 'pandas.core.frame.DataFrame'>\n",
      "RangeIndex: 226709 entries, 0 to 226708\n",
      "Data columns (total 5 columns):\n",
      " #   Column            Non-Null Count   Dtype  \n",
      "---  ------            --------------   -----  \n",
      " 0   id                226709 non-null  int64  \n",
      " 1   first_name        226704 non-null  object \n",
      " 2   last_name         226708 non-null  object \n",
      " 3   company_id        34615 non-null   float64\n",
      " 4   network_username  38867 non-null   object \n",
      "dtypes: float64(1), int64(1), object(3)\n",
      "memory usage: 8.6+ MB\n"
     ]
    }
   ],
   "source": [
    "# Посмотрим ощую информацию о df_people\n",
    "df_people.info()"
   ]
  },
  {
   "cell_type": "code",
   "execution_count": 11,
   "metadata": {
    "scrolled": true
   },
   "outputs": [
    {
     "data": {
      "text/html": [
       "<div>\n",
       "<style scoped>\n",
       "    .dataframe tbody tr th:only-of-type {\n",
       "        vertical-align: middle;\n",
       "    }\n",
       "\n",
       "    .dataframe tbody tr th {\n",
       "        vertical-align: top;\n",
       "    }\n",
       "\n",
       "    .dataframe thead th {\n",
       "        text-align: right;\n",
       "    }\n",
       "</style>\n",
       "<table border=\"1\" class=\"dataframe\">\n",
       "  <thead>\n",
       "    <tr style=\"text-align: right;\">\n",
       "      <th></th>\n",
       "      <th>id</th>\n",
       "      <th>object_id</th>\n",
       "      <th>degree_type</th>\n",
       "      <th>subject</th>\n",
       "    </tr>\n",
       "  </thead>\n",
       "  <tbody>\n",
       "    <tr>\n",
       "      <th>0</th>\n",
       "      <td>1</td>\n",
       "      <td>p:6117</td>\n",
       "      <td>MBA</td>\n",
       "      <td>NaN</td>\n",
       "    </tr>\n",
       "    <tr>\n",
       "      <th>1</th>\n",
       "      <td>2</td>\n",
       "      <td>p:6136</td>\n",
       "      <td>BA</td>\n",
       "      <td>English, French</td>\n",
       "    </tr>\n",
       "    <tr>\n",
       "      <th>2</th>\n",
       "      <td>3</td>\n",
       "      <td>p:6136</td>\n",
       "      <td>MS</td>\n",
       "      <td>Mass Communication</td>\n",
       "    </tr>\n",
       "    <tr>\n",
       "      <th>3</th>\n",
       "      <td>4</td>\n",
       "      <td>p:6005</td>\n",
       "      <td>MS</td>\n",
       "      <td>Internet Technology</td>\n",
       "    </tr>\n",
       "    <tr>\n",
       "      <th>4</th>\n",
       "      <td>5</td>\n",
       "      <td>p:5832</td>\n",
       "      <td>BCS</td>\n",
       "      <td>Computer Science, Psychology</td>\n",
       "    </tr>\n",
       "  </tbody>\n",
       "</table>\n",
       "</div>"
      ],
      "text/plain": [
       "   id object_id degree_type                       subject\n",
       "0   1    p:6117         MBA                           NaN\n",
       "1   2    p:6136          BA               English, French\n",
       "2   3    p:6136          MS            Mass Communication\n",
       "3   4    p:6005          MS           Internet Technology\n",
       "4   5    p:5832         BCS  Computer Science, Psychology"
      ]
     },
     "execution_count": 11,
     "metadata": {},
     "output_type": "execute_result"
    }
   ],
   "source": [
    "# Загружаем df_degrees\n",
    "df_degrees = pd.read_csv('https://code.s3.yandex.net/datasets/degrees.csv')\n",
    "\n",
    "# Познакомимся с данными в df_degrees\n",
    "df_degrees.head()"
   ]
  },
  {
   "cell_type": "code",
   "execution_count": 12,
   "metadata": {},
   "outputs": [
    {
     "name": "stdout",
     "output_type": "stream",
     "text": [
      "<class 'pandas.core.frame.DataFrame'>\n",
      "RangeIndex: 109610 entries, 0 to 109609\n",
      "Data columns (total 4 columns):\n",
      " #   Column       Non-Null Count   Dtype \n",
      "---  ------       --------------   ----- \n",
      " 0   id           109610 non-null  int64 \n",
      " 1   object_id    109610 non-null  object\n",
      " 2   degree_type  98392 non-null   object\n",
      " 3   subject      81298 non-null   object\n",
      "dtypes: int64(1), object(3)\n",
      "memory usage: 3.3+ MB\n"
     ]
    }
   ],
   "source": [
    "# Посмотрим ощую информацию о df_degrees\n",
    "df_degrees.info()"
   ]
  },
  {
   "cell_type": "code",
   "execution_count": 13,
   "metadata": {
    "scrolled": true
   },
   "outputs": [
    {
     "data": {
      "text/html": [
       "<div>\n",
       "<style scoped>\n",
       "    .dataframe tbody tr th:only-of-type {\n",
       "        vertical-align: middle;\n",
       "    }\n",
       "\n",
       "    .dataframe tbody tr th {\n",
       "        vertical-align: top;\n",
       "    }\n",
       "\n",
       "    .dataframe thead th {\n",
       "        text-align: right;\n",
       "    }\n",
       "</style>\n",
       "<table border=\"1\" class=\"dataframe\">\n",
       "  <thead>\n",
       "    <tr style=\"text-align: right;\">\n",
       "      <th></th>\n",
       "      <th>id</th>\n",
       "      <th>name</th>\n",
       "      <th>founded_at</th>\n",
       "      <th>domain</th>\n",
       "      <th>network_username</th>\n",
       "      <th>country_code</th>\n",
       "      <th>investment_rounds</th>\n",
       "      <th>invested_companies</th>\n",
       "      <th>milestones</th>\n",
       "    </tr>\n",
       "  </thead>\n",
       "  <tbody>\n",
       "    <tr>\n",
       "      <th>0</th>\n",
       "      <td>13131</td>\n",
       "      <td>NaN</td>\n",
       "      <td>NaN</td>\n",
       "      <td>NaN</td>\n",
       "      <td>NaN</td>\n",
       "      <td>NaN</td>\n",
       "      <td>0</td>\n",
       "      <td>0</td>\n",
       "      <td>0</td>\n",
       "    </tr>\n",
       "    <tr>\n",
       "      <th>1</th>\n",
       "      <td>1</td>\n",
       "      <td>Greylock Partners</td>\n",
       "      <td>1965-01-01</td>\n",
       "      <td>greylock.com</td>\n",
       "      <td>greylockvc</td>\n",
       "      <td>USA</td>\n",
       "      <td>307</td>\n",
       "      <td>196</td>\n",
       "      <td>0</td>\n",
       "    </tr>\n",
       "    <tr>\n",
       "      <th>2</th>\n",
       "      <td>10</td>\n",
       "      <td>Mission Ventures</td>\n",
       "      <td>1996-01-01</td>\n",
       "      <td>missionventures.com</td>\n",
       "      <td>NaN</td>\n",
       "      <td>USA</td>\n",
       "      <td>58</td>\n",
       "      <td>33</td>\n",
       "      <td>0</td>\n",
       "    </tr>\n",
       "    <tr>\n",
       "      <th>3</th>\n",
       "      <td>100</td>\n",
       "      <td>Kapor Enterprises, Inc.</td>\n",
       "      <td>NaN</td>\n",
       "      <td>kei.com</td>\n",
       "      <td>NaN</td>\n",
       "      <td>USA</td>\n",
       "      <td>2</td>\n",
       "      <td>1</td>\n",
       "      <td>0</td>\n",
       "    </tr>\n",
       "    <tr>\n",
       "      <th>4</th>\n",
       "      <td>1000</td>\n",
       "      <td>Speed Ventures</td>\n",
       "      <td>NaN</td>\n",
       "      <td>NaN</td>\n",
       "      <td>NaN</td>\n",
       "      <td>NaN</td>\n",
       "      <td>0</td>\n",
       "      <td>0</td>\n",
       "      <td>1</td>\n",
       "    </tr>\n",
       "  </tbody>\n",
       "</table>\n",
       "</div>"
      ],
      "text/plain": [
       "      id                     name  founded_at               domain  \\\n",
       "0  13131                      NaN         NaN                  NaN   \n",
       "1      1        Greylock Partners  1965-01-01         greylock.com   \n",
       "2     10         Mission Ventures  1996-01-01  missionventures.com   \n",
       "3    100  Kapor Enterprises, Inc.         NaN              kei.com   \n",
       "4   1000           Speed Ventures         NaN                  NaN   \n",
       "\n",
       "  network_username country_code  investment_rounds  invested_companies  \\\n",
       "0              NaN          NaN                  0                   0   \n",
       "1       greylockvc          USA                307                 196   \n",
       "2              NaN          USA                 58                  33   \n",
       "3              NaN          USA                  2                   1   \n",
       "4              NaN          NaN                  0                   0   \n",
       "\n",
       "   milestones  \n",
       "0           0  \n",
       "1           0  \n",
       "2           0  \n",
       "3           0  \n",
       "4           1  "
      ]
     },
     "execution_count": 13,
     "metadata": {},
     "output_type": "execute_result"
    }
   ],
   "source": [
    "# Загружаем df_funds\n",
    "df_funds = pd.read_csv('https://code.s3.yandex.net/datasets/fund.csv')\n",
    "\n",
    "# Познакомимся с данными в df_funds\n",
    "df_funds.head()"
   ]
  },
  {
   "cell_type": "code",
   "execution_count": 14,
   "metadata": {},
   "outputs": [
    {
     "name": "stdout",
     "output_type": "stream",
     "text": [
      "<class 'pandas.core.frame.DataFrame'>\n",
      "RangeIndex: 109610 entries, 0 to 109609\n",
      "Data columns (total 4 columns):\n",
      " #   Column       Non-Null Count   Dtype \n",
      "---  ------       --------------   ----- \n",
      " 0   id           109610 non-null  int64 \n",
      " 1   object_id    109610 non-null  object\n",
      " 2   degree_type  98392 non-null   object\n",
      " 3   subject      81298 non-null   object\n",
      "dtypes: int64(1), object(3)\n",
      "memory usage: 3.3+ MB\n"
     ]
    }
   ],
   "source": [
    "# Посмотрим ощую информацию о df_degrees\n",
    "df_degrees.info()"
   ]
  },
  {
   "cell_type": "markdown",
   "metadata": {},
   "source": [
    "- В следующих столбцах необходимо исправить тип данных или формат написания столбцов:\n",
    "1. **В df_acquisition** 'term_code' следует заменить тип данных с **object на category** для более экономного формата написания, также в данном массиве следует заменить формат столбца 'acquired_at' на **timestamp**\n",
    "2. В **df_company_rounds** в столбцах 'company  ID', 'category  code', 'founded  at', 'closed  at', 'country  code', 'funding  total', 'funding  round  id', 'company  id', 'funded  at', 'funding  round  type', 'raised  amount', 'pre  money  valuation', 'is  first  round', 'is  last  round' необходимо поменять названия: требуется заменить их на названия в формате snake_case "
   ]
  },
  {
   "cell_type": "code",
   "execution_count": 15,
   "metadata": {},
   "outputs": [
    {
     "name": "stdout",
     "output_type": "stream",
     "text": [
      "<class 'pandas.core.frame.DataFrame'>\n",
      "RangeIndex: 217774 entries, 0 to 217773\n",
      "Data columns (total 22 columns):\n",
      " #   Column                 Non-Null Count   Dtype  \n",
      "---  ------                 --------------   -----  \n",
      " 0   company  ID            217472 non-null  float64\n",
      " 1   name                   217472 non-null  object \n",
      " 2   category  code         143886 non-null  object \n",
      " 3   status                 217472 non-null  object \n",
      " 4   founded  at            109956 non-null  object \n",
      " 5   closed  at             3449 non-null    object \n",
      " 6   domain                 147159 non-null  object \n",
      " 7   network  username      95534 non-null   object \n",
      " 8   country  code          108607 non-null  object \n",
      " 9   investment  rounds     217472 non-null  float64\n",
      " 10  funding  rounds        217472 non-null  float64\n",
      " 11  funding  total         217472 non-null  float64\n",
      " 12  milestones             217472 non-null  float64\n",
      " 13  funding  round  id     52928 non-null   float64\n",
      " 14  company_id_rounds      52928 non-null   float64\n",
      " 15  funded  at             52680 non-null   object \n",
      " 16  funding  round  type   52928 non-null   object \n",
      " 17  raised  amount         52928 non-null   float64\n",
      " 18  pre  money  valuation  52928 non-null   float64\n",
      " 19  participants           52928 non-null   float64\n",
      " 20  is  first  round       52928 non-null   float64\n",
      " 21  is  last  round        52928 non-null   float64\n",
      "dtypes: float64(12), object(10)\n",
      "memory usage: 36.6+ MB\n"
     ]
    }
   ],
   "source": [
    "# Для начала переименуем второй столбец company id, чтобы у нас не получилось два столбца с одинаковыми названиями\n",
    "df_company_rounds = df_company_rounds.rename(columns = {'company  id' : 'company_id_rounds'})\n",
    "df_company_rounds.info()"
   ]
  },
  {
   "cell_type": "code",
   "execution_count": 16,
   "metadata": {},
   "outputs": [],
   "source": [
    "# созданим функцию, которая позволит автоматизировать процесс именования столбцов\n",
    "def rename_snake_case(df):\n",
    "    column_names = df.columns.tolist()\n",
    "    for column in column_names:\n",
    "        count_spaces = 0\n",
    "        \n",
    "        # Приводим все симводы к нижему регистру и заменяем пробелы на '_'\n",
    "        new_column = '_'.join(column.split()).lower()\n",
    "        \n",
    "        # Присваиваем изменения для названия столбцов\n",
    "        df.rename(columns={column: new_column}, inplace = True)"
   ]
  },
  {
   "cell_type": "code",
   "execution_count": 17,
   "metadata": {
    "scrolled": true
   },
   "outputs": [
    {
     "name": "stdout",
     "output_type": "stream",
     "text": [
      "<class 'pandas.core.frame.DataFrame'>\n",
      "RangeIndex: 217774 entries, 0 to 217773\n",
      "Data columns (total 22 columns):\n",
      " #   Column               Non-Null Count   Dtype  \n",
      "---  ------               --------------   -----  \n",
      " 0   company_id           217472 non-null  float64\n",
      " 1   name                 217472 non-null  object \n",
      " 2   category_code        143886 non-null  object \n",
      " 3   status               217472 non-null  object \n",
      " 4   founded_at           109956 non-null  object \n",
      " 5   closed_at            3449 non-null    object \n",
      " 6   domain               147159 non-null  object \n",
      " 7   network_username     95534 non-null   object \n",
      " 8   country_code         108607 non-null  object \n",
      " 9   investment_rounds    217472 non-null  float64\n",
      " 10  funding_rounds       217472 non-null  float64\n",
      " 11  funding_total        217472 non-null  float64\n",
      " 12  milestones           217472 non-null  float64\n",
      " 13  funding_round_id     52928 non-null   float64\n",
      " 14  company_id_rounds    52928 non-null   float64\n",
      " 15  funded_at            52680 non-null   object \n",
      " 16  funding_round_type   52928 non-null   object \n",
      " 17  raised_amount        52928 non-null   float64\n",
      " 18  pre_money_valuation  52928 non-null   float64\n",
      " 19  participants         52928 non-null   float64\n",
      " 20  is_first_round       52928 non-null   float64\n",
      " 21  is_last_round        52928 non-null   float64\n",
      "dtypes: float64(12), object(10)\n",
      "memory usage: 36.6+ MB\n"
     ]
    }
   ],
   "source": [
    "rename_snake_case(df_company_rounds)\n",
    "df_company_rounds.info()"
   ]
  },
  {
   "cell_type": "markdown",
   "metadata": {},
   "source": [
    "- Мы усспешно привели названия всех столбцов к корректному виду snake_case, а также переименовали второй столбец company id, чтобы не было дубликатов."
   ]
  },
  {
   "cell_type": "code",
   "execution_count": 18,
   "metadata": {},
   "outputs": [
    {
     "data": {
      "text/html": [
       "<div>\n",
       "<style scoped>\n",
       "    .dataframe tbody tr th:only-of-type {\n",
       "        vertical-align: middle;\n",
       "    }\n",
       "\n",
       "    .dataframe tbody tr th {\n",
       "        vertical-align: top;\n",
       "    }\n",
       "\n",
       "    .dataframe thead th {\n",
       "        text-align: right;\n",
       "    }\n",
       "</style>\n",
       "<table border=\"1\" class=\"dataframe\">\n",
       "  <thead>\n",
       "    <tr style=\"text-align: right;\">\n",
       "      <th></th>\n",
       "      <th>id</th>\n",
       "      <th>object_id</th>\n",
       "      <th>degree_type</th>\n",
       "      <th>subject</th>\n",
       "    </tr>\n",
       "  </thead>\n",
       "  <tbody>\n",
       "    <tr>\n",
       "      <th>0</th>\n",
       "      <td>1</td>\n",
       "      <td>6117</td>\n",
       "      <td>MBA</td>\n",
       "      <td>NaN</td>\n",
       "    </tr>\n",
       "    <tr>\n",
       "      <th>1</th>\n",
       "      <td>2</td>\n",
       "      <td>6136</td>\n",
       "      <td>BA</td>\n",
       "      <td>English, French</td>\n",
       "    </tr>\n",
       "    <tr>\n",
       "      <th>2</th>\n",
       "      <td>3</td>\n",
       "      <td>6136</td>\n",
       "      <td>MS</td>\n",
       "      <td>Mass Communication</td>\n",
       "    </tr>\n",
       "    <tr>\n",
       "      <th>3</th>\n",
       "      <td>4</td>\n",
       "      <td>6005</td>\n",
       "      <td>MS</td>\n",
       "      <td>Internet Technology</td>\n",
       "    </tr>\n",
       "    <tr>\n",
       "      <th>4</th>\n",
       "      <td>5</td>\n",
       "      <td>5832</td>\n",
       "      <td>BCS</td>\n",
       "      <td>Computer Science, Psychology</td>\n",
       "    </tr>\n",
       "  </tbody>\n",
       "</table>\n",
       "</div>"
      ],
      "text/plain": [
       "   id  object_id degree_type                       subject\n",
       "0   1       6117         MBA                           NaN\n",
       "1   2       6136          BA               English, French\n",
       "2   3       6136          MS            Mass Communication\n",
       "3   4       6005          MS           Internet Technology\n",
       "4   5       5832         BCS  Computer Science, Psychology"
      ]
     },
     "execution_count": 18,
     "metadata": {},
     "output_type": "execute_result"
    }
   ],
   "source": [
    "# Обработаем столбец 'object_id' и приведем его к корретному виду\n",
    "df_degrees['object_id'] = (\n",
    "    df_degrees['object_id']\n",
    "    .str.split(':')\n",
    "    .str[1]               \n",
    "    .fillna('0')           \n",
    "    .astype(int)           \n",
    "    .replace(0, pd.NA)    \n",
    "    .astype('Int64'))\n",
    "\n",
    "# Посмотрим на полученный результат\n",
    "df_degrees.head()"
   ]
  },
  {
   "cell_type": "markdown",
   "metadata": {},
   "source": [
    "- Мы успешно загрузили данные, теперь можно начать предобработку дубликатов и пропусков. На данном этапе хочется обратить внимание на то, что в df_company_rounds, содердится большое количество пропусков среди столбуов, содержащих информацию о раундах финансирования. В дальнейшей потребуется провести работу по подготовке данного массива к анализу. "
   ]
  },
  {
   "cell_type": "markdown",
   "metadata": {
    "id": "mg2gEwh0rJg0"
   },
   "source": [
    "### Смена типов и анализ пропусков\n",
    "\n",
    "- Оцените полноту данных — сделайте предварительный вывод, достаточно ли данных для решения задач проекта."
   ]
  },
  {
   "cell_type": "code",
   "execution_count": 19,
   "metadata": {
    "id": "FsL0A8RBrJg1",
    "vscode": {
     "languageId": "plaintext"
    }
   },
   "outputs": [
    {
     "name": "stdout",
     "output_type": "stream",
     "text": [
      "<class 'pandas.core.frame.DataFrame'>\n",
      "RangeIndex: 9407 entries, 0 to 9406\n",
      "Data columns (total 6 columns):\n",
      " #   Column                Non-Null Count  Dtype         \n",
      "---  ------                --------------  -----         \n",
      " 0   id                    9407 non-null   int64         \n",
      " 1   acquiring_company_id  9407 non-null   int64         \n",
      " 2   acquired_company_id   9407 non-null   int64         \n",
      " 3   term_code             1831 non-null   object        \n",
      " 4   price_amount          9407 non-null   int64         \n",
      " 5   acquired_at           9378 non-null   datetime64[ns]\n",
      "dtypes: datetime64[ns](1), int64(4), object(1)\n",
      "memory usage: 441.1+ KB\n"
     ]
    }
   ],
   "source": [
    "# Замена столбца 'acquired_at', в котором содержалась информация о дате сделки\n",
    "\n",
    "df_acquisition['acquired_at'] = pd.to_datetime(df_acquisition['acquired_at'])\n",
    "\n",
    "# Проверим замену\n",
    "df_acquisition.info()"
   ]
  },
  {
   "cell_type": "code",
   "execution_count": 20,
   "metadata": {},
   "outputs": [
    {
     "name": "stdout",
     "output_type": "stream",
     "text": [
      "<class 'pandas.core.frame.DataFrame'>\n",
      "RangeIndex: 9407 entries, 0 to 9406\n",
      "Data columns (total 6 columns):\n",
      " #   Column                Non-Null Count  Dtype         \n",
      "---  ------                --------------  -----         \n",
      " 0   id                    9407 non-null   int64         \n",
      " 1   acquiring_company_id  9407 non-null   int64         \n",
      " 2   acquired_company_id   9407 non-null   int64         \n",
      " 3   term_code             1831 non-null   object        \n",
      " 4   price_amount          9407 non-null   int64         \n",
      " 5   acquired_at           9378 non-null   datetime64[ns]\n",
      "dtypes: datetime64[ns](1), int64(4), object(1)\n",
      "memory usage: 441.1+ KB\n"
     ]
    }
   ],
   "source": [
    "# Замена столбца 'acquired_at', в котором содержалась информация о дате сделки\n",
    "df_education['graduated_at'] = pd.to_datetime(df_education['graduated_at'])\n",
    "\n",
    "# Проверим замену\n",
    "df_acquisition.info()"
   ]
  },
  {
   "cell_type": "code",
   "execution_count": 21,
   "metadata": {
    "id": "46VskrGyFeJ-"
   },
   "outputs": [
    {
     "name": "stdout",
     "output_type": "stream",
     "text": [
      "<class 'pandas.core.frame.DataFrame'>\n",
      "RangeIndex: 217774 entries, 0 to 217773\n",
      "Data columns (total 22 columns):\n",
      " #   Column               Non-Null Count   Dtype         \n",
      "---  ------               --------------   -----         \n",
      " 0   company_id           217472 non-null  float64       \n",
      " 1   name                 217472 non-null  object        \n",
      " 2   category_code        143886 non-null  object        \n",
      " 3   status               217472 non-null  object        \n",
      " 4   founded_at           109956 non-null  datetime64[ns]\n",
      " 5   closed_at            3449 non-null    datetime64[ns]\n",
      " 6   domain               147159 non-null  object        \n",
      " 7   network_username     95534 non-null   object        \n",
      " 8   country_code         108607 non-null  object        \n",
      " 9   investment_rounds    217472 non-null  float64       \n",
      " 10  funding_rounds       217472 non-null  float64       \n",
      " 11  funding_total        217472 non-null  float64       \n",
      " 12  milestones           217472 non-null  float64       \n",
      " 13  funding_round_id     52928 non-null   float64       \n",
      " 14  company_id_rounds    52928 non-null   float64       \n",
      " 15  funded_at            52680 non-null   datetime64[ns]\n",
      " 16  funding_round_type   52928 non-null   object        \n",
      " 17  raised_amount        52928 non-null   float64       \n",
      " 18  pre_money_valuation  52928 non-null   float64       \n",
      " 19  participants         52928 non-null   float64       \n",
      " 20  is_first_round       52928 non-null   float64       \n",
      " 21  is_last_round        52928 non-null   float64       \n",
      "dtypes: datetime64[ns](3), float64(12), object(7)\n",
      "memory usage: 36.6+ MB\n"
     ]
    }
   ],
   "source": [
    "# Замена типов столбцов даты инвестирования и закрытия компании\n",
    "\n",
    "df_company_rounds['founded_at'] = pd.to_datetime(df_company_rounds['founded_at'])\n",
    "df_company_rounds['closed_at'] = pd.to_datetime(df_company_rounds['closed_at'])\n",
    "df_company_rounds['funded_at'] = pd.to_datetime(df_company_rounds['funded_at'])\n",
    "\n",
    "# Проверим замену\n",
    "df_company_rounds.info()"
   ]
  },
  {
   "cell_type": "markdown",
   "metadata": {},
   "source": [
    "- Мы провели работу с типами данных, осталось решить, **что делать с пропусками и дубликатами, если они есть.**"
   ]
  },
  {
   "cell_type": "code",
   "execution_count": 22,
   "metadata": {},
   "outputs": [
    {
     "data": {
      "text/plain": [
       "0"
      ]
     },
     "execution_count": 22,
     "metadata": {},
     "output_type": "execute_result"
    }
   ],
   "source": [
    "# Проверим явыне дубликаты\n",
    "df_acquisition.duplicated().sum()"
   ]
  },
  {
   "cell_type": "code",
   "execution_count": 23,
   "metadata": {
    "scrolled": true
   },
   "outputs": [
    {
     "data": {
      "text/plain": [
       "25"
      ]
     },
     "execution_count": 23,
     "metadata": {},
     "output_type": "execute_result"
    }
   ],
   "source": [
    "# Явных дубликатов не оказалось, так что теперь проверим неявные дубликаты \n",
    "df_acquisition.duplicated(subset = ['acquiring_company_id', 'acquired_company_id']).sum()"
   ]
  },
  {
   "cell_type": "code",
   "execution_count": 24,
   "metadata": {
    "scrolled": true
   },
   "outputs": [
    {
     "data": {
      "text/html": [
       "<div>\n",
       "<style scoped>\n",
       "    .dataframe tbody tr th:only-of-type {\n",
       "        vertical-align: middle;\n",
       "    }\n",
       "\n",
       "    .dataframe tbody tr th {\n",
       "        vertical-align: top;\n",
       "    }\n",
       "\n",
       "    .dataframe thead th {\n",
       "        text-align: right;\n",
       "    }\n",
       "</style>\n",
       "<table border=\"1\" class=\"dataframe\">\n",
       "  <thead>\n",
       "    <tr style=\"text-align: right;\">\n",
       "      <th></th>\n",
       "      <th>id</th>\n",
       "      <th>acquiring_company_id</th>\n",
       "      <th>acquired_company_id</th>\n",
       "      <th>term_code</th>\n",
       "      <th>price_amount</th>\n",
       "      <th>acquired_at</th>\n",
       "    </tr>\n",
       "  </thead>\n",
       "  <tbody>\n",
       "    <tr>\n",
       "      <th>1600</th>\n",
       "      <td>1875</td>\n",
       "      <td>317</td>\n",
       "      <td>2279</td>\n",
       "      <td>NaN</td>\n",
       "      <td>0</td>\n",
       "      <td>2008-08-24</td>\n",
       "    </tr>\n",
       "    <tr>\n",
       "      <th>2165</th>\n",
       "      <td>2481</td>\n",
       "      <td>317</td>\n",
       "      <td>13089</td>\n",
       "      <td>NaN</td>\n",
       "      <td>0</td>\n",
       "      <td>2008-10-22</td>\n",
       "    </tr>\n",
       "    <tr>\n",
       "      <th>2167</th>\n",
       "      <td>2484</td>\n",
       "      <td>59</td>\n",
       "      <td>10963</td>\n",
       "      <td>NaN</td>\n",
       "      <td>0</td>\n",
       "      <td>2008-09-12</td>\n",
       "    </tr>\n",
       "    <tr>\n",
       "      <th>2795</th>\n",
       "      <td>3157</td>\n",
       "      <td>45891</td>\n",
       "      <td>45891</td>\n",
       "      <td>cash</td>\n",
       "      <td>0</td>\n",
       "      <td>2008-11-10</td>\n",
       "    </tr>\n",
       "    <tr>\n",
       "      <th>3679</th>\n",
       "      <td>4115</td>\n",
       "      <td>61813</td>\n",
       "      <td>54654</td>\n",
       "      <td>NaN</td>\n",
       "      <td>0</td>\n",
       "      <td>2010-11-01</td>\n",
       "    </tr>\n",
       "    <tr>\n",
       "      <th>4644</th>\n",
       "      <td>5112</td>\n",
       "      <td>67952</td>\n",
       "      <td>67951</td>\n",
       "      <td>NaN</td>\n",
       "      <td>0</td>\n",
       "      <td>2011-02-03</td>\n",
       "    </tr>\n",
       "    <tr>\n",
       "      <th>4646</th>\n",
       "      <td>5114</td>\n",
       "      <td>67956</td>\n",
       "      <td>67955</td>\n",
       "      <td>NaN</td>\n",
       "      <td>0</td>\n",
       "      <td>2011-02-03</td>\n",
       "    </tr>\n",
       "    <tr>\n",
       "      <th>4647</th>\n",
       "      <td>5115</td>\n",
       "      <td>67956</td>\n",
       "      <td>67955</td>\n",
       "      <td>NaN</td>\n",
       "      <td>0</td>\n",
       "      <td>2011-02-03</td>\n",
       "    </tr>\n",
       "    <tr>\n",
       "      <th>4648</th>\n",
       "      <td>5116</td>\n",
       "      <td>67956</td>\n",
       "      <td>67955</td>\n",
       "      <td>NaN</td>\n",
       "      <td>0</td>\n",
       "      <td>2011-02-03</td>\n",
       "    </tr>\n",
       "    <tr>\n",
       "      <th>4689</th>\n",
       "      <td>5164</td>\n",
       "      <td>548</td>\n",
       "      <td>47671</td>\n",
       "      <td>NaN</td>\n",
       "      <td>10000000</td>\n",
       "      <td>2011-02-15</td>\n",
       "    </tr>\n",
       "    <tr>\n",
       "      <th>5372</th>\n",
       "      <td>5909</td>\n",
       "      <td>64279</td>\n",
       "      <td>64280</td>\n",
       "      <td>cash</td>\n",
       "      <td>0</td>\n",
       "      <td>2011-07-28</td>\n",
       "    </tr>\n",
       "    <tr>\n",
       "      <th>5749</th>\n",
       "      <td>6351</td>\n",
       "      <td>53426</td>\n",
       "      <td>140513</td>\n",
       "      <td>NaN</td>\n",
       "      <td>0</td>\n",
       "      <td>2011-10-28</td>\n",
       "    </tr>\n",
       "    <tr>\n",
       "      <th>6196</th>\n",
       "      <td>6866</td>\n",
       "      <td>151992</td>\n",
       "      <td>151990</td>\n",
       "      <td>NaN</td>\n",
       "      <td>0</td>\n",
       "      <td>2012-03-12</td>\n",
       "    </tr>\n",
       "    <tr>\n",
       "      <th>6390</th>\n",
       "      <td>7082</td>\n",
       "      <td>157757</td>\n",
       "      <td>66494</td>\n",
       "      <td>NaN</td>\n",
       "      <td>0</td>\n",
       "      <td>2012-03-05</td>\n",
       "    </tr>\n",
       "    <tr>\n",
       "      <th>6397</th>\n",
       "      <td>7089</td>\n",
       "      <td>157883</td>\n",
       "      <td>157880</td>\n",
       "      <td>NaN</td>\n",
       "      <td>0</td>\n",
       "      <td>2012-01-01</td>\n",
       "    </tr>\n",
       "    <tr>\n",
       "      <th>6644</th>\n",
       "      <td>7374</td>\n",
       "      <td>76475</td>\n",
       "      <td>76479</td>\n",
       "      <td>NaN</td>\n",
       "      <td>0</td>\n",
       "      <td>2012-05-01</td>\n",
       "    </tr>\n",
       "    <tr>\n",
       "      <th>6985</th>\n",
       "      <td>7763</td>\n",
       "      <td>11391</td>\n",
       "      <td>172732</td>\n",
       "      <td>NaN</td>\n",
       "      <td>0</td>\n",
       "      <td>2012-05-01</td>\n",
       "    </tr>\n",
       "    <tr>\n",
       "      <th>7138</th>\n",
       "      <td>7945</td>\n",
       "      <td>178137</td>\n",
       "      <td>178137</td>\n",
       "      <td>NaN</td>\n",
       "      <td>0</td>\n",
       "      <td>2012-11-28</td>\n",
       "    </tr>\n",
       "    <tr>\n",
       "      <th>7219</th>\n",
       "      <td>8037</td>\n",
       "      <td>180632</td>\n",
       "      <td>52381</td>\n",
       "      <td>cash_and_stock</td>\n",
       "      <td>0</td>\n",
       "      <td>2012-02-01</td>\n",
       "    </tr>\n",
       "    <tr>\n",
       "      <th>7429</th>\n",
       "      <td>8276</td>\n",
       "      <td>50592</td>\n",
       "      <td>68502</td>\n",
       "      <td>NaN</td>\n",
       "      <td>0</td>\n",
       "      <td>2011-01-01</td>\n",
       "    </tr>\n",
       "    <tr>\n",
       "      <th>7581</th>\n",
       "      <td>8454</td>\n",
       "      <td>317</td>\n",
       "      <td>1612</td>\n",
       "      <td>NaN</td>\n",
       "      <td>150000000</td>\n",
       "      <td>2013-03-29</td>\n",
       "    </tr>\n",
       "    <tr>\n",
       "      <th>8552</th>\n",
       "      <td>9582</td>\n",
       "      <td>12488</td>\n",
       "      <td>178830</td>\n",
       "      <td>cash</td>\n",
       "      <td>7600000</td>\n",
       "      <td>2012-11-30</td>\n",
       "    </tr>\n",
       "    <tr>\n",
       "      <th>8667</th>\n",
       "      <td>9714</td>\n",
       "      <td>46951</td>\n",
       "      <td>146544</td>\n",
       "      <td>NaN</td>\n",
       "      <td>0</td>\n",
       "      <td>2012-08-01</td>\n",
       "    </tr>\n",
       "    <tr>\n",
       "      <th>9218</th>\n",
       "      <td>10321</td>\n",
       "      <td>6922</td>\n",
       "      <td>49005</td>\n",
       "      <td>NaN</td>\n",
       "      <td>0</td>\n",
       "      <td>2012-08-20</td>\n",
       "    </tr>\n",
       "    <tr>\n",
       "      <th>9355</th>\n",
       "      <td>10472</td>\n",
       "      <td>157289</td>\n",
       "      <td>39040</td>\n",
       "      <td>NaN</td>\n",
       "      <td>0</td>\n",
       "      <td>2013-12-04</td>\n",
       "    </tr>\n",
       "  </tbody>\n",
       "</table>\n",
       "</div>"
      ],
      "text/plain": [
       "         id  acquiring_company_id  acquired_company_id       term_code  \\\n",
       "1600   1875                   317                 2279             NaN   \n",
       "2165   2481                   317                13089             NaN   \n",
       "2167   2484                    59                10963             NaN   \n",
       "2795   3157                 45891                45891            cash   \n",
       "3679   4115                 61813                54654             NaN   \n",
       "4644   5112                 67952                67951             NaN   \n",
       "4646   5114                 67956                67955             NaN   \n",
       "4647   5115                 67956                67955             NaN   \n",
       "4648   5116                 67956                67955             NaN   \n",
       "4689   5164                   548                47671             NaN   \n",
       "5372   5909                 64279                64280            cash   \n",
       "5749   6351                 53426               140513             NaN   \n",
       "6196   6866                151992               151990             NaN   \n",
       "6390   7082                157757                66494             NaN   \n",
       "6397   7089                157883               157880             NaN   \n",
       "6644   7374                 76475                76479             NaN   \n",
       "6985   7763                 11391               172732             NaN   \n",
       "7138   7945                178137               178137             NaN   \n",
       "7219   8037                180632                52381  cash_and_stock   \n",
       "7429   8276                 50592                68502             NaN   \n",
       "7581   8454                   317                 1612             NaN   \n",
       "8552   9582                 12488               178830            cash   \n",
       "8667   9714                 46951               146544             NaN   \n",
       "9218  10321                  6922                49005             NaN   \n",
       "9355  10472                157289                39040             NaN   \n",
       "\n",
       "      price_amount acquired_at  \n",
       "1600             0  2008-08-24  \n",
       "2165             0  2008-10-22  \n",
       "2167             0  2008-09-12  \n",
       "2795             0  2008-11-10  \n",
       "3679             0  2010-11-01  \n",
       "4644             0  2011-02-03  \n",
       "4646             0  2011-02-03  \n",
       "4647             0  2011-02-03  \n",
       "4648             0  2011-02-03  \n",
       "4689      10000000  2011-02-15  \n",
       "5372             0  2011-07-28  \n",
       "5749             0  2011-10-28  \n",
       "6196             0  2012-03-12  \n",
       "6390             0  2012-03-05  \n",
       "6397             0  2012-01-01  \n",
       "6644             0  2012-05-01  \n",
       "6985             0  2012-05-01  \n",
       "7138             0  2012-11-28  \n",
       "7219             0  2012-02-01  \n",
       "7429             0  2011-01-01  \n",
       "7581     150000000  2013-03-29  \n",
       "8552       7600000  2012-11-30  \n",
       "8667             0  2012-08-01  \n",
       "9218             0  2012-08-20  \n",
       "9355             0  2013-12-04  "
      ]
     },
     "execution_count": 24,
     "metadata": {},
     "output_type": "execute_result"
    }
   ],
   "source": [
    "# Посмотрим на наши дубликаты\n",
    "df_acquisition[df_acquisition.duplicated(subset=['acquiring_company_id', 'acquired_company_id'])]"
   ]
  },
  {
   "cell_type": "code",
   "execution_count": 25,
   "metadata": {
    "id": "DEg1tl8DFeBn",
    "scrolled": true
   },
   "outputs": [
    {
     "data": {
      "text/plain": [
       "term_code               81.0\n",
       "id                       0.0\n",
       "acquiring_company_id     0.0\n",
       "acquired_company_id      0.0\n",
       "price_amount             0.0\n",
       "acquired_at              0.0\n",
       "dtype: float64"
      ]
     },
     "execution_count": 25,
     "metadata": {},
     "output_type": "execute_result"
    }
   ],
   "source": [
    "df_acquisition.isna().mean().round(2).sort_values(ascending=False)*100"
   ]
  },
  {
   "cell_type": "markdown",
   "metadata": {},
   "source": [
    "- Большое количество пропусков в столбце 'term_code', где должны были быть указаны пропуски, могло быть связано с тем, что компании просто не указывали, каким способом они соверали покупку или они совершали таким образом, какого не было из предложенных враиантов."
   ]
  },
  {
   "cell_type": "code",
   "execution_count": 26,
   "metadata": {
    "scrolled": true
   },
   "outputs": [
    {
     "data": {
      "text/plain": [
       "0"
      ]
     },
     "execution_count": 26,
     "metadata": {},
     "output_type": "execute_result"
    }
   ],
   "source": [
    "# Проверим явыне дубликаты\n",
    "df_company_rounds.duplicated().sum()"
   ]
  },
  {
   "cell_type": "markdown",
   "metadata": {},
   "source": [
    "- Глубже затрагивать нефвные дубликаты сейчас я не стану, так как подробнее данный массив мы разберём позднее"
   ]
  },
  {
   "cell_type": "code",
   "execution_count": 27,
   "metadata": {},
   "outputs": [
    {
     "data": {
      "text/plain": [
       "closed_at              98.0\n",
       "is_last_round          76.0\n",
       "funded_at              76.0\n",
       "is_first_round         76.0\n",
       "participants           76.0\n",
       "pre_money_valuation    76.0\n",
       "raised_amount          76.0\n",
       "funding_round_type     76.0\n",
       "funding_round_id       76.0\n",
       "company_id_rounds      76.0\n",
       "network_username       56.0\n",
       "founded_at             50.0\n",
       "country_code           50.0\n",
       "category_code          34.0\n",
       "domain                 32.0\n",
       "company_id              0.0\n",
       "milestones              0.0\n",
       "name                    0.0\n",
       "funding_rounds          0.0\n",
       "investment_rounds       0.0\n",
       "status                  0.0\n",
       "funding_total           0.0\n",
       "dtype: float64"
      ]
     },
     "execution_count": 27,
     "metadata": {},
     "output_type": "execute_result"
    }
   ],
   "source": [
    "df_company_rounds.isna().mean().round(2).sort_values(ascending=False)*100"
   ]
  },
  {
   "cell_type": "markdown",
   "metadata": {},
   "source": [
    "- Большое количество пропусков в столбцах, связанных со сделками, может быть связано с тем, что df_company_rounds был образован из двух таблиц, но об этом речь пойдёт позднее. "
   ]
  },
  {
   "cell_type": "code",
   "execution_count": 28,
   "metadata": {},
   "outputs": [
    {
     "data": {
      "text/plain": [
       "0"
      ]
     },
     "execution_count": 28,
     "metadata": {},
     "output_type": "execute_result"
    }
   ],
   "source": [
    "# Количество явных дубликатов\n",
    "\n",
    "df_people.duplicated().sum()"
   ]
  },
  {
   "cell_type": "code",
   "execution_count": 29,
   "metadata": {},
   "outputs": [
    {
     "data": {
      "text/plain": [
       "graduated_at    47.0\n",
       "id               0.0\n",
       "person_id        0.0\n",
       "instituition     0.0\n",
       "dtype: float64"
      ]
     },
     "execution_count": 29,
     "metadata": {},
     "output_type": "execute_result"
    }
   ],
   "source": [
    "# Доля пропусков в столбцах\n",
    "\n",
    "df_education.isna().mean().round(2).sort_values(ascending=False)*100"
   ]
  },
  {
   "cell_type": "markdown",
   "metadata": {},
   "source": [
    "- Почти половина строк (**47%**) не имеют записей в столбце о дата получения образования. Такое большое количество пропусков может говорить о том, что многие работники могут быть ещё студентами или вообще не иметь образования. Тот факт, что в столбце, где содержатся названия учебных заведений не содержится вообще ни одного пропуска говорит о том, что, скорее всего, в массиве много студентов."
   ]
  },
  {
   "cell_type": "code",
   "execution_count": 30,
   "metadata": {},
   "outputs": [
    {
     "data": {
      "text/plain": [
       "0"
      ]
     },
     "execution_count": 30,
     "metadata": {},
     "output_type": "execute_result"
    }
   ],
   "source": [
    "# Количество явных дубликатов\n",
    "\n",
    "df_people.duplicated().sum()"
   ]
  },
  {
   "cell_type": "code",
   "execution_count": 31,
   "metadata": {},
   "outputs": [
    {
     "data": {
      "text/plain": [
       "1"
      ]
     },
     "execution_count": 31,
     "metadata": {},
     "output_type": "execute_result"
    }
   ],
   "source": [
    "# Количество неявных дубликатов\n",
    "\n",
    "df_people.duplicated(subset = 'id').sum()"
   ]
  },
  {
   "cell_type": "code",
   "execution_count": 32,
   "metadata": {},
   "outputs": [
    {
     "data": {
      "text/plain": [
       "company_id          85.0\n",
       "network_username    83.0\n",
       "id                   0.0\n",
       "first_name           0.0\n",
       "last_name            0.0\n",
       "dtype: float64"
      ]
     },
     "execution_count": 32,
     "metadata": {},
     "output_type": "execute_result"
    }
   ],
   "source": [
    "# Доля пропусков в столбцах\n",
    "\n",
    "df_people.isna().mean().round(2).sort_values(ascending=False)*100"
   ]
  },
  {
   "cell_type": "markdown",
   "metadata": {},
   "source": [
    "- Пропуски содержатся в столбцах 'network_username' и 'company_id', что может быть связано с (1) *отсутсвием аккаунтов в социальных сетеях или тем, что данная информация просто не была указана пользователями* и тем фактом, что в настоящий момент большиноство зарегистрировавшихся не имеют места работы.\n",
    "- **Лучше избавить от данных с пропусками в столбце company_id**, так как они не будут нести никакой пользы из-за того, что мы не можем установить, какой id не был подргужен, а какой просто отсутсвует."
   ]
  },
  {
   "cell_type": "code",
   "execution_count": 33,
   "metadata": {},
   "outputs": [
    {
     "data": {
      "text/plain": [
       "1914"
      ]
     },
     "execution_count": 33,
     "metadata": {},
     "output_type": "execute_result"
    }
   ],
   "source": [
    "# Количество неявных дубликатов\n",
    "\n",
    "df_degrees.duplicated(subset = ['object_id', 'degree_type', 'subject']).sum()"
   ]
  },
  {
   "cell_type": "code",
   "execution_count": 34,
   "metadata": {},
   "outputs": [
    {
     "data": {
      "text/plain": [
       "subject        26.0\n",
       "degree_type    10.0\n",
       "id              0.0\n",
       "object_id       0.0\n",
       "dtype: float64"
      ]
     },
     "execution_count": 34,
     "metadata": {},
     "output_type": "execute_result"
    }
   ],
   "source": [
    "# Доля пропусков в столбцах\n",
    "\n",
    "df_degrees.isna().mean().round(2).sort_values(ascending=False)*100"
   ]
  },
  {
   "cell_type": "markdown",
   "metadata": {},
   "source": [
    "- Пропуски содержатся в столбцах 'subject' и 'degree_type', что может быть связано с тем, что специалисты просто не имели высшего образования или не хотели указывать свою специализацию;\n",
    "- С данными пропусками ничего не стоит делать: тех, кто не указал данные можно принимать за людей без образования."
   ]
  },
  {
   "cell_type": "markdown",
   "metadata": {},
   "source": [
    "- **Общий обзор полученной информации:**\n",
    "    - company_rounds\n",
    "        1. Высокие: company_round, first_round, money_valuation, funding_type, company_rounds — 70.8%.\n",
    "        2. Средние: founded_at, category_code — 14.8%.\n",
    "        3. Нулевые: status, company_id — 0%.\n",
    "    - education\n",
    "        1. Высокие: graduated_at — 47%.\n",
    "        2. Нулевые: person_id, institution_id, degree_type — 0%.\n",
    "    - people\n",
    "        1. Высокие: company_id — 85%.\n",
    "        2. Нулевые: first_name, last_name, network_username, type — 0%.\n",
    "    - degrees\n",
    "        1. Средние: subject — 26%.\n",
    "        2. Нулевые: degree_type, object_id, type — 0%.\n",
    "\n",
    "- **Предварительный вывод:** Данные достаточны для большинства задач (идентификаторы ~100% заполнены, объём ~40k+ строк после фильтра). Риски: систематические пропуски в раундах (70%) и связях (85%) — могут искажать анализ, поэтому задание выполнимо с обработкой (работа с дубликатами и пропусками); если >60% в ключевых столбцах — нужны дополнения."
   ]
  },
  {
   "cell_type": "markdown",
   "metadata": {
    "id": "u60cHsn6rJg1"
   },
   "source": [
    "## Предобработка данных, предварительное исследование"
   ]
  },
  {
   "cell_type": "markdown",
   "metadata": {
    "id": "g2bHIIjcrJg1"
   },
   "source": [
    "\n",
    "### Раунды финансирования по годам\n",
    "\n",
    "Задание необходимо выполнить без объединения и дополнительной предобработки на основе датасета `company_and_rounds.csv`.\n",
    "\n",
    "- Составьте сводную таблицу по годам, в которой на основании столбца `raised_amount` для каждого года указан:\n",
    "    - типичный размер средств, выделяемый в рамках одного раунда;\n",
    "    - общее количество раундов финансирования за этот год.\n",
    "    \n",
    "- Оставьте в таблице информацию только для тех лет, для которых есть информация о более чем 50 раундах финансирования.\n",
    "- На основе получившейся таблицы постройте график, который будет отражать динамику типичного размера средств, которые стартапы получали в рамках одного раунда финансирования.\n",
    "\n",
    "На основе полученных данных ответьте на вопросы:\n",
    "\n",
    "- В каком году типичный размер собранных в рамках одного раунда средств был максимален?\n",
    "- Какая тенденция по количеству раундов и выделяемых в рамках каждого раунда средств наблюдалась в 2013 году?"
   ]
  },
  {
   "cell_type": "code",
   "execution_count": 35,
   "metadata": {
    "id": "Cf5IjfOQrJg1",
    "scrolled": true,
    "vscode": {
     "languageId": "plaintext"
    }
   },
   "outputs": [],
   "source": [
    "# Строим сводную таблицу\n",
    "pivot = pd.pivot_table(\n",
    "    data = df_company_rounds,\n",
    "    values = ['raised_amount', 'funding_round_id'],\n",
    "    index = df_company_rounds['funded_at'].dt.year,\n",
    "    aggfunc = {\n",
    "        'raised_amount' : 'median', # Находим медианное значение\n",
    "        'funding_round_id' : 'count'\n",
    "    }\n",
    ")\n",
    "\n",
    "# Переименовываем столбцы\n",
    "pivot = pivot.rename(columns = {\n",
    "    'raised_amount' : 'average_raised_amount',\n",
    "    'funding_round_id' : 'total_rounds'\n",
    "})"
   ]
  },
  {
   "cell_type": "code",
   "execution_count": 36,
   "metadata": {
    "id": "8Fbz6KmzFdYP",
    "scrolled": true
   },
   "outputs": [
    {
     "data": {
      "text/html": [
       "<div>\n",
       "<style scoped>\n",
       "    .dataframe tbody tr th:only-of-type {\n",
       "        vertical-align: middle;\n",
       "    }\n",
       "\n",
       "    .dataframe tbody tr th {\n",
       "        vertical-align: top;\n",
       "    }\n",
       "\n",
       "    .dataframe thead th {\n",
       "        text-align: right;\n",
       "    }\n",
       "</style>\n",
       "<table border=\"1\" class=\"dataframe\">\n",
       "  <thead>\n",
       "    <tr style=\"text-align: right;\">\n",
       "      <th></th>\n",
       "      <th>total_rounds</th>\n",
       "      <th>average_raised_amount</th>\n",
       "    </tr>\n",
       "    <tr>\n",
       "      <th>funded_at</th>\n",
       "      <th></th>\n",
       "      <th></th>\n",
       "    </tr>\n",
       "  </thead>\n",
       "  <tbody>\n",
       "    <tr>\n",
       "      <th>1999.0</th>\n",
       "      <td>76</td>\n",
       "      <td>2000000.0</td>\n",
       "    </tr>\n",
       "    <tr>\n",
       "      <th>2000.0</th>\n",
       "      <td>125</td>\n",
       "      <td>4200000.0</td>\n",
       "    </tr>\n",
       "    <tr>\n",
       "      <th>2001.0</th>\n",
       "      <td>96</td>\n",
       "      <td>3000000.0</td>\n",
       "    </tr>\n",
       "    <tr>\n",
       "      <th>2002.0</th>\n",
       "      <td>116</td>\n",
       "      <td>4200000.0</td>\n",
       "    </tr>\n",
       "    <tr>\n",
       "      <th>2003.0</th>\n",
       "      <td>159</td>\n",
       "      <td>3000000.0</td>\n",
       "    </tr>\n",
       "    <tr>\n",
       "      <th>2004.0</th>\n",
       "      <td>291</td>\n",
       "      <td>5000000.0</td>\n",
       "    </tr>\n",
       "    <tr>\n",
       "      <th>2005.0</th>\n",
       "      <td>1633</td>\n",
       "      <td>5500000.0</td>\n",
       "    </tr>\n",
       "    <tr>\n",
       "      <th>2006.0</th>\n",
       "      <td>2436</td>\n",
       "      <td>5000000.0</td>\n",
       "    </tr>\n",
       "    <tr>\n",
       "      <th>2007.0</th>\n",
       "      <td>3279</td>\n",
       "      <td>3973320.0</td>\n",
       "    </tr>\n",
       "    <tr>\n",
       "      <th>2008.0</th>\n",
       "      <td>3774</td>\n",
       "      <td>3110000.0</td>\n",
       "    </tr>\n",
       "    <tr>\n",
       "      <th>2009.0</th>\n",
       "      <td>4151</td>\n",
       "      <td>2000000.0</td>\n",
       "    </tr>\n",
       "    <tr>\n",
       "      <th>2010.0</th>\n",
       "      <td>6221</td>\n",
       "      <td>1602500.0</td>\n",
       "    </tr>\n",
       "    <tr>\n",
       "      <th>2011.0</th>\n",
       "      <td>9204</td>\n",
       "      <td>1200000.0</td>\n",
       "    </tr>\n",
       "    <tr>\n",
       "      <th>2012.0</th>\n",
       "      <td>9970</td>\n",
       "      <td>1000000.0</td>\n",
       "    </tr>\n",
       "    <tr>\n",
       "      <th>2013.0</th>\n",
       "      <td>11072</td>\n",
       "      <td>1200000.0</td>\n",
       "    </tr>\n",
       "  </tbody>\n",
       "</table>\n",
       "</div>"
      ],
      "text/plain": [
       "           total_rounds  average_raised_amount\n",
       "funded_at                                     \n",
       "1999.0               76              2000000.0\n",
       "2000.0              125              4200000.0\n",
       "2001.0               96              3000000.0\n",
       "2002.0              116              4200000.0\n",
       "2003.0              159              3000000.0\n",
       "2004.0              291              5000000.0\n",
       "2005.0             1633              5500000.0\n",
       "2006.0             2436              5000000.0\n",
       "2007.0             3279              3973320.0\n",
       "2008.0             3774              3110000.0\n",
       "2009.0             4151              2000000.0\n",
       "2010.0             6221              1602500.0\n",
       "2011.0             9204              1200000.0\n",
       "2012.0             9970              1000000.0\n",
       "2013.0            11072              1200000.0"
      ]
     },
     "execution_count": 36,
     "metadata": {},
     "output_type": "execute_result"
    }
   ],
   "source": [
    "# Фильтруем результаты: оставляем только годы с >50 раундов\n",
    "pivot = pivot[pivot['total_rounds'] > 50]\n",
    "\n",
    "# Посмотрим, что получилось\n",
    "pivot"
   ]
  },
  {
   "cell_type": "code",
   "execution_count": 37,
   "metadata": {},
   "outputs": [
    {
     "data": {
      "text/plain": [
       "Text(0, 0.5, 'Количество раундов за год')"
      ]
     },
     "execution_count": 37,
     "metadata": {},
     "output_type": "execute_result"
    },
    {
     "data": {
      "image/png": "[encoded data removed]",
      "text/plain": [
       "<Figure size 720x432 with 1 Axes>"
      ]
     },
     "metadata": {
      "needs_background": "light"
     },
     "output_type": "display_data"
    }
   ],
   "source": [
    "# Полотно:\n",
    "plt.figure(figsize=(10, 6))\n",
    "\n",
    "# Строим график\n",
    "pivot['total_rounds'].plot(kind = 'bar', color = 'skyblue')\n",
    "\n",
    "# Делаем заголовки: \n",
    "plt.title('Общее количество раундов')\n",
    "plt.xlabel('Год')\n",
    "plt.ylabel('Количество раундов за год')"
   ]
  },
  {
   "cell_type": "code",
   "execution_count": 38,
   "metadata": {
    "id": "Z92DzKMMFdKW"
   },
   "outputs": [
    {
     "data": {
      "text/plain": [
       "Text(0, 0.5, 'Средняя сумма финансирования')"
      ]
     },
     "execution_count": 38,
     "metadata": {},
     "output_type": "execute_result"
    },
    {
     "data": {
      "image/png": "[encoded data removed]",
      "text/plain": [
       "<Figure size 720x432 with 1 Axes>"
      ]
     },
     "metadata": {
      "needs_background": "light"
     },
     "output_type": "display_data"
    }
   ],
   "source": [
    "# Полотно:\n",
    "plt.figure(figsize=(10, 6))\n",
    "\n",
    "# Строим график:\n",
    "pivot['average_raised_amount'].plot(\n",
    "    kind = 'line',\n",
    "    marker = 'o',\n",
    "    linestyle = '-',\n",
    "    linewidth = 2,\n",
    "    markersize = 8,\n",
    "    color = 'skyblue'\n",
    ")\n",
    "\n",
    "# Теперь задаём параметры для дизайна:\n",
    "plt.title('Средняя сумма на всех раундах финансирования за год (млн $)')\n",
    "plt.xlabel('Год')\n",
    "plt.ylabel('Средняя сумма финансирования')"
   ]
  },
  {
   "cell_type": "markdown",
   "metadata": {},
   "source": [
    "- **Общая динамика:** с 1999 по 2006 года наблюдался рост средней суммы финансирования, тогда была достигрут максимальный средний показатель в 5,5 млн, однако, после этого последовал спад, который замедлился к 2012 году, после которого среднее значение начало постепенно восстанавливаться;\n",
    "- **Динамика до 2006 года:** как было отмечено ранее, до 2006 года наблюдается рост, однако, он сопровождался флуктуациями, которые могут быть связаны с вспеском новых цифровых стартапов, которые только начинали зарождаться (например, fasebook появился в 2004 году) и лопнувшим в тот же период \"цифровым пузырём\";\n",
    "- **\"Падение\" после 2006:** хотя средняя сумма снижалсясь с 2006 по 2012 год, можно видеть, что общее количество раундов росло. Такая динамика может быть связана с изменением законодательства в данной сфере, а также экономическим кризисом 2008, из-за чего инвесторы давали меньше финансирования и было ужесточение инвестиционной политики, что и могло повлечь увеличение \"дробления\" раундов."
   ]
  },
  {
   "cell_type": "markdown",
   "metadata": {
    "id": "45if1en1rJg2"
   },
   "source": [
    "\n",
    "### Люди и их образование\n",
    "\n",
    "Заказчик хочет понять, зависит ли полнота сведений о сотрудниках (например, об их образовании) от размера компаний.\n",
    "\n",
    "- Оцените, насколько информация об образовании сотрудников полна. Используя датасеты `people.csv` и `education.csv`, разделите все компании на несколько групп по количеству сотрудников и оцените среднюю долю сотрудников без информации об образовании в каждой из групп. Обоснуйте выбранные границы групп.\n",
    "- Оцените, возможно ли для выполнения задания присоединить к этим таблицам ещё и таблицу `degrees.csv`."
   ]
  },
  {
   "cell_type": "code",
   "execution_count": 39,
   "metadata": {
    "scrolled": true
   },
   "outputs": [
    {
     "data": {
      "text/html": [
       "<div>\n",
       "<style scoped>\n",
       "    .dataframe tbody tr th:only-of-type {\n",
       "        vertical-align: middle;\n",
       "    }\n",
       "\n",
       "    .dataframe tbody tr th {\n",
       "        vertical-align: top;\n",
       "    }\n",
       "\n",
       "    .dataframe thead th {\n",
       "        text-align: right;\n",
       "    }\n",
       "</style>\n",
       "<table border=\"1\" class=\"dataframe\">\n",
       "  <thead>\n",
       "    <tr style=\"text-align: right;\">\n",
       "      <th></th>\n",
       "      <th>id</th>\n",
       "      <th>person_id</th>\n",
       "      <th>instituition</th>\n",
       "      <th>graduated_at</th>\n",
       "    </tr>\n",
       "  </thead>\n",
       "  <tbody>\n",
       "    <tr>\n",
       "      <th>2415</th>\n",
       "      <td>2415</td>\n",
       "      <td>10</td>\n",
       "      <td>Harvard University</td>\n",
       "      <td>NaT</td>\n",
       "    </tr>\n",
       "  </tbody>\n",
       "</table>\n",
       "</div>"
      ],
      "text/plain": [
       "        id  person_id        instituition graduated_at\n",
       "2415  2415         10  Harvard University          NaT"
      ]
     },
     "execution_count": 39,
     "metadata": {},
     "output_type": "execute_result"
    }
   ],
   "source": [
    "# Перед тем, как объеденить df_people и df_education необходимо предварительно поработать со значениями\n",
    "# Во-первых, мы считаем, что образование было получено, если (1) стоит значение в graduated_at и \n",
    "\n",
    "df_education[df_education['person_id'] == 10]"
   ]
  },
  {
   "cell_type": "code",
   "execution_count": 40,
   "metadata": {},
   "outputs": [
    {
     "data": {
      "text/html": [
       "<div>\n",
       "<style scoped>\n",
       "    .dataframe tbody tr th:only-of-type {\n",
       "        vertical-align: middle;\n",
       "    }\n",
       "\n",
       "    .dataframe tbody tr th {\n",
       "        vertical-align: top;\n",
       "    }\n",
       "\n",
       "    .dataframe thead th {\n",
       "        text-align: right;\n",
       "    }\n",
       "</style>\n",
       "<table border=\"1\" class=\"dataframe\">\n",
       "  <thead>\n",
       "    <tr style=\"text-align: right;\">\n",
       "      <th></th>\n",
       "      <th>id</th>\n",
       "      <th>first_name</th>\n",
       "      <th>last_name</th>\n",
       "      <th>company_id</th>\n",
       "      <th>network_username</th>\n",
       "      <th>person_id</th>\n",
       "      <th>instituition</th>\n",
       "      <th>graduated_at</th>\n",
       "    </tr>\n",
       "  </thead>\n",
       "  <tbody>\n",
       "    <tr>\n",
       "      <th>0</th>\n",
       "      <td>10</td>\n",
       "      <td>Mark</td>\n",
       "      <td>Zuckerberg</td>\n",
       "      <td>5.0</td>\n",
       "      <td>NaN</td>\n",
       "      <td>6265.0</td>\n",
       "      <td>University of Pennsylvania</td>\n",
       "      <td>1989-01-01</td>\n",
       "    </tr>\n",
       "    <tr>\n",
       "      <th>1</th>\n",
       "      <td>100</td>\n",
       "      <td>Peter</td>\n",
       "      <td>Lester</td>\n",
       "      <td>27.0</td>\n",
       "      <td>NaN</td>\n",
       "      <td>938.0</td>\n",
       "      <td>Universidad Catolica del Uruguay</td>\n",
       "      <td>2006-01-01</td>\n",
       "    </tr>\n",
       "    <tr>\n",
       "      <th>2</th>\n",
       "      <td>1000</td>\n",
       "      <td>Dr. Steven</td>\n",
       "      <td>E. Saunders</td>\n",
       "      <td>292.0</td>\n",
       "      <td>NaN</td>\n",
       "      <td>13098.0</td>\n",
       "      <td>Golden Gate University</td>\n",
       "      <td>1999-01-01</td>\n",
       "    </tr>\n",
       "    <tr>\n",
       "      <th>3</th>\n",
       "      <td>10000</td>\n",
       "      <td>Neil</td>\n",
       "      <td>Capel</td>\n",
       "      <td>2526.0</td>\n",
       "      <td>NaN</td>\n",
       "      <td>74038.0</td>\n",
       "      <td>Cairo University</td>\n",
       "      <td>NaT</td>\n",
       "    </tr>\n",
       "    <tr>\n",
       "      <th>4</th>\n",
       "      <td>100000</td>\n",
       "      <td>Sue</td>\n",
       "      <td>Pilsch</td>\n",
       "      <td>NaN</td>\n",
       "      <td>NaN</td>\n",
       "      <td>89666.0</td>\n",
       "      <td>Ohio State University</td>\n",
       "      <td>NaT</td>\n",
       "    </tr>\n",
       "  </tbody>\n",
       "</table>\n",
       "</div>"
      ],
      "text/plain": [
       "       id  first_name    last_name  company_id network_username  person_id  \\\n",
       "0      10        Mark   Zuckerberg         5.0              NaN     6265.0   \n",
       "1     100       Peter       Lester        27.0              NaN      938.0   \n",
       "2    1000  Dr. Steven  E. Saunders       292.0              NaN    13098.0   \n",
       "3   10000        Neil        Capel      2526.0              NaN    74038.0   \n",
       "4  100000         Sue       Pilsch         NaN              NaN    89666.0   \n",
       "\n",
       "                       instituition graduated_at  \n",
       "0        University of Pennsylvania   1989-01-01  \n",
       "1  Universidad Catolica del Uruguay   2006-01-01  \n",
       "2            Golden Gate University   1999-01-01  \n",
       "3                  Cairo University          NaT  \n",
       "4             Ohio State University          NaT  "
      ]
     },
     "execution_count": 40,
     "metadata": {},
     "output_type": "execute_result"
    }
   ],
   "source": [
    "# Объеденим датасеты df_people и df_education \n",
    "df_educated_people = pd.merge(df_people, \n",
    "                              df_education, \n",
    "                              on = 'id',\n",
    "                              how = 'left')\n",
    "\n",
    "# Выведем информацию о полученном массиве\n",
    "df_educated_people.head()"
   ]
  },
  {
   "cell_type": "code",
   "execution_count": 41,
   "metadata": {},
   "outputs": [
    {
     "data": {
      "text/plain": [
       "164875"
      ]
     },
     "execution_count": 41,
     "metadata": {},
     "output_type": "execute_result"
    }
   ],
   "source": [
    "# Проверим на наличие дубликатов среди людей\n",
    "\n",
    "df_educated_people.duplicated(subset = 'person_id').sum()"
   ]
  },
  {
   "cell_type": "code",
   "execution_count": 42,
   "metadata": {},
   "outputs": [
    {
     "data": {
      "text/html": [
       "<div>\n",
       "<style scoped>\n",
       "    .dataframe tbody tr th:only-of-type {\n",
       "        vertical-align: middle;\n",
       "    }\n",
       "\n",
       "    .dataframe tbody tr th {\n",
       "        vertical-align: top;\n",
       "    }\n",
       "\n",
       "    .dataframe thead th {\n",
       "        text-align: right;\n",
       "    }\n",
       "</style>\n",
       "<table border=\"1\" class=\"dataframe\">\n",
       "  <thead>\n",
       "    <tr style=\"text-align: right;\">\n",
       "      <th></th>\n",
       "      <th>id</th>\n",
       "      <th>first_name</th>\n",
       "      <th>last_name</th>\n",
       "      <th>company_id</th>\n",
       "      <th>network_username</th>\n",
       "      <th>person_id</th>\n",
       "      <th>instituition</th>\n",
       "      <th>graduated_at</th>\n",
       "      <th>is_education</th>\n",
       "    </tr>\n",
       "  </thead>\n",
       "  <tbody>\n",
       "    <tr>\n",
       "      <th>0</th>\n",
       "      <td>10</td>\n",
       "      <td>Mark</td>\n",
       "      <td>Zuckerberg</td>\n",
       "      <td>5.0</td>\n",
       "      <td>NaN</td>\n",
       "      <td>6265.0</td>\n",
       "      <td>University of Pennsylvania</td>\n",
       "      <td>1989-01-01</td>\n",
       "      <td>True</td>\n",
       "    </tr>\n",
       "    <tr>\n",
       "      <th>1</th>\n",
       "      <td>100</td>\n",
       "      <td>Peter</td>\n",
       "      <td>Lester</td>\n",
       "      <td>27.0</td>\n",
       "      <td>NaN</td>\n",
       "      <td>938.0</td>\n",
       "      <td>Universidad Catolica del Uruguay</td>\n",
       "      <td>2006-01-01</td>\n",
       "      <td>True</td>\n",
       "    </tr>\n",
       "    <tr>\n",
       "      <th>2</th>\n",
       "      <td>1000</td>\n",
       "      <td>Dr. Steven</td>\n",
       "      <td>E. Saunders</td>\n",
       "      <td>292.0</td>\n",
       "      <td>NaN</td>\n",
       "      <td>13098.0</td>\n",
       "      <td>Golden Gate University</td>\n",
       "      <td>1999-01-01</td>\n",
       "      <td>True</td>\n",
       "    </tr>\n",
       "    <tr>\n",
       "      <th>3</th>\n",
       "      <td>10000</td>\n",
       "      <td>Neil</td>\n",
       "      <td>Capel</td>\n",
       "      <td>2526.0</td>\n",
       "      <td>NaN</td>\n",
       "      <td>74038.0</td>\n",
       "      <td>Cairo University</td>\n",
       "      <td>NaT</td>\n",
       "      <td>True</td>\n",
       "    </tr>\n",
       "    <tr>\n",
       "      <th>4</th>\n",
       "      <td>100000</td>\n",
       "      <td>Sue</td>\n",
       "      <td>Pilsch</td>\n",
       "      <td>NaN</td>\n",
       "      <td>NaN</td>\n",
       "      <td>89666.0</td>\n",
       "      <td>Ohio State University</td>\n",
       "      <td>NaT</td>\n",
       "      <td>True</td>\n",
       "    </tr>\n",
       "    <tr>\n",
       "      <th>...</th>\n",
       "      <td>...</td>\n",
       "      <td>...</td>\n",
       "      <td>...</td>\n",
       "      <td>...</td>\n",
       "      <td>...</td>\n",
       "      <td>...</td>\n",
       "      <td>...</td>\n",
       "      <td>...</td>\n",
       "      <td>...</td>\n",
       "    </tr>\n",
       "    <tr>\n",
       "      <th>226704</th>\n",
       "      <td>99999</td>\n",
       "      <td>Ramon</td>\n",
       "      <td>Peypoch</td>\n",
       "      <td>NaN</td>\n",
       "      <td>NaN</td>\n",
       "      <td>257599.0</td>\n",
       "      <td>HTBLuVA Mödling</td>\n",
       "      <td>NaT</td>\n",
       "      <td>True</td>\n",
       "    </tr>\n",
       "    <tr>\n",
       "      <th>226705</th>\n",
       "      <td>174088</td>\n",
       "      <td>Dr. Ray</td>\n",
       "      <td>Woods</td>\n",
       "      <td>188200.0</td>\n",
       "      <td>network</td>\n",
       "      <td>NaN</td>\n",
       "      <td>NaN</td>\n",
       "      <td>NaT</td>\n",
       "      <td>False</td>\n",
       "    </tr>\n",
       "    <tr>\n",
       "      <th>226706</th>\n",
       "      <td>118386</td>\n",
       "      <td>Ricardo</td>\n",
       "      <td>Durand</td>\n",
       "      <td>143419.0</td>\n",
       "      <td>itechsocialnet</td>\n",
       "      <td>NaN</td>\n",
       "      <td>NaN</td>\n",
       "      <td>NaT</td>\n",
       "      <td>False</td>\n",
       "    </tr>\n",
       "    <tr>\n",
       "      <th>226707</th>\n",
       "      <td>175827</td>\n",
       "      <td>mahesh</td>\n",
       "      <td>kumar</td>\n",
       "      <td>NaN</td>\n",
       "      <td>socialnethubs</td>\n",
       "      <td>NaN</td>\n",
       "      <td>NaN</td>\n",
       "      <td>NaT</td>\n",
       "      <td>False</td>\n",
       "    </tr>\n",
       "    <tr>\n",
       "      <th>226708</th>\n",
       "      <td>178190</td>\n",
       "      <td>Alex</td>\n",
       "      <td>Smith</td>\n",
       "      <td>NaN</td>\n",
       "      <td>esocialnetlike</td>\n",
       "      <td>NaN</td>\n",
       "      <td>NaN</td>\n",
       "      <td>NaT</td>\n",
       "      <td>False</td>\n",
       "    </tr>\n",
       "  </tbody>\n",
       "</table>\n",
       "<p>226709 rows × 9 columns</p>\n",
       "</div>"
      ],
      "text/plain": [
       "            id  first_name    last_name  company_id network_username  \\\n",
       "0           10        Mark   Zuckerberg         5.0              NaN   \n",
       "1          100       Peter       Lester        27.0              NaN   \n",
       "2         1000  Dr. Steven  E. Saunders       292.0              NaN   \n",
       "3        10000        Neil        Capel      2526.0              NaN   \n",
       "4       100000         Sue       Pilsch         NaN              NaN   \n",
       "...        ...         ...          ...         ...              ...   \n",
       "226704   99999       Ramon      Peypoch         NaN              NaN   \n",
       "226705  174088     Dr. Ray        Woods    188200.0          network   \n",
       "226706  118386     Ricardo       Durand    143419.0   itechsocialnet   \n",
       "226707  175827      mahesh        kumar         NaN    socialnethubs   \n",
       "226708  178190        Alex        Smith         NaN   esocialnetlike   \n",
       "\n",
       "        person_id                      instituition graduated_at  is_education  \n",
       "0          6265.0        University of Pennsylvania   1989-01-01          True  \n",
       "1           938.0  Universidad Catolica del Uruguay   2006-01-01          True  \n",
       "2         13098.0            Golden Gate University   1999-01-01          True  \n",
       "3         74038.0                  Cairo University          NaT          True  \n",
       "4         89666.0             Ohio State University          NaT          True  \n",
       "...           ...                               ...          ...           ...  \n",
       "226704   257599.0                   HTBLuVA Mödling          NaT          True  \n",
       "226705        NaN                               NaN          NaT         False  \n",
       "226706        NaN                               NaN          NaT         False  \n",
       "226707        NaN                               NaN          NaT         False  \n",
       "226708        NaN                               NaN          NaT         False  \n",
       "\n",
       "[226709 rows x 9 columns]"
      ]
     },
     "execution_count": 42,
     "metadata": {},
     "output_type": "execute_result"
    }
   ],
   "source": [
    "# Необходимо создать столбец, в котором будет булева переменная отражающая наличие информации об образовании\n",
    "\n",
    "df_educated_people['is_education'] = (pd.notna(df_educated_people['instituition']) | pd.notna(df_educated_people['graduated_at']))\n",
    "\n",
    "df_educated_people"
   ]
  },
  {
   "cell_type": "code",
   "execution_count": 43,
   "metadata": {},
   "outputs": [
    {
     "data": {
      "text/html": [
       "<div>\n",
       "<style scoped>\n",
       "    .dataframe tbody tr th:only-of-type {\n",
       "        vertical-align: middle;\n",
       "    }\n",
       "\n",
       "    .dataframe tbody tr th {\n",
       "        vertical-align: top;\n",
       "    }\n",
       "\n",
       "    .dataframe thead th {\n",
       "        text-align: right;\n",
       "    }\n",
       "</style>\n",
       "<table border=\"1\" class=\"dataframe\">\n",
       "  <thead>\n",
       "    <tr style=\"text-align: right;\">\n",
       "      <th></th>\n",
       "      <th>id</th>\n",
       "      <th>first_name</th>\n",
       "      <th>last_name</th>\n",
       "      <th>company_id</th>\n",
       "      <th>network_username</th>\n",
       "      <th>person_id</th>\n",
       "      <th>instituition</th>\n",
       "      <th>graduated_at</th>\n",
       "      <th>is_education</th>\n",
       "    </tr>\n",
       "  </thead>\n",
       "  <tbody>\n",
       "    <tr>\n",
       "      <th>0</th>\n",
       "      <td>10</td>\n",
       "      <td>Mark</td>\n",
       "      <td>Zuckerberg</td>\n",
       "      <td>5.0</td>\n",
       "      <td>NaN</td>\n",
       "      <td>6265.0</td>\n",
       "      <td>University of Pennsylvania</td>\n",
       "      <td>1989-01-01</td>\n",
       "      <td>True</td>\n",
       "    </tr>\n",
       "    <tr>\n",
       "      <th>1</th>\n",
       "      <td>100</td>\n",
       "      <td>Peter</td>\n",
       "      <td>Lester</td>\n",
       "      <td>27.0</td>\n",
       "      <td>NaN</td>\n",
       "      <td>938.0</td>\n",
       "      <td>Universidad Catolica del Uruguay</td>\n",
       "      <td>2006-01-01</td>\n",
       "      <td>True</td>\n",
       "    </tr>\n",
       "    <tr>\n",
       "      <th>2</th>\n",
       "      <td>1000</td>\n",
       "      <td>Dr. Steven</td>\n",
       "      <td>E. Saunders</td>\n",
       "      <td>292.0</td>\n",
       "      <td>NaN</td>\n",
       "      <td>13098.0</td>\n",
       "      <td>Golden Gate University</td>\n",
       "      <td>1999-01-01</td>\n",
       "      <td>True</td>\n",
       "    </tr>\n",
       "    <tr>\n",
       "      <th>3</th>\n",
       "      <td>10000</td>\n",
       "      <td>Neil</td>\n",
       "      <td>Capel</td>\n",
       "      <td>2526.0</td>\n",
       "      <td>NaN</td>\n",
       "      <td>74038.0</td>\n",
       "      <td>Cairo University</td>\n",
       "      <td>NaT</td>\n",
       "      <td>True</td>\n",
       "    </tr>\n",
       "    <tr>\n",
       "      <th>4</th>\n",
       "      <td>100000</td>\n",
       "      <td>Sue</td>\n",
       "      <td>Pilsch</td>\n",
       "      <td>NaN</td>\n",
       "      <td>NaN</td>\n",
       "      <td>89666.0</td>\n",
       "      <td>Ohio State University</td>\n",
       "      <td>NaT</td>\n",
       "      <td>True</td>\n",
       "    </tr>\n",
       "    <tr>\n",
       "      <th>...</th>\n",
       "      <td>...</td>\n",
       "      <td>...</td>\n",
       "      <td>...</td>\n",
       "      <td>...</td>\n",
       "      <td>...</td>\n",
       "      <td>...</td>\n",
       "      <td>...</td>\n",
       "      <td>...</td>\n",
       "      <td>...</td>\n",
       "    </tr>\n",
       "    <tr>\n",
       "      <th>226699</th>\n",
       "      <td>99994</td>\n",
       "      <td>Kiran</td>\n",
       "      <td>Manda</td>\n",
       "      <td>NaN</td>\n",
       "      <td>NaN</td>\n",
       "      <td>257594.0</td>\n",
       "      <td>Skidmore College</td>\n",
       "      <td>NaT</td>\n",
       "      <td>True</td>\n",
       "    </tr>\n",
       "    <tr>\n",
       "      <th>226701</th>\n",
       "      <td>99996</td>\n",
       "      <td>Rick</td>\n",
       "      <td>Tamberrino</td>\n",
       "      <td>NaN</td>\n",
       "      <td>tamberrino</td>\n",
       "      <td>126688.0</td>\n",
       "      <td>Massachusetts Institute of Technology</td>\n",
       "      <td>NaT</td>\n",
       "      <td>True</td>\n",
       "    </tr>\n",
       "    <tr>\n",
       "      <th>226702</th>\n",
       "      <td>99997</td>\n",
       "      <td>Peter</td>\n",
       "      <td>Lalonde</td>\n",
       "      <td>83651.0</td>\n",
       "      <td>peterlalonde</td>\n",
       "      <td>257598.0</td>\n",
       "      <td>Georgetown University</td>\n",
       "      <td>NaT</td>\n",
       "      <td>True</td>\n",
       "    </tr>\n",
       "    <tr>\n",
       "      <th>226703</th>\n",
       "      <td>99998</td>\n",
       "      <td>Adam</td>\n",
       "      <td>Neumann</td>\n",
       "      <td>NaN</td>\n",
       "      <td>NaN</td>\n",
       "      <td>23070.0</td>\n",
       "      <td>Otago University</td>\n",
       "      <td>NaT</td>\n",
       "      <td>True</td>\n",
       "    </tr>\n",
       "    <tr>\n",
       "      <th>226704</th>\n",
       "      <td>99999</td>\n",
       "      <td>Ramon</td>\n",
       "      <td>Peypoch</td>\n",
       "      <td>NaN</td>\n",
       "      <td>NaN</td>\n",
       "      <td>257599.0</td>\n",
       "      <td>HTBLuVA Mödling</td>\n",
       "      <td>NaT</td>\n",
       "      <td>True</td>\n",
       "    </tr>\n",
       "  </tbody>\n",
       "</table>\n",
       "<p>61839 rows × 9 columns</p>\n",
       "</div>"
      ],
      "text/plain": [
       "            id  first_name    last_name  company_id network_username  \\\n",
       "0           10        Mark   Zuckerberg         5.0              NaN   \n",
       "1          100       Peter       Lester        27.0              NaN   \n",
       "2         1000  Dr. Steven  E. Saunders       292.0              NaN   \n",
       "3        10000        Neil        Capel      2526.0              NaN   \n",
       "4       100000         Sue       Pilsch         NaN              NaN   \n",
       "...        ...         ...          ...         ...              ...   \n",
       "226699   99994       Kiran        Manda         NaN              NaN   \n",
       "226701   99996        Rick   Tamberrino         NaN       tamberrino   \n",
       "226702   99997       Peter      Lalonde     83651.0     peterlalonde   \n",
       "226703   99998        Adam      Neumann         NaN              NaN   \n",
       "226704   99999       Ramon      Peypoch         NaN              NaN   \n",
       "\n",
       "        person_id                           instituition graduated_at  \\\n",
       "0          6265.0             University of Pennsylvania   1989-01-01   \n",
       "1           938.0       Universidad Catolica del Uruguay   2006-01-01   \n",
       "2         13098.0                 Golden Gate University   1999-01-01   \n",
       "3         74038.0                       Cairo University          NaT   \n",
       "4         89666.0                  Ohio State University          NaT   \n",
       "...           ...                                    ...          ...   \n",
       "226699   257594.0                       Skidmore College          NaT   \n",
       "226701   126688.0  Massachusetts Institute of Technology          NaT   \n",
       "226702   257598.0                  Georgetown University          NaT   \n",
       "226703    23070.0                       Otago University          NaT   \n",
       "226704   257599.0                        HTBLuVA Mödling          NaT   \n",
       "\n",
       "        is_education  \n",
       "0               True  \n",
       "1               True  \n",
       "2               True  \n",
       "3               True  \n",
       "4               True  \n",
       "...              ...  \n",
       "226699          True  \n",
       "226701          True  \n",
       "226702          True  \n",
       "226703          True  \n",
       "226704          True  \n",
       "\n",
       "[61839 rows x 9 columns]"
      ]
     },
     "execution_count": 43,
     "metadata": {},
     "output_type": "execute_result"
    }
   ],
   "source": [
    "# Оказывается у нас более XX тыс. дубликатов, которые пояивлись  после объеденения массивов\n",
    "# Это было связано с тем, что отдельные работники уже получили или начали получать второе образование\n",
    "\n",
    "df_educated_people = df_educated_people.drop_duplicates(subset = ['person_id', 'is_education']) \n",
    "\n",
    "# Теперь мы считаем одного и того же человека с несколькими образованиями за одного сотрудника, а не за нескольких\n",
    "df_educated_people"
   ]
  },
  {
   "cell_type": "code",
   "execution_count": 44,
   "metadata": {},
   "outputs": [
    {
     "data": {
      "text/plain": [
       "network_username    82.0\n",
       "company_id          78.0\n",
       "graduated_at        45.0\n",
       "id                   0.0\n",
       "first_name           0.0\n",
       "last_name            0.0\n",
       "person_id            0.0\n",
       "instituition         0.0\n",
       "is_education         0.0\n",
       "dtype: float64"
      ]
     },
     "execution_count": 44,
     "metadata": {},
     "output_type": "execute_result"
    }
   ],
   "source": [
    "df_educated_people.isna().mean().round(2).sort_values(ascending=False)*100"
   ]
  },
  {
   "cell_type": "markdown",
   "metadata": {},
   "source": [
    "- Получилось объеденить таблицы с информацией о сотрудниках компаний и их образовании и избежать дублировния информации о сотрудниках, которое возникало из-за нескольких образований у персонала: это могло быть как несколько ступеней (например, бакалавр -> магистр -> MBA), так и несколько высшех  образований или дополнительное прохождение курсов ДПО."
   ]
  },
  {
   "cell_type": "code",
   "execution_count": 45,
   "metadata": {
    "id": "psPO7C4MrJg2",
    "scrolled": true,
    "vscode": {
     "languageId": "plaintext"
    }
   },
   "outputs": [
    {
     "data": {
      "text/html": [
       "<div>\n",
       "<style scoped>\n",
       "    .dataframe tbody tr th:only-of-type {\n",
       "        vertical-align: middle;\n",
       "    }\n",
       "\n",
       "    .dataframe tbody tr th {\n",
       "        vertical-align: top;\n",
       "    }\n",
       "\n",
       "    .dataframe thead th {\n",
       "        text-align: right;\n",
       "    }\n",
       "</style>\n",
       "<table border=\"1\" class=\"dataframe\">\n",
       "  <thead>\n",
       "    <tr style=\"text-align: right;\">\n",
       "      <th></th>\n",
       "      <th>company_id</th>\n",
       "      <th>total_stuff</th>\n",
       "      <th>total_educated_stuff</th>\n",
       "      <th>prop_of_educated</th>\n",
       "    </tr>\n",
       "  </thead>\n",
       "  <tbody>\n",
       "    <tr>\n",
       "      <th>43</th>\n",
       "      <td>59.0</td>\n",
       "      <td>120</td>\n",
       "      <td>85</td>\n",
       "      <td>0.71</td>\n",
       "    </tr>\n",
       "    <tr>\n",
       "      <th>23</th>\n",
       "      <td>29.0</td>\n",
       "      <td>72</td>\n",
       "      <td>44</td>\n",
       "      <td>0.61</td>\n",
       "    </tr>\n",
       "    <tr>\n",
       "      <th>688</th>\n",
       "      <td>1242.0</td>\n",
       "      <td>57</td>\n",
       "      <td>29</td>\n",
       "      <td>0.51</td>\n",
       "    </tr>\n",
       "    <tr>\n",
       "      <th>336</th>\n",
       "      <td>494.0</td>\n",
       "      <td>39</td>\n",
       "      <td>24</td>\n",
       "      <td>0.62</td>\n",
       "    </tr>\n",
       "    <tr>\n",
       "      <th>338</th>\n",
       "      <td>499.0</td>\n",
       "      <td>36</td>\n",
       "      <td>20</td>\n",
       "      <td>0.56</td>\n",
       "    </tr>\n",
       "  </tbody>\n",
       "</table>\n",
       "</div>"
      ],
      "text/plain": [
       "     company_id  total_stuff  total_educated_stuff  prop_of_educated\n",
       "43         59.0          120                    85              0.71\n",
       "23         29.0           72                    44              0.61\n",
       "688      1242.0           57                    29              0.51\n",
       "336       494.0           39                    24              0.62\n",
       "338       499.0           36                    20              0.56"
      ]
     },
     "execution_count": 45,
     "metadata": {},
     "output_type": "execute_result"
    }
   ],
   "source": [
    "# Посчитаем количество сотрудников в компании + количество сотрудников с информацией об образвании\n",
    "# При работе с количеством образованных сотрудников мы будем счиатать численность именно тех, кто уже получил образование (graduated_at)\n",
    "df_num_of_emp = df_educated_people.groupby('company_id').agg({'person_id' : 'count', 'graduated_at' : 'count'}).reset_index().sort_values(by = 'person_id', ascending = False).rename(columns = {'person_id' : 'total_stuff', 'graduated_at' : 'total_educated_stuff'})\n",
    "\n",
    "# Добавим столбец с процентом людей, об образовании которых у нас есть информация\n",
    "df_num_of_emp['prop_of_educated'] = (df_num_of_emp['total_educated_stuff'] / df_num_of_emp['total_stuff']).round(2)\n",
    "\n",
    "# Выведем первые пять строк\n",
    "df_num_of_emp.head()"
   ]
  },
  {
   "cell_type": "markdown",
   "metadata": {
    "id": "BThTjpLqFcsm"
   },
   "source": [
    "- Перед тем, как сегментировать данные необходимо изучить распределение сотрундников по комапниям, потому что во многих стартапах количетво работников достаточно маленькое и, скорее всего, нам придётся работать с двумя группами. Итак, проверим данные, которые у нас есть:  "
   ]
  },
  {
   "cell_type": "code",
   "execution_count": 46,
   "metadata": {
    "scrolled": true
   },
   "outputs": [
    {
     "data": {
      "text/plain": [
       "<AxesSubplot:ylabel='Frequency'>"
      ]
     },
     "execution_count": 46,
     "metadata": {},
     "output_type": "execute_result"
    },
    {
     "data": {
      "image/png": "[encoded data removed]",
      "text/plain": [
       "<Figure size 432x288 with 1 Axes>"
      ]
     },
     "metadata": {
      "needs_background": "light"
     },
     "output_type": "display_data"
    }
   ],
   "source": [
    "# Изобразим гистограмму, чтобы понимать, какое у нас распределение\n",
    "df_num_of_emp['total_stuff'].plot(kind = 'hist', bins = 30)"
   ]
  },
  {
   "cell_type": "code",
   "execution_count": 47,
   "metadata": {},
   "outputs": [
    {
     "name": "stdout",
     "output_type": "stream",
     "text": [
      "1.0\n",
      "1.0\n",
      "1.0\n",
      "7.0\n"
     ]
    }
   ],
   "source": [
    "# У нас распределение со слабым правым \"хвостом\", нужно подробнее изучить распределние, найдём медианное значение и куантили\n",
    "q1 = df_num_of_emp['total_stuff'].quantile(0.25)\n",
    "median = df_num_of_emp['total_stuff'].quantile(0.5)\n",
    "q3 = df_num_of_emp['total_stuff'].quantile(0.75)\n",
    "percetile_99 = df_num_of_emp['total_stuff'].quantile(0.99)\n",
    "\n",
    "print(q1)\n",
    "print(median)\n",
    "print(q3)\n",
    "print(percetile_99)"
   ]
  },
  {
   "cell_type": "code",
   "execution_count": 48,
   "metadata": {},
   "outputs": [
    {
     "name": "stdout",
     "output_type": "stream",
     "text": [
      "0.8\n"
     ]
    }
   ],
   "source": [
    "# Рассчитаем, когда количество работников в компании начинает превышать одного\n",
    "x = float()\n",
    "for x in range(1, 100, 1):\n",
    "    x = x / 100\n",
    "    if df_num_of_emp['total_stuff'].quantile(x) > 1:\n",
    "        print(x)\n",
    "        break\n",
    "    else:\n",
    "        pass"
   ]
  },
  {
   "cell_type": "markdown",
   "metadata": {},
   "source": [
    "- Так, как можно видеть выше, у нас больше 3/4 (3 квантиль) всех стартапов стартапов имеют только одного сотрудника (CEO), в остальных же компаниях работает больше одного человека;\n",
    "- Удалось выяснить, что наш набор данных является прекрасным примером правила Паретто: 80 на 20, потому что 80% стартапов имеют только одного человека, а остальные 20 - более одного.\n",
    "- В существующей ситуации оптимальным вариантом представляется разделение стартапов на органиазации с одним руководиетелем в составе и организаци с более чем одним человеком в составе. "
   ]
  },
  {
   "cell_type": "code",
   "execution_count": 49,
   "metadata": {
    "id": "4FC98Pd-FcmG"
   },
   "outputs": [
    {
     "data": {
      "text/plain": [
       "category_of_company\n",
       "Стартапер       7399\n",
       "Органиазация    1962\n",
       "Name: company_id, dtype: int64"
      ]
     },
     "execution_count": 49,
     "metadata": {},
     "output_type": "execute_result"
    }
   ],
   "source": [
    "# Создадим \"корзины\" и ярлыки\n",
    "bins = [0, 1, 1000]\n",
    "labels = ['Стартапер', 'Органиазация']\n",
    "\n",
    "# Используем метод cut() для группировки по количеству сотрудников \n",
    "df_num_of_emp['category_of_company'] = pd.cut(df_num_of_emp['total_stuff'],\n",
    "      bins = bins,\n",
    "      labels = labels,\n",
    "      right = True)\n",
    "\n",
    "# Посчитаем количество компаний в каждой группе (просто интересно)\n",
    "df_num_of_emp.groupby('category_of_company')['company_id'].count()"
   ]
  },
  {
   "cell_type": "code",
   "execution_count": 50,
   "metadata": {
    "scrolled": true
   },
   "outputs": [
    {
     "data": {
      "text/plain": [
       "category_of_company\n",
       "Органиазация    0.581335\n",
       "Стартапер       0.540073\n",
       "Name: prop_of_educated, dtype: float64"
      ]
     },
     "execution_count": 50,
     "metadata": {},
     "output_type": "execute_result"
    }
   ],
   "source": [
    "# Тепеь посчитаем среднюю долю сотрудников с информацией об образовании в компании (считать будем по медиане)\n",
    "df_num_of_emp.groupby('category_of_company')['prop_of_educated'].mean().sort_values(ascending = False)"
   ]
  },
  {
   "cell_type": "markdown",
   "metadata": {},
   "source": [
    "- Как можно видеть, среди 58% стартаперов уже имеют образование в то время, как среди стартапов (ораганизаций) немного чаще можно встретить людей без образования или с неоконченным образованием. Такая разница может быть связана с тем, что (1) для стартапов с большим количеством людей требуются не только \"белые\", но и \"синие\" воротнички, котороые будут входить в штат сотрудников и будут заниматься обслуживанием инфраструктуры, а также (2) с возможностью нанимать младших специалистов, которые ещё не получили полного образования, в качестве, например, стажёров."
   ]
  },
  {
   "cell_type": "code",
   "execution_count": 51,
   "metadata": {},
   "outputs": [
    {
     "data": {
      "text/html": [
       "<div>\n",
       "<style scoped>\n",
       "    .dataframe tbody tr th:only-of-type {\n",
       "        vertical-align: middle;\n",
       "    }\n",
       "\n",
       "    .dataframe tbody tr th {\n",
       "        vertical-align: top;\n",
       "    }\n",
       "\n",
       "    .dataframe thead th {\n",
       "        text-align: right;\n",
       "    }\n",
       "</style>\n",
       "<table border=\"1\" class=\"dataframe\">\n",
       "  <thead>\n",
       "    <tr style=\"text-align: right;\">\n",
       "      <th></th>\n",
       "      <th>id</th>\n",
       "      <th>first_name</th>\n",
       "      <th>last_name</th>\n",
       "      <th>company_id</th>\n",
       "      <th>network_username</th>\n",
       "      <th>person_id</th>\n",
       "      <th>instituition</th>\n",
       "      <th>graduated_at</th>\n",
       "      <th>is_education</th>\n",
       "    </tr>\n",
       "  </thead>\n",
       "  <tbody>\n",
       "    <tr>\n",
       "      <th>0</th>\n",
       "      <td>10</td>\n",
       "      <td>Mark</td>\n",
       "      <td>Zuckerberg</td>\n",
       "      <td>5.0</td>\n",
       "      <td>NaN</td>\n",
       "      <td>6265.0</td>\n",
       "      <td>University of Pennsylvania</td>\n",
       "      <td>1989-01-01</td>\n",
       "      <td>True</td>\n",
       "    </tr>\n",
       "    <tr>\n",
       "      <th>1</th>\n",
       "      <td>100</td>\n",
       "      <td>Peter</td>\n",
       "      <td>Lester</td>\n",
       "      <td>27.0</td>\n",
       "      <td>NaN</td>\n",
       "      <td>938.0</td>\n",
       "      <td>Universidad Catolica del Uruguay</td>\n",
       "      <td>2006-01-01</td>\n",
       "      <td>True</td>\n",
       "    </tr>\n",
       "    <tr>\n",
       "      <th>2</th>\n",
       "      <td>1000</td>\n",
       "      <td>Dr. Steven</td>\n",
       "      <td>E. Saunders</td>\n",
       "      <td>292.0</td>\n",
       "      <td>NaN</td>\n",
       "      <td>13098.0</td>\n",
       "      <td>Golden Gate University</td>\n",
       "      <td>1999-01-01</td>\n",
       "      <td>True</td>\n",
       "    </tr>\n",
       "    <tr>\n",
       "      <th>3</th>\n",
       "      <td>10000</td>\n",
       "      <td>Neil</td>\n",
       "      <td>Capel</td>\n",
       "      <td>2526.0</td>\n",
       "      <td>NaN</td>\n",
       "      <td>74038.0</td>\n",
       "      <td>Cairo University</td>\n",
       "      <td>NaT</td>\n",
       "      <td>True</td>\n",
       "    </tr>\n",
       "    <tr>\n",
       "      <th>4</th>\n",
       "      <td>100000</td>\n",
       "      <td>Sue</td>\n",
       "      <td>Pilsch</td>\n",
       "      <td>NaN</td>\n",
       "      <td>NaN</td>\n",
       "      <td>89666.0</td>\n",
       "      <td>Ohio State University</td>\n",
       "      <td>NaT</td>\n",
       "      <td>True</td>\n",
       "    </tr>\n",
       "  </tbody>\n",
       "</table>\n",
       "</div>"
      ],
      "text/plain": [
       "       id  first_name    last_name  company_id network_username  person_id  \\\n",
       "0      10        Mark   Zuckerberg         5.0              NaN     6265.0   \n",
       "1     100       Peter       Lester        27.0              NaN      938.0   \n",
       "2    1000  Dr. Steven  E. Saunders       292.0              NaN    13098.0   \n",
       "3   10000        Neil        Capel      2526.0              NaN    74038.0   \n",
       "4  100000         Sue       Pilsch         NaN              NaN    89666.0   \n",
       "\n",
       "                       instituition graduated_at  is_education  \n",
       "0        University of Pennsylvania   1989-01-01          True  \n",
       "1  Universidad Catolica del Uruguay   2006-01-01          True  \n",
       "2            Golden Gate University   1999-01-01          True  \n",
       "3                  Cairo University          NaT          True  \n",
       "4             Ohio State University          NaT          True  "
      ]
     },
     "execution_count": 51,
     "metadata": {},
     "output_type": "execute_result"
    }
   ],
   "source": [
    "df_educated_people.head()"
   ]
  },
  {
   "cell_type": "code",
   "execution_count": 52,
   "metadata": {
    "scrolled": true
   },
   "outputs": [
    {
     "name": "stdout",
     "output_type": "stream",
     "text": [
      "<class 'pandas.core.frame.DataFrame'>\n",
      "Int64Index: 61839 entries, 0 to 61838\n",
      "Data columns (total 12 columns):\n",
      " #   Column            Non-Null Count  Dtype         \n",
      "---  ------            --------------  -----         \n",
      " 0   id                61839 non-null  int64         \n",
      " 1   first_name        61835 non-null  object        \n",
      " 2   last_name         61838 non-null  object        \n",
      " 3   company_id        13572 non-null  float64       \n",
      " 4   network_username  11265 non-null  object        \n",
      " 5   person_id         61838 non-null  float64       \n",
      " 6   instituition      61797 non-null  object        \n",
      " 7   graduated_at      33867 non-null  datetime64[ns]\n",
      " 8   is_education      61839 non-null  bool          \n",
      " 9   object_id         61838 non-null  Int64         \n",
      " 10  degree_type       55791 non-null  object        \n",
      " 11  subject           46240 non-null  object        \n",
      "dtypes: Int64(1), bool(1), datetime64[ns](1), float64(2), int64(1), object(6)\n",
      "memory usage: 5.8+ MB\n"
     ]
    }
   ],
   "source": [
    "# Посмотрим, как измениться щаполняемость столбцов при добавлении детализированной информации об образовании\n",
    "\n",
    "# Объеденим датасеты df_educated_people и df_degrees \n",
    "df_educated_people_degree = pd.merge(\n",
    "    df_educated_people,\n",
    "    df_degrees,\n",
    "    on = 'id',\n",
    "    how='left'\n",
    ")\n",
    "\n",
    "# Выведем информацию о полученном массиве\n",
    "df_educated_people_degree.info()"
   ]
  },
  {
   "cell_type": "code",
   "execution_count": 53,
   "metadata": {},
   "outputs": [],
   "source": [
    "# Избавимся от одного лишнего столбца\n",
    "df_educated_people_degree = df_educated_people_degree.drop(columns = 'person_id')"
   ]
  },
  {
   "cell_type": "code",
   "execution_count": 54,
   "metadata": {
    "scrolled": true
   },
   "outputs": [
    {
     "data": {
      "text/html": [
       "<div>\n",
       "<style scoped>\n",
       "    .dataframe tbody tr th:only-of-type {\n",
       "        vertical-align: middle;\n",
       "    }\n",
       "\n",
       "    .dataframe tbody tr th {\n",
       "        vertical-align: top;\n",
       "    }\n",
       "\n",
       "    .dataframe thead th {\n",
       "        text-align: right;\n",
       "    }\n",
       "</style>\n",
       "<table border=\"1\" class=\"dataframe\">\n",
       "  <thead>\n",
       "    <tr style=\"text-align: right;\">\n",
       "      <th></th>\n",
       "      <th>id</th>\n",
       "      <th>first_name</th>\n",
       "      <th>last_name</th>\n",
       "      <th>company_id</th>\n",
       "      <th>network_username</th>\n",
       "      <th>instituition</th>\n",
       "      <th>graduated_at</th>\n",
       "      <th>is_education</th>\n",
       "      <th>object_id</th>\n",
       "      <th>degree_type</th>\n",
       "      <th>subject</th>\n",
       "    </tr>\n",
       "  </thead>\n",
       "  <tbody>\n",
       "    <tr>\n",
       "      <th>0</th>\n",
       "      <td>10</td>\n",
       "      <td>Mark</td>\n",
       "      <td>Zuckerberg</td>\n",
       "      <td>5.0</td>\n",
       "      <td>NaN</td>\n",
       "      <td>University of Pennsylvania</td>\n",
       "      <td>1989-01-01</td>\n",
       "      <td>True</td>\n",
       "      <td>6265</td>\n",
       "      <td>BS</td>\n",
       "      <td>Economics</td>\n",
       "    </tr>\n",
       "    <tr>\n",
       "      <th>1</th>\n",
       "      <td>100</td>\n",
       "      <td>Peter</td>\n",
       "      <td>Lester</td>\n",
       "      <td>27.0</td>\n",
       "      <td>NaN</td>\n",
       "      <td>Universidad Catolica del Uruguay</td>\n",
       "      <td>2006-01-01</td>\n",
       "      <td>True</td>\n",
       "      <td>938</td>\n",
       "      <td>BS</td>\n",
       "      <td>Computer Science</td>\n",
       "    </tr>\n",
       "    <tr>\n",
       "      <th>2</th>\n",
       "      <td>1000</td>\n",
       "      <td>Dr. Steven</td>\n",
       "      <td>E. Saunders</td>\n",
       "      <td>292.0</td>\n",
       "      <td>NaN</td>\n",
       "      <td>Golden Gate University</td>\n",
       "      <td>1999-01-01</td>\n",
       "      <td>True</td>\n",
       "      <td>13098</td>\n",
       "      <td>MBA</td>\n",
       "      <td>NaN</td>\n",
       "    </tr>\n",
       "    <tr>\n",
       "      <th>3</th>\n",
       "      <td>10000</td>\n",
       "      <td>Neil</td>\n",
       "      <td>Capel</td>\n",
       "      <td>2526.0</td>\n",
       "      <td>NaN</td>\n",
       "      <td>Cairo University</td>\n",
       "      <td>NaT</td>\n",
       "      <td>True</td>\n",
       "      <td>74038</td>\n",
       "      <td>MS</td>\n",
       "      <td>Applied Mathematics</td>\n",
       "    </tr>\n",
       "    <tr>\n",
       "      <th>4</th>\n",
       "      <td>100000</td>\n",
       "      <td>Sue</td>\n",
       "      <td>Pilsch</td>\n",
       "      <td>NaN</td>\n",
       "      <td>NaN</td>\n",
       "      <td>Ohio State University</td>\n",
       "      <td>NaT</td>\n",
       "      <td>True</td>\n",
       "      <td>89666</td>\n",
       "      <td>MS</td>\n",
       "      <td>Computer Science</td>\n",
       "    </tr>\n",
       "  </tbody>\n",
       "</table>\n",
       "</div>"
      ],
      "text/plain": [
       "       id  first_name    last_name  company_id network_username  \\\n",
       "0      10        Mark   Zuckerberg         5.0              NaN   \n",
       "1     100       Peter       Lester        27.0              NaN   \n",
       "2    1000  Dr. Steven  E. Saunders       292.0              NaN   \n",
       "3   10000        Neil        Capel      2526.0              NaN   \n",
       "4  100000         Sue       Pilsch         NaN              NaN   \n",
       "\n",
       "                       instituition graduated_at  is_education  object_id  \\\n",
       "0        University of Pennsylvania   1989-01-01          True       6265   \n",
       "1  Universidad Catolica del Uruguay   2006-01-01          True        938   \n",
       "2            Golden Gate University   1999-01-01          True      13098   \n",
       "3                  Cairo University          NaT          True      74038   \n",
       "4             Ohio State University          NaT          True      89666   \n",
       "\n",
       "  degree_type              subject  \n",
       "0          BS            Economics  \n",
       "1          BS     Computer Science  \n",
       "2         MBA                  NaN  \n",
       "3          MS  Applied Mathematics  \n",
       "4          MS     Computer Science  "
      ]
     },
     "execution_count": 54,
     "metadata": {},
     "output_type": "execute_result"
    }
   ],
   "source": [
    "df_educated_people_degree.head()"
   ]
  },
  {
   "cell_type": "code",
   "execution_count": 55,
   "metadata": {},
   "outputs": [
    {
     "data": {
      "text/plain": [
       "0"
      ]
     },
     "execution_count": 55,
     "metadata": {},
     "output_type": "execute_result"
    }
   ],
   "source": [
    "# Проверим, возможно, у нас снова появились дубликаты\n",
    "df_educated_people_degree.duplicated(subset = 'id').sum()"
   ]
  },
  {
   "cell_type": "code",
   "execution_count": 56,
   "metadata": {},
   "outputs": [
    {
     "data": {
      "text/plain": [
       "network_username    82.0\n",
       "company_id          78.0\n",
       "graduated_at        45.0\n",
       "subject             25.0\n",
       "degree_type         10.0\n",
       "id                   0.0\n",
       "first_name           0.0\n",
       "last_name            0.0\n",
       "instituition         0.0\n",
       "is_education         0.0\n",
       "object_id            0.0\n",
       "dtype: float64"
      ]
     },
     "execution_count": 56,
     "metadata": {},
     "output_type": "execute_result"
    }
   ],
   "source": [
    "# У нас не оказалась дубликатов среди id, так что мы можем просто рассчитать долю пропусков\n",
    "df_educated_people_degree.isna().mean().round(2).sort_values(ascending=False)*100"
   ]
  },
  {
   "cell_type": "markdown",
   "metadata": {},
   "source": [
    "- Присоединив дополнительную информацию об образовании, мы почти никак не изменили точность наших данных, но мы смогли добавить ещё больше деталей, так что в дальнейшем можно будет изучить влияние MBA на получение финансирования и специфику образования при дальнейшем анализе, что позволит увеличить качество гипотез. "
   ]
  },
  {
   "cell_type": "markdown",
   "metadata": {
    "id": "Lz7qjM32xglW"
   },
   "source": [
    "### Объединять или не объединять — вот в чём вопрос\n",
    "\n",
    "Некоторые названия столбцов встречаются в датасетах чаще других. В результате предварительной проверки датасетов было выяснено, что столбец `company_id` подходит для объединения данных.\n",
    "\n",
    "- Установите, подходит ли для объединения данных столбец `network_username`, который встречается в нескольких датасетах. Нам необходимо понимать, дублируется ли для разных датасетов информация в столбцах с таким названием, и если да — то насколько часто.\n",
    "- Оцените, можно ли использовать столбцы с именем `network_username` для объединения данных."
   ]
  },
  {
   "cell_type": "code",
   "execution_count": 57,
   "metadata": {},
   "outputs": [
    {
     "name": "stdout",
     "output_type": "stream",
     "text": [
      "0.56\n",
      "0.83\n"
     ]
    }
   ],
   "source": [
    "# Посчитаем количество пропусков в среди названий компаний в социальных сетях\n",
    "\n",
    "print(df_company_rounds['network_username'].isna().mean().round(2))\n",
    "print(df_people['network_username'].isna().mean().round(2))"
   ]
  },
  {
   "cell_type": "code",
   "execution_count": 58,
   "metadata": {},
   "outputs": [],
   "source": [
    "# 56% достаточно высокий результат: нам необходимо заранее избавиться от данных значений\n",
    "\n",
    "df_company_rounds_pure = df_company_rounds.dropna(subset = ['network_username'])\n",
    "\n",
    "# Также избавимся от строк с пропусками в массиве df_people\n",
    "\n",
    "df_people = df_people.dropna(subset = ['network_username'])"
   ]
  },
  {
   "cell_type": "code",
   "execution_count": 59,
   "metadata": {},
   "outputs": [
    {
     "name": "stdout",
     "output_type": "stream",
     "text": [
      "<class 'pandas.core.frame.DataFrame'>\n",
      "Int64Index: 38867 entries, 6 to 226708\n",
      "Data columns (total 5 columns):\n",
      " #   Column            Non-Null Count  Dtype  \n",
      "---  ------            --------------  -----  \n",
      " 0   id                38867 non-null  int64  \n",
      " 1   first_name        38867 non-null  object \n",
      " 2   last_name         38867 non-null  object \n",
      " 3   company_id        17313 non-null  float64\n",
      " 4   network_username  38867 non-null  object \n",
      "dtypes: float64(1), int64(1), object(3)\n",
      "memory usage: 1.8+ MB\n"
     ]
    }
   ],
   "source": [
    "df_people.info()"
   ]
  },
  {
   "cell_type": "code",
   "execution_count": 60,
   "metadata": {},
   "outputs": [
    {
     "data": {
      "text/plain": [
       "0.17"
      ]
     },
     "execution_count": 60,
     "metadata": {},
     "output_type": "execute_result"
    }
   ],
   "source": [
    "# Посчитаем колчиество дубликатов, которые есть в столбце network_username\n",
    "\n",
    "df_company_rounds_pure.duplicated(subset = 'network_username').mean().round(2)"
   ]
  },
  {
   "cell_type": "code",
   "execution_count": 61,
   "metadata": {},
   "outputs": [
    {
     "data": {
      "text/html": [
       "<div>\n",
       "<style scoped>\n",
       "    .dataframe tbody tr th:only-of-type {\n",
       "        vertical-align: middle;\n",
       "    }\n",
       "\n",
       "    .dataframe tbody tr th {\n",
       "        vertical-align: top;\n",
       "    }\n",
       "\n",
       "    .dataframe thead th {\n",
       "        text-align: right;\n",
       "    }\n",
       "</style>\n",
       "<table border=\"1\" class=\"dataframe\">\n",
       "  <thead>\n",
       "    <tr style=\"text-align: right;\">\n",
       "      <th></th>\n",
       "      <th>company_id</th>\n",
       "      <th>name</th>\n",
       "      <th>category_code</th>\n",
       "      <th>status</th>\n",
       "      <th>founded_at</th>\n",
       "      <th>closed_at</th>\n",
       "      <th>domain</th>\n",
       "      <th>network_username</th>\n",
       "      <th>country_code</th>\n",
       "      <th>investment_rounds</th>\n",
       "      <th>...</th>\n",
       "      <th>milestones</th>\n",
       "      <th>funding_round_id</th>\n",
       "      <th>company_id_rounds</th>\n",
       "      <th>funded_at</th>\n",
       "      <th>funding_round_type</th>\n",
       "      <th>raised_amount</th>\n",
       "      <th>pre_money_valuation</th>\n",
       "      <th>participants</th>\n",
       "      <th>is_first_round</th>\n",
       "      <th>is_last_round</th>\n",
       "    </tr>\n",
       "  </thead>\n",
       "  <tbody>\n",
       "    <tr>\n",
       "      <th>0</th>\n",
       "      <td>1.0</td>\n",
       "      <td>Wetpaint</td>\n",
       "      <td>web</td>\n",
       "      <td>operating</td>\n",
       "      <td>2005-10-17</td>\n",
       "      <td>NaT</td>\n",
       "      <td>wetpaint-inc.com</td>\n",
       "      <td>BachelrWetpaint</td>\n",
       "      <td>USA</td>\n",
       "      <td>0.0</td>\n",
       "      <td>...</td>\n",
       "      <td>5.0</td>\n",
       "      <td>888.0</td>\n",
       "      <td>1.0</td>\n",
       "      <td>2005-10-01</td>\n",
       "      <td>series-a</td>\n",
       "      <td>5250000.0</td>\n",
       "      <td>0.0</td>\n",
       "      <td>2.0</td>\n",
       "      <td>0.0</td>\n",
       "      <td>1.0</td>\n",
       "    </tr>\n",
       "    <tr>\n",
       "      <th>3</th>\n",
       "      <td>10.0</td>\n",
       "      <td>Flektor</td>\n",
       "      <td>games_video</td>\n",
       "      <td>acquired</td>\n",
       "      <td>NaT</td>\n",
       "      <td>NaT</td>\n",
       "      <td>flektor.com</td>\n",
       "      <td>NaN</td>\n",
       "      <td>USA</td>\n",
       "      <td>0.0</td>\n",
       "      <td>...</td>\n",
       "      <td>0.0</td>\n",
       "      <td>NaN</td>\n",
       "      <td>NaN</td>\n",
       "      <td>NaT</td>\n",
       "      <td>NaN</td>\n",
       "      <td>NaN</td>\n",
       "      <td>NaN</td>\n",
       "      <td>NaN</td>\n",
       "      <td>NaN</td>\n",
       "      <td>NaN</td>\n",
       "    </tr>\n",
       "    <tr>\n",
       "      <th>9</th>\n",
       "      <td>100042.0</td>\n",
       "      <td>HostNine</td>\n",
       "      <td>NaN</td>\n",
       "      <td>operating</td>\n",
       "      <td>NaT</td>\n",
       "      <td>NaT</td>\n",
       "      <td>hostnine.com</td>\n",
       "      <td>Hostnine</td>\n",
       "      <td>NaN</td>\n",
       "      <td>0.0</td>\n",
       "      <td>...</td>\n",
       "      <td>1.0</td>\n",
       "      <td>NaN</td>\n",
       "      <td>NaN</td>\n",
       "      <td>NaT</td>\n",
       "      <td>NaN</td>\n",
       "      <td>NaN</td>\n",
       "      <td>NaN</td>\n",
       "      <td>NaN</td>\n",
       "      <td>NaN</td>\n",
       "      <td>NaN</td>\n",
       "    </tr>\n",
       "    <tr>\n",
       "      <th>11</th>\n",
       "      <td>100062.0</td>\n",
       "      <td>Vetter Idea Management System</td>\n",
       "      <td>enterprise</td>\n",
       "      <td>operating</td>\n",
       "      <td>2011-08-01</td>\n",
       "      <td>NaT</td>\n",
       "      <td>getvetter.com</td>\n",
       "      <td>getvetter</td>\n",
       "      <td>NaN</td>\n",
       "      <td>0.0</td>\n",
       "      <td>...</td>\n",
       "      <td>1.0</td>\n",
       "      <td>NaN</td>\n",
       "      <td>NaN</td>\n",
       "      <td>NaT</td>\n",
       "      <td>NaN</td>\n",
       "      <td>NaN</td>\n",
       "      <td>NaN</td>\n",
       "      <td>NaN</td>\n",
       "      <td>NaN</td>\n",
       "      <td>NaN</td>\n",
       "    </tr>\n",
       "    <tr>\n",
       "      <th>12</th>\n",
       "      <td>100068.0</td>\n",
       "      <td>ChatRandom</td>\n",
       "      <td>games_video</td>\n",
       "      <td>operating</td>\n",
       "      <td>2011-02-01</td>\n",
       "      <td>NaT</td>\n",
       "      <td>chatrandom.com</td>\n",
       "      <td>chatrandom</td>\n",
       "      <td>NaN</td>\n",
       "      <td>0.0</td>\n",
       "      <td>...</td>\n",
       "      <td>1.0</td>\n",
       "      <td>NaN</td>\n",
       "      <td>NaN</td>\n",
       "      <td>NaT</td>\n",
       "      <td>NaN</td>\n",
       "      <td>NaN</td>\n",
       "      <td>NaN</td>\n",
       "      <td>NaN</td>\n",
       "      <td>NaN</td>\n",
       "      <td>NaN</td>\n",
       "    </tr>\n",
       "  </tbody>\n",
       "</table>\n",
       "<p>5 rows × 22 columns</p>\n",
       "</div>"
      ],
      "text/plain": [
       "    company_id                           name category_code     status  \\\n",
       "0          1.0                       Wetpaint           web  operating   \n",
       "3         10.0                        Flektor   games_video   acquired   \n",
       "9     100042.0                       HostNine           NaN  operating   \n",
       "11    100062.0  Vetter Idea Management System    enterprise  operating   \n",
       "12    100068.0                     ChatRandom   games_video  operating   \n",
       "\n",
       "   founded_at closed_at            domain network_username country_code  \\\n",
       "0  2005-10-17       NaT  wetpaint-inc.com  BachelrWetpaint          USA   \n",
       "3         NaT       NaT       flektor.com              NaN          USA   \n",
       "9         NaT       NaT      hostnine.com         Hostnine          NaN   \n",
       "11 2011-08-01       NaT     getvetter.com        getvetter          NaN   \n",
       "12 2011-02-01       NaT    chatrandom.com       chatrandom          NaN   \n",
       "\n",
       "    investment_rounds  ...  milestones  funding_round_id  company_id_rounds  \\\n",
       "0                 0.0  ...         5.0             888.0                1.0   \n",
       "3                 0.0  ...         0.0               NaN                NaN   \n",
       "9                 0.0  ...         1.0               NaN                NaN   \n",
       "11                0.0  ...         1.0               NaN                NaN   \n",
       "12                0.0  ...         1.0               NaN                NaN   \n",
       "\n",
       "    funded_at  funding_round_type raised_amount pre_money_valuation  \\\n",
       "0  2005-10-01            series-a     5250000.0                 0.0   \n",
       "3         NaT                 NaN           NaN                 NaN   \n",
       "9         NaT                 NaN           NaN                 NaN   \n",
       "11        NaT                 NaN           NaN                 NaN   \n",
       "12        NaT                 NaN           NaN                 NaN   \n",
       "\n",
       "    participants  is_first_round  is_last_round  \n",
       "0            2.0             0.0            1.0  \n",
       "3            NaN             NaN            NaN  \n",
       "9            NaN             NaN            NaN  \n",
       "11           NaN             NaN            NaN  \n",
       "12           NaN             NaN            NaN  \n",
       "\n",
       "[5 rows x 22 columns]"
      ]
     },
     "execution_count": 61,
     "metadata": {},
     "output_type": "execute_result"
    }
   ],
   "source": [
    "# 63% данных по столбцу network_username дублируются либо имеют пропуски\n",
    "# Такие случаи необходимо искоючить при дальнейшей работе\n",
    "\n",
    "df_company_rounds_pure = df_company_rounds.drop_duplicates(subset = 'network_username')\n",
    "\n",
    "# Выведем данные\n",
    "\n",
    "df_company_rounds_pure.head()"
   ]
  },
  {
   "cell_type": "code",
   "execution_count": 62,
   "metadata": {
    "scrolled": true
   },
   "outputs": [
    {
     "name": "stdout",
     "output_type": "stream",
     "text": [
      "<class 'pandas.core.frame.DataFrame'>\n",
      "Int64Index: 79643 entries, 0 to 79642\n",
      "Data columns (total 25 columns):\n",
      " #   Column               Non-Null Count  Dtype         \n",
      "---  ------               --------------  -----         \n",
      " 0   company_id           79643 non-null  float64       \n",
      " 1   name                 79643 non-null  object        \n",
      " 2   category_code        76666 non-null  object        \n",
      " 3   status               79643 non-null  object        \n",
      " 4   founded_at           63774 non-null  datetime64[ns]\n",
      " 5   closed_at            1083 non-null   datetime64[ns]\n",
      " 6   domain               79152 non-null  object        \n",
      " 7   network_username     79642 non-null  object        \n",
      " 8   country_code         54435 non-null  object        \n",
      " 9   investment_rounds    79643 non-null  float64       \n",
      " 10  funding_rounds       79643 non-null  float64       \n",
      " 11  funding_total        79643 non-null  float64       \n",
      " 12  milestones           79643 non-null  float64       \n",
      " 13  funding_round_id     18827 non-null  float64       \n",
      " 14  company_id_rounds    18827 non-null  float64       \n",
      " 15  funded_at            18726 non-null  datetime64[ns]\n",
      " 16  funding_round_type   18827 non-null  object        \n",
      " 17  raised_amount        18827 non-null  float64       \n",
      " 18  pre_money_valuation  18827 non-null  float64       \n",
      " 19  participants         18827 non-null  float64       \n",
      " 20  is_first_round       18827 non-null  float64       \n",
      " 21  is_last_round        18827 non-null  float64       \n",
      " 22  id                   2270 non-null   float64       \n",
      " 23  first_name           2270 non-null   object        \n",
      " 24  last_name            2270 non-null   object        \n",
      "dtypes: datetime64[ns](3), float64(13), object(9)\n",
      "memory usage: 15.8+ MB\n"
     ]
    }
   ],
   "source": [
    "# Попробуем произвести объединение данных отталкиваясь от network_username\n",
    "df_merged = pd.merge(df_company_rounds_pure, df_people.drop(columns = 'company_id'), on = 'network_username', how = 'left')\n",
    "\n",
    "# Выведем общую информацию о полученом массиве\n",
    "df_merged.info()"
   ]
  },
  {
   "cell_type": "code",
   "execution_count": 63,
   "metadata": {
    "scrolled": true
   },
   "outputs": [
    {
     "data": {
      "text/plain": [
       "closed_at              0.99\n",
       "last_name              0.97\n",
       "first_name             0.97\n",
       "id                     0.97\n",
       "is_first_round         0.76\n",
       "funded_at              0.76\n",
       "company_id_rounds      0.76\n",
       "funding_round_id       0.76\n",
       "pre_money_valuation    0.76\n",
       "participants           0.76\n",
       "funding_round_type     0.76\n",
       "is_last_round          0.76\n",
       "raised_amount          0.76\n",
       "country_code           0.32\n",
       "founded_at             0.20\n",
       "category_code          0.04\n",
       "domain                 0.01\n",
       "company_id             0.00\n",
       "name                   0.00\n",
       "funding_total          0.00\n",
       "funding_rounds         0.00\n",
       "investment_rounds      0.00\n",
       "network_username       0.00\n",
       "status                 0.00\n",
       "milestones             0.00\n",
       "dtype: float64"
      ]
     },
     "execution_count": 63,
     "metadata": {},
     "output_type": "execute_result"
    }
   ],
   "source": [
    "# Проанализируем количество пропусков, среди информации о пресонале, которые мы получили после объединения\n",
    "df_merged.isna().mean().round(2).sort_values(ascending = False)"
   ]
  },
  {
   "cell_type": "markdown",
   "metadata": {},
   "source": [
    "- Хорошо, массивы данных были успешно объеденены, однако, теперь возникает вопрос **\"насколько эти данные соотносятся с тем, что мы получали ранее?\"**. Чтобы ответить на данный вопрос, далее достаточно будет проанализировать численность сотрудников среди стартапов и сопоставить с прошлыми результатами. "
   ]
  },
  {
   "cell_type": "code",
   "execution_count": 64,
   "metadata": {},
   "outputs": [
    {
     "data": {
      "text/html": [
       "<div>\n",
       "<style scoped>\n",
       "    .dataframe tbody tr th:only-of-type {\n",
       "        vertical-align: middle;\n",
       "    }\n",
       "\n",
       "    .dataframe tbody tr th {\n",
       "        vertical-align: top;\n",
       "    }\n",
       "\n",
       "    .dataframe thead th {\n",
       "        text-align: right;\n",
       "    }\n",
       "</style>\n",
       "<table border=\"1\" class=\"dataframe\">\n",
       "  <thead>\n",
       "    <tr style=\"text-align: right;\">\n",
       "      <th></th>\n",
       "      <th>company_id</th>\n",
       "      <th>name</th>\n",
       "      <th>category_code</th>\n",
       "      <th>status</th>\n",
       "      <th>founded_at</th>\n",
       "      <th>closed_at</th>\n",
       "      <th>domain</th>\n",
       "      <th>network_username</th>\n",
       "      <th>country_code</th>\n",
       "      <th>investment_rounds</th>\n",
       "      <th>...</th>\n",
       "      <th>funded_at</th>\n",
       "      <th>funding_round_type</th>\n",
       "      <th>raised_amount</th>\n",
       "      <th>pre_money_valuation</th>\n",
       "      <th>participants</th>\n",
       "      <th>is_first_round</th>\n",
       "      <th>is_last_round</th>\n",
       "      <th>id</th>\n",
       "      <th>first_name</th>\n",
       "      <th>last_name</th>\n",
       "    </tr>\n",
       "  </thead>\n",
       "  <tbody>\n",
       "    <tr>\n",
       "      <th>171</th>\n",
       "      <td>10221.0</td>\n",
       "      <td>Redphlag LLC</td>\n",
       "      <td>consulting</td>\n",
       "      <td>operating</td>\n",
       "      <td>2008-01-01</td>\n",
       "      <td>NaT</td>\n",
       "      <td>redphlag.com</td>\n",
       "      <td>gerardcorbett</td>\n",
       "      <td>USA</td>\n",
       "      <td>0.0</td>\n",
       "      <td>...</td>\n",
       "      <td>NaT</td>\n",
       "      <td>NaN</td>\n",
       "      <td>NaN</td>\n",
       "      <td>NaN</td>\n",
       "      <td>NaN</td>\n",
       "      <td>NaN</td>\n",
       "      <td>NaN</td>\n",
       "      <td>17216.0</td>\n",
       "      <td>Gerard</td>\n",
       "      <td>Corbett</td>\n",
       "    </tr>\n",
       "    <tr>\n",
       "      <th>182</th>\n",
       "      <td>10243.0</td>\n",
       "      <td>Future Delivery</td>\n",
       "      <td>web</td>\n",
       "      <td>operating</td>\n",
       "      <td>2007-07-07</td>\n",
       "      <td>NaT</td>\n",
       "      <td>viralogy.com</td>\n",
       "      <td>yukaichou</td>\n",
       "      <td>USA</td>\n",
       "      <td>0.0</td>\n",
       "      <td>...</td>\n",
       "      <td>NaT</td>\n",
       "      <td>NaN</td>\n",
       "      <td>NaN</td>\n",
       "      <td>NaN</td>\n",
       "      <td>NaN</td>\n",
       "      <td>NaN</td>\n",
       "      <td>NaN</td>\n",
       "      <td>17229.0</td>\n",
       "      <td>Yu-kai</td>\n",
       "      <td>Chou</td>\n",
       "    </tr>\n",
       "    <tr>\n",
       "      <th>205</th>\n",
       "      <td>102700.0</td>\n",
       "      <td>PATMADE Patentanwalt Kuehnel</td>\n",
       "      <td>legal</td>\n",
       "      <td>operating</td>\n",
       "      <td>2005-01-01</td>\n",
       "      <td>NaT</td>\n",
       "      <td>patmade.de</td>\n",
       "      <td>paberata</td>\n",
       "      <td>DEU</td>\n",
       "      <td>0.0</td>\n",
       "      <td>...</td>\n",
       "      <td>NaT</td>\n",
       "      <td>NaN</td>\n",
       "      <td>NaN</td>\n",
       "      <td>NaN</td>\n",
       "      <td>NaN</td>\n",
       "      <td>NaN</td>\n",
       "      <td>NaN</td>\n",
       "      <td>108985.0</td>\n",
       "      <td>Michael</td>\n",
       "      <td>Kuehnel</td>\n",
       "    </tr>\n",
       "    <tr>\n",
       "      <th>293</th>\n",
       "      <td>103556.0</td>\n",
       "      <td>TriVium Systems</td>\n",
       "      <td>software</td>\n",
       "      <td>operating</td>\n",
       "      <td>1996-01-01</td>\n",
       "      <td>NaT</td>\n",
       "      <td>triviumsystems.biz</td>\n",
       "      <td>triviumsys</td>\n",
       "      <td>USA</td>\n",
       "      <td>0.0</td>\n",
       "      <td>...</td>\n",
       "      <td>NaT</td>\n",
       "      <td>NaN</td>\n",
       "      <td>NaN</td>\n",
       "      <td>NaN</td>\n",
       "      <td>NaN</td>\n",
       "      <td>NaN</td>\n",
       "      <td>NaN</td>\n",
       "      <td>109698.0</td>\n",
       "      <td>Ganesh</td>\n",
       "      <td>Krishnan</td>\n",
       "    </tr>\n",
       "    <tr>\n",
       "      <th>299</th>\n",
       "      <td>103681.0</td>\n",
       "      <td>BouliBrand Marketing</td>\n",
       "      <td>consulting</td>\n",
       "      <td>operating</td>\n",
       "      <td>2005-03-01</td>\n",
       "      <td>NaT</td>\n",
       "      <td>boulibrand.com</td>\n",
       "      <td>stroumboulis</td>\n",
       "      <td>NaN</td>\n",
       "      <td>0.0</td>\n",
       "      <td>...</td>\n",
       "      <td>NaT</td>\n",
       "      <td>NaN</td>\n",
       "      <td>NaN</td>\n",
       "      <td>NaN</td>\n",
       "      <td>NaN</td>\n",
       "      <td>NaN</td>\n",
       "      <td>NaN</td>\n",
       "      <td>109189.0</td>\n",
       "      <td>Georgios</td>\n",
       "      <td>Stroumboulis</td>\n",
       "    </tr>\n",
       "  </tbody>\n",
       "</table>\n",
       "<p>5 rows × 25 columns</p>\n",
       "</div>"
      ],
      "text/plain": [
       "     company_id                          name category_code     status  \\\n",
       "171     10221.0                  Redphlag LLC    consulting  operating   \n",
       "182     10243.0               Future Delivery           web  operating   \n",
       "205    102700.0  PATMADE Patentanwalt Kuehnel         legal  operating   \n",
       "293    103556.0               TriVium Systems      software  operating   \n",
       "299    103681.0          BouliBrand Marketing    consulting  operating   \n",
       "\n",
       "    founded_at closed_at              domain network_username country_code  \\\n",
       "171 2008-01-01       NaT        redphlag.com    gerardcorbett          USA   \n",
       "182 2007-07-07       NaT        viralogy.com        yukaichou          USA   \n",
       "205 2005-01-01       NaT          patmade.de         paberata          DEU   \n",
       "293 1996-01-01       NaT  triviumsystems.biz       triviumsys          USA   \n",
       "299 2005-03-01       NaT      boulibrand.com     stroumboulis          NaN   \n",
       "\n",
       "     investment_rounds  ...  funded_at  funding_round_type  raised_amount  \\\n",
       "171                0.0  ...        NaT                 NaN            NaN   \n",
       "182                0.0  ...        NaT                 NaN            NaN   \n",
       "205                0.0  ...        NaT                 NaN            NaN   \n",
       "293                0.0  ...        NaT                 NaN            NaN   \n",
       "299                0.0  ...        NaT                 NaN            NaN   \n",
       "\n",
       "     pre_money_valuation  participants is_first_round is_last_round        id  \\\n",
       "171                  NaN           NaN            NaN           NaN   17216.0   \n",
       "182                  NaN           NaN            NaN           NaN   17229.0   \n",
       "205                  NaN           NaN            NaN           NaN  108985.0   \n",
       "293                  NaN           NaN            NaN           NaN  109698.0   \n",
       "299                  NaN           NaN            NaN           NaN  109189.0   \n",
       "\n",
       "     first_name     last_name  \n",
       "171      Gerard       Corbett  \n",
       "182      Yu-kai          Chou  \n",
       "205     Michael       Kuehnel  \n",
       "293      Ganesh      Krishnan  \n",
       "299    Georgios  Stroumboulis  \n",
       "\n",
       "[5 rows x 25 columns]"
      ]
     },
     "execution_count": 64,
     "metadata": {},
     "output_type": "execute_result"
    }
   ],
   "source": [
    "# Считаем, сколько человек работает в каждом стартапе\n",
    "df_merged = df_merged[df_merged['id'].notna()]\n",
    "\n",
    "df_merged.head()"
   ]
  },
  {
   "cell_type": "code",
   "execution_count": 65,
   "metadata": {},
   "outputs": [
    {
     "name": "stdout",
     "output_type": "stream",
     "text": [
      "Collecting matplotlib-venn\n",
      "  Downloading matplotlib-venn-1.1.2.tar.gz (40 kB)\n",
      "\u001b[K     |████████████████████████████████| 40 kB 720 kB/s eta 0:00:011\n",
      "\u001b[?25h  Installing build dependencies ... \u001b[?25ldone\n",
      "\u001b[?25h  Getting requirements to build wheel ... \u001b[?25ldone\n",
      "\u001b[?25h    Preparing wheel metadata ... \u001b[?25ldone\n",
      "\u001b[?25hRequirement already satisfied: scipy in /opt/conda/lib/python3.9/site-packages (from matplotlib-venn) (1.9.1)\n",
      "Requirement already satisfied: matplotlib in /opt/conda/lib/python3.9/site-packages (from matplotlib-venn) (3.3.4)\n",
      "Requirement already satisfied: numpy in /opt/conda/lib/python3.9/site-packages (from matplotlib-venn) (1.21.1)\n",
      "Requirement already satisfied: pyparsing!=2.0.4,!=2.1.2,!=2.1.6,>=2.0.3 in /opt/conda/lib/python3.9/site-packages (from matplotlib->matplotlib-venn) (2.4.7)\n",
      "Requirement already satisfied: kiwisolver>=1.0.1 in /opt/conda/lib/python3.9/site-packages (from matplotlib->matplotlib-venn) (1.4.4)\n",
      "Requirement already satisfied: python-dateutil>=2.1 in /opt/conda/lib/python3.9/site-packages (from matplotlib->matplotlib-venn) (2.8.1)\n",
      "Requirement already satisfied: cycler>=0.10 in /opt/conda/lib/python3.9/site-packages (from matplotlib->matplotlib-venn) (0.11.0)\n",
      "Requirement already satisfied: pillow>=6.2.0 in /opt/conda/lib/python3.9/site-packages (from matplotlib->matplotlib-venn) (8.4.0)\n",
      "Requirement already satisfied: six>=1.5 in /opt/conda/lib/python3.9/site-packages (from python-dateutil>=2.1->matplotlib->matplotlib-venn) (1.16.0)\n",
      "Building wheels for collected packages: matplotlib-venn\n",
      "  Building wheel for matplotlib-venn (PEP 517) ... \u001b[?25ldone\n",
      "\u001b[?25h  Created wheel for matplotlib-venn: filename=matplotlib_venn-1.1.2-py3-none-any.whl size=45388 sha256=964618b74a0d061d6a1039cc5f32c6bd6209ac76dd783ec3dfc4e5fb3406da79\n",
      "  Stored in directory: /home/jovyan/.cache/pip/wheels/86/29/d8/0f3c5a37c967a34fb40aaabd414f92104d2ad5fb149c0114a1\n",
      "Successfully built matplotlib-venn\n",
      "Installing collected packages: matplotlib-venn\n",
      "Successfully installed matplotlib-venn-1.1.2\n"
     ]
    }
   ],
   "source": [
    "# Установим ещё пару нужных библиотек\n",
    "!pip install matplotlib-venn\n",
    "\n",
    "from matplotlib_venn import venn2 \n",
    "from matplotlib import pyplot as plt"
   ]
  },
  {
   "cell_type": "code",
   "execution_count": 66,
   "metadata": {},
   "outputs": [
    {
     "data": {
      "image/png": "[encoded data removed]",
      "text/plain": [
       "<Figure size 720x432 with 1 Axes>"
      ]
     },
     "metadata": {},
     "output_type": "display_data"
    }
   ],
   "source": [
    "from matplotlib_venn import venn3\n",
    "\n",
    "plt.figure(figsize = (10,6))\n",
    "\n",
    "venn3(\n",
    "    subsets=[set(df_company_rounds_pure['network_username']), \n",
    "             set(df_people['network_username']),\n",
    "             set(df_funds['network_username'])],\n",
    "    set_labels=('compana_and_rounds', 'people', 'funds')\n",
    ")\n",
    "plt.show()"
   ]
  },
  {
   "cell_type": "markdown",
   "metadata": {},
   "source": [
    "- Объединение по полю network_username некорректно и не рекомендуется,  потому что поле не является общим идентификатором для разных датасетов (компании, сотрудники и фонды), что подтверждается:\n",
    "    1. Минимальными пересечениями (<3%)\n",
    "    2. Отсутствием тройного пересечения\n",
    "    3. Высоким процентом уникальных значений в каждом наборе\n",
    "- Оптимальнее будет использовать специализированные идентификаторы и таблицы связей для каждого типа отношений"
   ]
  },
  {
   "cell_type": "markdown",
   "metadata": {
    "id": "EHcODomVrJg1"
   },
   "source": [
    "\n",
    "### Проблемный датасет и причина возникновения пропусков\n",
    "\n",
    "Во время собственного анализа данных у заказчика больше всего вопросов возникло к датасету `company_and_rounds.csv`. В нём много пропусков как раз в информации о раундах, которая заказчику важна.\n",
    "\n",
    "- Любым удобным способом приведите данные в вид, который позволит в дальнейшем проводить анализ в разрезе отдельных компаний. Обратите внимание на структуру датасета, порядок и названия столбцов, проанализируйте значения.\n",
    "\n",
    "По гипотезе заказчика данные по компаниям из этой таблицы раньше хранились иначе, более удобным для исследования образом.\n",
    "\n",
    "- Максимальным образом сохраняя данные, сохранив их связность и исключив возможные возникающие при этом ошибки, подготовьте данные так, чтобы удобно было отобрать компании по параметрам и рассчитать показатели из расчёта на одну компанию без промежуточных агрегаций."
   ]
  },
  {
   "cell_type": "markdown",
   "metadata": {},
   "source": [
    "- Данный файл был образован из двух файлов, **один из которых содержал информацию о компаниях, а второй - о раундах финансирования и инвестиций**, если у нас получится их разделить, то мы сможем по столбцу 'company_id' определить интересующую нас информацию о раундах финансирования конкретной компании;\n",
    "- К **'df_rounds'** мы можем отнести столбцы 'company_id' (второй столбец), 'funded_at', 'funding_round_type', 'raised_amount', 'pre_money_valuation', 'participants', 'participants', 'is_first_round', 'is_last_round', а к **'df_companies'** - оставшиеся столбцы. "
   ]
  },
  {
   "cell_type": "code",
   "execution_count": 67,
   "metadata": {
    "scrolled": true
   },
   "outputs": [],
   "source": [
    "# Присвоим нужные столбцы новому df_rounds\n",
    "\n",
    "# Первые 14 столбцов (индексы 0-13)\n",
    "df_company = df_company_rounds.iloc[:, :14].copy()\n",
    "\n",
    "# Оставшиеся 8 столбцов (индексы 14-21)\n",
    "df_rounds = df_company_rounds.iloc[:, 14:].copy()"
   ]
  },
  {
   "cell_type": "code",
   "execution_count": 68,
   "metadata": {
    "scrolled": true
   },
   "outputs": [
    {
     "name": "stdout",
     "output_type": "stream",
     "text": [
      "<class 'pandas.core.frame.DataFrame'>\n",
      "RangeIndex: 217774 entries, 0 to 217773\n",
      "Data columns (total 14 columns):\n",
      " #   Column             Non-Null Count   Dtype         \n",
      "---  ------             --------------   -----         \n",
      " 0   company_id         217472 non-null  float64       \n",
      " 1   name               217472 non-null  object        \n",
      " 2   category_code      143886 non-null  object        \n",
      " 3   status             217472 non-null  object        \n",
      " 4   founded_at         109956 non-null  datetime64[ns]\n",
      " 5   closed_at          3449 non-null    datetime64[ns]\n",
      " 6   domain             147159 non-null  object        \n",
      " 7   network_username   95534 non-null   object        \n",
      " 8   country_code       108607 non-null  object        \n",
      " 9   investment_rounds  217472 non-null  float64       \n",
      " 10  funding_rounds     217472 non-null  float64       \n",
      " 11  funding_total      217472 non-null  float64       \n",
      " 12  milestones         217472 non-null  float64       \n",
      " 13  funding_round_id   52928 non-null   float64       \n",
      "dtypes: datetime64[ns](2), float64(6), object(6)\n",
      "memory usage: 23.3+ MB\n"
     ]
    }
   ],
   "source": [
    "df_company.info()"
   ]
  },
  {
   "cell_type": "code",
   "execution_count": 69,
   "metadata": {},
   "outputs": [
    {
     "name": "stdout",
     "output_type": "stream",
     "text": [
      "<class 'pandas.core.frame.DataFrame'>\n",
      "RangeIndex: 217774 entries, 0 to 217773\n",
      "Data columns (total 8 columns):\n",
      " #   Column               Non-Null Count  Dtype         \n",
      "---  ------               --------------  -----         \n",
      " 0   company_id_rounds    52928 non-null  float64       \n",
      " 1   funded_at            52680 non-null  datetime64[ns]\n",
      " 2   funding_round_type   52928 non-null  object        \n",
      " 3   raised_amount        52928 non-null  float64       \n",
      " 4   pre_money_valuation  52928 non-null  float64       \n",
      " 5   participants         52928 non-null  float64       \n",
      " 6   is_first_round       52928 non-null  float64       \n",
      " 7   is_last_round        52928 non-null  float64       \n",
      "dtypes: datetime64[ns](1), float64(6), object(1)\n",
      "memory usage: 13.3+ MB\n"
     ]
    }
   ],
   "source": [
    "df_rounds.info()"
   ]
  },
  {
   "cell_type": "code",
   "execution_count": 70,
   "metadata": {},
   "outputs": [
    {
     "data": {
      "text/html": [
       "<div>\n",
       "<style scoped>\n",
       "    .dataframe tbody tr th:only-of-type {\n",
       "        vertical-align: middle;\n",
       "    }\n",
       "\n",
       "    .dataframe tbody tr th {\n",
       "        vertical-align: top;\n",
       "    }\n",
       "\n",
       "    .dataframe thead th {\n",
       "        text-align: right;\n",
       "    }\n",
       "</style>\n",
       "<table border=\"1\" class=\"dataframe\">\n",
       "  <thead>\n",
       "    <tr style=\"text-align: right;\">\n",
       "      <th></th>\n",
       "      <th>company_id_rounds</th>\n",
       "      <th>funded_at</th>\n",
       "      <th>funding_round_type</th>\n",
       "      <th>raised_amount</th>\n",
       "      <th>pre_money_valuation</th>\n",
       "      <th>participants</th>\n",
       "      <th>is_first_round</th>\n",
       "      <th>is_last_round</th>\n",
       "    </tr>\n",
       "  </thead>\n",
       "  <tbody>\n",
       "    <tr>\n",
       "      <th>0</th>\n",
       "      <td>1.0</td>\n",
       "      <td>2005-10-01</td>\n",
       "      <td>series-a</td>\n",
       "      <td>5250000.0</td>\n",
       "      <td>0.0</td>\n",
       "      <td>2.0</td>\n",
       "      <td>0.0</td>\n",
       "      <td>1.0</td>\n",
       "    </tr>\n",
       "    <tr>\n",
       "      <th>1</th>\n",
       "      <td>1.0</td>\n",
       "      <td>2007-01-01</td>\n",
       "      <td>series-b</td>\n",
       "      <td>9500000.0</td>\n",
       "      <td>0.0</td>\n",
       "      <td>3.0</td>\n",
       "      <td>0.0</td>\n",
       "      <td>0.0</td>\n",
       "    </tr>\n",
       "    <tr>\n",
       "      <th>2</th>\n",
       "      <td>1.0</td>\n",
       "      <td>2008-05-19</td>\n",
       "      <td>series-c+</td>\n",
       "      <td>25000000.0</td>\n",
       "      <td>0.0</td>\n",
       "      <td>4.0</td>\n",
       "      <td>1.0</td>\n",
       "      <td>0.0</td>\n",
       "    </tr>\n",
       "    <tr>\n",
       "      <th>15</th>\n",
       "      <td>1001.0</td>\n",
       "      <td>2008-02-26</td>\n",
       "      <td>series-a</td>\n",
       "      <td>5000000.0</td>\n",
       "      <td>0.0</td>\n",
       "      <td>3.0</td>\n",
       "      <td>1.0</td>\n",
       "      <td>1.0</td>\n",
       "    </tr>\n",
       "    <tr>\n",
       "      <th>20</th>\n",
       "      <td>10014.0</td>\n",
       "      <td>2008-09-01</td>\n",
       "      <td>angel</td>\n",
       "      <td>0.0</td>\n",
       "      <td>0.0</td>\n",
       "      <td>1.0</td>\n",
       "      <td>1.0</td>\n",
       "      <td>1.0</td>\n",
       "    </tr>\n",
       "  </tbody>\n",
       "</table>\n",
       "</div>"
      ],
      "text/plain": [
       "    company_id_rounds  funded_at funding_round_type  raised_amount  \\\n",
       "0                 1.0 2005-10-01           series-a      5250000.0   \n",
       "1                 1.0 2007-01-01           series-b      9500000.0   \n",
       "2                 1.0 2008-05-19          series-c+     25000000.0   \n",
       "15             1001.0 2008-02-26           series-a      5000000.0   \n",
       "20            10014.0 2008-09-01              angel            0.0   \n",
       "\n",
       "    pre_money_valuation  participants  is_first_round  is_last_round  \n",
       "0                   0.0           2.0             0.0            1.0  \n",
       "1                   0.0           3.0             0.0            0.0  \n",
       "2                   0.0           4.0             1.0            0.0  \n",
       "15                  0.0           3.0             1.0            1.0  \n",
       "20                  0.0           1.0             1.0            1.0  "
      ]
     },
     "execution_count": 70,
     "metadata": {},
     "output_type": "execute_result"
    }
   ],
   "source": [
    "# Вместе с нужными даными мы перенесли большое колчиество пропусков, что неодходимо исправить\n",
    "# Нам потребуется удалить строчки, где будут пропуски в столбце 'funding_round_id'\n",
    "\n",
    "# Удаляем пропуски в столбце 'funding_round_id'\n",
    "df_rounds = df_rounds.dropna(subset = ['company_id_rounds'])\n",
    "\n",
    "# Удаляем дубликаты по столбцу 'funding_round_id'\n",
    "df_rounds = df_rounds.drop_duplicates(subset = ['company_id_rounds', 'funded_at'])\n",
    "\n",
    "# Выведем полученный результат\n",
    "df_rounds.head()"
   ]
  },
  {
   "cell_type": "code",
   "execution_count": 71,
   "metadata": {},
   "outputs": [
    {
     "data": {
      "text/plain": [
       "funded_at              0.005\n",
       "company_id_rounds      0.000\n",
       "funding_round_type     0.000\n",
       "raised_amount          0.000\n",
       "pre_money_valuation    0.000\n",
       "participants           0.000\n",
       "is_first_round         0.000\n",
       "is_last_round          0.000\n",
       "dtype: float64"
      ]
     },
     "execution_count": 71,
     "metadata": {},
     "output_type": "execute_result"
    }
   ],
   "source": [
    "# После обработки выделенного массива с раундами финансирования посмотри, какая доля пропусков в каждом из столбцов осталась\n",
    "df_rounds.isna().mean().round(3).sort_values(ascending = False)"
   ]
  },
  {
   "cell_type": "code",
   "execution_count": 72,
   "metadata": {},
   "outputs": [
    {
     "data": {
      "text/plain": [
       "0"
      ]
     },
     "execution_count": 72,
     "metadata": {},
     "output_type": "execute_result"
    }
   ],
   "source": [
    "# Теперь посмотрим, есть ли у нас явные дубликаты в данных df_company \n",
    "df_company.duplicated().sum()"
   ]
  },
  {
   "cell_type": "code",
   "execution_count": 73,
   "metadata": {},
   "outputs": [
    {
     "data": {
      "text/plain": [
       "closed_at            0.984162\n",
       "funding_round_id     0.756959\n",
       "network_username     0.561316\n",
       "country_code         0.501286\n",
       "founded_at           0.495091\n",
       "category_code        0.339288\n",
       "domain               0.324258\n",
       "company_id           0.001387\n",
       "name                 0.001387\n",
       "status               0.001387\n",
       "investment_rounds    0.001387\n",
       "funding_rounds       0.001387\n",
       "funding_total        0.001387\n",
       "milestones           0.001387\n",
       "dtype: float64"
      ]
     },
     "execution_count": 73,
     "metadata": {},
     "output_type": "execute_result"
    }
   ],
   "source": [
    "# Хорошо, явных дубликатов не осталось, так что можно ничего не изменять\n",
    "# Теперь посмотрим, сколько пропусков у нас осталось\n",
    "df_company.isna().mean().sort_values(ascending = False)"
   ]
  },
  {
   "cell_type": "code",
   "execution_count": 74,
   "metadata": {},
   "outputs": [],
   "source": [
    "# Удалим строчки, где отсутсвтует company_id\n",
    "df_company = df_company.dropna(subset = ['company_id'])"
   ]
  },
  {
   "cell_type": "markdown",
   "metadata": {},
   "source": [
    "- Теперь крупный массив df_company_rounds разделён на два: df_company и df_rounds, в которых хранится общая информация о компаниях и общая информация о раундах интервью, соответсвенно;\n",
    "- Данное разделение позволит нам напрямую обращаться к информации по раундам инвестирования в отдельную компанию и извлекать нужную информацию с меньшим количеством шагов, что делает дальнейшее исследование более удобным. "
   ]
  },
  {
   "cell_type": "markdown",
   "metadata": {
    "id": "bmVYhphNrJg2"
   },
   "source": [
    "\n",
    "## Шаг 3. Исследовательский анализ объединённых таблиц\n",
    "\n",
    "> Приступите к шагу 3 после проверки ревьюера.\n",
    "\n",
    "<big>Студентам нужно чётко сказать - проверять дальше или не проверять.</big>"
   ]
  },
  {
   "cell_type": "markdown",
   "metadata": {
    "id": "3Di6tCT3rJg2"
   },
   "source": [
    "\n",
    "### 3.1. Объединение данных\n",
    "\n",
    "Объедините данные для ответа на вопросы заказчика, которые касаются интересующих его компаний. Заказчика прежде всего интересуют те компании, которые меняли или готовы менять владельцев. Получение инвестиций или финансирования, по мнению заказчика, означает интерес к покупке или продаже компании.\n",
    "\n",
    "В качестве основы для объединённой таблицы возьмите данные из обработанного датасета `company_and_rounds.csv` — выберите только те компании, у которых указаны значения `funding_rounds` или `investment_rounds` больше нуля, или те, у которых в колонке `status` указано `acquired`. В результирующей таблице должно получиться порядка 40 тысяч компаний.\n",
    "\n",
    "Проверьте полноту и корректность получившейся таблицы. Далее работайте только с этими данными."
   ]
  },
  {
   "cell_type": "code",
   "execution_count": 75,
   "metadata": {
    "id": "kuV1b5MXFg3_"
   },
   "outputs": [
    {
     "data": {
      "text/html": [
       "<div>\n",
       "<style scoped>\n",
       "    .dataframe tbody tr th:only-of-type {\n",
       "        vertical-align: middle;\n",
       "    }\n",
       "\n",
       "    .dataframe tbody tr th {\n",
       "        vertical-align: top;\n",
       "    }\n",
       "\n",
       "    .dataframe thead th {\n",
       "        text-align: right;\n",
       "    }\n",
       "</style>\n",
       "<table border=\"1\" class=\"dataframe\">\n",
       "  <thead>\n",
       "    <tr style=\"text-align: right;\">\n",
       "      <th></th>\n",
       "      <th>status</th>\n",
       "      <th>funding_rounds</th>\n",
       "      <th>investment_rounds</th>\n",
       "    </tr>\n",
       "  </thead>\n",
       "  <tbody>\n",
       "    <tr>\n",
       "      <th>0</th>\n",
       "      <td>operating</td>\n",
       "      <td>3.0</td>\n",
       "      <td>0.0</td>\n",
       "    </tr>\n",
       "    <tr>\n",
       "      <th>1</th>\n",
       "      <td>operating</td>\n",
       "      <td>3.0</td>\n",
       "      <td>0.0</td>\n",
       "    </tr>\n",
       "    <tr>\n",
       "      <th>2</th>\n",
       "      <td>operating</td>\n",
       "      <td>3.0</td>\n",
       "      <td>0.0</td>\n",
       "    </tr>\n",
       "    <tr>\n",
       "      <th>3</th>\n",
       "      <td>acquired</td>\n",
       "      <td>0.0</td>\n",
       "      <td>0.0</td>\n",
       "    </tr>\n",
       "    <tr>\n",
       "      <th>4</th>\n",
       "      <td>acquired</td>\n",
       "      <td>0.0</td>\n",
       "      <td>0.0</td>\n",
       "    </tr>\n",
       "    <tr>\n",
       "      <th>15</th>\n",
       "      <td>acquired</td>\n",
       "      <td>1.0</td>\n",
       "      <td>0.0</td>\n",
       "    </tr>\n",
       "    <tr>\n",
       "      <th>20</th>\n",
       "      <td>acquired</td>\n",
       "      <td>1.0</td>\n",
       "      <td>0.0</td>\n",
       "    </tr>\n",
       "    <tr>\n",
       "      <th>21</th>\n",
       "      <td>operating</td>\n",
       "      <td>5.0</td>\n",
       "      <td>0.0</td>\n",
       "    </tr>\n",
       "    <tr>\n",
       "      <th>22</th>\n",
       "      <td>operating</td>\n",
       "      <td>5.0</td>\n",
       "      <td>0.0</td>\n",
       "    </tr>\n",
       "    <tr>\n",
       "      <th>23</th>\n",
       "      <td>operating</td>\n",
       "      <td>5.0</td>\n",
       "      <td>0.0</td>\n",
       "    </tr>\n",
       "  </tbody>\n",
       "</table>\n",
       "</div>"
      ],
      "text/plain": [
       "       status  funding_rounds  investment_rounds\n",
       "0   operating             3.0                0.0\n",
       "1   operating             3.0                0.0\n",
       "2   operating             3.0                0.0\n",
       "3    acquired             0.0                0.0\n",
       "4    acquired             0.0                0.0\n",
       "15   acquired             1.0                0.0\n",
       "20   acquired             1.0                0.0\n",
       "21  operating             5.0                0.0\n",
       "22  operating             5.0                0.0\n",
       "23  operating             5.0                0.0"
      ]
     },
     "execution_count": 75,
     "metadata": {},
     "output_type": "execute_result"
    }
   ],
   "source": [
    "# Составим условия для столбца status и для заполняемости funding_round и investment_rounds\n",
    "df_company_rounds = df_company_rounds.loc[(df_company_rounds['status'] == 'acquired') |\n",
    "                                          (df_company_rounds['funding_rounds'] > 0) | \n",
    "                                          (df_company_rounds['investment_rounds'] > 0)]\n",
    "\n",
    "# Выведем инетерсующие нас столбцы, чтобы убедиться, что запрос работает корректно\n",
    "df_company_rounds[['status', 'funding_rounds', 'investment_rounds']].head(10)"
   ]
  },
  {
   "cell_type": "code",
   "execution_count": 76,
   "metadata": {
    "id": "93v3fEX5FgtP"
   },
   "outputs": [
    {
     "name": "stdout",
     "output_type": "stream",
     "text": [
      "Количество компаний в полученом списке: 40747\n"
     ]
    }
   ],
   "source": [
    "# Хорошо, теперь нам надо проверить, сколько всего компаний есть в данном списке: \n",
    "\n",
    "count_unique = df_company_rounds['company_id'].nunique()\n",
    "print(f'Количество компаний в полученом списке: {count_unique}')"
   ]
  },
  {
   "cell_type": "markdown",
   "metadata": {},
   "source": [
    "- Общее количество стартапов, подходящих под наши условия превышает 40 тыс., такой объём данных позволит сделать грамотное исследование и найти интересующие заказчика варианты для покупки."
   ]
  },
  {
   "cell_type": "markdown",
   "metadata": {
    "id": "DFHINkV3rJg2"
   },
   "source": [
    "\n",
    "### 3.2. Анализ выбросов\n",
    "\n",
    "Заказчика интересует обычный для рассматриваемого периода размер средств, который предоставлялся компаниям.\n",
    "\n",
    "- По предобработанному столбцу `funding_total` графическим способом оцените, какой размер общего финансирования для одной компании будет типичным, а какой — выбивающимся.\n",
    "- В процессе расчёта значений обратите внимание, например, на показатели, возвращаемые методом `.describe()`, — объясните их. Применимы ли к таким данным обычные способы нахождения типичных значений?"
   ]
  },
  {
   "cell_type": "code",
   "execution_count": 77,
   "metadata": {
    "id": "8jm75fKXrJg2",
    "vscode": {
     "languageId": "plaintext"
    }
   },
   "outputs": [
    {
     "data": {
      "text/plain": [
       "0    3.975000e+07\n",
       "1    4.500000e+07\n",
       "2    2.425700e+09\n",
       "3    8.000000e+05\n",
       "5    1.650000e+07\n",
       "Name: funding_total, dtype: float64"
      ]
     },
     "execution_count": 77,
     "metadata": {},
     "output_type": "execute_result"
    }
   ],
   "source": [
    "# Для начала найдём размер общего финансирования для одной компании, просуммирвоав значения по столбцу после группировки\n",
    "data = df_company_rounds.groupby('company_id')['funding_total'].quantile(0.5).reset_index()\n",
    "\n",
    "# Возьмём только те случаи, где финансирование реально было\n",
    "data = data['funding_total'].loc[data['funding_total'] > 0]\n",
    "\n",
    "data.head()"
   ]
  },
  {
   "cell_type": "code",
   "execution_count": 78,
   "metadata": {},
   "outputs": [
    {
     "data": {
      "text/plain": [
       "count    2.787400e+04\n",
       "mean     1.481652e+07\n",
       "std      6.775936e+07\n",
       "min      2.910000e+02\n",
       "25%      5.000000e+05\n",
       "50%      2.564500e+06\n",
       "75%      1.100000e+07\n",
       "max      5.700000e+09\n",
       "Name: funding_total, dtype: float64"
      ]
     },
     "execution_count": 78,
     "metadata": {},
     "output_type": "execute_result"
    }
   ],
   "source": [
    "# Посмотрим описательную статистику по массиву\n",
    "data.describe()"
   ]
  },
  {
   "cell_type": "code",
   "execution_count": 79,
   "metadata": {
    "scrolled": true
   },
   "outputs": [
    {
     "data": {
      "text/plain": [
       "Text(0.5, 0, 'Сумма финансирования (млн $)')"
      ]
     },
     "execution_count": 79,
     "metadata": {},
     "output_type": "execute_result"
    },
    {
     "data": {
      "image/png": "[encoded data removed]",
      "text/plain": [
       "<Figure size 720x288 with 1 Axes>"
      ]
     },
     "metadata": {
      "needs_background": "light"
     },
     "output_type": "display_data"
    }
   ],
   "source": [
    "# data_zero = df_company_rounds.loc[df_company_rounds['funding_total'] != 0]\n",
    "# Построим ящик с усами, но исключим при его построении выбросы, которые у нас есть (их достаточно много, поэтому с ними граф)\n",
    "\n",
    "plt.figure(figsize = (10,4))\n",
    "\n",
    "sns.boxplot(x = data,\n",
    "            showfliers = False)\n",
    "\n",
    "plt.xlabel('Сумма финансирования (млн $)')"
   ]
  },
  {
   "cell_type": "markdown",
   "metadata": {},
   "source": [
    "- На ящике с усами видно, что распределение имеет **вытянутый правый \"хвост\"**, хотелось бы посмотреть, что нам покажет гистограмма"
   ]
  },
  {
   "cell_type": "code",
   "execution_count": 80,
   "metadata": {},
   "outputs": [
    {
     "data": {
      "text/plain": [
       "26750000.0"
      ]
     },
     "execution_count": 80,
     "metadata": {},
     "output_type": "execute_result"
    }
   ],
   "source": [
    "# А теперь рассчитаем, какие выбросы у нас действительно есть \n",
    "\n",
    "# Вычисляем Q1, Q3 и IQR\n",
    "Q1 = np.quantile(data, 0.25)\n",
    "Q3 = np.quantile(data, 0.75)\n",
    "IQR = Q3 - Q1\n",
    "\n",
    "# Определяем границы для выбросов\n",
    "upper_outlier_threshold = Q3 + 1.5 * IQR\n",
    "lower_outlier_threshold = Q1 - 1.5 * IQR\n",
    "\n",
    "# Находим выбросы\n",
    "outliers = data[(data < lower_outlier_threshold) | (data > upper_outlier_threshold)]\n",
    "\n",
    "# Найдём минимальный выброс\n",
    "upper_outlier_threshold"
   ]
  },
  {
   "cell_type": "code",
   "execution_count": 81,
   "metadata": {},
   "outputs": [
    {
     "data": {
      "text/plain": [
       "26752200.0"
      ]
     },
     "execution_count": 81,
     "metadata": {},
     "output_type": "execute_result"
    }
   ],
   "source": [
    "min(outliers)"
   ]
  },
  {
   "cell_type": "markdown",
   "metadata": {},
   "source": [
    "- **Промежуточный вывод:** Как правило, компаниям выделяют финансирование, не превышающее **26,75 млн долларов**, все значения выше данной отметки будут относиться к выбросам, что неудивительно, потому что медианный показатель не превышает и трёх миллионов долларов (**2.6 млн долларов**)."
   ]
  },
  {
   "cell_type": "markdown",
   "metadata": {
    "id": "JqkRAQrIrJg2"
   },
   "source": [
    "\n",
    "### 3.3. Куплены забесплатно?\n",
    "\n",
    "- Исследуйте компании, которые были проданы за ноль или за один доллар, и при этом известно, что у них был ненулевой общий объём финансирования.\n",
    "\n",
    "- Рассчитайте аналитически верхнюю и нижнюю границу выбросов для столбца `funding_total` и укажите, каким процентилям границы соответствуют."
   ]
  },
  {
   "cell_type": "code",
   "execution_count": 82,
   "metadata": {},
   "outputs": [
    {
     "data": {
      "text/html": [
       "<div>\n",
       "<style scoped>\n",
       "    .dataframe tbody tr th:only-of-type {\n",
       "        vertical-align: middle;\n",
       "    }\n",
       "\n",
       "    .dataframe tbody tr th {\n",
       "        vertical-align: top;\n",
       "    }\n",
       "\n",
       "    .dataframe thead th {\n",
       "        text-align: right;\n",
       "    }\n",
       "</style>\n",
       "<table border=\"1\" class=\"dataframe\">\n",
       "  <thead>\n",
       "    <tr style=\"text-align: right;\">\n",
       "      <th></th>\n",
       "      <th>company_id</th>\n",
       "      <th>name</th>\n",
       "      <th>category_code</th>\n",
       "      <th>status</th>\n",
       "      <th>founded_at</th>\n",
       "      <th>closed_at</th>\n",
       "      <th>domain</th>\n",
       "      <th>network_username</th>\n",
       "      <th>country_code</th>\n",
       "      <th>investment_rounds</th>\n",
       "      <th>...</th>\n",
       "      <th>milestones</th>\n",
       "      <th>funding_round_id</th>\n",
       "      <th>company_id_rounds</th>\n",
       "      <th>funded_at</th>\n",
       "      <th>funding_round_type</th>\n",
       "      <th>raised_amount</th>\n",
       "      <th>pre_money_valuation</th>\n",
       "      <th>participants</th>\n",
       "      <th>is_first_round</th>\n",
       "      <th>is_last_round</th>\n",
       "    </tr>\n",
       "  </thead>\n",
       "  <tbody>\n",
       "    <tr>\n",
       "      <th>0</th>\n",
       "      <td>1.0</td>\n",
       "      <td>Wetpaint</td>\n",
       "      <td>web</td>\n",
       "      <td>operating</td>\n",
       "      <td>2005-10-17</td>\n",
       "      <td>NaT</td>\n",
       "      <td>wetpaint-inc.com</td>\n",
       "      <td>BachelrWetpaint</td>\n",
       "      <td>USA</td>\n",
       "      <td>0.0</td>\n",
       "      <td>...</td>\n",
       "      <td>5.0</td>\n",
       "      <td>888.0</td>\n",
       "      <td>1.0</td>\n",
       "      <td>2005-10-01</td>\n",
       "      <td>series-a</td>\n",
       "      <td>5250000.0</td>\n",
       "      <td>0.0</td>\n",
       "      <td>2.0</td>\n",
       "      <td>0.0</td>\n",
       "      <td>1.0</td>\n",
       "    </tr>\n",
       "    <tr>\n",
       "      <th>1</th>\n",
       "      <td>1.0</td>\n",
       "      <td>Wetpaint</td>\n",
       "      <td>web</td>\n",
       "      <td>operating</td>\n",
       "      <td>2005-10-17</td>\n",
       "      <td>NaT</td>\n",
       "      <td>wetpaint-inc.com</td>\n",
       "      <td>BachelrWetpaint</td>\n",
       "      <td>USA</td>\n",
       "      <td>0.0</td>\n",
       "      <td>...</td>\n",
       "      <td>5.0</td>\n",
       "      <td>889.0</td>\n",
       "      <td>1.0</td>\n",
       "      <td>2007-01-01</td>\n",
       "      <td>series-b</td>\n",
       "      <td>9500000.0</td>\n",
       "      <td>0.0</td>\n",
       "      <td>3.0</td>\n",
       "      <td>0.0</td>\n",
       "      <td>0.0</td>\n",
       "    </tr>\n",
       "    <tr>\n",
       "      <th>2</th>\n",
       "      <td>1.0</td>\n",
       "      <td>Wetpaint</td>\n",
       "      <td>web</td>\n",
       "      <td>operating</td>\n",
       "      <td>2005-10-17</td>\n",
       "      <td>NaT</td>\n",
       "      <td>wetpaint-inc.com</td>\n",
       "      <td>BachelrWetpaint</td>\n",
       "      <td>USA</td>\n",
       "      <td>0.0</td>\n",
       "      <td>...</td>\n",
       "      <td>5.0</td>\n",
       "      <td>2312.0</td>\n",
       "      <td>1.0</td>\n",
       "      <td>2008-05-19</td>\n",
       "      <td>series-c+</td>\n",
       "      <td>25000000.0</td>\n",
       "      <td>0.0</td>\n",
       "      <td>4.0</td>\n",
       "      <td>1.0</td>\n",
       "      <td>0.0</td>\n",
       "    </tr>\n",
       "    <tr>\n",
       "      <th>3</th>\n",
       "      <td>10.0</td>\n",
       "      <td>Flektor</td>\n",
       "      <td>games_video</td>\n",
       "      <td>acquired</td>\n",
       "      <td>NaT</td>\n",
       "      <td>NaT</td>\n",
       "      <td>flektor.com</td>\n",
       "      <td>NaN</td>\n",
       "      <td>USA</td>\n",
       "      <td>0.0</td>\n",
       "      <td>...</td>\n",
       "      <td>0.0</td>\n",
       "      <td>NaN</td>\n",
       "      <td>NaN</td>\n",
       "      <td>NaT</td>\n",
       "      <td>NaN</td>\n",
       "      <td>NaN</td>\n",
       "      <td>NaN</td>\n",
       "      <td>NaN</td>\n",
       "      <td>NaN</td>\n",
       "      <td>NaN</td>\n",
       "    </tr>\n",
       "    <tr>\n",
       "      <th>4</th>\n",
       "      <td>100.0</td>\n",
       "      <td>There</td>\n",
       "      <td>games_video</td>\n",
       "      <td>acquired</td>\n",
       "      <td>NaT</td>\n",
       "      <td>NaT</td>\n",
       "      <td>there.com</td>\n",
       "      <td>NaN</td>\n",
       "      <td>USA</td>\n",
       "      <td>0.0</td>\n",
       "      <td>...</td>\n",
       "      <td>4.0</td>\n",
       "      <td>NaN</td>\n",
       "      <td>NaN</td>\n",
       "      <td>NaT</td>\n",
       "      <td>NaN</td>\n",
       "      <td>NaN</td>\n",
       "      <td>NaN</td>\n",
       "      <td>NaN</td>\n",
       "      <td>NaN</td>\n",
       "      <td>NaN</td>\n",
       "    </tr>\n",
       "  </tbody>\n",
       "</table>\n",
       "<p>5 rows × 22 columns</p>\n",
       "</div>"
      ],
      "text/plain": [
       "   company_id      name category_code     status founded_at closed_at  \\\n",
       "0         1.0  Wetpaint           web  operating 2005-10-17       NaT   \n",
       "1         1.0  Wetpaint           web  operating 2005-10-17       NaT   \n",
       "2         1.0  Wetpaint           web  operating 2005-10-17       NaT   \n",
       "3        10.0   Flektor   games_video   acquired        NaT       NaT   \n",
       "4       100.0     There   games_video   acquired        NaT       NaT   \n",
       "\n",
       "             domain network_username country_code  investment_rounds  ...  \\\n",
       "0  wetpaint-inc.com  BachelrWetpaint          USA                0.0  ...   \n",
       "1  wetpaint-inc.com  BachelrWetpaint          USA                0.0  ...   \n",
       "2  wetpaint-inc.com  BachelrWetpaint          USA                0.0  ...   \n",
       "3       flektor.com              NaN          USA                0.0  ...   \n",
       "4         there.com              NaN          USA                0.0  ...   \n",
       "\n",
       "   milestones  funding_round_id  company_id_rounds  funded_at  \\\n",
       "0         5.0             888.0                1.0 2005-10-01   \n",
       "1         5.0             889.0                1.0 2007-01-01   \n",
       "2         5.0            2312.0                1.0 2008-05-19   \n",
       "3         0.0               NaN                NaN        NaT   \n",
       "4         4.0               NaN                NaN        NaT   \n",
       "\n",
       "   funding_round_type raised_amount pre_money_valuation  participants  \\\n",
       "0            series-a     5250000.0                 0.0           2.0   \n",
       "1            series-b     9500000.0                 0.0           3.0   \n",
       "2           series-c+    25000000.0                 0.0           4.0   \n",
       "3                 NaN           NaN                 NaN           NaN   \n",
       "4                 NaN           NaN                 NaN           NaN   \n",
       "\n",
       "   is_first_round  is_last_round  \n",
       "0             0.0            1.0  \n",
       "1             0.0            0.0  \n",
       "2             1.0            0.0  \n",
       "3             NaN            NaN  \n",
       "4             NaN            NaN  \n",
       "\n",
       "[5 rows x 22 columns]"
      ]
     },
     "execution_count": 82,
     "metadata": {},
     "output_type": "execute_result"
    }
   ],
   "source": [
    "df_company_rounds.head()"
   ]
  },
  {
   "cell_type": "code",
   "execution_count": 83,
   "metadata": {
    "id": "wJHXCBwwrJg2",
    "scrolled": true,
    "vscode": {
     "languageId": "plaintext"
    }
   },
   "outputs": [
    {
     "data": {
      "text/html": [
       "<div>\n",
       "<style scoped>\n",
       "    .dataframe tbody tr th:only-of-type {\n",
       "        vertical-align: middle;\n",
       "    }\n",
       "\n",
       "    .dataframe tbody tr th {\n",
       "        vertical-align: top;\n",
       "    }\n",
       "\n",
       "    .dataframe thead th {\n",
       "        text-align: right;\n",
       "    }\n",
       "</style>\n",
       "<table border=\"1\" class=\"dataframe\">\n",
       "  <thead>\n",
       "    <tr style=\"text-align: right;\">\n",
       "      <th></th>\n",
       "      <th>company_id</th>\n",
       "      <th>name</th>\n",
       "      <th>category_code</th>\n",
       "      <th>status</th>\n",
       "      <th>founded_at</th>\n",
       "      <th>closed_at</th>\n",
       "      <th>domain</th>\n",
       "      <th>network_username</th>\n",
       "      <th>country_code</th>\n",
       "      <th>investment_rounds</th>\n",
       "      <th>...</th>\n",
       "      <th>milestones</th>\n",
       "      <th>funding_round_id</th>\n",
       "      <th>company_id_rounds</th>\n",
       "      <th>funded_at</th>\n",
       "      <th>funding_round_type</th>\n",
       "      <th>raised_amount</th>\n",
       "      <th>pre_money_valuation</th>\n",
       "      <th>participants</th>\n",
       "      <th>is_first_round</th>\n",
       "      <th>is_last_round</th>\n",
       "    </tr>\n",
       "  </thead>\n",
       "  <tbody>\n",
       "    <tr>\n",
       "      <th>208</th>\n",
       "      <td>101312.0</td>\n",
       "      <td>SideTour</td>\n",
       "      <td>web</td>\n",
       "      <td>acquired</td>\n",
       "      <td>2011-06-01</td>\n",
       "      <td>NaT</td>\n",
       "      <td>sidetour.com</td>\n",
       "      <td>sidetour</td>\n",
       "      <td>USA</td>\n",
       "      <td>0.0</td>\n",
       "      <td>...</td>\n",
       "      <td>2.0</td>\n",
       "      <td>38158.0</td>\n",
       "      <td>101312.0</td>\n",
       "      <td>2011-07-01</td>\n",
       "      <td>angel</td>\n",
       "      <td>0.0</td>\n",
       "      <td>0.0</td>\n",
       "      <td>1.0</td>\n",
       "      <td>0.0</td>\n",
       "      <td>1.0</td>\n",
       "    </tr>\n",
       "    <tr>\n",
       "      <th>1820</th>\n",
       "      <td>10795.0</td>\n",
       "      <td>Finjan</td>\n",
       "      <td>enterprise</td>\n",
       "      <td>acquired</td>\n",
       "      <td>1996-01-01</td>\n",
       "      <td>NaT</td>\n",
       "      <td>finjan.com</td>\n",
       "      <td>FinjanHoldings</td>\n",
       "      <td>USA</td>\n",
       "      <td>0.0</td>\n",
       "      <td>...</td>\n",
       "      <td>1.0</td>\n",
       "      <td>55974.0</td>\n",
       "      <td>10795.0</td>\n",
       "      <td>2013-11-25</td>\n",
       "      <td>venture</td>\n",
       "      <td>0.0</td>\n",
       "      <td>0.0</td>\n",
       "      <td>0.0</td>\n",
       "      <td>1.0</td>\n",
       "      <td>0.0</td>\n",
       "    </tr>\n",
       "    <tr>\n",
       "      <th>1933</th>\n",
       "      <td>1088.0</td>\n",
       "      <td>Tumblr</td>\n",
       "      <td>web</td>\n",
       "      <td>acquired</td>\n",
       "      <td>2007-02-01</td>\n",
       "      <td>NaT</td>\n",
       "      <td>tumblr.com</td>\n",
       "      <td>tumblr</td>\n",
       "      <td>USA</td>\n",
       "      <td>0.0</td>\n",
       "      <td>...</td>\n",
       "      <td>5.0</td>\n",
       "      <td>57269.0</td>\n",
       "      <td>1088.0</td>\n",
       "      <td>2012-01-01</td>\n",
       "      <td>other</td>\n",
       "      <td>0.0</td>\n",
       "      <td>0.0</td>\n",
       "      <td>1.0</td>\n",
       "      <td>1.0</td>\n",
       "      <td>0.0</td>\n",
       "    </tr>\n",
       "    <tr>\n",
       "      <th>1956</th>\n",
       "      <td>109.0</td>\n",
       "      <td>Mashery</td>\n",
       "      <td>enterprise</td>\n",
       "      <td>acquired</td>\n",
       "      <td>2006-05-01</td>\n",
       "      <td>NaT</td>\n",
       "      <td>mashery.com</td>\n",
       "      <td>Mashery</td>\n",
       "      <td>USA</td>\n",
       "      <td>0.0</td>\n",
       "      <td>...</td>\n",
       "      <td>4.0</td>\n",
       "      <td>1804.0</td>\n",
       "      <td>109.0</td>\n",
       "      <td>2007-01-01</td>\n",
       "      <td>angel</td>\n",
       "      <td>0.0</td>\n",
       "      <td>0.0</td>\n",
       "      <td>6.0</td>\n",
       "      <td>0.0</td>\n",
       "      <td>1.0</td>\n",
       "    </tr>\n",
       "    <tr>\n",
       "      <th>2813</th>\n",
       "      <td>11531.0</td>\n",
       "      <td>Right90</td>\n",
       "      <td>software</td>\n",
       "      <td>acquired</td>\n",
       "      <td>2003-01-01</td>\n",
       "      <td>NaT</td>\n",
       "      <td>right90.com</td>\n",
       "      <td>NaN</td>\n",
       "      <td>USA</td>\n",
       "      <td>0.0</td>\n",
       "      <td>...</td>\n",
       "      <td>1.0</td>\n",
       "      <td>46096.0</td>\n",
       "      <td>11531.0</td>\n",
       "      <td>2005-02-28</td>\n",
       "      <td>series-a</td>\n",
       "      <td>0.0</td>\n",
       "      <td>0.0</td>\n",
       "      <td>1.0</td>\n",
       "      <td>0.0</td>\n",
       "      <td>1.0</td>\n",
       "    </tr>\n",
       "  </tbody>\n",
       "</table>\n",
       "<p>5 rows × 22 columns</p>\n",
       "</div>"
      ],
      "text/plain": [
       "      company_id      name category_code    status founded_at closed_at  \\\n",
       "208     101312.0  SideTour           web  acquired 2011-06-01       NaT   \n",
       "1820     10795.0    Finjan    enterprise  acquired 1996-01-01       NaT   \n",
       "1933      1088.0    Tumblr           web  acquired 2007-02-01       NaT   \n",
       "1956       109.0   Mashery    enterprise  acquired 2006-05-01       NaT   \n",
       "2813     11531.0   Right90      software  acquired 2003-01-01       NaT   \n",
       "\n",
       "            domain network_username country_code  investment_rounds  ...  \\\n",
       "208   sidetour.com         sidetour          USA                0.0  ...   \n",
       "1820    finjan.com   FinjanHoldings          USA                0.0  ...   \n",
       "1933    tumblr.com           tumblr          USA                0.0  ...   \n",
       "1956   mashery.com          Mashery          USA                0.0  ...   \n",
       "2813   right90.com              NaN          USA                0.0  ...   \n",
       "\n",
       "      milestones  funding_round_id  company_id_rounds  funded_at  \\\n",
       "208          2.0           38158.0           101312.0 2011-07-01   \n",
       "1820         1.0           55974.0            10795.0 2013-11-25   \n",
       "1933         5.0           57269.0             1088.0 2012-01-01   \n",
       "1956         4.0            1804.0              109.0 2007-01-01   \n",
       "2813         1.0           46096.0            11531.0 2005-02-28   \n",
       "\n",
       "      funding_round_type raised_amount pre_money_valuation  participants  \\\n",
       "208                angel           0.0                 0.0           1.0   \n",
       "1820             venture           0.0                 0.0           0.0   \n",
       "1933               other           0.0                 0.0           1.0   \n",
       "1956               angel           0.0                 0.0           6.0   \n",
       "2813            series-a           0.0                 0.0           1.0   \n",
       "\n",
       "      is_first_round  is_last_round  \n",
       "208              0.0            1.0  \n",
       "1820             1.0            0.0  \n",
       "1933             1.0            0.0  \n",
       "1956             0.0            1.0  \n",
       "2813             0.0            1.0  \n",
       "\n",
       "[5 rows x 22 columns]"
      ]
     },
     "execution_count": 83,
     "metadata": {},
     "output_type": "execute_result"
    }
   ],
   "source": [
    "# Для начала извлечём необходимые данные\n",
    "df_one_zero_price = df_company_rounds[(((df_company_rounds['raised_amount'] == 1) |\n",
    "                                     (df_company_rounds['raised_amount'] == 0)) &\n",
    "                                     (df_company_rounds['funding_total'] > 0)) &\n",
    "                                     (df_company_rounds['status'] == 'acquired')]\n",
    "\n",
    "# Посмотрим, что у нас получилось\n",
    "df_one_zero_price.head()"
   ]
  },
  {
   "cell_type": "code",
   "execution_count": 84,
   "metadata": {
    "scrolled": true
   },
   "outputs": [
    {
     "data": {
      "text/plain": [
       "count    1.700000e+02\n",
       "mean     1.958735e+07\n",
       "std      3.010040e+07\n",
       "min      1.200000e+04\n",
       "25%      1.655000e+06\n",
       "50%      8.057300e+06\n",
       "75%      2.443750e+07\n",
       "max      1.970000e+08\n",
       "Name: funding_total, dtype: float64"
      ]
     },
     "execution_count": 84,
     "metadata": {},
     "output_type": "execute_result"
    }
   ],
   "source": [
    "# Хорошо, ранее мы составили массив по компаниям, которые проходили процедуру продажи\n",
    "# Теперь нам надо надо посчитать куантиль\n",
    "\n",
    "data_zero = df_one_zero_price.groupby('company_id')['funding_total'].quantile(0.5).reset_index()['funding_total']\n",
    "\n",
    "# Выведем полученный результат\n",
    "data_zero.describe()"
   ]
  },
  {
   "cell_type": "code",
   "execution_count": 85,
   "metadata": {},
   "outputs": [
    {
     "data": {
      "text/plain": [
       "Text(0.5, 0, 'Сумма финансирования (млн $)')"
      ]
     },
     "execution_count": 85,
     "metadata": {},
     "output_type": "execute_result"
    },
    {
     "data": {
      "image/png": "[encoded data removed]",
      "text/plain": [
       "<Figure size 720x288 with 1 Axes>"
      ]
     },
     "metadata": {
      "needs_background": "light"
     },
     "output_type": "display_data"
    }
   ],
   "source": [
    "# Построим ящик с усами, но на этот раз не будем исключать выбросы, т.к. выборка небольшая, то визуализация будет читаемой\n",
    "\n",
    "plt.figure(figsize = (10,4))\n",
    "\n",
    "sns.boxplot(x = data_zero, \n",
    "            color = 'skyblue')\n",
    "\n",
    "plt.xlabel('Сумма финансирования (млн $)')"
   ]
  },
  {
   "cell_type": "code",
   "execution_count": 86,
   "metadata": {
    "id": "9IDTHfYQFhuX"
   },
   "outputs": [
    {
     "data": {
      "text/plain": [
       "58611250.0"
      ]
     },
     "execution_count": 86,
     "metadata": {},
     "output_type": "execute_result"
    }
   ],
   "source": [
    "# А теперь рассчитаем, какие выбросы у нас действительно есть \n",
    "\n",
    "# Вычисляем Q1, Q3 и IQR\n",
    "Q1 = np.quantile(data_zero, 0.25)\n",
    "Q3 = np.quantile(data_zero, 0.75)\n",
    "IQR = Q3 - Q1\n",
    "\n",
    "# Определяем границы для выбросов\n",
    "upper_outlier_threshold = Q3 + 1.5 * IQR\n",
    "lower_outlier_threshold = Q1 - 1.5 * IQR\n",
    "\n",
    "# Находим выбросы\n",
    "outliers_zero = data_zero[\n",
    "    (data_zero < lower_outlier_threshold) | \n",
    "    (data_zero > upper_outlier_threshold)\n",
    "]\n",
    "\n",
    "# Найдём минимальный выброс\n",
    "upper_outlier_threshold"
   ]
  },
  {
   "cell_type": "code",
   "execution_count": 87,
   "metadata": {},
   "outputs": [],
   "source": [
    "# Сейчас понадобится импоритировать одну библиотеку \n",
    "from scipy.stats import percentileofscore"
   ]
  },
  {
   "cell_type": "code",
   "execution_count": 88,
   "metadata": {},
   "outputs": [
    {
     "data": {
      "text/plain": [
       "90.0"
      ]
     },
     "execution_count": 88,
     "metadata": {},
     "output_type": "execute_result"
    }
   ],
   "source": [
    "# Теперь оценим перцентиль, которому соответствует данная граница\n",
    "percentileofscore(data_zero, 58611250)"
   ]
  },
  {
   "cell_type": "markdown",
   "metadata": {},
   "source": [
    "- Как правило, компаниям выделяют финансирование, не превышающее **58,6 млн долларов** (это число больше чем 90% всех значений рассматривапемой выборки), все значения выше данной отметки будут относиться к выбросам, что неудивительно, потому что медианный показатель не превышает и 10 миллионов долларов (10 миллионов долларов)."
   ]
  },
  {
   "cell_type": "markdown",
   "metadata": {
    "id": "mEiWpROjrJg2"
   },
   "source": [
    "\n",
    "### 3.4. Цены стартапов по категориям\n",
    "\n",
    "Категории стартапов с типично высокими ценами покупки стартапов и значительным разбросом цен могут быть привлекательными для крупных инвесторов, которые готовы к высоким рискам ради потенциально больших доходов. Среди категорий стартапов выделите категории стартапов, характеризующиеся:\n",
    "\n",
    "- типично высокими ценами;\n",
    "- и наибольшим разбросом цен за стартап.\n",
    "\n",
    "Объясните, почему решили составить топ именно из такого числа категорий и почему рассчитывали именно так."
   ]
  },
  {
   "cell_type": "code",
   "execution_count": 89,
   "metadata": {
    "id": "jQ09dYUWrJg2",
    "vscode": {
     "languageId": "plaintext"
    }
   },
   "outputs": [
    {
     "data": {
      "text/plain": [
       "array(['web', 'games_video', 'mobile', 'health', 'cleantech', 'analytics',\n",
       "       nan, 'network_hosting', 'finance', 'education', 'medical',\n",
       "       'manufacturing', 'biotech', 'enterprise', 'ecommerce', 'hardware',\n",
       "       'software', 'advertising', 'news', 'government',\n",
       "       'public_relations', 'other', 'security', 'photo_video', 'travel',\n",
       "       'search', 'social', 'transportation', 'hospitality', 'sports',\n",
       "       'nonprofit', 'fashion', 'messaging', 'music', 'consulting',\n",
       "       'semiconductor', 'design', 'legal', 'real_estate', 'automotive',\n",
       "       'nanotech', 'pets', 'local'], dtype=object)"
      ]
     },
     "execution_count": 89,
     "metadata": {},
     "output_type": "execute_result"
    }
   ],
   "source": [
    "# Для начала изучим, какие категории стартапов вообще есть\n",
    "df_company_rounds['category_code'].unique()"
   ]
  },
  {
   "cell_type": "code",
   "execution_count": 90,
   "metadata": {
    "id": "eF1aULm5FjfY",
    "scrolled": true
   },
   "outputs": [
    {
     "data": {
      "text/plain": [
       "category_code\n",
       "nanotech           25000000.0\n",
       "semiconductor      19930200.0\n",
       "cleantech          15000000.0\n",
       "medical            15000000.0\n",
       "biotech            10127100.0\n",
       "network_hosting     7655000.0\n",
       "enterprise          7000000.0\n",
       "security            6577230.0\n",
       "automotive          5250000.0\n",
       "advertising         5200000.0\n",
       "analytics           5000000.0\n",
       "transportation      4500000.0\n",
       "manufacturing       4488440.0\n",
       "finance             4015000.0\n",
       "hardware            4000000.0\n",
       "Name: funding_total, dtype: float64"
      ]
     },
     "execution_count": 90,
     "metadata": {},
     "output_type": "execute_result"
    }
   ],
   "source": [
    "# МАКСИМАЛЬНЫЕ ЦЕНЫ\n",
    "# Хорошо, категорий достаточно много (если быть точным, 42), поэтому мы сфокусируем внимание на топ-15\n",
    "df_price = df_company_rounds.groupby('category_code')['funding_total'].quantile(0.5).sort_values(ascending = False)\n",
    "df_price_top = df_price.head(15)\n",
    "df_price_top"
   ]
  },
  {
   "cell_type": "code",
   "execution_count": 91,
   "metadata": {},
   "outputs": [
    {
     "data": {
      "text/plain": [
       "<AxesSubplot:title={'center':'15 самых дорогих стартапов'}, xlabel='Категория стартапа', ylabel='Инвестиции'>"
      ]
     },
     "execution_count": 91,
     "metadata": {},
     "output_type": "execute_result"
    },
    {
     "data": {
      "image/png": "[encoded data removed]",
      "text/plain": [
       "<Figure size 1440x432 with 1 Axes>"
      ]
     },
     "metadata": {
      "needs_background": "light"
     },
     "output_type": "display_data"
    }
   ],
   "source": [
    "df_price_top.plot(kind = 'bar', \n",
    "                  color = 'skyblue',\n",
    "                  rot = 45,\n",
    "                  title = '15 самых дорогих стартапов',\n",
    "                  ylabel = 'Инвестиции',\n",
    "                  xlabel = 'Категория стартапа',\n",
    "                  figsize = (20, 6))"
   ]
  },
  {
   "cell_type": "code",
   "execution_count": 92,
   "metadata": {},
   "outputs": [
    {
     "data": {
      "text/plain": [
       "category_code\n",
       "automotive          3.772832e+08\n",
       "social              2.783012e+08\n",
       "manufacturing       2.200883e+08\n",
       "mobile              2.073062e+08\n",
       "nanotech            1.463266e+08\n",
       "cleantech           1.403786e+08\n",
       "transportation      9.155941e+07\n",
       "health              9.054591e+07\n",
       "news                8.684070e+07\n",
       "ecommerce           8.345866e+07\n",
       "travel              7.883577e+07\n",
       "music               7.822000e+07\n",
       "network_hosting     7.734072e+07\n",
       "games_video         6.835634e+07\n",
       "public_relations    6.683840e+07\n",
       "Name: funding_total, dtype: float64"
      ]
     },
     "execution_count": 92,
     "metadata": {},
     "output_type": "execute_result"
    }
   ],
   "source": [
    "# МАКСИМАЛЬНЫЙ РАЗБРОС\n",
    "# Хорошо, категорий достаточно много, поэтому мы сфокусируем внимание на топ-15\n",
    "df_std_price = df_company_rounds.groupby('category_code')['funding_total'].std().sort_values(ascending = False)\n",
    "df_std_price_top = df_std_price.head(15)\n",
    "df_std_price_top"
   ]
  },
  {
   "cell_type": "code",
   "execution_count": 93,
   "metadata": {},
   "outputs": [
    {
     "data": {
      "text/plain": [
       "<AxesSubplot:title={'center':'15 самых дорогих стартапов'}, xlabel='Категория стартапа', ylabel='Инвестиции'>"
      ]
     },
     "execution_count": 93,
     "metadata": {},
     "output_type": "execute_result"
    },
    {
     "data": {
      "image/png": "[encoded data removed]",
      "text/plain": [
       "<Figure size 1440x432 with 1 Axes>"
      ]
     },
     "metadata": {
      "needs_background": "light"
     },
     "output_type": "display_data"
    }
   ],
   "source": [
    "# Строим графи топ-15\n",
    "df_std_price_top.plot(kind = 'bar', \n",
    "                  color = 'skyblue',\n",
    "                  rot = 45,\n",
    "                  title = '15 самых дорогих стартапов',\n",
    "                  ylabel = 'Инвестиции',\n",
    "                  xlabel = 'Категория стартапа',\n",
    "                  figsize = (20, 6))"
   ]
  },
  {
   "cell_type": "code",
   "execution_count": 94,
   "metadata": {},
   "outputs": [
    {
     "data": {
      "text/html": [
       "<div>\n",
       "<style scoped>\n",
       "    .dataframe tbody tr th:only-of-type {\n",
       "        vertical-align: middle;\n",
       "    }\n",
       "\n",
       "    .dataframe tbody tr th {\n",
       "        vertical-align: top;\n",
       "    }\n",
       "\n",
       "    .dataframe thead th {\n",
       "        text-align: right;\n",
       "    }\n",
       "</style>\n",
       "<table border=\"1\" class=\"dataframe\">\n",
       "  <thead>\n",
       "    <tr style=\"text-align: right;\">\n",
       "      <th></th>\n",
       "      <th>category_code</th>\n",
       "      <th>funding_meadian</th>\n",
       "      <th>funding_std</th>\n",
       "    </tr>\n",
       "  </thead>\n",
       "  <tbody>\n",
       "    <tr>\n",
       "      <th>0</th>\n",
       "      <td>nanotech</td>\n",
       "      <td>25000000.0</td>\n",
       "      <td>1.463266e+08</td>\n",
       "    </tr>\n",
       "    <tr>\n",
       "      <th>1</th>\n",
       "      <td>semiconductor</td>\n",
       "      <td>19930200.0</td>\n",
       "      <td>4.881305e+07</td>\n",
       "    </tr>\n",
       "    <tr>\n",
       "      <th>2</th>\n",
       "      <td>cleantech</td>\n",
       "      <td>15000000.0</td>\n",
       "      <td>1.403786e+08</td>\n",
       "    </tr>\n",
       "    <tr>\n",
       "      <th>3</th>\n",
       "      <td>medical</td>\n",
       "      <td>15000000.0</td>\n",
       "      <td>4.523022e+07</td>\n",
       "    </tr>\n",
       "    <tr>\n",
       "      <th>4</th>\n",
       "      <td>biotech</td>\n",
       "      <td>10127100.0</td>\n",
       "      <td>6.066212e+07</td>\n",
       "    </tr>\n",
       "  </tbody>\n",
       "</table>\n",
       "</div>"
      ],
      "text/plain": [
       "   category_code  funding_meadian   funding_std\n",
       "0       nanotech       25000000.0  1.463266e+08\n",
       "1  semiconductor       19930200.0  4.881305e+07\n",
       "2      cleantech       15000000.0  1.403786e+08\n",
       "3        medical       15000000.0  4.523022e+07\n",
       "4        biotech       10127100.0  6.066212e+07"
      ]
     },
     "execution_count": 94,
     "metadata": {},
     "output_type": "execute_result"
    }
   ],
   "source": [
    "# Интересно, есть ли можно ли проследить какие-нибудь закономерности у данных покаазтелей\n",
    "\n",
    "# Итак, для начала, составим общий массив, можно было бы сделать это занова через агригацию, но я упрощу себе задачу\n",
    "df_corr = pd.merge(df_price.reset_index(), \n",
    "         df_std_price.reset_index(),\n",
    "         on = 'category_code'\n",
    ")\n",
    "\n",
    "df_corr = df_corr.rename(columns = {'funding_total_x' : 'funding_meadian', \n",
    "                          'funding_total_y' : 'funding_std'})\n",
    "\n",
    "df_corr.head(5)"
   ]
  },
  {
   "cell_type": "code",
   "execution_count": 95,
   "metadata": {},
   "outputs": [
    {
     "data": {
      "text/plain": [
       "<AxesSubplot:xlabel='funding_meadian', ylabel='funding_std'>"
      ]
     },
     "execution_count": 95,
     "metadata": {},
     "output_type": "execute_result"
    },
    {
     "data": {
      "image/png": "[encoded data removed]",
      "text/plain": [
       "<Figure size 720x432 with 1 Axes>"
      ]
     },
     "metadata": {
      "needs_background": "light"
     },
     "output_type": "display_data"
    }
   ],
   "source": [
    "# Теперь составим scatterplot, чтобы посмотреть, какое у нас выходит распределение\n",
    "plt.figure(figsize = (10,6))\n",
    "\n",
    "sns.set_style('whitegrid')\n",
    "\n",
    "sns.scatterplot(data = df_corr, \n",
    "                x = 'funding_meadian',\n",
    "                y = 'funding_std',\n",
    "                color = 'skyblue',\n",
    "                s = 100,\n",
    "                alpha = 0.5\n",
    ")"
   ]
  },
  {
   "cell_type": "code",
   "execution_count": 96,
   "metadata": {
    "scrolled": true
   },
   "outputs": [
    {
     "data": {
      "text/html": [
       "<div>\n",
       "<style scoped>\n",
       "    .dataframe tbody tr th:only-of-type {\n",
       "        vertical-align: middle;\n",
       "    }\n",
       "\n",
       "    .dataframe tbody tr th {\n",
       "        vertical-align: top;\n",
       "    }\n",
       "\n",
       "    .dataframe thead th {\n",
       "        text-align: right;\n",
       "    }\n",
       "</style>\n",
       "<table border=\"1\" class=\"dataframe\">\n",
       "  <thead>\n",
       "    <tr style=\"text-align: right;\">\n",
       "      <th></th>\n",
       "      <th>category_code</th>\n",
       "      <th>funding_meadian</th>\n",
       "      <th>funding_std</th>\n",
       "      <th>type</th>\n",
       "    </tr>\n",
       "  </thead>\n",
       "  <tbody>\n",
       "    <tr>\n",
       "      <th>0</th>\n",
       "      <td>nanotech</td>\n",
       "      <td>25000000.0</td>\n",
       "      <td>1.463266e+08</td>\n",
       "      <td>Другое</td>\n",
       "    </tr>\n",
       "    <tr>\n",
       "      <th>1</th>\n",
       "      <td>semiconductor</td>\n",
       "      <td>19930200.0</td>\n",
       "      <td>4.881305e+07</td>\n",
       "      <td>IT-технологии</td>\n",
       "    </tr>\n",
       "    <tr>\n",
       "      <th>2</th>\n",
       "      <td>cleantech</td>\n",
       "      <td>15000000.0</td>\n",
       "      <td>1.403786e+08</td>\n",
       "      <td>Другое</td>\n",
       "    </tr>\n",
       "    <tr>\n",
       "      <th>3</th>\n",
       "      <td>medical</td>\n",
       "      <td>15000000.0</td>\n",
       "      <td>4.523022e+07</td>\n",
       "      <td>Социальные проекты</td>\n",
       "    </tr>\n",
       "    <tr>\n",
       "      <th>4</th>\n",
       "      <td>biotech</td>\n",
       "      <td>10127100.0</td>\n",
       "      <td>6.066212e+07</td>\n",
       "      <td>Другое</td>\n",
       "    </tr>\n",
       "    <tr>\n",
       "      <th>5</th>\n",
       "      <td>network_hosting</td>\n",
       "      <td>7655000.0</td>\n",
       "      <td>7.734072e+07</td>\n",
       "      <td>IT-технологии</td>\n",
       "    </tr>\n",
       "    <tr>\n",
       "      <th>6</th>\n",
       "      <td>enterprise</td>\n",
       "      <td>7000000.0</td>\n",
       "      <td>5.681967e+07</td>\n",
       "      <td>IT-технологии</td>\n",
       "    </tr>\n",
       "    <tr>\n",
       "      <th>7</th>\n",
       "      <td>security</td>\n",
       "      <td>6577230.0</td>\n",
       "      <td>4.636334e+07</td>\n",
       "      <td>IT-технологии</td>\n",
       "    </tr>\n",
       "    <tr>\n",
       "      <th>8</th>\n",
       "      <td>automotive</td>\n",
       "      <td>5250000.0</td>\n",
       "      <td>3.772832e+08</td>\n",
       "      <td>Другое</td>\n",
       "    </tr>\n",
       "    <tr>\n",
       "      <th>9</th>\n",
       "      <td>advertising</td>\n",
       "      <td>5200000.0</td>\n",
       "      <td>3.037738e+07</td>\n",
       "      <td>IT-технологии</td>\n",
       "    </tr>\n",
       "    <tr>\n",
       "      <th>10</th>\n",
       "      <td>analytics</td>\n",
       "      <td>5000000.0</td>\n",
       "      <td>5.530164e+07</td>\n",
       "      <td>IT-технологии</td>\n",
       "    </tr>\n",
       "    <tr>\n",
       "      <th>11</th>\n",
       "      <td>transportation</td>\n",
       "      <td>4500000.0</td>\n",
       "      <td>9.155941e+07</td>\n",
       "      <td>Социальные проекты</td>\n",
       "    </tr>\n",
       "    <tr>\n",
       "      <th>12</th>\n",
       "      <td>manufacturing</td>\n",
       "      <td>4488440.0</td>\n",
       "      <td>2.200883e+08</td>\n",
       "      <td>Другое</td>\n",
       "    </tr>\n",
       "    <tr>\n",
       "      <th>13</th>\n",
       "      <td>finance</td>\n",
       "      <td>4015000.0</td>\n",
       "      <td>6.010053e+07</td>\n",
       "      <td>Другое</td>\n",
       "    </tr>\n",
       "    <tr>\n",
       "      <th>14</th>\n",
       "      <td>hardware</td>\n",
       "      <td>4000000.0</td>\n",
       "      <td>5.669501e+07</td>\n",
       "      <td>IT-технологии</td>\n",
       "    </tr>\n",
       "    <tr>\n",
       "      <th>15</th>\n",
       "      <td>news</td>\n",
       "      <td>2900000.0</td>\n",
       "      <td>8.684070e+07</td>\n",
       "      <td>Социальные проекты</td>\n",
       "    </tr>\n",
       "    <tr>\n",
       "      <th>16</th>\n",
       "      <td>software</td>\n",
       "      <td>2610000.0</td>\n",
       "      <td>3.871592e+07</td>\n",
       "      <td>IT-технологии</td>\n",
       "    </tr>\n",
       "    <tr>\n",
       "      <th>17</th>\n",
       "      <td>mobile</td>\n",
       "      <td>2350000.0</td>\n",
       "      <td>2.073062e+08</td>\n",
       "      <td>IT-технологии</td>\n",
       "    </tr>\n",
       "    <tr>\n",
       "      <th>18</th>\n",
       "      <td>health</td>\n",
       "      <td>2250000.0</td>\n",
       "      <td>9.054591e+07</td>\n",
       "      <td>Социальные проекты</td>\n",
       "    </tr>\n",
       "    <tr>\n",
       "      <th>19</th>\n",
       "      <td>music</td>\n",
       "      <td>2200000.0</td>\n",
       "      <td>7.822000e+07</td>\n",
       "      <td>Другое</td>\n",
       "    </tr>\n",
       "    <tr>\n",
       "      <th>20</th>\n",
       "      <td>fashion</td>\n",
       "      <td>2091820.0</td>\n",
       "      <td>5.235186e+07</td>\n",
       "      <td>Другое</td>\n",
       "    </tr>\n",
       "    <tr>\n",
       "      <th>21</th>\n",
       "      <td>games_video</td>\n",
       "      <td>2000000.0</td>\n",
       "      <td>6.835634e+07</td>\n",
       "      <td>IT-технологии</td>\n",
       "    </tr>\n",
       "    <tr>\n",
       "      <th>22</th>\n",
       "      <td>messaging</td>\n",
       "      <td>1800000.0</td>\n",
       "      <td>3.853579e+07</td>\n",
       "      <td>IT-технологии</td>\n",
       "    </tr>\n",
       "    <tr>\n",
       "      <th>23</th>\n",
       "      <td>hospitality</td>\n",
       "      <td>1750000.0</td>\n",
       "      <td>3.629578e+07</td>\n",
       "      <td>Социальные проекты</td>\n",
       "    </tr>\n",
       "    <tr>\n",
       "      <th>24</th>\n",
       "      <td>nonprofit</td>\n",
       "      <td>1700000.0</td>\n",
       "      <td>1.572705e+07</td>\n",
       "      <td>Социальные проекты</td>\n",
       "    </tr>\n",
       "    <tr>\n",
       "      <th>25</th>\n",
       "      <td>search</td>\n",
       "      <td>1646360.0</td>\n",
       "      <td>3.704975e+07</td>\n",
       "      <td>IT-технологии</td>\n",
       "    </tr>\n",
       "    <tr>\n",
       "      <th>26</th>\n",
       "      <td>legal</td>\n",
       "      <td>1600000.0</td>\n",
       "      <td>1.367919e+07</td>\n",
       "      <td>Другое</td>\n",
       "    </tr>\n",
       "    <tr>\n",
       "      <th>27</th>\n",
       "      <td>ecommerce</td>\n",
       "      <td>1395100.0</td>\n",
       "      <td>8.345866e+07</td>\n",
       "      <td>IT-технологии</td>\n",
       "    </tr>\n",
       "    <tr>\n",
       "      <th>28</th>\n",
       "      <td>education</td>\n",
       "      <td>1380110.0</td>\n",
       "      <td>4.154787e+07</td>\n",
       "      <td>Социальные проекты</td>\n",
       "    </tr>\n",
       "    <tr>\n",
       "      <th>29</th>\n",
       "      <td>real_estate</td>\n",
       "      <td>1230000.0</td>\n",
       "      <td>4.350525e+07</td>\n",
       "      <td>Другое</td>\n",
       "    </tr>\n",
       "    <tr>\n",
       "      <th>30</th>\n",
       "      <td>travel</td>\n",
       "      <td>1200000.0</td>\n",
       "      <td>7.883577e+07</td>\n",
       "      <td>Социальные проекты</td>\n",
       "    </tr>\n",
       "    <tr>\n",
       "      <th>31</th>\n",
       "      <td>photo_video</td>\n",
       "      <td>1026560.0</td>\n",
       "      <td>2.118057e+07</td>\n",
       "      <td>IT-технологии</td>\n",
       "    </tr>\n",
       "    <tr>\n",
       "      <th>32</th>\n",
       "      <td>public_relations</td>\n",
       "      <td>1000000.0</td>\n",
       "      <td>6.683840e+07</td>\n",
       "      <td>Социальные проекты</td>\n",
       "    </tr>\n",
       "    <tr>\n",
       "      <th>33</th>\n",
       "      <td>social</td>\n",
       "      <td>1000000.0</td>\n",
       "      <td>2.783012e+08</td>\n",
       "      <td>Социальные проекты</td>\n",
       "    </tr>\n",
       "    <tr>\n",
       "      <th>34</th>\n",
       "      <td>design</td>\n",
       "      <td>873250.0</td>\n",
       "      <td>1.147715e+07</td>\n",
       "      <td>IT-технологии</td>\n",
       "    </tr>\n",
       "    <tr>\n",
       "      <th>35</th>\n",
       "      <td>sports</td>\n",
       "      <td>775000.0</td>\n",
       "      <td>8.082694e+06</td>\n",
       "      <td>Социальные проекты</td>\n",
       "    </tr>\n",
       "    <tr>\n",
       "      <th>36</th>\n",
       "      <td>pets</td>\n",
       "      <td>762500.0</td>\n",
       "      <td>8.476867e+06</td>\n",
       "      <td>Социальные проекты</td>\n",
       "    </tr>\n",
       "    <tr>\n",
       "      <th>37</th>\n",
       "      <td>web</td>\n",
       "      <td>750000.0</td>\n",
       "      <td>5.375398e+07</td>\n",
       "      <td>IT-технологии</td>\n",
       "    </tr>\n",
       "    <tr>\n",
       "      <th>38</th>\n",
       "      <td>local</td>\n",
       "      <td>285000.0</td>\n",
       "      <td>2.079140e+07</td>\n",
       "      <td>Социальные проекты</td>\n",
       "    </tr>\n",
       "    <tr>\n",
       "      <th>39</th>\n",
       "      <td>consulting</td>\n",
       "      <td>250000.0</td>\n",
       "      <td>2.199604e+07</td>\n",
       "      <td>Другое</td>\n",
       "    </tr>\n",
       "    <tr>\n",
       "      <th>40</th>\n",
       "      <td>other</td>\n",
       "      <td>135405.0</td>\n",
       "      <td>2.835128e+07</td>\n",
       "      <td>Другое</td>\n",
       "    </tr>\n",
       "    <tr>\n",
       "      <th>41</th>\n",
       "      <td>government</td>\n",
       "      <td>82500.0</td>\n",
       "      <td>4.732624e+07</td>\n",
       "      <td>Социальные проекты</td>\n",
       "    </tr>\n",
       "  </tbody>\n",
       "</table>\n",
       "</div>"
      ],
      "text/plain": [
       "       category_code  funding_meadian   funding_std                type\n",
       "0           nanotech       25000000.0  1.463266e+08              Другое\n",
       "1      semiconductor       19930200.0  4.881305e+07       IT-технологии\n",
       "2          cleantech       15000000.0  1.403786e+08              Другое\n",
       "3            medical       15000000.0  4.523022e+07  Социальные проекты\n",
       "4            biotech       10127100.0  6.066212e+07              Другое\n",
       "5    network_hosting        7655000.0  7.734072e+07       IT-технологии\n",
       "6         enterprise        7000000.0  5.681967e+07       IT-технологии\n",
       "7           security        6577230.0  4.636334e+07       IT-технологии\n",
       "8         automotive        5250000.0  3.772832e+08              Другое\n",
       "9        advertising        5200000.0  3.037738e+07       IT-технологии\n",
       "10         analytics        5000000.0  5.530164e+07       IT-технологии\n",
       "11    transportation        4500000.0  9.155941e+07  Социальные проекты\n",
       "12     manufacturing        4488440.0  2.200883e+08              Другое\n",
       "13           finance        4015000.0  6.010053e+07              Другое\n",
       "14          hardware        4000000.0  5.669501e+07       IT-технологии\n",
       "15              news        2900000.0  8.684070e+07  Социальные проекты\n",
       "16          software        2610000.0  3.871592e+07       IT-технологии\n",
       "17            mobile        2350000.0  2.073062e+08       IT-технологии\n",
       "18            health        2250000.0  9.054591e+07  Социальные проекты\n",
       "19             music        2200000.0  7.822000e+07              Другое\n",
       "20           fashion        2091820.0  5.235186e+07              Другое\n",
       "21       games_video        2000000.0  6.835634e+07       IT-технологии\n",
       "22         messaging        1800000.0  3.853579e+07       IT-технологии\n",
       "23       hospitality        1750000.0  3.629578e+07  Социальные проекты\n",
       "24         nonprofit        1700000.0  1.572705e+07  Социальные проекты\n",
       "25            search        1646360.0  3.704975e+07       IT-технологии\n",
       "26             legal        1600000.0  1.367919e+07              Другое\n",
       "27         ecommerce        1395100.0  8.345866e+07       IT-технологии\n",
       "28         education        1380110.0  4.154787e+07  Социальные проекты\n",
       "29       real_estate        1230000.0  4.350525e+07              Другое\n",
       "30            travel        1200000.0  7.883577e+07  Социальные проекты\n",
       "31       photo_video        1026560.0  2.118057e+07       IT-технологии\n",
       "32  public_relations        1000000.0  6.683840e+07  Социальные проекты\n",
       "33            social        1000000.0  2.783012e+08  Социальные проекты\n",
       "34            design         873250.0  1.147715e+07       IT-технологии\n",
       "35            sports         775000.0  8.082694e+06  Социальные проекты\n",
       "36              pets         762500.0  8.476867e+06  Социальные проекты\n",
       "37               web         750000.0  5.375398e+07       IT-технологии\n",
       "38             local         285000.0  2.079140e+07  Социальные проекты\n",
       "39        consulting         250000.0  2.199604e+07              Другое\n",
       "40             other         135405.0  2.835128e+07              Другое\n",
       "41        government          82500.0  4.732624e+07  Социальные проекты"
      ]
     },
     "execution_count": 96,
     "metadata": {},
     "output_type": "execute_result"
    }
   ],
   "source": [
    "# Понятнее не стало, поэтому я дополнительно разобью на группы \n",
    "classes_keywords = {\n",
    "     'IT-технологии': ['web', 'games_video', 'mobile', 'analytics', 'network_hosting', 'enterprise', \n",
    "                       'ecommerce', 'hardware', 'software', 'advertising', 'photo_video', 'search', \n",
    "                       'messaging', 'semiconductor', 'design', 'security'],\n",
    "     'Социальные проекты': ['health', 'education', 'medical', 'government', 'nonprofit', 'local', 'pets', 'social',\n",
    "                            'hospitality', 'sports', 'travel', 'news', 'public_relations', 'transportation'],\n",
    "     'Другое': ['finance',  'cleantech', 'manufacturing', 'biotech', 'consulting', 'legal', 'real_estate', \n",
    "                'automotive', 'nanotech', 'fashion', 'music', 'other']\n",
    "}\n",
    "\n",
    "# Функция классификации - ДОПИСАТЬ САМОМУ\n",
    "def classify_startup(description):\n",
    "    for key in classes_keywords:\n",
    "        if description in classes_keywords[key]:\n",
    "            return key\n",
    "\n",
    "# Применяем к данным\n",
    "df_corr['type'] = df_corr['category_code'].apply(classify_startup)\n",
    "\n",
    "# Проверим, как всё распределилось\n",
    "df_corr"
   ]
  },
  {
   "cell_type": "code",
   "execution_count": 97,
   "metadata": {},
   "outputs": [
    {
     "data": {
      "text/plain": [
       "<AxesSubplot:xlabel='funding_meadian', ylabel='funding_std'>"
      ]
     },
     "execution_count": 97,
     "metadata": {},
     "output_type": "execute_result"
    },
    {
     "data": {
      "image/png": "[encoded data removed]",
      "text/plain": [
       "<Figure size 720x432 with 1 Axes>"
      ]
     },
     "metadata": {},
     "output_type": "display_data"
    }
   ],
   "source": [
    "# Теперь составим scatterplot, чтобы посмотреть, какое у нас выходит распределение\n",
    "plt.figure(figsize = (10, 6))\n",
    "\n",
    "# Сделаем сетку удобной для чтения\n",
    "sns.set_style('whitegrid')\n",
    "\n",
    "# Построим scatterplot, на котором будут отображаться все типы\n",
    "sns.scatterplot(data = df_corr, \n",
    "                x = 'funding_meadian',\n",
    "                y = 'funding_std',\n",
    "                alpha = 0.5,\n",
    "                s = 100,\n",
    "                hue = 'type'\n",
    ")"
   ]
  },
  {
   "cell_type": "markdown",
   "metadata": {},
   "source": [
    "\n",
    "- Как правило, стартапы, которые не относятся к IT-сфере и к социальной сфере имеют более высокий уровень **разброса и общей суммы финансирования**, однако прямой корреляции не видно ни в одной из групп категорий, ни во всех категориях; \n",
    "- Среди **самых дорогих дорогих** категорий стартапов можно выделить категории (1) нанотехнологий, (2) полупроводников и (3) очистительным технологиям, а среди технологий **с самым большим разбросом (среднеквадратичным отклонением)** можно выделить такие стартапы (1) для автоматизации процессов, (2) социально направленных и (3) производственных.  "
   ]
  },
  {
   "cell_type": "markdown",
   "metadata": {
    "id": "ADOfyVY_rJg3"
   },
   "source": [
    "\n",
    "### 3.5. Сколько раундов продержится стартап перед покупкой\n",
    "\n",
    "- Необходимо проанализировать столбец `funding_rounds`. Исследуйте значения столбца. Заказчика интересует типичное значение количества раундов для каждого возможного статуса стартапа.\n",
    "- Постройте график, который отображает, сколько в среднем раундов финансирования проходило для стартапов из каждой группы. Сделайте выводы."
   ]
  },
  {
   "cell_type": "code",
   "execution_count": 98,
   "metadata": {},
   "outputs": [
    {
     "name": "stderr",
     "output_type": "stream",
     "text": [
      "/opt/conda/lib/python3.9/site-packages/seaborn/distributions.py:2557: FutureWarning: `distplot` is a deprecated function and will be removed in a future version. Please adapt your code to use either `displot` (a figure-level function with similar flexibility) or `histplot` (an axes-level function for histograms).\n",
      "  warnings.warn(msg, FutureWarning)\n"
     ]
    },
    {
     "data": {
      "text/plain": [
       "<AxesSubplot:xlabel='funding_rounds'>"
      ]
     },
     "execution_count": 98,
     "metadata": {},
     "output_type": "execute_result"
    },
    {
     "data": {
      "image/png": "[encoded data removed]",
      "text/plain": [
       "<Figure size 720x432 with 1 Axes>"
      ]
     },
     "metadata": {},
     "output_type": "display_data"
    }
   ],
   "source": [
    "# Построим гистограму, чтобы оценить распределение и определить, с чем мы в дальнейшем будем работать: с медианой или средним арифметическим\n",
    "\n",
    "# Настроим размеры графика\n",
    "plt.figure(figsize = (10, 6))\n",
    "\n",
    "# Используем seaborn\n",
    "sns.distplot(df_company_rounds['funding_rounds'],\n",
    "             kde = False,\n",
    "             bins = 15,\n",
    "             color = 'skyblue',\n",
    "             hist_kws = {'edgecolor' : 'black'})"
   ]
  },
  {
   "cell_type": "code",
   "execution_count": 99,
   "metadata": {},
   "outputs": [
    {
     "data": {
      "text/plain": [
       "status\n",
       "acquired     2.0\n",
       "closed       1.0\n",
       "ipo          4.0\n",
       "operating    2.0\n",
       "Name: funding_rounds, dtype: float64"
      ]
     },
     "execution_count": 99,
     "metadata": {},
     "output_type": "execute_result"
    }
   ],
   "source": [
    "# Как можно выделить, на графике наблюдается ярко выраженная правосторонняя кривизна\n",
    "# Поэтому для дальнейшей работы нам лучше использовать медианное значение, а не среднее арифметическое\n",
    "\n",
    "# Постморим среднее количество раундов по статусам, но только в тех случаях, когда у нас количество раундов превышает ноль\n",
    "df_company_rounds.loc[df_company_rounds['funding_rounds'] > 0].groupby('status')['funding_rounds'].quantile(0.5)"
   ]
  },
  {
   "cell_type": "code",
   "execution_count": 100,
   "metadata": {
    "id": "pV3e7kw5Fj1Y"
   },
   "outputs": [
    {
     "data": {
      "text/plain": [
       "{'whiskers': [<matplotlib.lines.Line2D at 0x7fa548b47d00>,\n",
       "  <matplotlib.lines.Line2D at 0x7fa548ad20a0>],\n",
       " 'caps': [<matplotlib.lines.Line2D at 0x7fa548ad2400>,\n",
       "  <matplotlib.lines.Line2D at 0x7fa548ad2760>],\n",
       " 'boxes': [<matplotlib.lines.Line2D at 0x7fa548b479a0>],\n",
       " 'medians': [<matplotlib.lines.Line2D at 0x7fa548ad2ac0>],\n",
       " 'fliers': [<matplotlib.lines.Line2D at 0x7fa548ad2e20>],\n",
       " 'means': []}"
      ]
     },
     "execution_count": 100,
     "metadata": {},
     "output_type": "execute_result"
    },
    {
     "data": {
      "image/png": "[encoded data removed]",
      "text/plain": [
       "<Figure size 1440x720 with 4 Axes>"
      ]
     },
     "metadata": {},
     "output_type": "display_data"
    }
   ],
   "source": [
    "# Отобразим сразу несколько статусов\n",
    "fig = plt.figure(figsize = (20, 10))\n",
    "\n",
    "# Графики отобразим на одном холсте, чтобы было удобнее\n",
    "ax1 = fig.add_subplot(2, 2, 1)\n",
    "ax2 = fig.add_subplot(2, 2, 2)\n",
    "ax3 = fig.add_subplot(2, 2, 3)\n",
    "ax4 = fig.add_subplot(2, 2, 4)\n",
    "\n",
    "# Теперь нарисуем несколько графиков и сравним их\n",
    "ax1.set_title('Acquired')\n",
    "ax1.boxplot(df_company_rounds['funding_rounds'].\n",
    "            loc[(df_company_rounds['status'] == 'acquired') & (df_company_rounds['funding_rounds'] > 0)], vert = False)\n",
    "\n",
    "ax2.set_title('Closed')\n",
    "ax2.boxplot(df_company_rounds['funding_rounds'].\n",
    "            loc[(df_company_rounds['status'] == 'closed') & (df_company_rounds['funding_rounds'] > 0)], vert = False)\n",
    "\n",
    "ax3.set_title('Operating')\n",
    "ax3.boxplot(df_company_rounds['funding_rounds'].\n",
    "            loc[(df_company_rounds['status'] == 'operating')  & (df_company_rounds['funding_rounds'] > 0)], vert = False)\n",
    "\n",
    "ax4.set_title('IPO')\n",
    "ax4.boxplot(df_company_rounds['funding_rounds'].\n",
    "            loc[(df_company_rounds['status'] == 'ipo')  & (df_company_rounds['funding_rounds'] > 0)], vert = False)"
   ]
  },
  {
   "cell_type": "markdown",
   "metadata": {},
   "source": [
    "- **Закрытые стартапы (\"Closed\"):** в первую очередь хочется обратить внимание на эту категорию стартапов. Как и следовало ожиджидать, количество раундов финансирования у стартапов, которые были закрыты, в среднем, ниже, чем у дургих стартапов, ведь венчуры не заинтересованы анализируют привлекательность стартапов с финансовой точки зрения и не заинтересованы в поддержании невыгодных и убыточных проектов, у которых высокий риск закрытия, с этим связано **самое низкое медианное количество раундов - 1**;\n",
    "- **Стартапы, которые вышли на рынок ценных бумаг (\"IPO\"):** это тоже одна из самых ярко выраженных категорий, потому что стартапы, у которых получилось сделать IPO (*Initial Public Offering*) являются самыми успешными стартапами, которые обладают достаточной финансовой дееспособностью и авторитетом в обществе из-за чего у этих компаний **самое высокое медианное количество раундов - 4**;\n",
    "- **Действующие стартапы (\"Operating\") и проданные стартапы (\"Acquired\"):** эти две категории стартапов достаточно успешно осущетствляют свою деятельность и уже смогли подтвердить свою прибыльность, поэтому они могут получать финансирование от венчуров поэтому их **среднее медианное количество раундов - 2**"
   ]
  },
  {
   "cell_type": "markdown",
   "metadata": {
    "id": "VAFEZ2HBrJg3"
   },
   "source": [
    "\n",
    "## Шаг 4. Итоговый вывод и рекомендации\n",
    "\n",
    "Опишите, что было сделано в проекте, какие были сделаны выводы, подкрепляют ли они друг друга или заставляют сомневаться в полученных результатах."
   ]
  },
  {
   "cell_type": "markdown",
   "metadata": {},
   "source": [
    "- ***Качество и подготовка данных***\n",
    "\n",
    "    - Идентификаторы company_id / person_id заполнены полностью, объём выборки ≈ 40 000 компаний – этого достаточно для анализа.\n",
    "\n",
    "    - Наибольшие пропуски: сведения о раундах (≈ 71%), связи people-company (≈ 85%), дата выпуска диплома (47%). Несмотря на это, ключевые поля целы, поэтому задачи решаемы после фильтрации.\n",
    "\n",
    "    - Поле network_username показало < 3% пересечений и высокую уникальность – использовать его для объединения нельзя.\n",
    "\n",
    "    - Исходный файл разделён на две таблицы: df_company (общие атрибуты компании) и df_rounds (все раунды). Связность по company_id сохранена, дубли устранены – дальнейший анализ стал проще и быстрее.\n",
    "\n",
    "- ***Главные количественные результаты***\n",
    "\n",
    "    - **Финансирование по годам:** средняя сумма раунда росла до 2006 г. (пик 5,5 млн долларов), затем падала до 2012 г., а число раундов одновременно увеличивалось (до ~10 000). Это отражает переход рынка к меньшим, но более частым инвестициям на фоне кризиса 2008 г.\n",
    "\n",
    "    - **Типичная «нормальная» сумма, привлечённая компанией,** – медиана ≈ 10 млн долларов 90-й перцентиль равен 58,6 млн долларам, всё выше этой отметки считается выбросом.\n",
    "\n",
    "    - **Образование персонала:** сведения имеются у 58% сотрудников малых компаний и у 54% – в более крупных, что может быть сдежсвием того, что одиночками-стартаперами чаще становяться люди без образования.\n",
    "\n",
    "    - **Стоимость категорий стартапов:** самые дорогие – нанотехнологии, полупроводники, clean-tech; наибольший разброс цен наблюдается в автоматизации, социальных и производственных проектах. Вне IT- и social-ниши общий уровень и дисперсия финансирования выше.\n",
    "\n",
    "    - **Связь статуса и числа раундов:** Closed – медиана 1, Operating/Acquired – 2, IPO – 4. Чем выше «финальный» статус, тем больше раундов нужно пройти. \n",
    "\n",
    "- ***Практические выводы***\n",
    "\n",
    "    - Для быстрой ориентации инвестору достаточно ориентироваться на планку 60 млн долларов: всё выше требует отдельной проверки как потенциальный выброс.\n",
    "\n",
    "    - **Если цель – высоко оценённые сделки**, стоит смотреть на nanotech, semiconductor и clean-tech; **если готовность к риску высока** – на сферы с большим разбросом (automation, social, manufacturing).\n",
    "\n",
    "    - Компании с историей ≥ 4 раундов – основные кандидаты на IPO; ≤ 1 раунда – высокий риск закрытия.\n",
    "\n",
    "    - При дальнейшем объединении данных используем только стабильные ключи (company_id, person_id); network_username оставляем как вспомогательный атрибут.\n",
    "\n",
    "    - **Таким образом, даже при существенных пропусках подготовленный набор данных позволяет надёжно описать рынок стартап-финансирования, выделить типичные объёмы инвестиций, рисковые и премиальные категории, а также связь между жизненным циклом компании и числом раундов.**\n",
    "\n"
   ]
  }
 ],
 "metadata": {
  "ExecuteTimeLog": [
   {
    "duration": 407,
    "start_time": "2025-07-15T20:24:07.381Z"
   },
   {
    "duration": 3,
    "start_time": "2025-07-15T20:24:09.215Z"
   },
   {
    "duration": 56,
    "start_time": "2025-07-15T20:24:09.626Z"
   },
   {
    "duration": 14,
    "start_time": "2025-07-15T20:24:31.364Z"
   },
   {
    "duration": 46,
    "start_time": "2025-07-15T20:25:27.123Z"
   },
   {
    "duration": 1078,
    "start_time": "2025-07-15T20:26:05.129Z"
   },
   {
    "duration": 374,
    "start_time": "2025-07-15T20:26:32.353Z"
   },
   {
    "duration": 206,
    "start_time": "2025-07-15T20:27:13.158Z"
   },
   {
    "duration": 200,
    "start_time": "2025-07-15T20:27:47.519Z"
   },
   {
    "duration": 105,
    "start_time": "2025-07-15T20:30:05.356Z"
   },
   {
    "duration": 12,
    "start_time": "2025-07-15T20:30:30.042Z"
   },
   {
    "duration": 45,
    "start_time": "2025-07-15T20:31:43.577Z"
   },
   {
    "duration": 45,
    "start_time": "2025-07-15T20:31:57.955Z"
   },
   {
    "duration": 25,
    "start_time": "2025-07-15T20:32:30.634Z"
   },
   {
    "duration": 208,
    "start_time": "2025-07-15T20:33:27.299Z"
   },
   {
    "duration": 48,
    "start_time": "2025-07-15T20:33:29.540Z"
   },
   {
    "duration": 350,
    "start_time": "2025-07-15T20:33:39.389Z"
   },
   {
    "duration": 33,
    "start_time": "2025-07-15T20:37:51.087Z"
   },
   {
    "duration": 13,
    "start_time": "2025-07-15T20:37:57.360Z"
   },
   {
    "duration": 477,
    "start_time": "2025-07-17T14:19:55.336Z"
   },
   {
    "duration": 54,
    "start_time": "2025-07-17T14:19:55.815Z"
   },
   {
    "duration": 12,
    "start_time": "2025-07-17T14:19:56.876Z"
   },
   {
    "duration": 17,
    "start_time": "2025-07-17T14:23:11.614Z"
   },
   {
    "duration": 22,
    "start_time": "2025-07-17T14:35:54.692Z"
   },
   {
    "duration": 1868,
    "start_time": "2025-07-17T14:39:41.493Z"
   },
   {
    "duration": 1521,
    "start_time": "2025-07-17T14:39:50.392Z"
   },
   {
    "duration": 8,
    "start_time": "2025-07-17T14:40:03.173Z"
   },
   {
    "duration": 1182,
    "start_time": "2025-07-17T14:41:06.972Z"
   },
   {
    "duration": 273,
    "start_time": "2025-07-17T14:41:12.492Z"
   },
   {
    "duration": 30,
    "start_time": "2025-07-17T14:41:41.940Z"
   },
   {
    "duration": 13,
    "start_time": "2025-07-17T14:41:47.391Z"
   },
   {
    "duration": 441,
    "start_time": "2025-07-18T12:29:03.348Z"
   },
   {
    "duration": 117,
    "start_time": "2025-07-18T12:29:03.791Z"
   },
   {
    "duration": 13,
    "start_time": "2025-07-18T12:29:03.909Z"
   },
   {
    "duration": 1274,
    "start_time": "2025-07-18T12:29:03.923Z"
   },
   {
    "duration": 107,
    "start_time": "2025-07-18T12:29:05.199Z"
   },
   {
    "duration": 484,
    "start_time": "2025-07-18T12:29:05.308Z"
   },
   {
    "duration": 40,
    "start_time": "2025-07-18T12:29:05.793Z"
   },
   {
    "duration": 304,
    "start_time": "2025-07-18T12:29:05.834Z"
   },
   {
    "duration": 43,
    "start_time": "2025-07-18T12:29:06.140Z"
   },
   {
    "duration": 299,
    "start_time": "2025-07-18T12:29:06.185Z"
   },
   {
    "duration": 24,
    "start_time": "2025-07-18T12:29:06.486Z"
   },
   {
    "duration": 18,
    "start_time": "2025-07-18T12:29:06.511Z"
   },
   {
    "duration": 169,
    "start_time": "2025-07-18T12:29:06.531Z"
   },
   {
    "duration": 65,
    "start_time": "2025-07-18T12:40:05.369Z"
   },
   {
    "duration": 4,
    "start_time": "2025-07-18T12:40:06.938Z"
   },
   {
    "duration": 3,
    "start_time": "2025-07-18T12:40:07.801Z"
   },
   {
    "duration": 4,
    "start_time": "2025-07-18T12:40:08.173Z"
   },
   {
    "duration": 3,
    "start_time": "2025-07-18T12:40:36.742Z"
   },
   {
    "duration": 3,
    "start_time": "2025-07-18T12:40:37.006Z"
   },
   {
    "duration": 3,
    "start_time": "2025-07-18T12:47:04.165Z"
   },
   {
    "duration": 3,
    "start_time": "2025-07-18T12:47:05.052Z"
   },
   {
    "duration": 9,
    "start_time": "2025-07-18T12:47:05.775Z"
   },
   {
    "duration": 3,
    "start_time": "2025-07-18T12:47:21.396Z"
   },
   {
    "duration": 4,
    "start_time": "2025-07-18T12:47:22.260Z"
   },
   {
    "duration": 408,
    "start_time": "2025-07-18T12:47:22.563Z"
   },
   {
    "duration": 394,
    "start_time": "2025-07-18T12:47:46.697Z"
   },
   {
    "duration": 386,
    "start_time": "2025-07-18T12:47:55.037Z"
   },
   {
    "duration": 104,
    "start_time": "2025-07-18T12:48:58.061Z"
   },
   {
    "duration": 391,
    "start_time": "2025-07-18T12:49:02.467Z"
   },
   {
    "duration": 392,
    "start_time": "2025-07-18T12:49:20.576Z"
   },
   {
    "duration": 408,
    "start_time": "2025-07-18T12:49:46.870Z"
   },
   {
    "duration": 4,
    "start_time": "2025-07-18T12:51:43.595Z"
   },
   {
    "duration": 32,
    "start_time": "2025-07-18T12:51:44.292Z"
   },
   {
    "duration": 3,
    "start_time": "2025-07-18T12:54:41.611Z"
   },
   {
    "duration": 4,
    "start_time": "2025-07-18T12:54:42.349Z"
   },
   {
    "duration": 32,
    "start_time": "2025-07-18T12:54:42.703Z"
   },
   {
    "duration": 4,
    "start_time": "2025-07-18T12:57:55.238Z"
   },
   {
    "duration": 30,
    "start_time": "2025-07-18T12:57:56.258Z"
   },
   {
    "duration": 4,
    "start_time": "2025-07-18T13:14:03.018Z"
   },
   {
    "duration": 31,
    "start_time": "2025-07-18T13:14:04.513Z"
   },
   {
    "duration": 1222,
    "start_time": "2025-07-18T13:14:24.055Z"
   },
   {
    "duration": 107,
    "start_time": "2025-07-18T13:14:30.064Z"
   },
   {
    "duration": 4,
    "start_time": "2025-07-18T13:14:43.616Z"
   },
   {
    "duration": 10,
    "start_time": "2025-07-18T13:14:44.883Z"
   },
   {
    "duration": 4,
    "start_time": "2025-07-18T13:15:04.833Z"
   },
   {
    "duration": 31,
    "start_time": "2025-07-18T13:15:07.083Z"
   },
   {
    "duration": 1162,
    "start_time": "2025-07-18T13:18:58.592Z"
   },
   {
    "duration": 4,
    "start_time": "2025-07-18T13:19:06.441Z"
   },
   {
    "duration": 30,
    "start_time": "2025-07-18T13:19:07.601Z"
   },
   {
    "duration": 145,
    "start_time": "2025-07-18T13:21:00.637Z"
   },
   {
    "duration": 53,
    "start_time": "2025-07-18T13:23:57.241Z"
   },
   {
    "duration": 35,
    "start_time": "2025-07-18T13:23:57.850Z"
   },
   {
    "duration": 8,
    "start_time": "2025-07-18T13:36:50.638Z"
   },
   {
    "duration": 7,
    "start_time": "2025-07-18T13:37:49.465Z"
   },
   {
    "duration": 9,
    "start_time": "2025-07-18T13:37:56.803Z"
   },
   {
    "duration": 8,
    "start_time": "2025-07-18T13:38:02.831Z"
   },
   {
    "duration": 34,
    "start_time": "2025-07-18T13:38:08.754Z"
   },
   {
    "duration": 115,
    "start_time": "2025-07-18T13:38:25.432Z"
   },
   {
    "duration": 8,
    "start_time": "2025-07-18T13:38:32.018Z"
   },
   {
    "duration": 81,
    "start_time": "2025-07-18T13:38:51.388Z"
   },
   {
    "duration": 101,
    "start_time": "2025-07-18T13:38:58.869Z"
   },
   {
    "duration": 14,
    "start_time": "2025-07-18T13:39:07.716Z"
   },
   {
    "duration": 11,
    "start_time": "2025-07-18T13:39:33.048Z"
   },
   {
    "duration": 7,
    "start_time": "2025-07-18T13:40:24.962Z"
   },
   {
    "duration": 8,
    "start_time": "2025-07-18T13:40:32.354Z"
   },
   {
    "duration": 71,
    "start_time": "2025-07-18T13:40:40.682Z"
   },
   {
    "duration": 17,
    "start_time": "2025-07-18T13:41:21.187Z"
   },
   {
    "duration": 40,
    "start_time": "2025-07-18T13:41:37.488Z"
   },
   {
    "duration": 16,
    "start_time": "2025-07-18T13:42:01.017Z"
   },
   {
    "duration": 23,
    "start_time": "2025-07-18T13:42:20.316Z"
   },
   {
    "duration": 9,
    "start_time": "2025-07-18T14:19:05.153Z"
   },
   {
    "duration": 93,
    "start_time": "2025-07-18T14:19:20.632Z"
   },
   {
    "duration": 27,
    "start_time": "2025-07-18T14:19:43.964Z"
   },
   {
    "duration": 8,
    "start_time": "2025-07-18T14:23:50.597Z"
   },
   {
    "duration": 34,
    "start_time": "2025-07-18T14:23:59.358Z"
   },
   {
    "duration": 26,
    "start_time": "2025-07-18T14:24:35.754Z"
   },
   {
    "duration": 17,
    "start_time": "2025-07-18T14:25:26.648Z"
   },
   {
    "duration": 18,
    "start_time": "2025-07-18T14:28:13.678Z"
   },
   {
    "duration": 77,
    "start_time": "2025-07-18T14:28:37.460Z"
   },
   {
    "duration": 5,
    "start_time": "2025-07-18T14:28:58.451Z"
   },
   {
    "duration": 4,
    "start_time": "2025-07-18T14:28:59.387Z"
   },
   {
    "duration": 31,
    "start_time": "2025-07-18T14:29:00.212Z"
   },
   {
    "duration": 78,
    "start_time": "2025-07-18T14:29:13.156Z"
   },
   {
    "duration": 18,
    "start_time": "2025-07-18T14:30:23.354Z"
   },
   {
    "duration": 33,
    "start_time": "2025-07-18T14:30:29.235Z"
   },
   {
    "duration": 16,
    "start_time": "2025-07-18T14:38:43.054Z"
   },
   {
    "duration": 30,
    "start_time": "2025-07-18T14:39:28.597Z"
   },
   {
    "duration": 36,
    "start_time": "2025-07-18T14:39:33.837Z"
   },
   {
    "duration": 34,
    "start_time": "2025-07-18T14:40:03.241Z"
   },
   {
    "duration": 31,
    "start_time": "2025-07-18T14:40:51.180Z"
   },
   {
    "duration": 35,
    "start_time": "2025-07-18T14:40:58.212Z"
   },
   {
    "duration": 1537,
    "start_time": "2025-07-18T14:42:24.523Z"
   },
   {
    "duration": 38,
    "start_time": "2025-07-18T14:42:38.359Z"
   },
   {
    "duration": 420,
    "start_time": "2025-07-18T18:33:06.478Z"
   },
   {
    "duration": 107,
    "start_time": "2025-07-18T18:33:06.900Z"
   },
   {
    "duration": 12,
    "start_time": "2025-07-18T18:33:07.009Z"
   },
   {
    "duration": 1079,
    "start_time": "2025-07-18T18:33:07.022Z"
   },
   {
    "duration": 109,
    "start_time": "2025-07-18T18:33:08.104Z"
   },
   {
    "duration": 426,
    "start_time": "2025-07-18T18:33:08.214Z"
   },
   {
    "duration": 49,
    "start_time": "2025-07-18T18:33:08.642Z"
   },
   {
    "duration": 290,
    "start_time": "2025-07-18T18:33:08.693Z"
   },
   {
    "duration": 40,
    "start_time": "2025-07-18T18:33:08.985Z"
   },
   {
    "duration": 338,
    "start_time": "2025-07-18T18:33:09.027Z"
   },
   {
    "duration": 26,
    "start_time": "2025-07-18T18:33:09.366Z"
   },
   {
    "duration": 5,
    "start_time": "2025-07-18T18:33:09.394Z"
   },
   {
    "duration": 113,
    "start_time": "2025-07-18T18:33:09.400Z"
   },
   {
    "duration": 7,
    "start_time": "2025-07-18T18:33:09.516Z"
   },
   {
    "duration": 163,
    "start_time": "2025-07-18T18:33:09.525Z"
   },
   {
    "duration": 9,
    "start_time": "2025-07-18T18:33:09.689Z"
   },
   {
    "duration": 153,
    "start_time": "2025-07-18T18:33:09.699Z"
   },
   {
    "duration": 17,
    "start_time": "2025-07-18T18:33:09.854Z"
   },
   {
    "duration": 38,
    "start_time": "2025-07-18T18:33:09.872Z"
   },
   {
    "duration": 21,
    "start_time": "2025-07-18T18:33:09.911Z"
   },
   {
    "duration": 56,
    "start_time": "2025-07-18T18:33:09.934Z"
   },
   {
    "duration": 83,
    "start_time": "2025-07-18T18:33:09.992Z"
   },
   {
    "duration": 1323,
    "start_time": "2025-07-18T18:40:39.164Z"
   },
   {
    "duration": 4,
    "start_time": "2025-07-18T18:42:57.977Z"
   },
   {
    "duration": 4,
    "start_time": "2025-07-18T18:42:59.808Z"
   },
   {
    "duration": 103,
    "start_time": "2025-07-18T18:43:03.820Z"
   },
   {
    "duration": 4,
    "start_time": "2025-07-18T18:43:36.379Z"
   },
   {
    "duration": 4,
    "start_time": "2025-07-18T18:43:37.635Z"
   },
   {
    "duration": 100,
    "start_time": "2025-07-18T18:43:38.417Z"
   },
   {
    "duration": 95,
    "start_time": "2025-07-18T18:53:19.777Z"
   },
   {
    "duration": 69,
    "start_time": "2025-07-18T18:55:34.732Z"
   },
   {
    "duration": 380,
    "start_time": "2025-07-18T18:55:46.811Z"
   },
   {
    "duration": 76,
    "start_time": "2025-07-18T18:55:47.194Z"
   },
   {
    "duration": 12,
    "start_time": "2025-07-18T18:55:47.271Z"
   },
   {
    "duration": 1227,
    "start_time": "2025-07-18T18:55:47.284Z"
   },
   {
    "duration": 111,
    "start_time": "2025-07-18T18:55:48.513Z"
   },
   {
    "duration": 399,
    "start_time": "2025-07-18T18:55:48.625Z"
   },
   {
    "duration": 50,
    "start_time": "2025-07-18T18:55:49.026Z"
   },
   {
    "duration": 264,
    "start_time": "2025-07-18T18:55:49.078Z"
   },
   {
    "duration": 44,
    "start_time": "2025-07-18T18:55:49.344Z"
   },
   {
    "duration": 239,
    "start_time": "2025-07-18T18:55:49.389Z"
   },
   {
    "duration": 24,
    "start_time": "2025-07-18T18:55:49.630Z"
   },
   {
    "duration": 3,
    "start_time": "2025-07-18T18:55:49.656Z"
   },
   {
    "duration": 108,
    "start_time": "2025-07-18T18:55:49.672Z"
   },
   {
    "duration": 7,
    "start_time": "2025-07-18T18:55:49.784Z"
   },
   {
    "duration": 235,
    "start_time": "2025-07-18T18:55:49.792Z"
   },
   {
    "duration": 9,
    "start_time": "2025-07-18T18:55:50.029Z"
   },
   {
    "duration": 84,
    "start_time": "2025-07-18T18:55:50.039Z"
   },
   {
    "duration": 16,
    "start_time": "2025-07-18T18:55:50.125Z"
   },
   {
    "duration": 49,
    "start_time": "2025-07-18T18:55:50.142Z"
   },
   {
    "duration": 29,
    "start_time": "2025-07-18T18:55:50.192Z"
   },
   {
    "duration": 81,
    "start_time": "2025-07-18T18:55:50.222Z"
   },
   {
    "duration": 0,
    "start_time": "2025-07-18T18:55:50.305Z"
   },
   {
    "duration": 34,
    "start_time": "2025-07-18T18:56:12.203Z"
   },
   {
    "duration": 27,
    "start_time": "2025-07-18T18:56:13.450Z"
   },
   {
    "duration": 10,
    "start_time": "2025-07-18T18:56:13.828Z"
   },
   {
    "duration": 7,
    "start_time": "2025-07-18T18:57:53.389Z"
   },
   {
    "duration": 7,
    "start_time": "2025-07-18T18:58:11.786Z"
   },
   {
    "duration": 121,
    "start_time": "2025-07-18T18:58:23.309Z"
   },
   {
    "duration": 8,
    "start_time": "2025-07-18T19:00:42.789Z"
   },
   {
    "duration": 8,
    "start_time": "2025-07-18T19:05:21.699Z"
   },
   {
    "duration": 7,
    "start_time": "2025-07-18T19:05:56.101Z"
   },
   {
    "duration": 489,
    "start_time": "2025-07-18T19:06:49.522Z"
   },
   {
    "duration": 4,
    "start_time": "2025-07-18T19:07:27.029Z"
   },
   {
    "duration": 11,
    "start_time": "2025-07-18T19:07:43.126Z"
   },
   {
    "duration": 158,
    "start_time": "2025-07-18T19:07:45.687Z"
   },
   {
    "duration": 130,
    "start_time": "2025-07-18T19:13:32.742Z"
   },
   {
    "duration": 18,
    "start_time": "2025-07-18T19:14:02.918Z"
   },
   {
    "duration": 540,
    "start_time": "2025-07-18T19:14:40.517Z"
   },
   {
    "duration": 38,
    "start_time": "2025-07-18T19:14:47.196Z"
   },
   {
    "duration": 1277,
    "start_time": "2025-07-18T19:17:47.573Z"
   },
   {
    "duration": 80,
    "start_time": "2025-07-18T19:17:48.852Z"
   },
   {
    "duration": 13,
    "start_time": "2025-07-18T19:17:48.933Z"
   },
   {
    "duration": 1148,
    "start_time": "2025-07-18T19:17:48.947Z"
   },
   {
    "duration": 105,
    "start_time": "2025-07-18T19:17:50.096Z"
   },
   {
    "duration": 367,
    "start_time": "2025-07-18T19:17:50.202Z"
   },
   {
    "duration": 37,
    "start_time": "2025-07-18T19:17:50.571Z"
   },
   {
    "duration": 304,
    "start_time": "2025-07-18T19:17:50.609Z"
   },
   {
    "duration": 40,
    "start_time": "2025-07-18T19:17:50.915Z"
   },
   {
    "duration": 246,
    "start_time": "2025-07-18T19:17:50.958Z"
   },
   {
    "duration": 25,
    "start_time": "2025-07-18T19:17:51.205Z"
   },
   {
    "duration": 4,
    "start_time": "2025-07-18T19:17:51.232Z"
   },
   {
    "duration": 116,
    "start_time": "2025-07-18T19:17:51.238Z"
   },
   {
    "duration": 7,
    "start_time": "2025-07-18T19:17:51.357Z"
   },
   {
    "duration": 174,
    "start_time": "2025-07-18T19:17:51.371Z"
   },
   {
    "duration": 10,
    "start_time": "2025-07-18T19:17:51.547Z"
   },
   {
    "duration": 82,
    "start_time": "2025-07-18T19:17:51.558Z"
   },
   {
    "duration": 16,
    "start_time": "2025-07-18T19:17:51.642Z"
   },
   {
    "duration": 36,
    "start_time": "2025-07-18T19:17:51.671Z"
   },
   {
    "duration": 28,
    "start_time": "2025-07-18T19:17:51.708Z"
   },
   {
    "duration": 41,
    "start_time": "2025-07-18T19:17:51.738Z"
   },
   {
    "duration": 9,
    "start_time": "2025-07-18T19:17:51.781Z"
   },
   {
    "duration": 111,
    "start_time": "2025-07-18T19:17:51.792Z"
   },
   {
    "duration": 2,
    "start_time": "2025-07-18T19:20:44.947Z"
   },
   {
    "duration": 148,
    "start_time": "2025-07-18T19:20:50.312Z"
   },
   {
    "duration": 142,
    "start_time": "2025-07-18T19:22:27.510Z"
   },
   {
    "duration": 149,
    "start_time": "2025-07-18T19:22:52.514Z"
   },
   {
    "duration": 154,
    "start_time": "2025-07-18T19:23:10.959Z"
   },
   {
    "duration": 157,
    "start_time": "2025-07-18T19:23:16.157Z"
   },
   {
    "duration": 148,
    "start_time": "2025-07-18T19:23:41.441Z"
   },
   {
    "duration": 142,
    "start_time": "2025-07-18T19:23:54.560Z"
   },
   {
    "duration": 14,
    "start_time": "2025-07-18T19:26:54.511Z"
   },
   {
    "duration": 42,
    "start_time": "2025-07-18T19:27:05.249Z"
   },
   {
    "duration": 18,
    "start_time": "2025-07-18T19:27:22.205Z"
   },
   {
    "duration": 13,
    "start_time": "2025-07-18T19:30:55.338Z"
   },
   {
    "duration": 14,
    "start_time": "2025-07-18T19:31:07.917Z"
   },
   {
    "duration": 18,
    "start_time": "2025-07-18T19:31:10.512Z"
   },
   {
    "duration": 19,
    "start_time": "2025-07-18T19:31:45.186Z"
   },
   {
    "duration": 19,
    "start_time": "2025-07-18T19:32:09.842Z"
   },
   {
    "duration": 22,
    "start_time": "2025-07-18T19:32:53.110Z"
   },
   {
    "duration": 1646,
    "start_time": "2025-07-19T10:08:23.940Z"
   },
   {
    "duration": 59,
    "start_time": "2025-07-19T10:08:25.589Z"
   },
   {
    "duration": 26,
    "start_time": "2025-07-19T10:08:25.653Z"
   },
   {
    "duration": 1305,
    "start_time": "2025-07-19T10:08:25.683Z"
   },
   {
    "duration": 117,
    "start_time": "2025-07-19T10:08:26.990Z"
   },
   {
    "duration": 365,
    "start_time": "2025-07-19T10:08:27.109Z"
   },
   {
    "duration": 45,
    "start_time": "2025-07-19T10:08:27.477Z"
   },
   {
    "duration": 261,
    "start_time": "2025-07-19T10:08:27.524Z"
   },
   {
    "duration": 40,
    "start_time": "2025-07-19T10:08:27.786Z"
   },
   {
    "duration": 305,
    "start_time": "2025-07-19T10:08:27.829Z"
   },
   {
    "duration": 43,
    "start_time": "2025-07-19T10:08:28.135Z"
   },
   {
    "duration": 46,
    "start_time": "2025-07-19T10:08:28.180Z"
   },
   {
    "duration": 180,
    "start_time": "2025-07-19T10:08:28.229Z"
   },
   {
    "duration": 8,
    "start_time": "2025-07-19T10:08:28.410Z"
   },
   {
    "duration": 222,
    "start_time": "2025-07-19T10:08:28.419Z"
   },
   {
    "duration": 27,
    "start_time": "2025-07-19T10:08:28.643Z"
   },
   {
    "duration": 83,
    "start_time": "2025-07-19T10:08:28.675Z"
   },
   {
    "duration": 20,
    "start_time": "2025-07-19T10:08:28.766Z"
   },
   {
    "duration": 37,
    "start_time": "2025-07-19T10:08:28.789Z"
   },
   {
    "duration": 50,
    "start_time": "2025-07-19T10:08:28.827Z"
   },
   {
    "duration": 37,
    "start_time": "2025-07-19T10:08:28.881Z"
   },
   {
    "duration": 47,
    "start_time": "2025-07-19T10:08:28.920Z"
   },
   {
    "duration": 214,
    "start_time": "2025-07-19T10:08:28.970Z"
   },
   {
    "duration": 21,
    "start_time": "2025-07-19T10:08:29.187Z"
   },
   {
    "duration": 129,
    "start_time": "2025-07-19T10:08:29.209Z"
   },
   {
    "duration": 0,
    "start_time": "2025-07-19T10:08:29.340Z"
   },
   {
    "duration": 0,
    "start_time": "2025-07-19T10:08:29.341Z"
   },
   {
    "duration": 43,
    "start_time": "2025-07-19T10:11:44.201Z"
   },
   {
    "duration": 28,
    "start_time": "2025-07-19T10:11:44.466Z"
   },
   {
    "duration": 150,
    "start_time": "2025-07-19T10:30:09.576Z"
   },
   {
    "duration": 200,
    "start_time": "2025-07-19T10:30:50.682Z"
   },
   {
    "duration": 211,
    "start_time": "2025-07-19T10:34:11.833Z"
   },
   {
    "duration": 197,
    "start_time": "2025-07-19T10:39:00.961Z"
   },
   {
    "duration": 221,
    "start_time": "2025-07-19T10:40:01.015Z"
   },
   {
    "duration": 219,
    "start_time": "2025-07-19T10:40:16.113Z"
   },
   {
    "duration": 137,
    "start_time": "2025-07-19T10:42:09.425Z"
   },
   {
    "duration": 225,
    "start_time": "2025-07-19T10:42:28.796Z"
   },
   {
    "duration": 224,
    "start_time": "2025-07-19T10:42:48.224Z"
   },
   {
    "duration": 233,
    "start_time": "2025-07-19T10:42:53.726Z"
   },
   {
    "duration": 155,
    "start_time": "2025-07-19T10:43:01.590Z"
   },
   {
    "duration": 15325,
    "start_time": "2025-07-19T10:44:50.112Z"
   },
   {
    "duration": 81,
    "start_time": "2025-07-19T10:45:09.771Z"
   },
   {
    "duration": 90,
    "start_time": "2025-07-19T10:48:22.838Z"
   },
   {
    "duration": 23,
    "start_time": "2025-07-19T10:49:53.989Z"
   },
   {
    "duration": 6,
    "start_time": "2025-07-19T10:58:32.781Z"
   },
   {
    "duration": 25,
    "start_time": "2025-07-19T11:08:53.756Z"
   },
   {
    "duration": 22,
    "start_time": "2025-07-19T11:09:07.481Z"
   },
   {
    "duration": 12,
    "start_time": "2025-07-19T11:11:21.182Z"
   },
   {
    "duration": 10,
    "start_time": "2025-07-19T11:12:18.524Z"
   },
   {
    "duration": 9,
    "start_time": "2025-07-19T11:12:39.395Z"
   },
   {
    "duration": 22,
    "start_time": "2025-07-19T11:14:27.662Z"
   },
   {
    "duration": 10,
    "start_time": "2025-07-19T11:14:59.320Z"
   },
   {
    "duration": 14,
    "start_time": "2025-07-19T11:15:13.873Z"
   },
   {
    "duration": 24,
    "start_time": "2025-07-19T11:22:10.418Z"
   },
   {
    "duration": 35,
    "start_time": "2025-07-19T11:22:52.327Z"
   },
   {
    "duration": 19,
    "start_time": "2025-07-19T11:23:00.718Z"
   },
   {
    "duration": 36,
    "start_time": "2025-07-19T11:23:08.556Z"
   },
   {
    "duration": 25,
    "start_time": "2025-07-19T11:23:29.081Z"
   },
   {
    "duration": 29,
    "start_time": "2025-07-19T11:24:54.826Z"
   },
   {
    "duration": 10,
    "start_time": "2025-07-19T11:26:34.532Z"
   },
   {
    "duration": 9,
    "start_time": "2025-07-19T11:26:48.447Z"
   },
   {
    "duration": 12,
    "start_time": "2025-07-19T11:27:28.356Z"
   },
   {
    "duration": 10,
    "start_time": "2025-07-19T11:27:50.656Z"
   },
   {
    "duration": 8,
    "start_time": "2025-07-19T11:35:07.828Z"
   },
   {
    "duration": 84,
    "start_time": "2025-07-19T11:35:11.509Z"
   },
   {
    "duration": 25,
    "start_time": "2025-07-19T11:35:20.682Z"
   },
   {
    "duration": 18,
    "start_time": "2025-07-19T11:38:27.869Z"
   },
   {
    "duration": 10,
    "start_time": "2025-07-19T11:39:51.415Z"
   },
   {
    "duration": 381,
    "start_time": "2025-07-19T11:41:21.692Z"
   },
   {
    "duration": 386,
    "start_time": "2025-07-19T11:41:40.627Z"
   },
   {
    "duration": 376,
    "start_time": "2025-07-19T11:41:54.101Z"
   },
   {
    "duration": 9,
    "start_time": "2025-07-19T11:42:21.532Z"
   },
   {
    "duration": 358,
    "start_time": "2025-07-19T11:42:26.772Z"
   },
   {
    "duration": 12,
    "start_time": "2025-07-19T11:43:37.645Z"
   },
   {
    "duration": 21,
    "start_time": "2025-07-19T11:43:43.244Z"
   },
   {
    "duration": 13,
    "start_time": "2025-07-19T11:43:50.785Z"
   },
   {
    "duration": 17,
    "start_time": "2025-07-19T11:44:20.745Z"
   },
   {
    "duration": 182,
    "start_time": "2025-07-19T11:44:30.881Z"
   },
   {
    "duration": 172,
    "start_time": "2025-07-19T11:44:33.298Z"
   },
   {
    "duration": 158,
    "start_time": "2025-07-19T11:44:41.102Z"
   },
   {
    "duration": 129,
    "start_time": "2025-07-19T11:45:08.377Z"
   },
   {
    "duration": 13,
    "start_time": "2025-07-19T11:45:12.186Z"
   },
   {
    "duration": 13,
    "start_time": "2025-07-19T11:45:38.408Z"
   },
   {
    "duration": 13,
    "start_time": "2025-07-19T11:45:41.904Z"
   },
   {
    "duration": 1244,
    "start_time": "2025-07-19T11:46:01.393Z"
   },
   {
    "duration": 73,
    "start_time": "2025-07-19T11:46:02.640Z"
   },
   {
    "duration": 13,
    "start_time": "2025-07-19T11:46:02.715Z"
   },
   {
    "duration": 1440,
    "start_time": "2025-07-19T11:46:02.731Z"
   },
   {
    "duration": 122,
    "start_time": "2025-07-19T11:46:04.175Z"
   },
   {
    "duration": 412,
    "start_time": "2025-07-19T11:46:04.298Z"
   },
   {
    "duration": 54,
    "start_time": "2025-07-19T11:46:04.712Z"
   },
   {
    "duration": 236,
    "start_time": "2025-07-19T11:46:04.769Z"
   },
   {
    "duration": 56,
    "start_time": "2025-07-19T11:46:05.006Z"
   },
   {
    "duration": 240,
    "start_time": "2025-07-19T11:46:05.065Z"
   },
   {
    "duration": 25,
    "start_time": "2025-07-19T11:46:05.307Z"
   },
   {
    "duration": 16,
    "start_time": "2025-07-19T11:46:05.333Z"
   },
   {
    "duration": 139,
    "start_time": "2025-07-19T11:46:05.352Z"
   },
   {
    "duration": 172,
    "start_time": "2025-07-19T11:46:05.494Z"
   },
   {
    "duration": 9,
    "start_time": "2025-07-19T11:46:05.668Z"
   },
   {
    "duration": 180,
    "start_time": "2025-07-19T11:46:05.678Z"
   },
   {
    "duration": 11,
    "start_time": "2025-07-19T11:46:05.860Z"
   },
   {
    "duration": 96,
    "start_time": "2025-07-19T11:46:05.873Z"
   },
   {
    "duration": 17,
    "start_time": "2025-07-19T11:46:05.971Z"
   },
   {
    "duration": 75,
    "start_time": "2025-07-19T11:46:05.990Z"
   },
   {
    "duration": 25,
    "start_time": "2025-07-19T11:46:06.066Z"
   },
   {
    "duration": 28,
    "start_time": "2025-07-19T11:46:06.093Z"
   },
   {
    "duration": 48,
    "start_time": "2025-07-19T11:46:06.123Z"
   },
   {
    "duration": 196,
    "start_time": "2025-07-19T11:46:06.173Z"
   },
   {
    "duration": 136,
    "start_time": "2025-07-19T11:46:06.372Z"
   },
   {
    "duration": 101,
    "start_time": "2025-07-19T11:46:06.510Z"
   },
   {
    "duration": 41,
    "start_time": "2025-07-19T11:46:06.612Z"
   },
   {
    "duration": 15,
    "start_time": "2025-07-19T11:46:06.656Z"
   },
   {
    "duration": 9,
    "start_time": "2025-07-19T11:46:06.674Z"
   },
   {
    "duration": 140,
    "start_time": "2025-07-19T11:46:06.685Z"
   },
   {
    "duration": 0,
    "start_time": "2025-07-19T11:46:06.828Z"
   },
   {
    "duration": 0,
    "start_time": "2025-07-19T11:46:06.829Z"
   },
   {
    "duration": 120,
    "start_time": "2025-07-19T11:46:26.110Z"
   },
   {
    "duration": 24,
    "start_time": "2025-07-19T11:46:31.248Z"
   },
   {
    "duration": 1244,
    "start_time": "2025-07-19T11:47:36.948Z"
   },
   {
    "duration": 58,
    "start_time": "2025-07-19T11:47:38.194Z"
   },
   {
    "duration": 19,
    "start_time": "2025-07-19T11:47:38.255Z"
   },
   {
    "duration": 1135,
    "start_time": "2025-07-19T11:47:38.277Z"
   },
   {
    "duration": 119,
    "start_time": "2025-07-19T11:47:39.414Z"
   },
   {
    "duration": 403,
    "start_time": "2025-07-19T11:47:39.535Z"
   },
   {
    "duration": 63,
    "start_time": "2025-07-19T11:47:39.939Z"
   },
   {
    "duration": 183,
    "start_time": "2025-07-19T11:47:40.003Z"
   },
   {
    "duration": 43,
    "start_time": "2025-07-19T11:47:40.187Z"
   },
   {
    "duration": 236,
    "start_time": "2025-07-19T11:47:40.231Z"
   },
   {
    "duration": 26,
    "start_time": "2025-07-19T11:47:40.471Z"
   },
   {
    "duration": 4,
    "start_time": "2025-07-19T11:47:40.498Z"
   },
   {
    "duration": 229,
    "start_time": "2025-07-19T11:47:40.504Z"
   },
   {
    "duration": 227,
    "start_time": "2025-07-19T11:47:40.736Z"
   },
   {
    "duration": 14,
    "start_time": "2025-07-19T11:47:40.966Z"
   },
   {
    "duration": 199,
    "start_time": "2025-07-19T11:47:40.982Z"
   },
   {
    "duration": 11,
    "start_time": "2025-07-19T11:47:41.183Z"
   },
   {
    "duration": 105,
    "start_time": "2025-07-19T11:47:41.196Z"
   },
   {
    "duration": 16,
    "start_time": "2025-07-19T11:47:41.303Z"
   },
   {
    "duration": 67,
    "start_time": "2025-07-19T11:47:41.321Z"
   },
   {
    "duration": 193,
    "start_time": "2025-07-19T11:47:41.389Z"
   },
   {
    "duration": 30,
    "start_time": "2025-07-19T11:47:41.583Z"
   },
   {
    "duration": 10,
    "start_time": "2025-07-19T11:47:41.615Z"
   },
   {
    "duration": 213,
    "start_time": "2025-07-19T11:47:41.626Z"
   },
   {
    "duration": 145,
    "start_time": "2025-07-19T11:47:41.841Z"
   },
   {
    "duration": 84,
    "start_time": "2025-07-19T11:47:41.988Z"
   },
   {
    "duration": 26,
    "start_time": "2025-07-19T11:47:42.076Z"
   },
   {
    "duration": 9,
    "start_time": "2025-07-19T11:47:42.104Z"
   },
   {
    "duration": 98,
    "start_time": "2025-07-19T11:47:42.114Z"
   },
   {
    "duration": 130,
    "start_time": "2025-07-19T11:47:42.213Z"
   },
   {
    "duration": 0,
    "start_time": "2025-07-19T11:47:42.345Z"
   },
   {
    "duration": 0,
    "start_time": "2025-07-19T11:47:42.350Z"
   },
   {
    "duration": 195,
    "start_time": "2025-07-19T11:48:28.912Z"
   },
   {
    "duration": 13,
    "start_time": "2025-07-19T11:48:34.624Z"
   },
   {
    "duration": 105,
    "start_time": "2025-07-19T11:57:16.261Z"
   },
   {
    "duration": 1293,
    "start_time": "2025-07-19T11:57:21.082Z"
   },
   {
    "duration": 64,
    "start_time": "2025-07-19T11:57:22.377Z"
   },
   {
    "duration": 18,
    "start_time": "2025-07-19T11:57:22.443Z"
   },
   {
    "duration": 1229,
    "start_time": "2025-07-19T11:57:22.464Z"
   },
   {
    "duration": 106,
    "start_time": "2025-07-19T11:57:23.695Z"
   },
   {
    "duration": 342,
    "start_time": "2025-07-19T11:57:23.803Z"
   },
   {
    "duration": 56,
    "start_time": "2025-07-19T11:57:24.147Z"
   },
   {
    "duration": 247,
    "start_time": "2025-07-19T11:57:24.205Z"
   },
   {
    "duration": 48,
    "start_time": "2025-07-19T11:57:24.457Z"
   },
   {
    "duration": 247,
    "start_time": "2025-07-19T11:57:24.508Z"
   },
   {
    "duration": 35,
    "start_time": "2025-07-19T11:57:24.757Z"
   },
   {
    "duration": 42,
    "start_time": "2025-07-19T11:57:24.794Z"
   },
   {
    "duration": 141,
    "start_time": "2025-07-19T11:57:24.838Z"
   },
   {
    "duration": 92,
    "start_time": "2025-07-19T11:57:24.980Z"
   },
   {
    "duration": 0,
    "start_time": "2025-07-19T11:57:25.074Z"
   },
   {
    "duration": 0,
    "start_time": "2025-07-19T11:57:25.075Z"
   },
   {
    "duration": 0,
    "start_time": "2025-07-19T11:57:25.076Z"
   },
   {
    "duration": 0,
    "start_time": "2025-07-19T11:57:25.077Z"
   },
   {
    "duration": 0,
    "start_time": "2025-07-19T11:57:25.078Z"
   },
   {
    "duration": 0,
    "start_time": "2025-07-19T11:57:25.079Z"
   },
   {
    "duration": 0,
    "start_time": "2025-07-19T11:57:25.081Z"
   },
   {
    "duration": 0,
    "start_time": "2025-07-19T11:57:25.082Z"
   },
   {
    "duration": 0,
    "start_time": "2025-07-19T11:57:25.083Z"
   },
   {
    "duration": 0,
    "start_time": "2025-07-19T11:57:25.084Z"
   },
   {
    "duration": 0,
    "start_time": "2025-07-19T11:57:25.085Z"
   },
   {
    "duration": 0,
    "start_time": "2025-07-19T11:57:25.086Z"
   },
   {
    "duration": 0,
    "start_time": "2025-07-19T11:57:25.087Z"
   },
   {
    "duration": 0,
    "start_time": "2025-07-19T11:57:25.088Z"
   },
   {
    "duration": 0,
    "start_time": "2025-07-19T11:57:25.090Z"
   },
   {
    "duration": 0,
    "start_time": "2025-07-19T11:57:25.092Z"
   },
   {
    "duration": 0,
    "start_time": "2025-07-19T11:57:25.093Z"
   },
   {
    "duration": 0,
    "start_time": "2025-07-19T11:57:25.094Z"
   },
   {
    "duration": 0,
    "start_time": "2025-07-19T11:57:25.095Z"
   },
   {
    "duration": 251,
    "start_time": "2025-07-19T11:57:40.021Z"
   },
   {
    "duration": 20,
    "start_time": "2025-07-19T11:57:43.087Z"
   },
   {
    "duration": 120,
    "start_time": "2025-07-19T11:59:19.424Z"
   },
   {
    "duration": 11,
    "start_time": "2025-07-19T11:59:29.320Z"
   },
   {
    "duration": 8,
    "start_time": "2025-07-19T11:59:36.742Z"
   },
   {
    "duration": 164,
    "start_time": "2025-07-19T11:59:37.071Z"
   },
   {
    "duration": 12,
    "start_time": "2025-07-19T11:59:37.357Z"
   },
   {
    "duration": 100,
    "start_time": "2025-07-19T11:59:38.310Z"
   },
   {
    "duration": 27,
    "start_time": "2025-07-19T11:59:38.955Z"
   },
   {
    "duration": 51,
    "start_time": "2025-07-19T11:59:40.053Z"
   },
   {
    "duration": 20,
    "start_time": "2025-07-19T11:59:41.283Z"
   },
   {
    "duration": 30,
    "start_time": "2025-07-19T11:59:42.673Z"
   },
   {
    "duration": 18,
    "start_time": "2025-07-19T11:59:42.954Z"
   },
   {
    "duration": 190,
    "start_time": "2025-07-19T11:59:43.487Z"
   },
   {
    "duration": 144,
    "start_time": "2025-07-19T11:59:44.545Z"
   },
   {
    "duration": 78,
    "start_time": "2025-07-19T11:59:44.968Z"
   },
   {
    "duration": 34,
    "start_time": "2025-07-19T11:59:45.833Z"
   },
   {
    "duration": 11,
    "start_time": "2025-07-19T11:59:46.605Z"
   },
   {
    "duration": 8,
    "start_time": "2025-07-19T11:59:47.014Z"
   },
   {
    "duration": 151,
    "start_time": "2025-07-19T11:59:55.936Z"
   },
   {
    "duration": 221,
    "start_time": "2025-07-19T12:00:21.798Z"
   },
   {
    "duration": 92,
    "start_time": "2025-07-19T12:00:28.351Z"
   },
   {
    "duration": 128,
    "start_time": "2025-07-19T12:00:32.008Z"
   },
   {
    "duration": 190,
    "start_time": "2025-07-19T12:00:43.872Z"
   },
   {
    "duration": 267,
    "start_time": "2025-07-19T12:00:56.712Z"
   },
   {
    "duration": 132,
    "start_time": "2025-07-19T12:01:04.801Z"
   },
   {
    "duration": 266,
    "start_time": "2025-07-19T12:01:44.529Z"
   },
   {
    "duration": 152,
    "start_time": "2025-07-19T12:02:19.743Z"
   },
   {
    "duration": 24,
    "start_time": "2025-07-19T12:06:08.368Z"
   },
   {
    "duration": 251,
    "start_time": "2025-07-19T12:06:20.314Z"
   },
   {
    "duration": 131,
    "start_time": "2025-07-19T12:06:24.295Z"
   },
   {
    "duration": 8,
    "start_time": "2025-07-19T12:47:29.791Z"
   },
   {
    "duration": 8,
    "start_time": "2025-07-19T12:48:06.104Z"
   },
   {
    "duration": 1409,
    "start_time": "2025-07-19T12:48:28.127Z"
   },
   {
    "duration": 69,
    "start_time": "2025-07-19T12:48:29.538Z"
   },
   {
    "duration": 64,
    "start_time": "2025-07-19T12:48:29.609Z"
   },
   {
    "duration": 1118,
    "start_time": "2025-07-19T12:48:29.676Z"
   },
   {
    "duration": 126,
    "start_time": "2025-07-19T12:48:30.797Z"
   },
   {
    "duration": 478,
    "start_time": "2025-07-19T12:48:30.925Z"
   },
   {
    "duration": 58,
    "start_time": "2025-07-19T12:48:31.405Z"
   },
   {
    "duration": 180,
    "start_time": "2025-07-19T12:48:31.465Z"
   },
   {
    "duration": 63,
    "start_time": "2025-07-19T12:48:31.647Z"
   },
   {
    "duration": 469,
    "start_time": "2025-07-19T12:48:31.712Z"
   },
   {
    "duration": 23,
    "start_time": "2025-07-19T12:48:32.183Z"
   },
   {
    "duration": 94,
    "start_time": "2025-07-19T12:48:32.207Z"
   },
   {
    "duration": 244,
    "start_time": "2025-07-19T12:48:32.302Z"
   },
   {
    "duration": 274,
    "start_time": "2025-07-19T12:48:32.553Z"
   },
   {
    "duration": 23,
    "start_time": "2025-07-19T12:48:32.828Z"
   },
   {
    "duration": 38,
    "start_time": "2025-07-19T12:48:32.853Z"
   },
   {
    "duration": 214,
    "start_time": "2025-07-19T12:48:32.894Z"
   },
   {
    "duration": 11,
    "start_time": "2025-07-19T12:48:33.110Z"
   },
   {
    "duration": 95,
    "start_time": "2025-07-19T12:48:33.123Z"
   },
   {
    "duration": 19,
    "start_time": "2025-07-19T12:48:33.220Z"
   },
   {
    "duration": 63,
    "start_time": "2025-07-19T12:48:33.250Z"
   },
   {
    "duration": 67,
    "start_time": "2025-07-19T12:48:33.315Z"
   },
   {
    "duration": 38,
    "start_time": "2025-07-19T12:48:33.384Z"
   },
   {
    "duration": 10,
    "start_time": "2025-07-19T12:48:33.424Z"
   },
   {
    "duration": 208,
    "start_time": "2025-07-19T12:48:33.435Z"
   },
   {
    "duration": 135,
    "start_time": "2025-07-19T12:48:33.644Z"
   },
   {
    "duration": 76,
    "start_time": "2025-07-19T12:48:33.781Z"
   },
   {
    "duration": 32,
    "start_time": "2025-07-19T12:48:33.859Z"
   },
   {
    "duration": 9,
    "start_time": "2025-07-19T12:48:33.893Z"
   },
   {
    "duration": 61,
    "start_time": "2025-07-19T12:48:33.904Z"
   },
   {
    "duration": 296,
    "start_time": "2025-07-19T12:48:33.967Z"
   },
   {
    "duration": 129,
    "start_time": "2025-07-19T12:48:34.265Z"
   },
   {
    "duration": 1285,
    "start_time": "2025-07-19T12:48:59.534Z"
   },
   {
    "duration": 67,
    "start_time": "2025-07-19T12:49:00.821Z"
   },
   {
    "duration": 34,
    "start_time": "2025-07-19T12:49:00.889Z"
   },
   {
    "duration": 1205,
    "start_time": "2025-07-19T12:49:00.924Z"
   },
   {
    "duration": 128,
    "start_time": "2025-07-19T12:49:02.131Z"
   },
   {
    "duration": 418,
    "start_time": "2025-07-19T12:49:02.262Z"
   },
   {
    "duration": 41,
    "start_time": "2025-07-19T12:49:02.682Z"
   },
   {
    "duration": 207,
    "start_time": "2025-07-19T12:49:02.725Z"
   },
   {
    "duration": 57,
    "start_time": "2025-07-19T12:49:02.934Z"
   },
   {
    "duration": 751,
    "start_time": "2025-07-19T12:49:02.993Z"
   },
   {
    "duration": 39,
    "start_time": "2025-07-19T12:49:03.748Z"
   },
   {
    "duration": 51,
    "start_time": "2025-07-19T12:49:03.788Z"
   },
   {
    "duration": 134,
    "start_time": "2025-07-19T12:49:03.840Z"
   },
   {
    "duration": 248,
    "start_time": "2025-07-19T12:49:03.977Z"
   },
   {
    "duration": 12,
    "start_time": "2025-07-19T12:49:04.227Z"
   },
   {
    "duration": 151,
    "start_time": "2025-07-19T12:49:04.249Z"
   },
   {
    "duration": 197,
    "start_time": "2025-07-19T12:49:04.402Z"
   },
   {
    "duration": 9,
    "start_time": "2025-07-19T12:49:04.601Z"
   },
   {
    "duration": 110,
    "start_time": "2025-07-19T12:49:04.612Z"
   },
   {
    "duration": 16,
    "start_time": "2025-07-19T12:49:04.723Z"
   },
   {
    "duration": 57,
    "start_time": "2025-07-19T12:49:04.740Z"
   },
   {
    "duration": 85,
    "start_time": "2025-07-19T12:49:04.798Z"
   },
   {
    "duration": 36,
    "start_time": "2025-07-19T12:49:04.885Z"
   },
   {
    "duration": 10,
    "start_time": "2025-07-19T12:49:04.923Z"
   },
   {
    "duration": 291,
    "start_time": "2025-07-19T12:49:04.934Z"
   },
   {
    "duration": 158,
    "start_time": "2025-07-19T12:49:05.227Z"
   },
   {
    "duration": 88,
    "start_time": "2025-07-19T12:49:05.387Z"
   },
   {
    "duration": 25,
    "start_time": "2025-07-19T12:49:05.477Z"
   },
   {
    "duration": 10,
    "start_time": "2025-07-19T12:49:05.504Z"
   },
   {
    "duration": 35,
    "start_time": "2025-07-19T12:49:05.516Z"
   },
   {
    "duration": 276,
    "start_time": "2025-07-19T12:49:05.554Z"
   },
   {
    "duration": 130,
    "start_time": "2025-07-19T12:49:05.832Z"
   },
   {
    "duration": 55,
    "start_time": "2025-07-19T12:52:06.562Z"
   },
   {
    "duration": 1234,
    "start_time": "2025-07-19T12:52:26.548Z"
   },
   {
    "duration": 72,
    "start_time": "2025-07-19T12:52:35.859Z"
   },
   {
    "duration": 3,
    "start_time": "2025-07-19T12:52:40.082Z"
   },
   {
    "duration": 66,
    "start_time": "2025-07-19T12:52:40.249Z"
   },
   {
    "duration": 12,
    "start_time": "2025-07-19T12:52:40.501Z"
   },
   {
    "duration": 1107,
    "start_time": "2025-07-19T12:52:41.048Z"
   },
   {
    "duration": 115,
    "start_time": "2025-07-19T12:52:42.157Z"
   },
   {
    "duration": 345,
    "start_time": "2025-07-19T12:52:42.275Z"
   },
   {
    "duration": 57,
    "start_time": "2025-07-19T12:52:42.622Z"
   },
   {
    "duration": 200,
    "start_time": "2025-07-19T12:52:42.681Z"
   },
   {
    "duration": 42,
    "start_time": "2025-07-19T12:52:42.883Z"
   },
   {
    "duration": 251,
    "start_time": "2025-07-19T12:52:42.927Z"
   },
   {
    "duration": 24,
    "start_time": "2025-07-19T12:52:43.180Z"
   },
   {
    "duration": 15,
    "start_time": "2025-07-19T12:52:43.206Z"
   },
   {
    "duration": 154,
    "start_time": "2025-07-19T12:52:43.223Z"
   },
   {
    "duration": 248,
    "start_time": "2025-07-19T12:52:43.601Z"
   },
   {
    "duration": 30,
    "start_time": "2025-07-19T12:52:43.853Z"
   },
   {
    "duration": 7,
    "start_time": "2025-07-19T12:52:44.182Z"
   },
   {
    "duration": 176,
    "start_time": "2025-07-19T12:52:44.473Z"
   },
   {
    "duration": 11,
    "start_time": "2025-07-19T12:52:45.581Z"
   },
   {
    "duration": 129,
    "start_time": "2025-07-19T12:52:46.450Z"
   },
   {
    "duration": 29,
    "start_time": "2025-07-19T12:52:46.643Z"
   },
   {
    "duration": 36,
    "start_time": "2025-07-19T12:52:46.981Z"
   },
   {
    "duration": 31,
    "start_time": "2025-07-19T12:52:47.347Z"
   },
   {
    "duration": 39,
    "start_time": "2025-07-19T12:52:48.141Z"
   },
   {
    "duration": 9,
    "start_time": "2025-07-19T12:52:48.628Z"
   },
   {
    "duration": 207,
    "start_time": "2025-07-19T12:52:48.844Z"
   },
   {
    "duration": 121,
    "start_time": "2025-07-19T12:52:49.196Z"
   },
   {
    "duration": 74,
    "start_time": "2025-07-19T12:52:49.394Z"
   },
   {
    "duration": 27,
    "start_time": "2025-07-19T12:52:49.875Z"
   },
   {
    "duration": 10,
    "start_time": "2025-07-19T12:52:50.428Z"
   },
   {
    "duration": 8,
    "start_time": "2025-07-19T12:52:50.677Z"
   },
   {
    "duration": 232,
    "start_time": "2025-07-19T12:52:51.090Z"
   },
   {
    "duration": 119,
    "start_time": "2025-07-19T12:52:51.434Z"
   },
   {
    "duration": 1431,
    "start_time": "2025-07-19T12:57:55.985Z"
   },
   {
    "duration": 69,
    "start_time": "2025-07-19T12:57:57.418Z"
   },
   {
    "duration": 12,
    "start_time": "2025-07-19T12:57:57.488Z"
   },
   {
    "duration": 1203,
    "start_time": "2025-07-19T12:57:57.502Z"
   },
   {
    "duration": 120,
    "start_time": "2025-07-19T12:57:58.707Z"
   },
   {
    "duration": 404,
    "start_time": "2025-07-19T12:57:58.829Z"
   },
   {
    "duration": 65,
    "start_time": "2025-07-19T12:57:59.235Z"
   },
   {
    "duration": 184,
    "start_time": "2025-07-19T12:57:59.302Z"
   },
   {
    "duration": 41,
    "start_time": "2025-07-19T12:57:59.488Z"
   },
   {
    "duration": 272,
    "start_time": "2025-07-19T12:57:59.531Z"
   },
   {
    "duration": 27,
    "start_time": "2025-07-19T12:57:59.805Z"
   },
   {
    "duration": 26,
    "start_time": "2025-07-19T12:57:59.835Z"
   },
   {
    "duration": 140,
    "start_time": "2025-07-19T12:57:59.864Z"
   },
   {
    "duration": 273,
    "start_time": "2025-07-19T12:58:00.006Z"
   },
   {
    "duration": 23,
    "start_time": "2025-07-19T12:58:00.282Z"
   },
   {
    "duration": 50,
    "start_time": "2025-07-19T12:58:00.307Z"
   },
   {
    "duration": 290,
    "start_time": "2025-07-19T12:58:00.362Z"
   },
   {
    "duration": 16,
    "start_time": "2025-07-19T12:58:00.662Z"
   },
   {
    "duration": 100,
    "start_time": "2025-07-19T12:58:00.681Z"
   },
   {
    "duration": 23,
    "start_time": "2025-07-19T12:58:00.785Z"
   },
   {
    "duration": 172,
    "start_time": "2025-07-19T12:58:00.811Z"
   },
   {
    "duration": 18,
    "start_time": "2025-07-19T12:58:00.984Z"
   },
   {
    "duration": 107,
    "start_time": "2025-07-19T12:58:01.003Z"
   },
   {
    "duration": 12,
    "start_time": "2025-07-19T12:58:01.112Z"
   },
   {
    "duration": 283,
    "start_time": "2025-07-19T12:58:01.126Z"
   },
   {
    "duration": 159,
    "start_time": "2025-07-19T12:58:01.410Z"
   },
   {
    "duration": 102,
    "start_time": "2025-07-19T12:58:01.572Z"
   },
   {
    "duration": 59,
    "start_time": "2025-07-19T12:58:01.681Z"
   },
   {
    "duration": 37,
    "start_time": "2025-07-19T12:58:01.742Z"
   },
   {
    "duration": 132,
    "start_time": "2025-07-19T12:58:01.781Z"
   },
   {
    "duration": 335,
    "start_time": "2025-07-19T12:58:01.915Z"
   },
   {
    "duration": 165,
    "start_time": "2025-07-19T12:58:02.252Z"
   },
   {
    "duration": 9,
    "start_time": "2025-07-19T12:58:28.388Z"
   },
   {
    "duration": 65,
    "start_time": "2025-07-19T12:58:37.240Z"
   },
   {
    "duration": 7,
    "start_time": "2025-07-19T12:59:54.642Z"
   },
   {
    "duration": 9,
    "start_time": "2025-07-19T13:03:36.574Z"
   },
   {
    "duration": 1364,
    "start_time": "2025-07-19T13:03:48.374Z"
   },
   {
    "duration": 65,
    "start_time": "2025-07-19T13:03:50.660Z"
   },
   {
    "duration": 12,
    "start_time": "2025-07-19T13:03:51.888Z"
   },
   {
    "duration": 1297,
    "start_time": "2025-07-19T13:03:52.281Z"
   },
   {
    "duration": 109,
    "start_time": "2025-07-19T13:03:53.580Z"
   },
   {
    "duration": 355,
    "start_time": "2025-07-19T13:03:53.691Z"
   },
   {
    "duration": 57,
    "start_time": "2025-07-19T13:03:54.047Z"
   },
   {
    "duration": 179,
    "start_time": "2025-07-19T13:03:54.105Z"
   },
   {
    "duration": 40,
    "start_time": "2025-07-19T13:03:54.286Z"
   },
   {
    "duration": 389,
    "start_time": "2025-07-19T13:03:54.371Z"
   },
   {
    "duration": 26,
    "start_time": "2025-07-19T13:03:54.762Z"
   },
   {
    "duration": 3,
    "start_time": "2025-07-19T13:03:57.225Z"
   },
   {
    "duration": 118,
    "start_time": "2025-07-19T13:03:57.826Z"
   },
   {
    "duration": 273,
    "start_time": "2025-07-19T13:04:00.223Z"
   },
   {
    "duration": 33,
    "start_time": "2025-07-19T13:04:00.946Z"
   },
   {
    "duration": 9,
    "start_time": "2025-07-19T13:04:06.369Z"
   },
   {
    "duration": 7,
    "start_time": "2025-07-19T13:04:32.776Z"
   },
   {
    "duration": 12,
    "start_time": "2025-07-19T13:04:33.986Z"
   },
   {
    "duration": 155,
    "start_time": "2025-07-19T13:04:34.321Z"
   },
   {
    "duration": 67,
    "start_time": "2025-07-19T13:04:42.363Z"
   },
   {
    "duration": 1446,
    "start_time": "2025-07-20T04:16:37.307Z"
   },
   {
    "duration": 83,
    "start_time": "2025-07-20T04:16:38.755Z"
   },
   {
    "duration": 12,
    "start_time": "2025-07-20T04:16:38.840Z"
   },
   {
    "duration": 1243,
    "start_time": "2025-07-20T04:16:38.854Z"
   },
   {
    "duration": 108,
    "start_time": "2025-07-20T04:16:40.099Z"
   },
   {
    "duration": 431,
    "start_time": "2025-07-20T04:16:40.208Z"
   },
   {
    "duration": 47,
    "start_time": "2025-07-20T04:16:40.640Z"
   },
   {
    "duration": 298,
    "start_time": "2025-07-20T04:16:40.689Z"
   },
   {
    "duration": 38,
    "start_time": "2025-07-20T04:16:40.988Z"
   },
   {
    "duration": 326,
    "start_time": "2025-07-20T04:16:41.028Z"
   },
   {
    "duration": 36,
    "start_time": "2025-07-20T04:16:41.356Z"
   },
   {
    "duration": 136,
    "start_time": "2025-07-20T04:16:41.393Z"
   },
   {
    "duration": 23,
    "start_time": "2025-07-20T04:16:41.531Z"
   },
   {
    "duration": 29,
    "start_time": "2025-07-20T04:16:41.556Z"
   },
   {
    "duration": 113,
    "start_time": "2025-07-20T04:16:41.587Z"
   },
   {
    "duration": 256,
    "start_time": "2025-07-20T04:16:41.701Z"
   },
   {
    "duration": 7,
    "start_time": "2025-07-20T04:16:41.958Z"
   },
   {
    "duration": 181,
    "start_time": "2025-07-20T04:16:41.966Z"
   },
   {
    "duration": 10,
    "start_time": "2025-07-20T04:16:42.148Z"
   },
   {
    "duration": 103,
    "start_time": "2025-07-20T04:16:42.159Z"
   },
   {
    "duration": 26,
    "start_time": "2025-07-20T04:16:42.264Z"
   },
   {
    "duration": 97,
    "start_time": "2025-07-20T04:16:42.292Z"
   },
   {
    "duration": 17,
    "start_time": "2025-07-20T04:16:42.390Z"
   },
   {
    "duration": 27,
    "start_time": "2025-07-20T04:16:42.409Z"
   },
   {
    "duration": 10,
    "start_time": "2025-07-20T04:16:42.437Z"
   },
   {
    "duration": 196,
    "start_time": "2025-07-20T04:16:42.449Z"
   },
   {
    "duration": 148,
    "start_time": "2025-07-20T04:16:42.646Z"
   },
   {
    "duration": 67,
    "start_time": "2025-07-20T04:16:42.795Z"
   },
   {
    "duration": 39,
    "start_time": "2025-07-20T04:16:42.863Z"
   },
   {
    "duration": 70,
    "start_time": "2025-07-20T04:17:26.851Z"
   },
   {
    "duration": 10,
    "start_time": "2025-07-20T04:17:46.638Z"
   },
   {
    "duration": 1236,
    "start_time": "2025-07-20T04:30:27.579Z"
   },
   {
    "duration": 74,
    "start_time": "2025-07-20T04:30:28.817Z"
   },
   {
    "duration": 12,
    "start_time": "2025-07-20T04:30:28.893Z"
   },
   {
    "duration": 1178,
    "start_time": "2025-07-20T04:30:28.906Z"
   },
   {
    "duration": 108,
    "start_time": "2025-07-20T04:30:30.086Z"
   },
   {
    "duration": 451,
    "start_time": "2025-07-20T04:30:30.196Z"
   },
   {
    "duration": 52,
    "start_time": "2025-07-20T04:30:30.649Z"
   },
   {
    "duration": 326,
    "start_time": "2025-07-20T04:30:30.703Z"
   },
   {
    "duration": 52,
    "start_time": "2025-07-20T04:30:31.031Z"
   },
   {
    "duration": 349,
    "start_time": "2025-07-20T04:30:31.085Z"
   },
   {
    "duration": 23,
    "start_time": "2025-07-20T04:30:31.436Z"
   },
   {
    "duration": 124,
    "start_time": "2025-07-20T04:30:31.461Z"
   },
   {
    "duration": 33,
    "start_time": "2025-07-20T04:30:31.590Z"
   },
   {
    "duration": 4,
    "start_time": "2025-07-20T04:30:31.627Z"
   },
   {
    "duration": 153,
    "start_time": "2025-07-20T04:30:31.633Z"
   },
   {
    "duration": 246,
    "start_time": "2025-07-20T04:30:31.788Z"
   },
   {
    "duration": 6,
    "start_time": "2025-07-20T04:30:32.036Z"
   },
   {
    "duration": 222,
    "start_time": "2025-07-20T04:30:32.044Z"
   },
   {
    "duration": 19,
    "start_time": "2025-07-20T04:30:32.268Z"
   },
   {
    "duration": 225,
    "start_time": "2025-07-20T04:30:32.288Z"
   },
   {
    "duration": 16,
    "start_time": "2025-07-20T04:30:32.515Z"
   },
   {
    "duration": 57,
    "start_time": "2025-07-20T04:30:32.533Z"
   },
   {
    "duration": 18,
    "start_time": "2025-07-20T04:30:32.592Z"
   },
   {
    "duration": 47,
    "start_time": "2025-07-20T04:30:32.612Z"
   },
   {
    "duration": 20,
    "start_time": "2025-07-20T04:30:32.661Z"
   },
   {
    "duration": 183,
    "start_time": "2025-07-20T04:30:32.683Z"
   },
   {
    "duration": 123,
    "start_time": "2025-07-20T04:30:32.868Z"
   },
   {
    "duration": 64,
    "start_time": "2025-07-20T04:30:32.992Z"
   },
   {
    "duration": 43,
    "start_time": "2025-07-20T04:30:33.057Z"
   },
   {
    "duration": 10,
    "start_time": "2025-07-20T04:30:33.102Z"
   },
   {
    "duration": 33,
    "start_time": "2025-07-20T04:30:33.114Z"
   },
   {
    "duration": 249,
    "start_time": "2025-07-20T04:30:33.148Z"
   },
   {
    "duration": 124,
    "start_time": "2025-07-20T04:30:33.399Z"
   },
   {
    "duration": 59,
    "start_time": "2025-07-20T04:30:33.525Z"
   },
   {
    "duration": 132,
    "start_time": "2025-07-20T04:33:40.273Z"
   },
   {
    "duration": 98,
    "start_time": "2025-07-20T04:33:59.667Z"
   },
   {
    "duration": 63,
    "start_time": "2025-07-20T04:34:04.282Z"
   },
   {
    "duration": 240,
    "start_time": "2025-07-20T04:34:08.073Z"
   },
   {
    "duration": 341,
    "start_time": "2025-07-20T04:34:39.261Z"
   },
   {
    "duration": 1428,
    "start_time": "2025-07-23T04:13:12.706Z"
   },
   {
    "duration": 4,
    "start_time": "2025-07-23T04:13:14.136Z"
   },
   {
    "duration": 118,
    "start_time": "2025-07-23T04:13:14.141Z"
   },
   {
    "duration": 12,
    "start_time": "2025-07-23T04:13:14.262Z"
   },
   {
    "duration": 1243,
    "start_time": "2025-07-23T04:13:14.276Z"
   },
   {
    "duration": 113,
    "start_time": "2025-07-23T04:13:15.521Z"
   },
   {
    "duration": 378,
    "start_time": "2025-07-23T04:13:15.636Z"
   },
   {
    "duration": 45,
    "start_time": "2025-07-23T04:13:16.015Z"
   },
   {
    "duration": 297,
    "start_time": "2025-07-23T04:13:16.061Z"
   },
   {
    "duration": 41,
    "start_time": "2025-07-23T04:13:16.360Z"
   },
   {
    "duration": 251,
    "start_time": "2025-07-23T04:13:16.403Z"
   },
   {
    "duration": 39,
    "start_time": "2025-07-23T04:13:16.656Z"
   },
   {
    "duration": 86,
    "start_time": "2025-07-23T04:13:16.697Z"
   },
   {
    "duration": 24,
    "start_time": "2025-07-23T04:13:16.786Z"
   },
   {
    "duration": 182,
    "start_time": "2025-07-23T04:13:16.812Z"
   },
   {
    "duration": 4,
    "start_time": "2025-07-23T04:13:16.996Z"
   },
   {
    "duration": 129,
    "start_time": "2025-07-23T04:13:17.001Z"
   },
   {
    "duration": 233,
    "start_time": "2025-07-23T04:13:17.132Z"
   },
   {
    "duration": 23,
    "start_time": "2025-07-23T04:13:17.367Z"
   },
   {
    "duration": 40,
    "start_time": "2025-07-23T04:13:17.392Z"
   },
   {
    "duration": 229,
    "start_time": "2025-07-23T04:13:17.434Z"
   },
   {
    "duration": 7,
    "start_time": "2025-07-23T04:13:17.665Z"
   },
   {
    "duration": 19,
    "start_time": "2025-07-23T04:13:17.674Z"
   },
   {
    "duration": 14,
    "start_time": "2025-07-23T04:13:17.694Z"
   },
   {
    "duration": 10,
    "start_time": "2025-07-23T04:13:17.709Z"
   },
   {
    "duration": 391,
    "start_time": "2025-07-23T04:13:17.721Z"
   },
   {
    "duration": 95,
    "start_time": "2025-07-23T04:13:18.113Z"
   },
   {
    "duration": 153,
    "start_time": "2025-07-23T04:13:18.210Z"
   },
   {
    "duration": 13,
    "start_time": "2025-07-23T04:13:18.364Z"
   },
   {
    "duration": 189,
    "start_time": "2025-07-23T04:13:18.390Z"
   },
   {
    "duration": 28,
    "start_time": "2025-07-23T04:13:18.581Z"
   },
   {
    "duration": 39,
    "start_time": "2025-07-23T04:13:18.611Z"
   },
   {
    "duration": 48,
    "start_time": "2025-07-23T04:13:18.651Z"
   },
   {
    "duration": 18,
    "start_time": "2025-07-23T04:13:18.700Z"
   },
   {
    "duration": 29,
    "start_time": "2025-07-23T04:13:18.719Z"
   },
   {
    "duration": 10,
    "start_time": "2025-07-23T04:13:18.750Z"
   },
   {
    "duration": 220,
    "start_time": "2025-07-23T04:13:18.789Z"
   },
   {
    "duration": 161,
    "start_time": "2025-07-23T04:13:19.011Z"
   },
   {
    "duration": 17,
    "start_time": "2025-07-23T04:13:19.174Z"
   },
   {
    "duration": 99,
    "start_time": "2025-07-23T04:13:19.193Z"
   },
   {
    "duration": 13,
    "start_time": "2025-07-23T04:13:19.297Z"
   },
   {
    "duration": 96,
    "start_time": "2025-07-23T04:13:19.312Z"
   },
   {
    "duration": 59,
    "start_time": "2025-07-23T04:13:19.409Z"
   },
   {
    "duration": 30,
    "start_time": "2025-07-23T04:13:19.477Z"
   },
   {
    "duration": 17,
    "start_time": "2025-07-23T04:13:19.509Z"
   },
   {
    "duration": 164,
    "start_time": "2025-07-23T04:13:19.528Z"
   },
   {
    "duration": 9,
    "start_time": "2025-07-23T04:13:19.694Z"
   },
   {
    "duration": 55,
    "start_time": "2025-07-23T04:13:19.704Z"
   },
   {
    "duration": 34,
    "start_time": "2025-07-23T04:13:19.760Z"
   },
   {
    "duration": 7,
    "start_time": "2025-07-23T04:13:19.795Z"
   },
   {
    "duration": 12,
    "start_time": "2025-07-23T04:13:19.804Z"
   },
   {
    "duration": 89,
    "start_time": "2025-07-23T04:13:19.817Z"
   },
   {
    "duration": 16,
    "start_time": "2025-07-23T04:13:19.907Z"
   },
   {
    "duration": 13,
    "start_time": "2025-07-23T04:13:19.925Z"
   },
   {
    "duration": 18,
    "start_time": "2025-07-23T04:13:19.939Z"
   },
   {
    "duration": 49,
    "start_time": "2025-07-23T04:13:19.959Z"
   },
   {
    "duration": 39,
    "start_time": "2025-07-23T04:13:20.009Z"
   },
   {
    "duration": 50,
    "start_time": "2025-07-23T04:13:20.050Z"
   },
   {
    "duration": 17,
    "start_time": "2025-07-23T04:13:20.102Z"
   },
   {
    "duration": 22,
    "start_time": "2025-07-23T04:13:20.121Z"
   },
   {
    "duration": 86,
    "start_time": "2025-07-23T04:13:20.145Z"
   },
   {
    "duration": 151,
    "start_time": "2025-07-23T04:13:20.232Z"
   },
   {
    "duration": 45,
    "start_time": "2025-07-23T04:13:20.385Z"
   },
   {
    "duration": 41,
    "start_time": "2025-07-23T04:13:20.432Z"
   },
   {
    "duration": 46,
    "start_time": "2025-07-23T04:13:20.489Z"
   },
   {
    "duration": 80,
    "start_time": "2025-07-23T04:13:20.536Z"
   },
   {
    "duration": 21,
    "start_time": "2025-07-23T04:13:20.618Z"
   },
   {
    "duration": 28,
    "start_time": "2025-07-23T04:13:20.640Z"
   },
   {
    "duration": 28,
    "start_time": "2025-07-23T04:13:20.670Z"
   },
   {
    "duration": 288,
    "start_time": "2025-07-23T04:13:20.699Z"
   },
   {
    "duration": 64,
    "start_time": "2025-07-23T04:13:20.990Z"
   },
   {
    "duration": 40,
    "start_time": "2025-07-23T04:13:21.056Z"
   },
   {
    "duration": 145,
    "start_time": "2025-07-23T04:13:21.098Z"
   },
   {
    "duration": 7,
    "start_time": "2025-07-23T04:13:21.245Z"
   },
   {
    "duration": 23,
    "start_time": "2025-07-23T04:13:21.253Z"
   },
   {
    "duration": 14,
    "start_time": "2025-07-23T04:13:21.278Z"
   },
   {
    "duration": 114,
    "start_time": "2025-07-23T04:13:21.293Z"
   },
   {
    "duration": 7,
    "start_time": "2025-07-23T04:13:21.409Z"
   },
   {
    "duration": 12,
    "start_time": "2025-07-23T04:13:21.418Z"
   },
   {
    "duration": 79,
    "start_time": "2025-07-23T04:13:21.431Z"
   },
   {
    "duration": 42,
    "start_time": "2025-07-23T04:13:21.511Z"
   },
   {
    "duration": 12,
    "start_time": "2025-07-23T04:13:21.555Z"
   },
   {
    "duration": 26,
    "start_time": "2025-07-23T04:13:21.568Z"
   },
   {
    "duration": 8,
    "start_time": "2025-07-23T04:13:21.596Z"
   },
   {
    "duration": 20,
    "start_time": "2025-07-23T04:13:21.605Z"
   },
   {
    "duration": 268,
    "start_time": "2025-07-23T04:13:21.626Z"
   },
   {
    "duration": 12,
    "start_time": "2025-07-23T04:13:21.896Z"
   },
   {
    "duration": 340,
    "start_time": "2025-07-23T04:13:21.910Z"
   },
   {
    "duration": 15,
    "start_time": "2025-07-23T04:13:22.252Z"
   },
   {
    "duration": 218,
    "start_time": "2025-07-23T04:13:22.268Z"
   },
   {
    "duration": 19,
    "start_time": "2025-07-23T04:13:22.489Z"
   },
   {
    "duration": 280,
    "start_time": "2025-07-23T04:13:22.510Z"
   },
   {
    "duration": 7,
    "start_time": "2025-07-23T04:13:22.792Z"
   },
   {
    "duration": 34,
    "start_time": "2025-07-23T04:13:22.801Z"
   },
   {
    "duration": 1440,
    "start_time": "2025-07-27T03:44:28.449Z"
   },
   {
    "duration": 4,
    "start_time": "2025-07-27T03:44:29.891Z"
   },
   {
    "duration": 138,
    "start_time": "2025-07-27T03:44:29.896Z"
   },
   {
    "duration": 12,
    "start_time": "2025-07-27T03:44:30.036Z"
   },
   {
    "duration": 1222,
    "start_time": "2025-07-27T03:44:30.050Z"
   },
   {
    "duration": 101,
    "start_time": "2025-07-27T03:44:31.274Z"
   },
   {
    "duration": 466,
    "start_time": "2025-07-27T03:44:31.377Z"
   },
   {
    "duration": 44,
    "start_time": "2025-07-27T03:44:31.845Z"
   },
   {
    "duration": 410,
    "start_time": "2025-07-27T03:44:31.891Z"
   },
   {
    "duration": 42,
    "start_time": "2025-07-27T03:44:32.303Z"
   },
   {
    "duration": 346,
    "start_time": "2025-07-27T03:44:32.346Z"
   },
   {
    "duration": 24,
    "start_time": "2025-07-27T03:44:32.694Z"
   },
   {
    "duration": 160,
    "start_time": "2025-07-27T03:44:32.720Z"
   },
   {
    "duration": 25,
    "start_time": "2025-07-27T03:44:32.882Z"
   },
   {
    "duration": 149,
    "start_time": "2025-07-27T03:44:32.908Z"
   },
   {
    "duration": 4,
    "start_time": "2025-07-27T03:44:33.059Z"
   },
   {
    "duration": 105,
    "start_time": "2025-07-27T03:44:33.071Z"
   },
   {
    "duration": 225,
    "start_time": "2025-07-27T03:44:33.178Z"
   },
   {
    "duration": 22,
    "start_time": "2025-07-27T03:44:33.405Z"
   },
   {
    "duration": 42,
    "start_time": "2025-07-27T03:44:33.429Z"
   },
   {
    "duration": 231,
    "start_time": "2025-07-27T03:44:33.472Z"
   },
   {
    "duration": 8,
    "start_time": "2025-07-27T03:44:33.704Z"
   },
   {
    "duration": 92,
    "start_time": "2025-07-27T03:44:33.713Z"
   },
   {
    "duration": 37,
    "start_time": "2025-07-27T03:44:33.806Z"
   },
   {
    "duration": 20,
    "start_time": "2025-07-27T03:44:33.844Z"
   },
   {
    "duration": 425,
    "start_time": "2025-07-27T03:44:33.866Z"
   },
   {
    "duration": 80,
    "start_time": "2025-07-27T03:44:34.292Z"
   },
   {
    "duration": 147,
    "start_time": "2025-07-27T03:44:34.377Z"
   },
   {
    "duration": 13,
    "start_time": "2025-07-27T03:44:34.526Z"
   },
   {
    "duration": 167,
    "start_time": "2025-07-27T03:44:34.541Z"
   },
   {
    "duration": 26,
    "start_time": "2025-07-27T03:44:34.710Z"
   },
   {
    "duration": 40,
    "start_time": "2025-07-27T03:44:34.737Z"
   },
   {
    "duration": 66,
    "start_time": "2025-07-27T03:44:34.779Z"
   },
   {
    "duration": 18,
    "start_time": "2025-07-27T03:44:34.846Z"
   },
   {
    "duration": 29,
    "start_time": "2025-07-27T03:44:34.865Z"
   },
   {
    "duration": 10,
    "start_time": "2025-07-27T03:44:34.896Z"
   },
   {
    "duration": 211,
    "start_time": "2025-07-27T03:44:34.907Z"
   },
   {
    "duration": 154,
    "start_time": "2025-07-27T03:44:35.119Z"
   },
   {
    "duration": 9,
    "start_time": "2025-07-27T03:44:35.274Z"
   },
   {
    "duration": 116,
    "start_time": "2025-07-27T03:44:35.284Z"
   },
   {
    "duration": 14,
    "start_time": "2025-07-27T03:44:35.401Z"
   },
   {
    "duration": 29,
    "start_time": "2025-07-27T03:44:35.417Z"
   },
   {
    "duration": 70,
    "start_time": "2025-07-27T03:44:35.448Z"
   },
   {
    "duration": 23,
    "start_time": "2025-07-27T03:44:35.519Z"
   },
   {
    "duration": 36,
    "start_time": "2025-07-27T03:44:35.543Z"
   },
   {
    "duration": 172,
    "start_time": "2025-07-27T03:44:35.581Z"
   },
   {
    "duration": 16,
    "start_time": "2025-07-27T03:44:35.755Z"
   },
   {
    "duration": 106,
    "start_time": "2025-07-27T03:44:35.772Z"
   },
   {
    "duration": 10,
    "start_time": "2025-07-27T03:44:35.880Z"
   },
   {
    "duration": 76,
    "start_time": "2025-07-27T03:44:35.891Z"
   },
   {
    "duration": 22,
    "start_time": "2025-07-27T03:44:35.968Z"
   },
   {
    "duration": 72,
    "start_time": "2025-07-27T03:44:35.991Z"
   },
   {
    "duration": 19,
    "start_time": "2025-07-27T03:44:36.065Z"
   },
   {
    "duration": 74,
    "start_time": "2025-07-27T03:44:36.085Z"
   },
   {
    "duration": 12,
    "start_time": "2025-07-27T03:44:36.161Z"
   },
   {
    "duration": 29,
    "start_time": "2025-07-27T03:44:36.175Z"
   },
   {
    "duration": 21,
    "start_time": "2025-07-27T03:44:36.205Z"
   },
   {
    "duration": 68,
    "start_time": "2025-07-27T03:44:36.228Z"
   },
   {
    "duration": 20,
    "start_time": "2025-07-27T03:44:36.298Z"
   },
   {
    "duration": 57,
    "start_time": "2025-07-27T03:44:36.320Z"
   },
   {
    "duration": 73,
    "start_time": "2025-07-27T03:44:36.379Z"
   },
   {
    "duration": 161,
    "start_time": "2025-07-27T03:44:36.454Z"
   },
   {
    "duration": 41,
    "start_time": "2025-07-27T03:44:36.617Z"
   },
   {
    "duration": 70,
    "start_time": "2025-07-27T03:44:36.659Z"
   },
   {
    "duration": 8630,
    "start_time": "2025-07-27T03:44:36.731Z"
   },
   {
    "duration": 187,
    "start_time": "2025-07-27T03:44:45.363Z"
   },
   {
    "duration": 69,
    "start_time": "2025-07-27T03:44:45.552Z"
   },
   {
    "duration": 78,
    "start_time": "2025-07-27T03:44:45.622Z"
   },
   {
    "duration": 21,
    "start_time": "2025-07-27T03:44:45.702Z"
   },
   {
    "duration": 29,
    "start_time": "2025-07-27T03:44:45.724Z"
   },
   {
    "duration": 38,
    "start_time": "2025-07-27T03:44:45.772Z"
   },
   {
    "duration": 268,
    "start_time": "2025-07-27T03:44:45.812Z"
   },
   {
    "duration": 64,
    "start_time": "2025-07-27T03:44:46.081Z"
   },
   {
    "duration": 50,
    "start_time": "2025-07-27T03:44:46.146Z"
   },
   {
    "duration": 43,
    "start_time": "2025-07-27T03:44:46.199Z"
   },
   {
    "duration": 6,
    "start_time": "2025-07-27T03:44:46.244Z"
   },
   {
    "duration": 44,
    "start_time": "2025-07-27T03:44:46.252Z"
   },
   {
    "duration": 44,
    "start_time": "2025-07-27T03:44:46.297Z"
   },
   {
    "duration": 100,
    "start_time": "2025-07-27T03:44:46.343Z"
   },
   {
    "duration": 8,
    "start_time": "2025-07-27T03:44:46.445Z"
   },
   {
    "duration": 54,
    "start_time": "2025-07-27T03:44:46.454Z"
   },
   {
    "duration": 30,
    "start_time": "2025-07-27T03:44:46.514Z"
   },
   {
    "duration": 35,
    "start_time": "2025-07-27T03:44:46.547Z"
   },
   {
    "duration": 12,
    "start_time": "2025-07-27T03:44:46.584Z"
   },
   {
    "duration": 220,
    "start_time": "2025-07-27T03:44:46.598Z"
   },
   {
    "duration": 7,
    "start_time": "2025-07-27T03:44:46.820Z"
   },
   {
    "duration": 11,
    "start_time": "2025-07-27T03:44:46.828Z"
   },
   {
    "duration": 5,
    "start_time": "2025-07-27T03:44:46.841Z"
   },
   {
    "duration": 10,
    "start_time": "2025-07-27T03:44:46.848Z"
   },
   {
    "duration": 20,
    "start_time": "2025-07-27T03:44:46.871Z"
   },
   {
    "duration": 236,
    "start_time": "2025-07-27T03:44:46.892Z"
   },
   {
    "duration": 11,
    "start_time": "2025-07-27T03:44:47.130Z"
   },
   {
    "duration": 289,
    "start_time": "2025-07-27T03:44:47.142Z"
   },
   {
    "duration": 14,
    "start_time": "2025-07-27T03:44:47.433Z"
   },
   {
    "duration": 196,
    "start_time": "2025-07-27T03:44:47.449Z"
   },
   {
    "duration": 27,
    "start_time": "2025-07-27T03:44:47.646Z"
   },
   {
    "duration": 268,
    "start_time": "2025-07-27T03:44:47.675Z"
   },
   {
    "duration": 205,
    "start_time": "2025-07-27T03:44:47.945Z"
   },
   {
    "duration": 30,
    "start_time": "2025-07-27T03:44:48.151Z"
   },
   {
    "duration": 513,
    "start_time": "2025-07-27T03:44:48.183Z"
   }
  ],
  "colab": {
   "provenance": []
  },
  "kernelspec": {
   "display_name": "Python [conda env:base] *",
   "language": "python",
   "name": "conda-base-py"
  },
  "language_info": {
   "codemirror_mode": {
    "name": "ipython",
    "version": 3
   },
   "file_extension": ".py",
   "mimetype": "text/x-python",
   "name": "python",
   "nbconvert_exporter": "python",
   "pygments_lexer": "ipython3",
   "version": "3.13.5"
  },
  "toc": {
   "base_numbering": 1,
   "nav_menu": {},
   "number_sections": true,
   "sideBar": true,
   "skip_h1_title": true,
   "title_cell": "Table of Contents",
   "title_sidebar": "Contents",
   "toc_cell": false,
   "toc_position": {},
   "toc_section_display": true,
   "toc_window_display": false
  }
 },
 "nbformat": 4,
 "nbformat_minor": 4
}
