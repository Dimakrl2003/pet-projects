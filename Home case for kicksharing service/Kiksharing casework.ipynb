{
 "cells": [
  {
   "cell_type": "markdown",
   "metadata": {
    "deletable": false,
    "editable": false,
    "id": "1xwNO7BJsK7k"
   },
   "source": [
    "# Проверка гипотез в бизнесе\n",
    "В этом проекте вы попробуете себя в роли аналитика крупного сервиса проката самокатов GoFast. Компания предоставила три датасета с данными о пользователях сервиса, их поездках за один год, а также стоимости услуг в подписках. Вас просят проанализировать демографию пользователей и особенности использования самокатов, а также определить возможную выгоду от распространения платной подписки на самокаты."
   ]
  },
  {
   "cell_type": "markdown",
   "metadata": {
    "deletable": false,
    "editable": false,
    "id": "gzyXNgprsK7m"
   },
   "source": [
    "# Описание данных\n",
    "\n",
    "Таблица с пользователями `users_go.csv`\n",
    "\n",
    "- `user_id` — уникальный идентификатор пользователя.\n",
    "\n",
    "- `name` — имя пользователя.\n",
    "\n",
    "- `age` — возраст.\n",
    "\n",
    "- `city` — город.\n",
    "\n",
    "- `subscription_type` — тип подписки: `free`, `ultra`.\n",
    "\n",
    "Таблица с поездками `rides_go.csv`\n",
    "\n",
    "- `user_id` — уникальный идентификатор пользователя.\n",
    "\n",
    "- `distance` — расстояние в метрах, которое пользователь проехал в текущей сессии.\n",
    "\n",
    "- `duration` — продолжительность сессии в минутах, то есть время с того момента, как пользователь нажал кнопку «Начать поездку», до того, как он нажал кнопку «Завершить поездку».\n",
    "\n",
    "- `date` — дата совершения поездки.\n",
    "\n",
    "Таблица с подписками `subscriptions_go.csv`\n",
    "\n",
    "- `subscription_type` — тип подписки.\n",
    "\n",
    "- `minute_price` — стоимость одной минуты поездки по этой подписке.\n",
    "\n",
    "- `start_ride_price` — стоимость начала поездки.\n",
    "\n",
    "- `subscription_fee` — стоимость ежемесячного платежа."
   ]
  },
  {
   "cell_type": "markdown",
   "metadata": {
    "deletable": false,
    "editable": false,
    "id": "Gpc3MBZRsK7m"
   },
   "source": [
    "---\n",
    "## Задание 1. Загрузка данных\n",
    "На первом этапе загрузите все необходимые данные и познакомьтесь с содержанием таблиц."
   ]
  },
  {
   "cell_type": "markdown",
   "metadata": {
    "deletable": false,
    "editable": false,
    "id": "vSu11HpOsK7m",
    "tags": [
     "start_task"
    ]
   },
   "source": [
    "### Задача 1.1 Импорт библиотеки pandas\n",
    "Импортируйте библиотеку pandas с сокращением `pd`."
   ]
  },
  {
   "cell_type": "code",
   "execution_count": 1,
   "metadata": {
    "deletable": false,
    "id": "n97uaKsR7LbX"
   },
   "outputs": [],
   "source": [
    "import pandas as pd"
   ]
  },
  {
   "cell_type": "markdown",
   "metadata": {
    "deletable": false,
    "editable": false,
    "id": "iiB5hMdMsK7n",
    "tags": [
     "start_task"
    ]
   },
   "source": [
    "### Задача 1.2 Чтение данных\n",
    "Cчитайте и сохраните в отдельные датафреймы три CSV-файла. Датафреймы назовите в соответствии с названиями файлов, добавив префикс `df_`, например `df_users_go`. Для доступа к файлам используйте следующие ссылки:\n",
    "\n",
    "- https://code.s3.yandex.net/datasets/users_go.csv\n",
    "- https://code.s3.yandex.net/datasets/rides_go.csv\n",
    "- https://code.s3.yandex.net/datasets/subscriptions_go.csv"
   ]
  },
  {
   "cell_type": "code",
   "execution_count": 2,
   "metadata": {
    "deletable": false,
    "id": "jvIwXMOz7HaE"
   },
   "outputs": [],
   "source": [
    "df_users_go = pd.read_csv('https://code.s3.yandex.net/datasets/users_go.csv')\n",
    "df_rides_go = pd.read_csv('https://code.s3.yandex.net/datasets/rides_go.csv')\n",
    "df_subscriptions_go = pd.read_csv('https://code.s3.yandex.net/datasets/subscriptions_go.csv')"
   ]
  },
  {
   "cell_type": "markdown",
   "metadata": {
    "deletable": false,
    "editable": false,
    "id": "zw-1DjajsK7o",
    "tags": [
     "start_task"
    ]
   },
   "source": [
    "### Задача 1.3 Печать первых строк\n",
    "Выведите первые пять строк каждого датафрейма. Познакомьтесь с содержанием таблиц."
   ]
  },
  {
   "cell_type": "markdown",
   "metadata": {
    "deletable": false,
    "editable": false,
    "id": "sO6J_nPe7aUd"
   },
   "source": [
    "<details>\n",
    "<summary>Открыть подсказку</summary>\n",
    "Чтобы распечатать несколько датафреймов в одной ячейке, можно воспользоваться функцией <code>display()</code>.\n",
    "</details>"
   ]
  },
  {
   "cell_type": "code",
   "execution_count": 3,
   "metadata": {
    "deletable": false,
    "id": "7aqE6vqSHZE-"
   },
   "outputs": [
    {
     "data": {
      "text/html": [
       "<div>\n",
       "<style scoped>\n",
       "    .dataframe tbody tr th:only-of-type {\n",
       "        vertical-align: middle;\n",
       "    }\n",
       "\n",
       "    .dataframe tbody tr th {\n",
       "        vertical-align: top;\n",
       "    }\n",
       "\n",
       "    .dataframe thead th {\n",
       "        text-align: right;\n",
       "    }\n",
       "</style>\n",
       "<table border=\"1\" class=\"dataframe\">\n",
       "  <thead>\n",
       "    <tr style=\"text-align: right;\">\n",
       "      <th></th>\n",
       "      <th>user_id</th>\n",
       "      <th>name</th>\n",
       "      <th>age</th>\n",
       "      <th>city</th>\n",
       "      <th>subscription_type</th>\n",
       "    </tr>\n",
       "  </thead>\n",
       "  <tbody>\n",
       "    <tr>\n",
       "      <th>0</th>\n",
       "      <td>1</td>\n",
       "      <td>Кира</td>\n",
       "      <td>22</td>\n",
       "      <td>Тюмень</td>\n",
       "      <td>ultra</td>\n",
       "    </tr>\n",
       "    <tr>\n",
       "      <th>1</th>\n",
       "      <td>2</td>\n",
       "      <td>Станислав</td>\n",
       "      <td>31</td>\n",
       "      <td>Омск</td>\n",
       "      <td>ultra</td>\n",
       "    </tr>\n",
       "    <tr>\n",
       "      <th>2</th>\n",
       "      <td>3</td>\n",
       "      <td>Алексей</td>\n",
       "      <td>20</td>\n",
       "      <td>Москва</td>\n",
       "      <td>ultra</td>\n",
       "    </tr>\n",
       "    <tr>\n",
       "      <th>3</th>\n",
       "      <td>4</td>\n",
       "      <td>Константин</td>\n",
       "      <td>26</td>\n",
       "      <td>Ростов-на-Дону</td>\n",
       "      <td>ultra</td>\n",
       "    </tr>\n",
       "    <tr>\n",
       "      <th>4</th>\n",
       "      <td>5</td>\n",
       "      <td>Адель</td>\n",
       "      <td>28</td>\n",
       "      <td>Омск</td>\n",
       "      <td>ultra</td>\n",
       "    </tr>\n",
       "  </tbody>\n",
       "</table>\n",
       "</div>"
      ],
      "text/plain": [
       "   user_id        name  age            city subscription_type\n",
       "0        1        Кира   22          Тюмень             ultra\n",
       "1        2   Станислав   31            Омск             ultra\n",
       "2        3     Алексей   20          Москва             ultra\n",
       "3        4  Константин   26  Ростов-на-Дону             ultra\n",
       "4        5       Адель   28            Омск             ultra"
      ]
     },
     "metadata": {},
     "output_type": "display_data"
    },
    {
     "data": {
      "text/html": [
       "<div>\n",
       "<style scoped>\n",
       "    .dataframe tbody tr th:only-of-type {\n",
       "        vertical-align: middle;\n",
       "    }\n",
       "\n",
       "    .dataframe tbody tr th {\n",
       "        vertical-align: top;\n",
       "    }\n",
       "\n",
       "    .dataframe thead th {\n",
       "        text-align: right;\n",
       "    }\n",
       "</style>\n",
       "<table border=\"1\" class=\"dataframe\">\n",
       "  <thead>\n",
       "    <tr style=\"text-align: right;\">\n",
       "      <th></th>\n",
       "      <th>user_id</th>\n",
       "      <th>distance</th>\n",
       "      <th>duration</th>\n",
       "      <th>date</th>\n",
       "    </tr>\n",
       "  </thead>\n",
       "  <tbody>\n",
       "    <tr>\n",
       "      <th>0</th>\n",
       "      <td>1</td>\n",
       "      <td>4409.919140</td>\n",
       "      <td>25.599769</td>\n",
       "      <td>2021-01-01</td>\n",
       "    </tr>\n",
       "    <tr>\n",
       "      <th>1</th>\n",
       "      <td>1</td>\n",
       "      <td>2617.592153</td>\n",
       "      <td>15.816871</td>\n",
       "      <td>2021-01-18</td>\n",
       "    </tr>\n",
       "    <tr>\n",
       "      <th>2</th>\n",
       "      <td>1</td>\n",
       "      <td>754.159807</td>\n",
       "      <td>6.232113</td>\n",
       "      <td>2021-04-20</td>\n",
       "    </tr>\n",
       "    <tr>\n",
       "      <th>3</th>\n",
       "      <td>1</td>\n",
       "      <td>2694.783254</td>\n",
       "      <td>18.511000</td>\n",
       "      <td>2021-08-11</td>\n",
       "    </tr>\n",
       "    <tr>\n",
       "      <th>4</th>\n",
       "      <td>1</td>\n",
       "      <td>4028.687306</td>\n",
       "      <td>26.265803</td>\n",
       "      <td>2021-08-28</td>\n",
       "    </tr>\n",
       "  </tbody>\n",
       "</table>\n",
       "</div>"
      ],
      "text/plain": [
       "   user_id     distance   duration        date\n",
       "0        1  4409.919140  25.599769  2021-01-01\n",
       "1        1  2617.592153  15.816871  2021-01-18\n",
       "2        1   754.159807   6.232113  2021-04-20\n",
       "3        1  2694.783254  18.511000  2021-08-11\n",
       "4        1  4028.687306  26.265803  2021-08-28"
      ]
     },
     "metadata": {},
     "output_type": "display_data"
    },
    {
     "data": {
      "text/html": [
       "<div>\n",
       "<style scoped>\n",
       "    .dataframe tbody tr th:only-of-type {\n",
       "        vertical-align: middle;\n",
       "    }\n",
       "\n",
       "    .dataframe tbody tr th {\n",
       "        vertical-align: top;\n",
       "    }\n",
       "\n",
       "    .dataframe thead th {\n",
       "        text-align: right;\n",
       "    }\n",
       "</style>\n",
       "<table border=\"1\" class=\"dataframe\">\n",
       "  <thead>\n",
       "    <tr style=\"text-align: right;\">\n",
       "      <th></th>\n",
       "      <th>subscription_type</th>\n",
       "      <th>minute_price</th>\n",
       "      <th>start_ride_price</th>\n",
       "      <th>subscription_fee</th>\n",
       "    </tr>\n",
       "  </thead>\n",
       "  <tbody>\n",
       "    <tr>\n",
       "      <th>0</th>\n",
       "      <td>free</td>\n",
       "      <td>8</td>\n",
       "      <td>50</td>\n",
       "      <td>0</td>\n",
       "    </tr>\n",
       "    <tr>\n",
       "      <th>1</th>\n",
       "      <td>ultra</td>\n",
       "      <td>6</td>\n",
       "      <td>0</td>\n",
       "      <td>199</td>\n",
       "    </tr>\n",
       "  </tbody>\n",
       "</table>\n",
       "</div>"
      ],
      "text/plain": [
       "  subscription_type  minute_price  start_ride_price  subscription_fee\n",
       "0              free             8                50                 0\n",
       "1             ultra             6                 0               199"
      ]
     },
     "metadata": {},
     "output_type": "display_data"
    }
   ],
   "source": [
    "# Воспользуемся display и ознакомимся с форматом записи данных в датафреймах \n",
    "\n",
    "from IPython.display import display\n",
    "\n",
    "display(df_users_go.head())\n",
    "display(df_rides_go.head())\n",
    "display(df_subscriptions_go.head())"
   ]
  },
  {
   "cell_type": "markdown",
   "metadata": {
    "deletable": false,
    "editable": false,
    "id": "zjZVYVQ3sK7p",
    "tags": [
     "start_task"
    ]
   },
   "source": [
    "### Задача 1.4 Подсчёт строк\n",
    "Определите количество строк в каждом из трёх датафреймов. Это поможет оценить объём данных и выявить аномалии, например слишком малое количество записей. В качестве ответа запишите три целых числа в одну строку через пробел."
   ]
  },
  {
   "cell_type": "code",
   "execution_count": 4,
   "metadata": {
    "deletable": false,
    "id": "I-mEFxuHHavX"
   },
   "outputs": [
    {
     "name": "stdout",
     "output_type": "stream",
     "text": [
      "1565 18068 2\n"
     ]
    }
   ],
   "source": [
    "# Посмотрим, какое количество строк содержится в каждом из массивов\n",
    "\n",
    "print(df_users_go.shape[0], df_rides_go.shape[0], df_subscriptions_go.shape[0])"
   ]
  },
  {
   "cell_type": "markdown",
   "metadata": {
    "deletable": false,
    "editable": false,
    "id": "xXmiI6QYsK7q"
   },
   "source": [
    "---\n",
    "## Задание 2. Знакомство с данными и их предварительная подготовка\n",
    "\n",
    "Прежде чем начать анализ, важно убедиться в качестве предоставленных данных. Выполните несколько шагов, чтобы лучше понять структуру и устранить потенциальные проблемы в таблицах."
   ]
  },
  {
   "cell_type": "markdown",
   "metadata": {
    "deletable": false,
    "editable": false,
    "id": "2D6UywOBsK7q",
    "tags": [
     "start_task"
    ]
   },
   "source": [
    "### Задача 2.1 Определение типов данных\n",
    "В датафрейме `df_rides_go` выведите типы данных каждой колонки стандартным атрибутом `dtypes`. Так вы проверите корректность типов и подготовите данные для дальнейшей обработки."
   ]
  },
  {
   "cell_type": "code",
   "execution_count": 5,
   "metadata": {
    "deletable": false,
    "id": "B40wZ2cnHfAM"
   },
   "outputs": [
    {
     "data": {
      "text/plain": [
       "user_id       int64\n",
       "distance    float64\n",
       "duration    float64\n",
       "date         object\n",
       "dtype: object"
      ]
     },
     "execution_count": 5,
     "metadata": {},
     "output_type": "execute_result"
    }
   ],
   "source": [
    "# Посмотрим, какие типы данных у нас есть в массиве с информацией о поездках\n",
    "df_rides_go.dtypes"
   ]
  },
  {
   "cell_type": "markdown",
   "metadata": {},
   "source": [
    "- Все данные, кроме даты указаны корректно. Тип информации данного столбца необходимо заменить на datetime."
   ]
  },
  {
   "cell_type": "markdown",
   "metadata": {
    "deletable": false,
    "editable": false,
    "id": "R0EN6gRJsK7r",
    "tags": [
     "start_task"
    ]
   },
   "source": [
    "### Задача 2.2 Преобразование формата даты\n",
    "Приведите столбец `date` в датафрейме `df_rides_go` к типу даты pandas, используя метод `pd.to_datetime()`, изученный вами в одном из прошлых спринтов. Этот шаг упростит работу с временными данными."
   ]
  },
  {
   "cell_type": "code",
   "execution_count": 6,
   "metadata": {
    "deletable": false,
    "id": "flLYZquqHggn"
   },
   "outputs": [],
   "source": [
    "# Произведем замену типа данных\n",
    "df_rides_go['date'] = pd.to_datetime(df_rides_go['date'])"
   ]
  },
  {
   "cell_type": "code",
   "execution_count": 7,
   "metadata": {},
   "outputs": [
    {
     "data": {
      "text/plain": [
       "user_id              int64\n",
       "distance           float64\n",
       "duration           float64\n",
       "date        datetime64[ns]\n",
       "dtype: object"
      ]
     },
     "execution_count": 7,
     "metadata": {},
     "output_type": "execute_result"
    }
   ],
   "source": [
    "# Проверим замену\n",
    "df_rides_go.dtypes"
   ]
  },
  {
   "cell_type": "markdown",
   "metadata": {
    "deletable": false,
    "editable": false,
    "id": "RVxOqAqtsK7r",
    "tags": [
     "start_task"
    ]
   },
   "source": [
    "### Задача 2.3 Создание столбца с месяцем\n",
    "На основе столбца `date` создайте новый столбец `month`, содержащий номер месяца. Это нужно для последующей группировки данных и анализа сезонных трендов."
   ]
  },
  {
   "cell_type": "code",
   "execution_count": 8,
   "metadata": {
    "deletable": false,
    "id": "LYkUO3EnHhu5"
   },
   "outputs": [],
   "source": [
    "# Создадим новый столбец mpnth, в котором будет содержаться информация о месяце\n",
    "df_rides_go['month'] = df_rides_go['date'].dt.month"
   ]
  },
  {
   "cell_type": "code",
   "execution_count": 9,
   "metadata": {},
   "outputs": [
    {
     "data": {
      "text/html": [
       "<div>\n",
       "<style scoped>\n",
       "    .dataframe tbody tr th:only-of-type {\n",
       "        vertical-align: middle;\n",
       "    }\n",
       "\n",
       "    .dataframe tbody tr th {\n",
       "        vertical-align: top;\n",
       "    }\n",
       "\n",
       "    .dataframe thead th {\n",
       "        text-align: right;\n",
       "    }\n",
       "</style>\n",
       "<table border=\"1\" class=\"dataframe\">\n",
       "  <thead>\n",
       "    <tr style=\"text-align: right;\">\n",
       "      <th></th>\n",
       "      <th>user_id</th>\n",
       "      <th>distance</th>\n",
       "      <th>duration</th>\n",
       "      <th>date</th>\n",
       "      <th>month</th>\n",
       "    </tr>\n",
       "  </thead>\n",
       "  <tbody>\n",
       "    <tr>\n",
       "      <th>0</th>\n",
       "      <td>1</td>\n",
       "      <td>4409.919140</td>\n",
       "      <td>25.599769</td>\n",
       "      <td>2021-01-01</td>\n",
       "      <td>1</td>\n",
       "    </tr>\n",
       "    <tr>\n",
       "      <th>1</th>\n",
       "      <td>1</td>\n",
       "      <td>2617.592153</td>\n",
       "      <td>15.816871</td>\n",
       "      <td>2021-01-18</td>\n",
       "      <td>1</td>\n",
       "    </tr>\n",
       "    <tr>\n",
       "      <th>2</th>\n",
       "      <td>1</td>\n",
       "      <td>754.159807</td>\n",
       "      <td>6.232113</td>\n",
       "      <td>2021-04-20</td>\n",
       "      <td>4</td>\n",
       "    </tr>\n",
       "    <tr>\n",
       "      <th>3</th>\n",
       "      <td>1</td>\n",
       "      <td>2694.783254</td>\n",
       "      <td>18.511000</td>\n",
       "      <td>2021-08-11</td>\n",
       "      <td>8</td>\n",
       "    </tr>\n",
       "    <tr>\n",
       "      <th>4</th>\n",
       "      <td>1</td>\n",
       "      <td>4028.687306</td>\n",
       "      <td>26.265803</td>\n",
       "      <td>2021-08-28</td>\n",
       "      <td>8</td>\n",
       "    </tr>\n",
       "  </tbody>\n",
       "</table>\n",
       "</div>"
      ],
      "text/plain": [
       "   user_id     distance   duration       date  month\n",
       "0        1  4409.919140  25.599769 2021-01-01      1\n",
       "1        1  2617.592153  15.816871 2021-01-18      1\n",
       "2        1   754.159807   6.232113 2021-04-20      4\n",
       "3        1  2694.783254  18.511000 2021-08-11      8\n",
       "4        1  4028.687306  26.265803 2021-08-28      8"
      ]
     },
     "execution_count": 9,
     "metadata": {},
     "output_type": "execute_result"
    }
   ],
   "source": [
    "# Проверим массив на наличие нового столбца\n",
    "df_rides_go.head()"
   ]
  },
  {
   "cell_type": "markdown",
   "metadata": {
    "deletable": false,
    "editable": false,
    "id": "u69-EsMDsK7w",
    "tags": [
     "start_task"
    ]
   },
   "source": [
    "### Задача 2.4 Поиск дублей и пропусков\n",
    "В датафрейме пользователей `df_users_go` определите количество пропусков и дубликатов. Это необходимо для понимания полноты и уникальности данных пользователей. Ответ выведите в виде двух целых чисел, разделённых пробелом. Например: `10 20`."
   ]
  },
  {
   "cell_type": "code",
   "execution_count": 10,
   "metadata": {
    "deletable": false,
    "id": "Bsfa7IX3Hi7w"
   },
   "outputs": [
    {
     "name": "stdout",
     "output_type": "stream",
     "text": [
      "0 31\n"
     ]
    }
   ],
   "source": [
    "# Вывелем информацию о количесве пропусков и дубликатов\n",
    "missing = int(df_users_go.isna().sum().sum())   # всего пропусков в таблице\n",
    "dups = int(df_users_go.duplicated().sum())      # число дубликатов строк\n",
    "print(missing, dups)"
   ]
  },
  {
   "cell_type": "markdown",
   "metadata": {
    "deletable": false,
    "editable": false,
    "id": "0n5_KBqtsK7y",
    "tags": [
     "start_task"
    ]
   },
   "source": [
    "### Задача 2.5 Заполнение пропусков и удаление дублей\n",
    "При наличии пропущенных значений заполните их нулями, а все дубликаты удалите. Это шаг необходим для улучшения качества данных, что является ключевым для точного анализа. Все операции проводите с созданными в рамках задачи 1 датафреймами."
   ]
  },
  {
   "cell_type": "markdown",
   "metadata": {
    "deletable": false,
    "editable": false,
    "id": "0pfQQZP7-n_F"
   },
   "source": [
    "<details>\n",
    "<summary>Открыть подсказку</summary>\n",
    "Внимательно изучите результаты предыдущих шагов и определите, какие датасеты вам понадобятся.\n",
    "</details>"
   ]
  },
  {
   "cell_type": "code",
   "execution_count": 11,
   "metadata": {
    "deletable": false,
    "id": "X75yCyl_HkUS"
   },
   "outputs": [
    {
     "data": {
      "text/plain": [
       "0"
      ]
     },
     "execution_count": 11,
     "metadata": {},
     "output_type": "execute_result"
    }
   ],
   "source": [
    "# Удалим дубликаты в данных\n",
    "df_users_go = df_users_go.drop_duplicates()\n",
    "# Проверим, как прошло удаление\n",
    "df_users_go.duplicated().sum()"
   ]
  },
  {
   "cell_type": "markdown",
   "metadata": {
    "deletable": false,
    "editable": false,
    "id": "kAGj3NxDsK7z",
    "tags": [
     "start_task"
    ]
   },
   "source": [
    "### Задача 2.6 Округление длительности поездки\n",
    "В датафрейме поездок `df_rides_go` округлите время поездки `duration` до целого числа стандартным методом `round()`. Затем приведите эту колонку к целочисленному типу `int`. Этот шаг затем поможет вам правильно рассчитать прибыль, так как плата взимается только за целое число минут."
   ]
  },
  {
   "cell_type": "code",
   "execution_count": 12,
   "metadata": {
    "deletable": false,
    "id": "pm5FYnl_HlSd"
   },
   "outputs": [],
   "source": [
    "# Округлим информацию о длительности поездки\n",
    "df_rides_go['duration'] = df_rides_go['duration'].round(0)"
   ]
  },
  {
   "cell_type": "code",
   "execution_count": 13,
   "metadata": {},
   "outputs": [
    {
     "data": {
      "text/html": [
       "<div>\n",
       "<style scoped>\n",
       "    .dataframe tbody tr th:only-of-type {\n",
       "        vertical-align: middle;\n",
       "    }\n",
       "\n",
       "    .dataframe tbody tr th {\n",
       "        vertical-align: top;\n",
       "    }\n",
       "\n",
       "    .dataframe thead th {\n",
       "        text-align: right;\n",
       "    }\n",
       "</style>\n",
       "<table border=\"1\" class=\"dataframe\">\n",
       "  <thead>\n",
       "    <tr style=\"text-align: right;\">\n",
       "      <th></th>\n",
       "      <th>user_id</th>\n",
       "      <th>distance</th>\n",
       "      <th>duration</th>\n",
       "      <th>date</th>\n",
       "      <th>month</th>\n",
       "    </tr>\n",
       "  </thead>\n",
       "  <tbody>\n",
       "    <tr>\n",
       "      <th>0</th>\n",
       "      <td>1</td>\n",
       "      <td>4409.919140</td>\n",
       "      <td>26.0</td>\n",
       "      <td>2021-01-01</td>\n",
       "      <td>1</td>\n",
       "    </tr>\n",
       "    <tr>\n",
       "      <th>1</th>\n",
       "      <td>1</td>\n",
       "      <td>2617.592153</td>\n",
       "      <td>16.0</td>\n",
       "      <td>2021-01-18</td>\n",
       "      <td>1</td>\n",
       "    </tr>\n",
       "    <tr>\n",
       "      <th>2</th>\n",
       "      <td>1</td>\n",
       "      <td>754.159807</td>\n",
       "      <td>6.0</td>\n",
       "      <td>2021-04-20</td>\n",
       "      <td>4</td>\n",
       "    </tr>\n",
       "    <tr>\n",
       "      <th>3</th>\n",
       "      <td>1</td>\n",
       "      <td>2694.783254</td>\n",
       "      <td>19.0</td>\n",
       "      <td>2021-08-11</td>\n",
       "      <td>8</td>\n",
       "    </tr>\n",
       "    <tr>\n",
       "      <th>4</th>\n",
       "      <td>1</td>\n",
       "      <td>4028.687306</td>\n",
       "      <td>26.0</td>\n",
       "      <td>2021-08-28</td>\n",
       "      <td>8</td>\n",
       "    </tr>\n",
       "  </tbody>\n",
       "</table>\n",
       "</div>"
      ],
      "text/plain": [
       "   user_id     distance  duration       date  month\n",
       "0        1  4409.919140      26.0 2021-01-01      1\n",
       "1        1  2617.592153      16.0 2021-01-18      1\n",
       "2        1   754.159807       6.0 2021-04-20      4\n",
       "3        1  2694.783254      19.0 2021-08-11      8\n",
       "4        1  4028.687306      26.0 2021-08-28      8"
      ]
     },
     "execution_count": 13,
     "metadata": {},
     "output_type": "execute_result"
    }
   ],
   "source": [
    "# Проверим, успешно ли мы провели округление\n",
    "df_rides_go.head()"
   ]
  },
  {
   "cell_type": "code",
   "execution_count": 14,
   "metadata": {},
   "outputs": [],
   "source": [
    "# Хорошо, теперь переведём формат данных в столбце в integer\n",
    "df_rides_go['duration'] = df_rides_go['duration'].astype('int')"
   ]
  },
  {
   "cell_type": "code",
   "execution_count": 15,
   "metadata": {
    "scrolled": true
   },
   "outputs": [
    {
     "data": {
      "text/plain": [
       "user_id              int64\n",
       "distance           float64\n",
       "duration             int64\n",
       "date        datetime64[ns]\n",
       "month                int64\n",
       "dtype: object"
      ]
     },
     "execution_count": 15,
     "metadata": {},
     "output_type": "execute_result"
    }
   ],
   "source": [
    "# Проверим успешность замены формата данных\n",
    "df_rides_go.dtypes"
   ]
  },
  {
   "cell_type": "code",
   "execution_count": 16,
   "metadata": {},
   "outputs": [
    {
     "data": {
      "text/html": [
       "<div>\n",
       "<style scoped>\n",
       "    .dataframe tbody tr th:only-of-type {\n",
       "        vertical-align: middle;\n",
       "    }\n",
       "\n",
       "    .dataframe tbody tr th {\n",
       "        vertical-align: top;\n",
       "    }\n",
       "\n",
       "    .dataframe thead th {\n",
       "        text-align: right;\n",
       "    }\n",
       "</style>\n",
       "<table border=\"1\" class=\"dataframe\">\n",
       "  <thead>\n",
       "    <tr style=\"text-align: right;\">\n",
       "      <th></th>\n",
       "      <th>user_id</th>\n",
       "      <th>distance</th>\n",
       "      <th>duration</th>\n",
       "      <th>date</th>\n",
       "      <th>month</th>\n",
       "    </tr>\n",
       "  </thead>\n",
       "  <tbody>\n",
       "    <tr>\n",
       "      <th>0</th>\n",
       "      <td>1</td>\n",
       "      <td>4409.919140</td>\n",
       "      <td>26</td>\n",
       "      <td>2021-01-01</td>\n",
       "      <td>1</td>\n",
       "    </tr>\n",
       "    <tr>\n",
       "      <th>1</th>\n",
       "      <td>1</td>\n",
       "      <td>2617.592153</td>\n",
       "      <td>16</td>\n",
       "      <td>2021-01-18</td>\n",
       "      <td>1</td>\n",
       "    </tr>\n",
       "    <tr>\n",
       "      <th>2</th>\n",
       "      <td>1</td>\n",
       "      <td>754.159807</td>\n",
       "      <td>6</td>\n",
       "      <td>2021-04-20</td>\n",
       "      <td>4</td>\n",
       "    </tr>\n",
       "    <tr>\n",
       "      <th>3</th>\n",
       "      <td>1</td>\n",
       "      <td>2694.783254</td>\n",
       "      <td>19</td>\n",
       "      <td>2021-08-11</td>\n",
       "      <td>8</td>\n",
       "    </tr>\n",
       "    <tr>\n",
       "      <th>4</th>\n",
       "      <td>1</td>\n",
       "      <td>4028.687306</td>\n",
       "      <td>26</td>\n",
       "      <td>2021-08-28</td>\n",
       "      <td>8</td>\n",
       "    </tr>\n",
       "  </tbody>\n",
       "</table>\n",
       "</div>"
      ],
      "text/plain": [
       "   user_id     distance  duration       date  month\n",
       "0        1  4409.919140        26 2021-01-01      1\n",
       "1        1  2617.592153        16 2021-01-18      1\n",
       "2        1   754.159807         6 2021-04-20      4\n",
       "3        1  2694.783254        19 2021-08-11      8\n",
       "4        1  4028.687306        26 2021-08-28      8"
      ]
     },
     "execution_count": 16,
     "metadata": {},
     "output_type": "execute_result"
    }
   ],
   "source": [
    "# Проверим, успешно ли мы провели перемену типа данных\n",
    "df_rides_go.head()"
   ]
  },
  {
   "cell_type": "markdown",
   "metadata": {
    "deletable": false,
    "editable": false,
    "id": "r5kzIOGGsK7z"
   },
   "source": [
    "---\n",
    "## Задание 3. Исследовательский анализ данных (EDA)\n",
    "Исследовательский анализ данных — неотъемлемая часть работы аналитика. В этом задании вы внимательнее изучите и визуализируете информацию о географии и демографии сервиса, а также лучше поймёте закономерности в дистанциях и длительности поездок.\n"
   ]
  },
  {
   "cell_type": "markdown",
   "metadata": {
    "deletable": false,
    "editable": false,
    "id": "mnLLcghssK70",
    "tags": [
     "start_task"
    ]
   },
   "source": [
    "### Задача 3.1 Импорт библиотеки matplotlib\n",
    "Импортируйте библиотеку matplotlib.pyplot с сокращением `plt`."
   ]
  },
  {
   "cell_type": "code",
   "execution_count": 17,
   "metadata": {
    "deletable": false,
    "id": "gtf8ylhTHnBO"
   },
   "outputs": [],
   "source": [
    "# Импортируем нужные библиотеки\n",
    "import matplotlib.pyplot as plt"
   ]
  },
  {
   "cell_type": "markdown",
   "metadata": {
    "deletable": false,
    "editable": false,
    "id": "v4xEIrk1sK70",
    "tags": [
     "start_task"
    ]
   },
   "source": [
    "### Задача 3.2 Количество пользователей по городам.\n",
    "Пользуясь данными из датафрейма `df_users_go`, изучите количество пользователей в каждом из городов. Создайте и выведите на экран объект `pd.Series`, названный `users_by_city_count`, с одной колонкой `count` — суммарным количеством пользователей в каждом городе `city`, отсортированным по убыванию."
   ]
  },
  {
   "cell_type": "markdown",
   "metadata": {
    "deletable": false,
    "editable": false,
    "id": "UuAD6cGfE1Lp"
   },
   "source": [
    "<details>\n",
    "<summary>Открыть подсказку</summary>\n",
    "В этом задании можно воспользоваться методом <code>value_counts()</code>.\n",
    "</details>"
   ]
  },
  {
   "cell_type": "code",
   "execution_count": 18,
   "metadata": {
    "deletable": false,
    "id": "rkqVGZ9HHoXm"
   },
   "outputs": [
    {
     "data": {
      "text/plain": [
       "Пятигорск         219\n",
       "Екатеринбург      204\n",
       "Ростов-на-Дону    198\n",
       "Краснодар         193\n",
       "Сочи              189\n",
       "Омск              183\n",
       "Тюмень            180\n",
       "Москва            168\n",
       "Name: city, dtype: int64"
      ]
     },
     "execution_count": 18,
     "metadata": {},
     "output_type": "execute_result"
    }
   ],
   "source": [
    "# Посчитаем количество пользователей в каждом из городов\n",
    "users_by_city_count = df_users_go['city'].value_counts().rename('city')\n",
    "# Выведем результат\n",
    "users_by_city_count"
   ]
  },
  {
   "cell_type": "markdown",
   "metadata": {
    "deletable": false,
    "editable": false,
    "id": "T4MURCh8sK76",
    "tags": [
     "start_task"
    ]
   },
   "source": [
    "### Задача 3.3 Количество пользователей подписки\n",
    "Создайте и выведите на экран серию `subscription_type_count` с количеством пользователей для каждого типа подписки `subscription_type`."
   ]
  },
  {
   "cell_type": "markdown",
   "metadata": {
    "deletable": false,
    "editable": false,
    "id": "M_6HyiPdFeNH"
   },
   "source": [
    "<details>\n",
    "<summary>Открыть подсказку</summary>\n",
    "В этом задании можно воспользоваться методом <code>value_counts()</code>.\n",
    "</details>"
   ]
  },
  {
   "cell_type": "code",
   "execution_count": 19,
   "metadata": {
    "deletable": false,
    "id": "Fc_B3eFvHpum"
   },
   "outputs": [
    {
     "data": {
      "text/plain": [
       "free     835\n",
       "ultra    699\n",
       "Name: subscription_type, dtype: int64"
      ]
     },
     "execution_count": 19,
     "metadata": {},
     "output_type": "execute_result"
    }
   ],
   "source": [
    "# Посчитаем количество подписок каждого типа\n",
    "subscription_type_count = df_users_go['subscription_type'].value_counts()\n",
    "# Выведем результат\n",
    "subscription_type_count"
   ]
  },
  {
   "cell_type": "markdown",
   "metadata": {
    "deletable": false,
    "editable": false,
    "id": "O3lz5rR4sK77",
    "tags": [
     "start_task"
    ]
   },
   "source": [
    "### Задача 3.4 Круговая диаграмма\n",
    "Постройте круговую диаграмму, указав процент пользователей с `free` и `ultra` подпиской. Вызовите метод `plot()` для серии `subscription_type_count` с указанием нужного аргумента для построения круговой диаграммы.\n",
    "\n",
    "Затем добавьте следующее:\n",
    "- **Заголовок.** Установите заголовок с помощью параметра `title`, задав его как `'Соотношение пользователей с подпиской и без подписки'`.\n",
    "- **Процентные метки.** Используйте параметр `autopct='%.0f%%'` для отображения процентных значений на диаграмме. Достаточно передать аргумент в указанном виде методу `plot()`. Процентные метки часто хорошо дополняют круговые диаграммы.\n",
    "- **Подпись оси Y.** Установите пустую строку для подписи оси Y `(ylabel='')`, чтобы она не отображалась.\n",
    "- **Цвета секторов.** Используйте параметр `colors`, задав красный цвет `red` для пользователей без подписки и зелёный `green` для подписчиков.\n",
    "\n",
    "Затем вызовите `plt.show()` для отображения диаграммы."
   ]
  },
  {
   "cell_type": "code",
   "execution_count": 20,
   "metadata": {
    "deletable": false,
    "id": "xdIJI_KoHr7b"
   },
   "outputs": [
    {
     "data": {
      "image/png": "[encoded data removed]",
      "text/plain": [
       "<Figure size 432x432 with 1 Axes>"
      ]
     },
     "metadata": {},
     "output_type": "display_data"
    }
   ],
   "source": [
    "# Построим круговую диаграмму, которая будет отображать долю подписок двух типов\n",
    "subscription_type_count.plot(\n",
    "    kind = 'pie',\n",
    "    title = 'Соотношение пользователей с подпиской и без подписки',\n",
    "    autopct= '%.0f%%',\n",
    "    ylabel = '',\n",
    "    colors=['red', 'green'],\n",
    "    figsize = (6, 6)\n",
    ")\n",
    "\n",
    "plt.show()"
   ]
  },
  {
   "cell_type": "markdown",
   "metadata": {
    "deletable": false,
    "editable": false,
    "id": "AghuPrntsK78",
    "tags": [
     "start_task"
    ]
   },
   "source": [
    "### Задача 3.5 Гистограмма возрастов\n",
    "Постройте гистограмму возрастов `age` пользователей самокатов. Используйте количество бинов, равное разности максимального и минимального значений возраста.\n",
    "\n",
    "Что нужно сделать:\n",
    "\n",
    "1. Определить количество бинов `n_bins` как разницу между максимальным и минимальным значениями в столбце `age`.\n",
    "2. Использовать метод `hist()` для столбца `df_users_go['age']`.\n",
    "3. Установить количество бинов через параметр `bins=n_bins`.\n",
    "4. Назначить заголовок графика как `'Возраст пользователей'` с помощью `plt.title()`.\n",
    "5. Установить подпись оси X как `'Возраст'` с помощью `plt.xlabel()`.\n",
    "6. Вызвать `plt.show()` для визуального отображения гистограммы."
   ]
  },
  {
   "cell_type": "code",
   "execution_count": 21,
   "metadata": {
    "deletable": false,
    "id": "E-0ubIOKmbCR"
   },
   "outputs": [
    {
     "data": {
      "image/png": "[encoded data removed]",
      "text/plain": [
       "<Figure size 720x432 with 1 Axes>"
      ]
     },
     "metadata": {
      "needs_background": "light"
     },
     "output_type": "display_data"
    }
   ],
   "source": [
    "# Зададим количество бинов\n",
    "n_bins = max(df_users_go['age']) - min(df_users_go['age'])\n",
    "\n",
    "# Построим гистограмму для возрастов\n",
    "df_users_go['age'].hist(bins = n_bins, \n",
    "                        figsize = (10, 6))\n",
    "\n",
    "# Зададим название графикаaи осей\n",
    "plt.title('Возраст пользователей')\n",
    "plt.xlabel('Возраст')\n",
    "plt.ylabel('Количество пользователей')\n",
    "\n",
    "plt.show()"
   ]
  },
  {
   "cell_type": "markdown",
   "metadata": {
    "deletable": false,
    "editable": false,
    "id": "s0gjcXIasK7-",
    "tags": [
     "start_task"
    ]
   },
   "source": [
    "### Задача 3.6 Несовершеннолетние пользователи\n",
    "Рассчитайте долю несовершеннолетних (возрастом менее 18 лет) пользователей самокатов."
   ]
  },
  {
   "cell_type": "markdown",
   "metadata": {
    "deletable": false,
    "editable": false,
    "id": "7VY_FIj0Ifet"
   },
   "source": [
    "<details>\n",
    "<summary>Открыть подсказку</summary>\n",
    "Для начала необходимо рассчитать количество пользователей младше 18 лет — для этого вспомните принцип использования логических масок в pandas. Затем полученное значение следует разделить на количество строк в таблице. Получить его можно, например, из кортежа, который выдаёт атрибут <code>shape</code>.\n",
    "</details>"
   ]
  },
  {
   "cell_type": "code",
   "execution_count": 22,
   "metadata": {
    "deletable": false,
    "id": "OR-1q5LJI9UK"
   },
   "outputs": [
    {
     "name": "stdout",
     "output_type": "stream",
     "text": [
      "Доля несовершеннолетних пользователей самокатов составляет 5%.\n"
     ]
    }
   ],
   "source": [
    "# Рассчитаем долю несовершеннолетних пользователей\n",
    "users_under_18_ratio = int(round((df_users_go['age'].lt(18)).mean() * 100))\n",
    "# Выведем результат\n",
    "print(f'Доля несовершеннолетних пользователей самокатов составляет {users_under_18_ratio}%.')"
   ]
  },
  {
   "cell_type": "markdown",
   "metadata": {
    "deletable": false,
    "editable": false,
    "id": "FK3h1H-nP5NW",
    "tags": [
     "start_task"
    ]
   },
   "source": [
    "### Задача 3.7 Характеристики длительности поездки\n",
    "Длительность поездки является важной метрикой в работе сервиса проката самокатов. Если средняя длительность поездок будет слишком высокой, самокаты будут быстрее выходить из строя. Если слишком низкой, значит, клиентам что-то не нравится в сервисе.\n",
    "\n",
    "В этом задании с помощью описательной статистики вы изучите длительность поездок:\n",
    "\n",
    "1. Используйте колонку `duration` из датафрейма `df_rides_go`.\n",
    "2. Расчитайте среднее значение и стандартное отклонение длительности поездки. Для расчёта стандартного отклонения можно воспользоваться методом `std()`.\n",
    "3. Рассчитайте 25-й и 75-й процентили длительности поездки.\n",
    "4. Выведите на экран ответ по предложенному шаблону.\n",
    "\n",
    "Используя шаблон, сформулируйте и выведите текстовый вывод о средней длительности поездки, а также о 25-м и 75-м процентилях длительности.\n"
   ]
  },
  {
   "cell_type": "code",
   "execution_count": 23,
   "metadata": {
    "deletable": false,
    "id": "Gnhi9BqZKr3-"
   },
   "outputs": [
    {
     "name": "stdout",
     "output_type": "stream",
     "text": [
      "Средняя длительность поездки 18 минут со стандартным отклонением 6. Основная часть поездок занимает от 14 до 22 минут.\n"
     ]
    }
   ],
   "source": [
    "# Рассчитаем среднее время поездки и среднее отклонение\n",
    "duration_mean = int(round(df_rides_go['duration'].mean()))\n",
    "duration_std  = int(round(df_rides_go['duration'].std()))\n",
    "\n",
    "# Посчитаем первый и третий куантили\n",
    "duration_pct25 = int(df_rides_go['duration'].quantile(0.25))\n",
    "duration_pct75 = int(df_rides_go['duration'].quantile(0.75))\n",
    "\n",
    "# Выведем информацию\n",
    "print(f'Средняя длительность поездки {duration_mean} минут со стандартным отклонением {duration_std}. Основная часть поездок занимает от {duration_pct25} до {duration_pct75} минут.')"
   ]
  },
  {
   "cell_type": "markdown",
   "metadata": {
    "deletable": false,
    "editable": false,
    "id": "tyrEdxs0sK8C"
   },
   "source": [
    "---\n",
    "## Задание 4. Объединение данных\n",
    "\n",
    "В самом начале урока вы загрузили три таблицы, настало время объединить все эти данные в один датафрейм."
   ]
  },
  {
   "cell_type": "markdown",
   "metadata": {
    "deletable": false,
    "editable": false,
    "id": "diTj4AtBsK8C",
    "tags": [
     "start_task"
    ]
   },
   "source": [
    "### Задача 4.1 Объединение таблицы пользователей и поездок\n",
    "Объедините датафреймы с информацией о пользователях `df_users_go` и поездках `df_rides_go`. Полученный датафрейм назовите просто `df`. При объединении используйте метод `merge()` по общей для двух таблиц колонке и тип объединения `left`."
   ]
  },
  {
   "cell_type": "code",
   "execution_count": 24,
   "metadata": {
    "deletable": false,
    "id": "WwPCouN0nhPk"
   },
   "outputs": [
    {
     "data": {
      "text/html": [
       "<div>\n",
       "<style scoped>\n",
       "    .dataframe tbody tr th:only-of-type {\n",
       "        vertical-align: middle;\n",
       "    }\n",
       "\n",
       "    .dataframe tbody tr th {\n",
       "        vertical-align: top;\n",
       "    }\n",
       "\n",
       "    .dataframe thead th {\n",
       "        text-align: right;\n",
       "    }\n",
       "</style>\n",
       "<table border=\"1\" class=\"dataframe\">\n",
       "  <thead>\n",
       "    <tr style=\"text-align: right;\">\n",
       "      <th></th>\n",
       "      <th>user_id</th>\n",
       "      <th>name</th>\n",
       "      <th>age</th>\n",
       "      <th>city</th>\n",
       "      <th>subscription_type</th>\n",
       "      <th>distance</th>\n",
       "      <th>duration</th>\n",
       "      <th>date</th>\n",
       "      <th>month</th>\n",
       "    </tr>\n",
       "  </thead>\n",
       "  <tbody>\n",
       "    <tr>\n",
       "      <th>0</th>\n",
       "      <td>1</td>\n",
       "      <td>Кира</td>\n",
       "      <td>22</td>\n",
       "      <td>Тюмень</td>\n",
       "      <td>ultra</td>\n",
       "      <td>4409.919140</td>\n",
       "      <td>26</td>\n",
       "      <td>2021-01-01</td>\n",
       "      <td>1</td>\n",
       "    </tr>\n",
       "    <tr>\n",
       "      <th>1</th>\n",
       "      <td>1</td>\n",
       "      <td>Кира</td>\n",
       "      <td>22</td>\n",
       "      <td>Тюмень</td>\n",
       "      <td>ultra</td>\n",
       "      <td>2617.592153</td>\n",
       "      <td>16</td>\n",
       "      <td>2021-01-18</td>\n",
       "      <td>1</td>\n",
       "    </tr>\n",
       "    <tr>\n",
       "      <th>2</th>\n",
       "      <td>1</td>\n",
       "      <td>Кира</td>\n",
       "      <td>22</td>\n",
       "      <td>Тюмень</td>\n",
       "      <td>ultra</td>\n",
       "      <td>754.159807</td>\n",
       "      <td>6</td>\n",
       "      <td>2021-04-20</td>\n",
       "      <td>4</td>\n",
       "    </tr>\n",
       "    <tr>\n",
       "      <th>3</th>\n",
       "      <td>1</td>\n",
       "      <td>Кира</td>\n",
       "      <td>22</td>\n",
       "      <td>Тюмень</td>\n",
       "      <td>ultra</td>\n",
       "      <td>2694.783254</td>\n",
       "      <td>19</td>\n",
       "      <td>2021-08-11</td>\n",
       "      <td>8</td>\n",
       "    </tr>\n",
       "    <tr>\n",
       "      <th>4</th>\n",
       "      <td>1</td>\n",
       "      <td>Кира</td>\n",
       "      <td>22</td>\n",
       "      <td>Тюмень</td>\n",
       "      <td>ultra</td>\n",
       "      <td>4028.687306</td>\n",
       "      <td>26</td>\n",
       "      <td>2021-08-28</td>\n",
       "      <td>8</td>\n",
       "    </tr>\n",
       "  </tbody>\n",
       "</table>\n",
       "</div>"
      ],
      "text/plain": [
       "   user_id  name  age    city subscription_type     distance  duration  \\\n",
       "0        1  Кира   22  Тюмень             ultra  4409.919140        26   \n",
       "1        1  Кира   22  Тюмень             ultra  2617.592153        16   \n",
       "2        1  Кира   22  Тюмень             ultra   754.159807         6   \n",
       "3        1  Кира   22  Тюмень             ultra  2694.783254        19   \n",
       "4        1  Кира   22  Тюмень             ultra  4028.687306        26   \n",
       "\n",
       "        date  month  \n",
       "0 2021-01-01      1  \n",
       "1 2021-01-18      1  \n",
       "2 2021-04-20      4  \n",
       "3 2021-08-11      8  \n",
       "4 2021-08-28      8  "
      ]
     },
     "execution_count": 24,
     "metadata": {},
     "output_type": "execute_result"
    }
   ],
   "source": [
    "# Произведем обхединение при помощи merge\n",
    "df = pd.merge(df_users_go,\n",
    "             df_rides_go,\n",
    "             on = 'user_id',\n",
    "             how = 'left')\n",
    "\n",
    "# Посмотрим, какой массив у нас получился\n",
    "df.head()"
   ]
  },
  {
   "cell_type": "markdown",
   "metadata": {
    "deletable": false,
    "editable": false,
    "id": "-RP6pSRQsK8D",
    "tags": [
     "start_task"
    ]
   },
   "source": [
    "### Задача 4.2 Присоединение информации о подписках\n",
    "Присоедините к полученному датафрейму `df` информацию о подписках из `df_subscriptions_go`, используя метод `merge()` по общей колонке и тип объединения `left`.\n"
   ]
  },
  {
   "cell_type": "code",
   "execution_count": 25,
   "metadata": {
    "deletable": false,
    "id": "G2coeCg2n6oe"
   },
   "outputs": [
    {
     "data": {
      "text/html": [
       "<div>\n",
       "<style scoped>\n",
       "    .dataframe tbody tr th:only-of-type {\n",
       "        vertical-align: middle;\n",
       "    }\n",
       "\n",
       "    .dataframe tbody tr th {\n",
       "        vertical-align: top;\n",
       "    }\n",
       "\n",
       "    .dataframe thead th {\n",
       "        text-align: right;\n",
       "    }\n",
       "</style>\n",
       "<table border=\"1\" class=\"dataframe\">\n",
       "  <thead>\n",
       "    <tr style=\"text-align: right;\">\n",
       "      <th></th>\n",
       "      <th>user_id</th>\n",
       "      <th>name</th>\n",
       "      <th>age</th>\n",
       "      <th>city</th>\n",
       "      <th>subscription_type</th>\n",
       "      <th>distance</th>\n",
       "      <th>duration</th>\n",
       "      <th>date</th>\n",
       "      <th>month</th>\n",
       "      <th>minute_price</th>\n",
       "      <th>start_ride_price</th>\n",
       "      <th>subscription_fee</th>\n",
       "    </tr>\n",
       "  </thead>\n",
       "  <tbody>\n",
       "    <tr>\n",
       "      <th>0</th>\n",
       "      <td>1</td>\n",
       "      <td>Кира</td>\n",
       "      <td>22</td>\n",
       "      <td>Тюмень</td>\n",
       "      <td>ultra</td>\n",
       "      <td>4409.919140</td>\n",
       "      <td>26</td>\n",
       "      <td>2021-01-01</td>\n",
       "      <td>1</td>\n",
       "      <td>6</td>\n",
       "      <td>0</td>\n",
       "      <td>199</td>\n",
       "    </tr>\n",
       "    <tr>\n",
       "      <th>1</th>\n",
       "      <td>1</td>\n",
       "      <td>Кира</td>\n",
       "      <td>22</td>\n",
       "      <td>Тюмень</td>\n",
       "      <td>ultra</td>\n",
       "      <td>2617.592153</td>\n",
       "      <td>16</td>\n",
       "      <td>2021-01-18</td>\n",
       "      <td>1</td>\n",
       "      <td>6</td>\n",
       "      <td>0</td>\n",
       "      <td>199</td>\n",
       "    </tr>\n",
       "    <tr>\n",
       "      <th>2</th>\n",
       "      <td>1</td>\n",
       "      <td>Кира</td>\n",
       "      <td>22</td>\n",
       "      <td>Тюмень</td>\n",
       "      <td>ultra</td>\n",
       "      <td>754.159807</td>\n",
       "      <td>6</td>\n",
       "      <td>2021-04-20</td>\n",
       "      <td>4</td>\n",
       "      <td>6</td>\n",
       "      <td>0</td>\n",
       "      <td>199</td>\n",
       "    </tr>\n",
       "    <tr>\n",
       "      <th>3</th>\n",
       "      <td>1</td>\n",
       "      <td>Кира</td>\n",
       "      <td>22</td>\n",
       "      <td>Тюмень</td>\n",
       "      <td>ultra</td>\n",
       "      <td>2694.783254</td>\n",
       "      <td>19</td>\n",
       "      <td>2021-08-11</td>\n",
       "      <td>8</td>\n",
       "      <td>6</td>\n",
       "      <td>0</td>\n",
       "      <td>199</td>\n",
       "    </tr>\n",
       "    <tr>\n",
       "      <th>4</th>\n",
       "      <td>1</td>\n",
       "      <td>Кира</td>\n",
       "      <td>22</td>\n",
       "      <td>Тюмень</td>\n",
       "      <td>ultra</td>\n",
       "      <td>4028.687306</td>\n",
       "      <td>26</td>\n",
       "      <td>2021-08-28</td>\n",
       "      <td>8</td>\n",
       "      <td>6</td>\n",
       "      <td>0</td>\n",
       "      <td>199</td>\n",
       "    </tr>\n",
       "  </tbody>\n",
       "</table>\n",
       "</div>"
      ],
      "text/plain": [
       "   user_id  name  age    city subscription_type     distance  duration  \\\n",
       "0        1  Кира   22  Тюмень             ultra  4409.919140        26   \n",
       "1        1  Кира   22  Тюмень             ultra  2617.592153        16   \n",
       "2        1  Кира   22  Тюмень             ultra   754.159807         6   \n",
       "3        1  Кира   22  Тюмень             ultra  2694.783254        19   \n",
       "4        1  Кира   22  Тюмень             ultra  4028.687306        26   \n",
       "\n",
       "        date  month  minute_price  start_ride_price  subscription_fee  \n",
       "0 2021-01-01      1             6                 0               199  \n",
       "1 2021-01-18      1             6                 0               199  \n",
       "2 2021-04-20      4             6                 0               199  \n",
       "3 2021-08-11      8             6                 0               199  \n",
       "4 2021-08-28      8             6                 0               199  "
      ]
     },
     "execution_count": 25,
     "metadata": {},
     "output_type": "execute_result"
    }
   ],
   "source": [
    "# Произведем присоединение\n",
    "df = pd.merge(df, \n",
    "         df_subscriptions_go, \n",
    "         on = 'subscription_type',\n",
    "         how = 'left')\n",
    "\n",
    "# Выведем первые пять строк\n",
    "df.head()"
   ]
  },
  {
   "cell_type": "markdown",
   "metadata": {
    "deletable": false,
    "editable": false,
    "id": "RGrvW_QIsK8D",
    "tags": [
     "start_task"
    ]
   },
   "source": [
    "### Задача 4.3. Размеры объединённого датафрейма\n",
    "Для финальной проверки выведите на экран первые пять строк датафрейма, а также количество строк и столбцов полученного датафрейма `df`. Этот этап позволит убедиться, что никакие записи не потерялись при объединении."
   ]
  },
  {
   "cell_type": "code",
   "execution_count": 26,
   "metadata": {
    "deletable": false,
    "id": "9isF62fNLWAD"
   },
   "outputs": [
    {
     "data": {
      "text/html": [
       "<div>\n",
       "<style scoped>\n",
       "    .dataframe tbody tr th:only-of-type {\n",
       "        vertical-align: middle;\n",
       "    }\n",
       "\n",
       "    .dataframe tbody tr th {\n",
       "        vertical-align: top;\n",
       "    }\n",
       "\n",
       "    .dataframe thead th {\n",
       "        text-align: right;\n",
       "    }\n",
       "</style>\n",
       "<table border=\"1\" class=\"dataframe\">\n",
       "  <thead>\n",
       "    <tr style=\"text-align: right;\">\n",
       "      <th></th>\n",
       "      <th>user_id</th>\n",
       "      <th>name</th>\n",
       "      <th>age</th>\n",
       "      <th>city</th>\n",
       "      <th>subscription_type</th>\n",
       "      <th>distance</th>\n",
       "      <th>duration</th>\n",
       "      <th>date</th>\n",
       "      <th>month</th>\n",
       "      <th>minute_price</th>\n",
       "      <th>start_ride_price</th>\n",
       "      <th>subscription_fee</th>\n",
       "    </tr>\n",
       "  </thead>\n",
       "  <tbody>\n",
       "    <tr>\n",
       "      <th>0</th>\n",
       "      <td>1</td>\n",
       "      <td>Кира</td>\n",
       "      <td>22</td>\n",
       "      <td>Тюмень</td>\n",
       "      <td>ultra</td>\n",
       "      <td>4409.919140</td>\n",
       "      <td>26</td>\n",
       "      <td>2021-01-01</td>\n",
       "      <td>1</td>\n",
       "      <td>6</td>\n",
       "      <td>0</td>\n",
       "      <td>199</td>\n",
       "    </tr>\n",
       "    <tr>\n",
       "      <th>1</th>\n",
       "      <td>1</td>\n",
       "      <td>Кира</td>\n",
       "      <td>22</td>\n",
       "      <td>Тюмень</td>\n",
       "      <td>ultra</td>\n",
       "      <td>2617.592153</td>\n",
       "      <td>16</td>\n",
       "      <td>2021-01-18</td>\n",
       "      <td>1</td>\n",
       "      <td>6</td>\n",
       "      <td>0</td>\n",
       "      <td>199</td>\n",
       "    </tr>\n",
       "    <tr>\n",
       "      <th>2</th>\n",
       "      <td>1</td>\n",
       "      <td>Кира</td>\n",
       "      <td>22</td>\n",
       "      <td>Тюмень</td>\n",
       "      <td>ultra</td>\n",
       "      <td>754.159807</td>\n",
       "      <td>6</td>\n",
       "      <td>2021-04-20</td>\n",
       "      <td>4</td>\n",
       "      <td>6</td>\n",
       "      <td>0</td>\n",
       "      <td>199</td>\n",
       "    </tr>\n",
       "    <tr>\n",
       "      <th>3</th>\n",
       "      <td>1</td>\n",
       "      <td>Кира</td>\n",
       "      <td>22</td>\n",
       "      <td>Тюмень</td>\n",
       "      <td>ultra</td>\n",
       "      <td>2694.783254</td>\n",
       "      <td>19</td>\n",
       "      <td>2021-08-11</td>\n",
       "      <td>8</td>\n",
       "      <td>6</td>\n",
       "      <td>0</td>\n",
       "      <td>199</td>\n",
       "    </tr>\n",
       "    <tr>\n",
       "      <th>4</th>\n",
       "      <td>1</td>\n",
       "      <td>Кира</td>\n",
       "      <td>22</td>\n",
       "      <td>Тюмень</td>\n",
       "      <td>ultra</td>\n",
       "      <td>4028.687306</td>\n",
       "      <td>26</td>\n",
       "      <td>2021-08-28</td>\n",
       "      <td>8</td>\n",
       "      <td>6</td>\n",
       "      <td>0</td>\n",
       "      <td>199</td>\n",
       "    </tr>\n",
       "  </tbody>\n",
       "</table>\n",
       "</div>"
      ],
      "text/plain": [
       "   user_id  name  age    city subscription_type     distance  duration  \\\n",
       "0        1  Кира   22  Тюмень             ultra  4409.919140        26   \n",
       "1        1  Кира   22  Тюмень             ultra  2617.592153        16   \n",
       "2        1  Кира   22  Тюмень             ultra   754.159807         6   \n",
       "3        1  Кира   22  Тюмень             ultra  2694.783254        19   \n",
       "4        1  Кира   22  Тюмень             ultra  4028.687306        26   \n",
       "\n",
       "        date  month  minute_price  start_ride_price  subscription_fee  \n",
       "0 2021-01-01      1             6                 0               199  \n",
       "1 2021-01-18      1             6                 0               199  \n",
       "2 2021-04-20      4             6                 0               199  \n",
       "3 2021-08-11      8             6                 0               199  \n",
       "4 2021-08-28      8             6                 0               199  "
      ]
     },
     "metadata": {},
     "output_type": "display_data"
    },
    {
     "name": "stdout",
     "output_type": "stream",
     "text": [
      "В полученном датафрейме 18068 строк и 12 столбцов.\n"
     ]
    }
   ],
   "source": [
    "# Выводим первые строки датафрейма\n",
    "display(df.head())\n",
    "\n",
    "# Выводим количество строк и столбцов в объединённом датафрейме\n",
    "n_rows, n_cols = df.shape[0], df.shape[1]\n",
    "print(f'В полученном датафрейме {n_rows} строк и {n_cols} столбцов.')"
   ]
  },
  {
   "cell_type": "markdown",
   "metadata": {
    "deletable": false,
    "editable": false,
    "id": "j4fAbR0dsK8E",
    "tags": [
     "start_task"
    ]
   },
   "source": [
    "### Задача 4.4 Отдельные датафреймы для пользователей с подпиской и без\n",
    "Создайте два вспомогательных датафрейма на основе `df`: первый только для пользователей с подпиской `df_ultra` и второй только для пользователей без подписки `df_free`. В следующих заданиях два этих датафрейма пригодятся при изучении поведения пользователей с подпиской и без, а также при проверке продуктовых гипотез."
   ]
  },
  {
   "cell_type": "code",
   "execution_count": 27,
   "metadata": {
    "deletable": false,
    "id": "sKY6MwNNosYg"
   },
   "outputs": [],
   "source": [
    "# Создадим массив для пользователей с подпиской\n",
    "df_ultra = df[df['subscription_type'] == 'ultra']\n",
    "\n",
    "# Создаем массив для пользователей без подписки\n",
    "df_free = df[df['subscription_type'] == 'free']"
   ]
  },
  {
   "cell_type": "markdown",
   "metadata": {
    "deletable": false,
    "editable": false,
    "id": "EsOUpiJ1sK8F",
    "tags": [
     "start_task"
    ]
   },
   "source": [
    "### Задача 4.5 Гистограмма длительности поездок для обоих групп\n",
    "На одном графике постройте гистограмму распределения длительности поездок `duration` для пользователей с подпиской и без.\n",
    "\n",
    "Что нужно сделать:\n",
    "\n",
    "1. Установить размер графика: 15 по горизонтали и 5 по вертикали. Использовать `plt.figure(figsize=(15, 5))`.\n",
    "2. Отобразить данные из столбца `duration` датафрейма `df_free` с помощью метода `hist()`, задав количество бинов `bins=30` и метку `label='free'`.\n",
    "3. Отобразить данные из столбца `duration` датафрейма `df_ultra` с помощью метода `hist()`, также задав количество бинов `bins=30` и метку `label='ultra'`.\n",
    "4. Установить подпись оси X как `'Длительность поездки, мин.'`, используя `plt.xlabel()`.\n",
    "5. Задать заголовок графика как `'Гистограмма распределения длительности поездок'` методом `plt.title()`.\n",
    "6. Добавить легенду для различения категорий на графике с использованием `plt.legend()`.\n",
    "7. Вызвать `plt.show()` для показа графика пользователю.\n",
    "\n",
    "Для удобства воспользуйтесь датафреймами, созданными на прошлом шаге, — `df_ultra` и `df_free`.\n",
    "\n",
    "Дополнительно рассчитайте среднюю длительность поездки для пользователей с подпиской и без, округлив ее до целых стандартной функцией `round` и распечатайте на экран при помощи шаблона."
   ]
  },
  {
   "cell_type": "code",
   "execution_count": 28,
   "metadata": {
    "deletable": false,
    "id": "qw6ZmTHspFbc"
   },
   "outputs": [
    {
     "data": {
      "image/png": "[encoded data removed]",
      "text/plain": [
       "<Figure size 1080x360 with 1 Axes>"
      ]
     },
     "metadata": {
      "needs_background": "light"
     },
     "output_type": "display_data"
    },
    {
     "name": "stdout",
     "output_type": "stream",
     "text": [
      "Средняя длительность поездки для пользователей без подписки 17 мин, а для пользователей с подпиской 19 мин\n"
     ]
    }
   ],
   "source": [
    "# Гистограмма длительности поездки для пользователей с подпиской и без\n",
    "plt.figure(figsize=(15, 5))\n",
    "\n",
    "# Строим гистограмму для массива с информацией о пользователеях без подписки\n",
    "df_free['duration'].hist(bins = 30, histtype=\"step\", label = 'free', color = 'red')\n",
    "\n",
    "# Строим гистограмму для массива с информацией о пользователях с подпиской\n",
    "df_ultra['duration'].hist(bins = 30, label = 'ultra', color = 'green')\n",
    "\n",
    "# Зададим визуальные настройки графика\n",
    "plt.grid(axis='y', alpha=0.7)\n",
    "plt.xlabel('Длительность поездки, мин.')\n",
    "plt.title('Гистограмма распределения длительности поездок')\n",
    "plt.legend()\n",
    "\n",
    "plt.show()\n",
    "\n",
    "# Расчет и вывод на экран средней длительности поездки для пользователей с подпиской и без\n",
    "mean_duration_free = int(df_free['duration'].mean().round(0))\n",
    "mean_duration_ultra = int(df_ultra['duration'].mean().round(0))\n",
    "print(f'Средняя длительность поездки для пользователей без подписки {mean_duration_free} мин, а для пользователей с подпиской {mean_duration_ultra} мин')"
   ]
  },
  {
   "cell_type": "markdown",
   "metadata": {
    "deletable": false,
    "editable": false,
    "id": "oasgRJ_osK8G"
   },
   "source": [
    "---\n",
    "## Задание 5. Подсчёт выручки\n",
    "Данные о количестве и длительности поездок объединены с ценами и тарифами, а значит, теперь есть всё необходимое, чтобы рассчитать важный для бизнеса показатель — выручку."
   ]
  },
  {
   "cell_type": "markdown",
   "metadata": {
    "deletable": false,
    "editable": false,
    "id": "LVBMnLV0sK8G",
    "tags": [
     "start_task"
    ]
   },
   "source": [
    "### Задача 5.1 Данные сгруппированные по нужным колонкам\n",
    "Сгруппируйте данные по следующим столбцам: `user_id`, `name`, `subscription_type`, `month`. Группировку призводите в датафрейме `df_gp`. В итоговом датафрейме `df_gp` должен сохраниться порядок агрегации изначальных столбцов и не должны использоваться групповые индексы (опция `as_index=False`).\n"
   ]
  },
  {
   "cell_type": "code",
   "execution_count": 29,
   "metadata": {
    "deletable": false,
    "id": "Ij2VX1plpVQI"
   },
   "outputs": [],
   "source": [
    "# Произведём группировку данных\n",
    "df_gp = df.groupby(['user_id', 'name', 'subscription_type', 'month'], as_index = False)"
   ]
  },
  {
   "cell_type": "markdown",
   "metadata": {
    "deletable": false,
    "editable": false,
    "id": "UVBq7IWjsK8H",
    "tags": [
     "start_task"
    ]
   },
   "source": [
    "### Задача 5.2 Подсчёт агрегированных метрик\n",
    "Создайте новый датафрейм `df_agg`. В нём для каждой группы рассчитайте и добавьте в датафрейм следующие агрегированные значения, используя метод `agg()`:\n",
    "- `total_distance` — сумма значений в столбце `distance`.\n",
    "- `total_duration` — сумма значений в столбце `duration`.\n",
    "- `rides_count` — количество элементов в столбце `duration`.\n",
    "- `subscription_type` — первое значение в группе для столбца `subscription_type`.\n",
    "- `minute_price` — первое значение в группе для столбца `minute_price`.\n",
    "- `start_ride_price` — первое значение в группе для столбца `start_ride_price`.\n",
    "- `subscription_fee` — первое значение в группе для столбца `subscription_fee`."
   ]
  },
  {
   "cell_type": "markdown",
   "metadata": {
    "deletable": false,
    "editable": false,
    "id": "p5MR_VMxNHKs"
   },
   "source": [
    "<details>\n",
    "<summary>Открыть подсказку</summary>\n",
    "В этом задании удобнее всего сделать агрегацию с использованием кортежей.\n",
    "</details>"
   ]
  },
  {
   "cell_type": "code",
   "execution_count": 33,
   "metadata": {
    "deletable": false,
    "id": "8NEOkiIONXHF"
   },
   "outputs": [
    {
     "data": {
      "text/html": [
       "<div>\n",
       "<style scoped>\n",
       "    .dataframe tbody tr th:only-of-type {\n",
       "        vertical-align: middle;\n",
       "    }\n",
       "\n",
       "    .dataframe tbody tr th {\n",
       "        vertical-align: top;\n",
       "    }\n",
       "\n",
       "    .dataframe thead th {\n",
       "        text-align: right;\n",
       "    }\n",
       "</style>\n",
       "<table border=\"1\" class=\"dataframe\">\n",
       "  <thead>\n",
       "    <tr style=\"text-align: right;\">\n",
       "      <th></th>\n",
       "      <th>user_id</th>\n",
       "      <th>name</th>\n",
       "      <th>month</th>\n",
       "      <th>total_distance</th>\n",
       "      <th>total_duration</th>\n",
       "      <th>rides_count</th>\n",
       "      <th>subscription_type</th>\n",
       "      <th>minute_price</th>\n",
       "      <th>start_ride_price</th>\n",
       "      <th>subscription_fee</th>\n",
       "    </tr>\n",
       "  </thead>\n",
       "  <tbody>\n",
       "    <tr>\n",
       "      <th>0</th>\n",
       "      <td>1</td>\n",
       "      <td>Кира</td>\n",
       "      <td>1</td>\n",
       "      <td>7027.511294</td>\n",
       "      <td>42</td>\n",
       "      <td>2</td>\n",
       "      <td>ultra</td>\n",
       "      <td>6</td>\n",
       "      <td>0</td>\n",
       "      <td>199</td>\n",
       "    </tr>\n",
       "    <tr>\n",
       "      <th>1</th>\n",
       "      <td>1</td>\n",
       "      <td>Кира</td>\n",
       "      <td>4</td>\n",
       "      <td>754.159807</td>\n",
       "      <td>6</td>\n",
       "      <td>1</td>\n",
       "      <td>ultra</td>\n",
       "      <td>6</td>\n",
       "      <td>0</td>\n",
       "      <td>199</td>\n",
       "    </tr>\n",
       "    <tr>\n",
       "      <th>2</th>\n",
       "      <td>1</td>\n",
       "      <td>Кира</td>\n",
       "      <td>8</td>\n",
       "      <td>6723.470560</td>\n",
       "      <td>45</td>\n",
       "      <td>2</td>\n",
       "      <td>ultra</td>\n",
       "      <td>6</td>\n",
       "      <td>0</td>\n",
       "      <td>199</td>\n",
       "    </tr>\n",
       "    <tr>\n",
       "      <th>3</th>\n",
       "      <td>1</td>\n",
       "      <td>Кира</td>\n",
       "      <td>10</td>\n",
       "      <td>5809.911100</td>\n",
       "      <td>32</td>\n",
       "      <td>2</td>\n",
       "      <td>ultra</td>\n",
       "      <td>6</td>\n",
       "      <td>0</td>\n",
       "      <td>199</td>\n",
       "    </tr>\n",
       "    <tr>\n",
       "      <th>4</th>\n",
       "      <td>1</td>\n",
       "      <td>Кира</td>\n",
       "      <td>11</td>\n",
       "      <td>7003.499363</td>\n",
       "      <td>53</td>\n",
       "      <td>3</td>\n",
       "      <td>ultra</td>\n",
       "      <td>6</td>\n",
       "      <td>0</td>\n",
       "      <td>199</td>\n",
       "    </tr>\n",
       "  </tbody>\n",
       "</table>\n",
       "</div>"
      ],
      "text/plain": [
       "   user_id  name  month  total_distance  total_duration  rides_count  \\\n",
       "0        1  Кира      1     7027.511294              42            2   \n",
       "1        1  Кира      4      754.159807               6            1   \n",
       "2        1  Кира      8     6723.470560              45            2   \n",
       "3        1  Кира     10     5809.911100              32            2   \n",
       "4        1  Кира     11     7003.499363              53            3   \n",
       "\n",
       "  subscription_type  minute_price  start_ride_price  subscription_fee  \n",
       "0             ultra             6                 0               199  \n",
       "1             ultra             6                 0               199  \n",
       "2             ultra             6                 0               199  \n",
       "3             ultra             6                 0               199  \n",
       "4             ultra             6                 0               199  "
      ]
     },
     "execution_count": 33,
     "metadata": {},
     "output_type": "execute_result"
    }
   ],
   "source": [
    "# Произведем агригацию данных\n",
    "df_agg = (\n",
    "    df_gp.agg(\n",
    "          total_distance = (\"distance\", \"sum\"),\n",
    "          total_duration = (\"duration\", \"sum\"),\n",
    "          rides_count = (\"duration\", \"count\"),\n",
    "          subscription_type = (\"subscription_type\", \"first\"),\n",
    "          minute_price = (\"minute_price\", \"first\"),\n",
    "          start_ride_price = (\"start_ride_price\", \"first\"),\n",
    "          subscription_fee = (\"subscription_fee\", \"first\")\n",
    "      ).reset_index(drop = True))\n",
    "\n",
    "# Выведем полученный результат\n",
    "df_agg.head()"
   ]
  },
  {
   "cell_type": "markdown",
   "metadata": {
    "deletable": false,
    "editable": false,
    "id": "l6uH5vWSsK8H",
    "tags": [
     "start_task"
    ]
   },
   "source": [
    "### Задача 5.3 Функция для подсчёта выручки\n",
    "Создайте функцию `calculate_monthly_revenue(row)` для расчёта месячной выручки по формуле:\n",
    "\n",
    "`monthly_revenue` = `start_ride_price` * `rides_count` + `minute_price` * `total_duration` + `subscription_fee`\n",
    "\n",
    "В качестве входных данных функция будет принимать одну строку `row` датафрейма. Вспомните, как в таком случае обращаться к каждой колонке.\n",
    "\n",
    "Здесь:\n",
    "- `start_ride_price * rides_count` — выручка от начала каждой поездки.\n",
    "- `minute_price * total_duration` — выручка за время использования.\n",
    "- `subscription_fee` — фиксированная выручка от подписок."
   ]
  },
  {
   "cell_type": "code",
   "execution_count": 68,
   "metadata": {
    "deletable": false,
    "id": "4nzdjVb8qDds"
   },
   "outputs": [],
   "source": [
    "# Создадим функцию для того, чтобы мы могли посчитать выручку\n",
    "def calculate_monthly_revenue(row):\n",
    "    monthly_revenue = (\n",
    "        row[\"start_ride_price\"] * row[\"rides_count\"]\n",
    "        + row[\"minute_price\"] * row[\"total_duration\"]\n",
    "        + row[\"subscription_fee\"]\n",
    "    )\n",
    "    return monthly_revenue"
   ]
  },
  {
   "cell_type": "markdown",
   "metadata": {
    "deletable": false,
    "editable": false,
    "id": "bH0zftBAsK8I",
    "tags": [
     "start_task"
    ]
   },
   "source": [
    "### Задача 5.4 Создание столбца с месячной выручкой на пользователя\n",
    "Создайте новый столбец с месячной выручкой на пользователя `monthly_revenue`. Для этого примените функцию `calculate_monthly_revenue(row)` к каждой строке агрегированного датафрейма `df_agg`."
   ]
  },
  {
   "cell_type": "code",
   "execution_count": 69,
   "metadata": {
    "deletable": false,
    "id": "iUo_b7nmqVL3"
   },
   "outputs": [
    {
     "data": {
      "text/html": [
       "<div>\n",
       "<style scoped>\n",
       "    .dataframe tbody tr th:only-of-type {\n",
       "        vertical-align: middle;\n",
       "    }\n",
       "\n",
       "    .dataframe tbody tr th {\n",
       "        vertical-align: top;\n",
       "    }\n",
       "\n",
       "    .dataframe thead th {\n",
       "        text-align: right;\n",
       "    }\n",
       "</style>\n",
       "<table border=\"1\" class=\"dataframe\">\n",
       "  <thead>\n",
       "    <tr style=\"text-align: right;\">\n",
       "      <th></th>\n",
       "      <th>user_id</th>\n",
       "      <th>name</th>\n",
       "      <th>month</th>\n",
       "      <th>total_distance</th>\n",
       "      <th>total_duration</th>\n",
       "      <th>rides_count</th>\n",
       "      <th>subscription_type</th>\n",
       "      <th>minute_price</th>\n",
       "      <th>start_ride_price</th>\n",
       "      <th>subscription_fee</th>\n",
       "      <th>monthly_revenue</th>\n",
       "    </tr>\n",
       "  </thead>\n",
       "  <tbody>\n",
       "    <tr>\n",
       "      <th>0</th>\n",
       "      <td>1</td>\n",
       "      <td>Кира</td>\n",
       "      <td>1</td>\n",
       "      <td>7027.511294</td>\n",
       "      <td>42</td>\n",
       "      <td>2</td>\n",
       "      <td>ultra</td>\n",
       "      <td>6</td>\n",
       "      <td>0</td>\n",
       "      <td>199</td>\n",
       "      <td>451</td>\n",
       "    </tr>\n",
       "    <tr>\n",
       "      <th>1</th>\n",
       "      <td>1</td>\n",
       "      <td>Кира</td>\n",
       "      <td>4</td>\n",
       "      <td>754.159807</td>\n",
       "      <td>6</td>\n",
       "      <td>1</td>\n",
       "      <td>ultra</td>\n",
       "      <td>6</td>\n",
       "      <td>0</td>\n",
       "      <td>199</td>\n",
       "      <td>235</td>\n",
       "    </tr>\n",
       "    <tr>\n",
       "      <th>2</th>\n",
       "      <td>1</td>\n",
       "      <td>Кира</td>\n",
       "      <td>8</td>\n",
       "      <td>6723.470560</td>\n",
       "      <td>45</td>\n",
       "      <td>2</td>\n",
       "      <td>ultra</td>\n",
       "      <td>6</td>\n",
       "      <td>0</td>\n",
       "      <td>199</td>\n",
       "      <td>469</td>\n",
       "    </tr>\n",
       "    <tr>\n",
       "      <th>3</th>\n",
       "      <td>1</td>\n",
       "      <td>Кира</td>\n",
       "      <td>10</td>\n",
       "      <td>5809.911100</td>\n",
       "      <td>32</td>\n",
       "      <td>2</td>\n",
       "      <td>ultra</td>\n",
       "      <td>6</td>\n",
       "      <td>0</td>\n",
       "      <td>199</td>\n",
       "      <td>391</td>\n",
       "    </tr>\n",
       "    <tr>\n",
       "      <th>4</th>\n",
       "      <td>1</td>\n",
       "      <td>Кира</td>\n",
       "      <td>11</td>\n",
       "      <td>7003.499363</td>\n",
       "      <td>53</td>\n",
       "      <td>3</td>\n",
       "      <td>ultra</td>\n",
       "      <td>6</td>\n",
       "      <td>0</td>\n",
       "      <td>199</td>\n",
       "      <td>517</td>\n",
       "    </tr>\n",
       "  </tbody>\n",
       "</table>\n",
       "</div>"
      ],
      "text/plain": [
       "   user_id  name  month  total_distance  total_duration  rides_count  \\\n",
       "0        1  Кира      1     7027.511294              42            2   \n",
       "1        1  Кира      4      754.159807               6            1   \n",
       "2        1  Кира      8     6723.470560              45            2   \n",
       "3        1  Кира     10     5809.911100              32            2   \n",
       "4        1  Кира     11     7003.499363              53            3   \n",
       "\n",
       "  subscription_type  minute_price  start_ride_price  subscription_fee  \\\n",
       "0             ultra             6                 0               199   \n",
       "1             ultra             6                 0               199   \n",
       "2             ultra             6                 0               199   \n",
       "3             ultra             6                 0               199   \n",
       "4             ultra             6                 0               199   \n",
       "\n",
       "   monthly_revenue  \n",
       "0              451  \n",
       "1              235  \n",
       "2              469  \n",
       "3              391  \n",
       "4              517  "
      ]
     },
     "execution_count": 69,
     "metadata": {},
     "output_type": "execute_result"
    }
   ],
   "source": [
    "# Применяем функцию, созданную ранее, для произведения рассчётов\n",
    "df_agg['monthly_revenue'] = df_agg.apply(calculate_monthly_revenue, axis = 1)\n",
    "\n",
    "# Проверим полученный результат\n",
    "df_agg.head()"
   ]
  },
  {
   "cell_type": "markdown",
   "metadata": {
    "deletable": false,
    "editable": false,
    "id": "HTbnNX3msK8I",
    "tags": [
     "start_task"
    ]
   },
   "source": [
    "### Задача 5.5 Поиск пользователя с максимальной выручкой\n",
    "Исследуйте полученные значения выручки. Найдите пользователя с максимальной суммарной выручкой за весь период наблюдения и для него выведите на экран `user_id`, имя, месяц, количество поездок и выручку за каждый из месяцев."
   ]
  },
  {
   "cell_type": "markdown",
   "metadata": {
    "deletable": false,
    "editable": false,
    "id": "ORj5Kf9EPYno"
   },
   "source": [
    "<details>\n",
    "<summary>Открыть подсказку</summary>\n",
    "Для найденного пользователя выведите колонки <code>user_id</code>, <code>name</code>, <code>month</code>, <code>rides_count</code>, <code>monthly_revenue</code>.\n",
    "</details>"
   ]
  },
  {
   "cell_type": "code",
   "execution_count": 70,
   "metadata": {
    "deletable": false,
    "id": "G93dZkJgqozi"
   },
   "outputs": [
    {
     "name": "stdout",
     "output_type": "stream",
     "text": [
      "1236 - id самого \"прибыльного\" пользователя!\n"
     ]
    },
    {
     "data": {
      "text/html": [
       "<div>\n",
       "<style scoped>\n",
       "    .dataframe tbody tr th:only-of-type {\n",
       "        vertical-align: middle;\n",
       "    }\n",
       "\n",
       "    .dataframe tbody tr th {\n",
       "        vertical-align: top;\n",
       "    }\n",
       "\n",
       "    .dataframe thead th {\n",
       "        text-align: right;\n",
       "    }\n",
       "</style>\n",
       "<table border=\"1\" class=\"dataframe\">\n",
       "  <thead>\n",
       "    <tr style=\"text-align: right;\">\n",
       "      <th></th>\n",
       "      <th>user_id</th>\n",
       "      <th>name</th>\n",
       "      <th>month</th>\n",
       "      <th>rides_count</th>\n",
       "      <th>monthly_revenue</th>\n",
       "    </tr>\n",
       "  </thead>\n",
       "  <tbody>\n",
       "    <tr>\n",
       "      <th>8877</th>\n",
       "      <td>1236</td>\n",
       "      <td>Александр</td>\n",
       "      <td>1</td>\n",
       "      <td>2</td>\n",
       "      <td>228</td>\n",
       "    </tr>\n",
       "    <tr>\n",
       "      <th>8878</th>\n",
       "      <td>1236</td>\n",
       "      <td>Александр</td>\n",
       "      <td>2</td>\n",
       "      <td>3</td>\n",
       "      <td>614</td>\n",
       "    </tr>\n",
       "    <tr>\n",
       "      <th>8879</th>\n",
       "      <td>1236</td>\n",
       "      <td>Александр</td>\n",
       "      <td>3</td>\n",
       "      <td>5</td>\n",
       "      <td>762</td>\n",
       "    </tr>\n",
       "    <tr>\n",
       "      <th>8880</th>\n",
       "      <td>1236</td>\n",
       "      <td>Александр</td>\n",
       "      <td>4</td>\n",
       "      <td>1</td>\n",
       "      <td>202</td>\n",
       "    </tr>\n",
       "    <tr>\n",
       "      <th>8881</th>\n",
       "      <td>1236</td>\n",
       "      <td>Александр</td>\n",
       "      <td>5</td>\n",
       "      <td>3</td>\n",
       "      <td>574</td>\n",
       "    </tr>\n",
       "    <tr>\n",
       "      <th>8882</th>\n",
       "      <td>1236</td>\n",
       "      <td>Александр</td>\n",
       "      <td>6</td>\n",
       "      <td>1</td>\n",
       "      <td>282</td>\n",
       "    </tr>\n",
       "    <tr>\n",
       "      <th>8883</th>\n",
       "      <td>1236</td>\n",
       "      <td>Александр</td>\n",
       "      <td>7</td>\n",
       "      <td>1</td>\n",
       "      <td>290</td>\n",
       "    </tr>\n",
       "    <tr>\n",
       "      <th>8884</th>\n",
       "      <td>1236</td>\n",
       "      <td>Александр</td>\n",
       "      <td>8</td>\n",
       "      <td>2</td>\n",
       "      <td>452</td>\n",
       "    </tr>\n",
       "    <tr>\n",
       "      <th>8885</th>\n",
       "      <td>1236</td>\n",
       "      <td>Александр</td>\n",
       "      <td>9</td>\n",
       "      <td>1</td>\n",
       "      <td>122</td>\n",
       "    </tr>\n",
       "    <tr>\n",
       "      <th>8886</th>\n",
       "      <td>1236</td>\n",
       "      <td>Александр</td>\n",
       "      <td>10</td>\n",
       "      <td>3</td>\n",
       "      <td>430</td>\n",
       "    </tr>\n",
       "    <tr>\n",
       "      <th>8887</th>\n",
       "      <td>1236</td>\n",
       "      <td>Александр</td>\n",
       "      <td>11</td>\n",
       "      <td>3</td>\n",
       "      <td>494</td>\n",
       "    </tr>\n",
       "    <tr>\n",
       "      <th>8888</th>\n",
       "      <td>1236</td>\n",
       "      <td>Александр</td>\n",
       "      <td>12</td>\n",
       "      <td>2</td>\n",
       "      <td>476</td>\n",
       "    </tr>\n",
       "  </tbody>\n",
       "</table>\n",
       "</div>"
      ],
      "text/plain": [
       "      user_id       name  month  rides_count  monthly_revenue\n",
       "8877     1236  Александр      1            2              228\n",
       "8878     1236  Александр      2            3              614\n",
       "8879     1236  Александр      3            5              762\n",
       "8880     1236  Александр      4            1              202\n",
       "8881     1236  Александр      5            3              574\n",
       "8882     1236  Александр      6            1              282\n",
       "8883     1236  Александр      7            1              290\n",
       "8884     1236  Александр      8            2              452\n",
       "8885     1236  Александр      9            1              122\n",
       "8886     1236  Александр     10            3              430\n",
       "8887     1236  Александр     11            3              494\n",
       "8888     1236  Александр     12            2              476"
      ]
     },
     "execution_count": 70,
     "metadata": {},
     "output_type": "execute_result"
    }
   ],
   "source": [
    "# Для начала найдём самого \"прибыльного\" пользователя за весь период пользования сервисом\n",
    "top_user = (\n",
    "    df_agg.groupby(\"user_id\")[\"monthly_revenue\"]\n",
    "    .sum()\n",
    "    .sort_values(ascending = False)\n",
    "    .head(1)\n",
    "    .reset_index()[\"user_id\"].iloc[0]\n",
    ")\n",
    "\n",
    "print(f'{top_user} - id самого \"прибыльного\" пользователя!')\n",
    "\n",
    "# А теперь можем найти все нужные данные для данного пользователя\n",
    "df_agg.loc[df_agg['user_id'] == top_user, ['user_id', 'name', 'month', 'rides_count', 'monthly_revenue']]"
   ]
  },
  {
   "cell_type": "markdown",
   "metadata": {
    "deletable": false,
    "editable": false,
    "id": "pTYLbBZEsK8J"
   },
   "source": [
    "---\n",
    "## Задание 6. Проверка гипотез"
   ]
  },
  {
   "cell_type": "markdown",
   "metadata": {
    "deletable": false,
    "editable": false,
    "id": "W4q8-WRDsK8J",
    "tags": [
     "start_task"
    ]
   },
   "source": [
    "### Задача 6.1 Импорт библиотеки SciPy\n",
    "Импортируйте библиотеку `scipy.stats` с сокращением `st`."
   ]
  },
  {
   "cell_type": "code",
   "execution_count": 36,
   "metadata": {
    "deletable": false,
    "id": "zyNhaTb8q5JY"
   },
   "outputs": [],
   "source": [
    "import scipy.stats as st"
   ]
  },
  {
   "cell_type": "markdown",
   "metadata": {
    "deletable": false,
    "editable": false,
    "id": "kiNRoB5zsK8K",
    "tags": [
     "start_task"
    ]
   },
   "source": [
    "### Задача 6.2 Вспомогательная функция для интерпретации результатов\n",
    "Напишите вспомогательную функцию `print_stattest_results(p_value, alpha)`, которая будет интерпретировать результаты статистического теста на основе p-value и заданного уровня значимости (α-уровня). Функция должна решать, следует ли принять альтернативную гипотезу или сохранить нулевую гипотезу.\n",
    "\n",
    "У функции два параметра:\n",
    "- `p_value` (тип `float`) — значение p-value, полученное в результате выполнения статистического теста.\n",
    "- `alpha` (тип `float`, необязательный, по умолчанию `alpha = 0.05`) — уровень значимости статистического теста, который используется как порог для принятия решения об отклонении нулевой гипотезы.\n",
    "\n",
    "Если вы принимаете альтернативную гипотезу, нужно вывести сообщение:\n",
    "`'Полученное значение p_value=<Введённое значение p_value> меньше критического уровня alpha=0.05. Принимаем альтернативную гипотезу.'`\n",
    "\n",
    "Если вы не можете опровергнуть нулевую гипотезу, нужно вывести сообщение: `'Полученное значение p_value=<Введённое значение p_value> больше критического уровня alpha=0.05. Опровергнуть нулевую гипотезу нельзя.'`\n",
    "\n",
    "Вызовите функцию для `p_value = 0.0001` и `p_value = 0.1`."
   ]
  },
  {
   "cell_type": "markdown",
   "metadata": {
    "deletable": false,
    "editable": false,
    "id": "DuKe7ipRQQoN"
   },
   "source": [
    "<details>\n",
    "<summary>Открыть подсказку</summary>\n",
    "В этом задании вам пригодятся знания f-строк из прошлых спринтов. Например, такой код позволит вам легко и красиво отформатировать и вывести переменную <code>x</code> — <code>print(f'Значение {x=}.')</code>.\n",
    "</details>"
   ]
  },
  {
   "cell_type": "code",
   "execution_count": 42,
   "metadata": {
    "deletable": false,
    "id": "xRuwp-yeQwTD"
   },
   "outputs": [
    {
     "name": "stdout",
     "output_type": "stream",
     "text": [
      "Полученное значение p_value=0.0001 меньше критического уровня alpha=0.05. Принимаем альтернативную гипотезу.\n",
      "Полученное значение p_value=0.1 больше критического уровня alpha=0.05. Опровергнуть нулевую гипотезу нельзя.\n"
     ]
    }
   ],
   "source": [
    "# Создаём функцию для проверки гипотез с заданным p_value\n",
    "def print_stattest_results(p_value:float, alpha:float = 0.05):\n",
    "    if p_value < alpha:\n",
    "        return print(f'Полученное значение p_value={p_value} меньше критического уровня alpha={alpha}. Принимаем альтернативную гипотезу.')\n",
    "    else: \n",
    "        return print(f'Полученное значение p_value={p_value} больше критического уровня alpha={alpha}. Опровергнуть нулевую гипотезу нельзя.')\n",
    "\n",
    "# Проверим работоспособность данной функции при p_value < alpha\n",
    "print_stattest_results(p_value=0.0001)\n",
    "# Проверим работоспособность данной функции при p_value > alpha\n",
    "print_stattest_results(p_value=0.1)"
   ]
  },
  {
   "cell_type": "markdown",
   "metadata": {
    "deletable": false,
    "editable": false,
    "id": "6sLXAPjjsK8K",
    "tags": [
     "start_task"
    ]
   },
   "source": [
    "### Задача 6.3 Длительность для пользователей с подпиской и без\n",
    "\n",
    "Важно понять, тратят ли пользователи с подпиской больше времени на поездки? Сформулируем нулевую и альтернативную гипотезы:\n",
    "- Нулевая гипотеза (Н0): Среднее время поездки у пользователей с подпиской и без подписки одинаковое.\n",
    "- Альтернативная гипотеза (Н1): Среднее время поездки у пользователей с подпиской больше, чем у пользователей без подписки.\n",
    "\n",
    "Чтобы проверить эту гипотезу:\n",
    "1. Используйте неагрегированные данные из датафреймов `df_ultra` и `df_free`, созданные на одном из прошлых шагов.\n",
    "2. Используйте данные о продолжительности каждой поездки `duration` — отдельно для подписчиков и тех, у кого нет подписки.\n",
    "3. Рассчитайте значение `p_value` для выбранной гипотезы, используя функции модуля `scipy.stats` и односторонний t-тест.\n",
    "4. В качестве результата вызовите написанную функцию `print_stattest_results(p_value, alpha)`, передав ей рассчитанное значение `p_value`.\n",
    "5. В конце дополнительно рассчитайте среднюю длительность поездки для тарифов `ultra` и `free`, округлив её до двух знаков после точки стандартной функцией `round()`."
   ]
  },
  {
   "cell_type": "code",
   "execution_count": 62,
   "metadata": {
    "deletable": false,
    "id": "DJ1nCMZQRfFX"
   },
   "outputs": [
    {
     "name": "stdout",
     "output_type": "stream",
     "text": [
      "Полученное значение p_value=3.1600689435611813e-35 меньше критического уровня alpha=0.05. Принимаем альтернативную гипотезу.\n",
      "Средняя длительность поездки тарифа Ultra 18.55\n",
      "Средняя длительность поездки тарифа Free 17.39\n"
     ]
    }
   ],
   "source": [
    "# Создаём массивы для анализа\n",
    "ultra_duration = df_ultra['duration']\n",
    "free_duration = df_free['duration']\n",
    "\n",
    "# Проводим тестирование\n",
    "results = st.ttest_ind(ultra_duration, \n",
    "                       free_duration, \n",
    "                       alternative = 'greater')\n",
    "\n",
    "p_value = results.pvalue\n",
    "\n",
    "# Выведем результат тестирования\n",
    "print_stattest_results(results.pvalue)\n",
    "\n",
    "# Рассчитываем среднии значения (просто описательная статистика)\n",
    "ultra_mean_duration = df_ultra['duration'].mean().round(2)\n",
    "free_mean_duration = df_free['duration'].mean().round(2)\n",
    "\n",
    "# Выводим результаты\n",
    "print(f'Средняя длительность поездки тарифа Ultra {ultra_mean_duration}')\n",
    "print(f'Средняя длительность поездки тарифа Free {free_mean_duration}')"
   ]
  },
  {
   "cell_type": "markdown",
   "metadata": {
    "deletable": false,
    "editable": false,
    "id": "HLlf6BYfsK8L",
    "tags": [
     "start_task"
    ]
   },
   "source": [
    "### Задача 6.4 Длительность поездки: больше или меньше критического значения\n",
    "\n",
    "Проанализируйте ещё одну важную продуктовую гипотезу. Расстояние одной поездки в 3130 метров — оптимальное с точки зрения износа самоката. Можно ли сказать, что расстояние, которое проезжают пользователи с подпиской за одну поездку, меньше 3130 метров?\n",
    "\n",
    "Сформулируем нулевую и альтернативную гипотезы:\n",
    "\n",
    "- Нулевая гипотеза (Н0): Средняя дистанция поездки у пользователей с подпиской равна 3130 м.\n",
    "\n",
    "- Альтернативная гипотеза (Н1): Средняя дистанция поездки у пользователей с подпиской больше 3130 м.\n",
    "\n",
    "Чтобы проверить эту гипотезу:\n",
    "\n",
    "1. Используйте неагрегированные данные о каждой поездке пользователей с подпиской из датафрейма `df_ultra`.\n",
    "\n",
    "2. Используйте данные о дистанции каждой поездки `distance`.\n",
    "\n",
    "3. Рассчитайте значение `p_value` для выбранной гипотезы, используя функции модуля `scipy.stats` и односторонний t-тест. Подумайте, как применить эту функцию, если необходимо проверить равенство с одним значением.\n",
    "\n",
    "4. В качестве результата вызовите написанную функцию `print_stattest_results(p_value, alpha)`, передав ей рассчитанное значение `p_value`."
   ]
  },
  {
   "cell_type": "code",
   "execution_count": 63,
   "metadata": {
    "deletable": false,
    "id": "sXgKlO-bSJI-"
   },
   "outputs": [
    {
     "name": "stdout",
     "output_type": "stream",
     "text": [
      "Полученное значение p_value=0.9195368847849785 больше критического уровня alpha=0.05. Опровергнуть нулевую гипотезу нельзя.\n"
     ]
    }
   ],
   "source": [
    "# Зададим \"идеальный\" износ самоката и сделаем массив с реальным \"положением дел\"\n",
    "null_hypothesis = 3130 \n",
    "ultra_distance = df_ultra['distance']\n",
    "\n",
    "# Проводим тестирование гипотез\n",
    "results = st.ttest_1samp(ultra_distance, null_hypothesis, alternative = 'greater')\n",
    "p_value = results.pvalue\n",
    "\n",
    "# Результаты\n",
    "print_stattest_results(p_value)"
   ]
  },
  {
   "cell_type": "markdown",
   "metadata": {
    "deletable": false,
    "editable": false,
    "id": "5TmnT74FsK8L",
    "tags": [
     "start_task"
    ]
   },
   "source": [
    "### Задача 6.5 Прибыль от пользователей с подпиской и без\n",
    "Проверьте гипотезу о том, что выручка от пользователей с подпиской выше, чем выручка от пользователей без подписки.\n",
    "\n",
    "Сформулируем нулевую и альтернативную гипотезы:\n",
    "\n",
    "- Нулевая гипотеза (Н0): Средняя месячная выручка у пользователей с подпиской и без подписки одинаковая.\n",
    "- Альтернативная гипотеза (Н1): Средняя месячная выручка у пользователей с подпиской выше, чем у пользователей без подписки.\n",
    "\n",
    "Чтобы проверить эту гипотезу:\n",
    "1. Используйте агрегированные данные из датафрейма `df_agg`, подготовленного на шаге 5.\n",
    "2. Используйте исходные данные о месячной выручке от каждого пользователя — `monthly_revenue`.\n",
    "3. Рассчитайте значение `p_value` для выбранной гипотезы, используя функции модуля `scipy.stats` и односторонний t-тест.\n",
    "4. В качестве результата вызовите написанную функцию `print_stattest_results(p_value, alpha)`, передав ей рассчитанное значение `p_value`.\n",
    "5. Дополнительно рассчитайте среднюю выручку для тарифов `ultra` и `free`, округлив её до целого стандартной функцией `round()`."
   ]
  },
  {
   "cell_type": "code",
   "execution_count": 79,
   "metadata": {
    "deletable": false,
    "id": "Gvfo6GlvSrHl"
   },
   "outputs": [
    {
     "name": "stdout",
     "output_type": "stream",
     "text": [
      "Полученное значение p_value=1.7274069878387966e-37 меньше критического уровня alpha=0.05. Принимаем альтернативную гипотезу.\n",
      "Средняя выручка подписчиков Ultra 359 руб\n",
      "Средняя выручка подписчиков Free 322 руб\n"
     ]
    }
   ],
   "source": [
    "# Внесём данние для пользователей сервиса с подпиской и без\n",
    "revenue_ultra = df_agg[df_agg['subscription_type'] == 'ultra']['monthly_revenue']\n",
    "revenue_free = df_agg[df_agg['subscription_type'] == 'free']['monthly_revenue']\n",
    "\n",
    "# Проведение тестирования\n",
    "results = st.ttest_ind(revenue_ultra, \n",
    "                       revenue_free, \n",
    "                       alternative = 'greater')\n",
    "\n",
    "p_value = results.pvalue\n",
    "\n",
    "# Выведем результат тестирования\n",
    "print_stattest_results(p_value)\n",
    "\n",
    "# Создаём статистику средних значений по выборкам\n",
    "mean_revenue_ultra = int(revenue_ultra.mean().round(0))\n",
    "mean_revenue_free = int(revenue_free.mean().round(0))\n",
    "\n",
    "# Выводим статистику\n",
    "print(f'Средняя выручка подписчиков Ultra {mean_revenue_ultra} руб')\n",
    "print(f'Средняя выручка подписчиков Free {mean_revenue_free} руб')"
   ]
  },
  {
   "cell_type": "markdown",
   "metadata": {
    "deletable": false,
    "editable": false,
    "id": "C3EoEcibyzeu"
   },
   "source": [
    "---\n",
    "## Задание 7. Распределения"
   ]
  },
  {
   "cell_type": "markdown",
   "metadata": {
    "deletable": false,
    "editable": false,
    "id": "ibnzyqiCz0i2"
   },
   "source": [
    "В компании возникла идея предлагать дополнительную скидку подписчикам, совершающим длительные поездки продолжительностью более 30 минут. Вас просят оценить долю таких поездок.\n",
    "\n",
    "В одном из предыдущих заданий вы уже построили гистограмму распределения длительности поездок для выборки. Однако эти данные охватывают лишь часть пользователей всех самокатов, а вас интересуют возможные значения для всей генеральной совокупности. Учитывая, что у вас нет доступа ко всем данным о поездках, было решено смоделировать длительность поездки с помощью нормального распределения, используя в качестве параметров выборочное среднее и стандартное отклонение из доступных данных о поездках."
   ]
  },
  {
   "cell_type": "markdown",
   "metadata": {
    "deletable": false,
    "editable": false,
    "id": "C2C1nTJx5Hf_",
    "tags": [
     "start_task"
    ]
   },
   "source": [
    "### Задача 7.1 Расчёт выборочного среднего и стандартного отклонения\n",
    "\n",
    "1. Расчитайте среднюю длительность поездки и сохраните в переменную `mu`.\n",
    "2. Вычислите стандартное отклонение длительности `duration` и сохраните в переменную `sigma`. Для вычисления стандартного отклонения можно применить метод `std()` к столбцу датасета.\n",
    "3. Задайте значение переменной `target_time`, равное `30`. Эта переменная будет использоваться для последующего вычисления вероятности.\n",
    "4. Выведите текстовый вывод по шаблону. При этом округлите оба значения до одного знака после точки стандартной функцией `round()`. Сами значения переменных должны остаться неимзменными для последующих задач."
   ]
  },
  {
   "cell_type": "code",
   "execution_count": 80,
   "metadata": {
    "deletable": false,
    "id": "LNVfLHzUTkAJ"
   },
   "outputs": [
    {
     "name": "stdout",
     "output_type": "stream",
     "text": [
      "Средняя длительность поездки 18.5, стандартное отклонение 6.\n"
     ]
    }
   ],
   "source": [
    "# Вычисляем среднее значение\n",
    "mu = df_ultra['duration'].mean()\n",
    "\n",
    "# Вычисляем стандартное отклонение\n",
    "sigma = df_ultra['duration'].std()\n",
    "\n",
    "# Задаём целевое время\n",
    "target_time = 30\n",
    "\n",
    "# Делаем вывод\n",
    "print(f'Средняя длительность поездки {round(mu, 1)}, стандартное отклонение {round(sigma)}.')"
   ]
  },
  {
   "cell_type": "markdown",
   "metadata": {
    "deletable": false,
    "editable": false,
    "id": "M65RN8Ic6ozL",
    "tags": [
     "start_task"
    ]
   },
   "source": [
    "### Задача 7.2 Вычисление значения функции распределения в точке (CDF)\n",
    "Если вычислить значение функции распределения в точке, это позволит узнать вероятность того, что случайная величина примет значение меньше заданного либо равное ему. Соответственно, если вы хотите ответить на вопрос о вероятности поездки более 30 минут, потребуется использовать CDF.\n",
    "\n",
    "1. Используйте функцию `norm()` из библиотеки SciPy для создания нормального распределения с параметрами `mu` и `sigma`.\n",
    "\n",
    "2. Примените метод `cdf()` к целевому времени `target_time` для получения вероятности того, что случайная величина будет меньше этого значения или равна ему. Полученное значение сохраните в переменную `prob`, округлив до трёх знаков после точки стандартной функцией `round()`.\n",
    "3. Выведите на экран текстовый ответ по шаблону."
   ]
  },
  {
   "cell_type": "code",
   "execution_count": 90,
   "metadata": {
    "deletable": false,
    "id": "l3kJCKfvUQMP"
   },
   "outputs": [
    {
     "name": "stdout",
     "output_type": "stream",
     "text": [
      "Вероятность поездки более 30 минут 0.02\n"
     ]
    }
   ],
   "source": [
    "# Вычисляем вероятность того, что случайная величина будет меньше указанного значения или равна ему\n",
    "\n",
    "duration_norm_dist = st.norm(mu, sigma)\n",
    "\n",
    "duration_cdf = duration_norm_dist.cdf(target_time)\n",
    "prob = round(1 - duration_cdf, 3)\n",
    "\n",
    "print(f'Вероятность поездки более 30 минут {prob}')"
   ]
  },
  {
   "cell_type": "markdown",
   "metadata": {
    "deletable": false,
    "editable": false,
    "id": "G6r8KA03IrNe",
    "tags": [
     "start_task"
    ]
   },
   "source": [
    "### Задача 7.3 Вероятность для интервала (CDF)\n",
    "Коллеги посчитали, что процент пользователей, для которых будет показана скидка, недостаточно большой и вряд ли поможет в увеличении лояльности клиентов. Дополнительно вас просят проверить, какой процент пользователей совершает поездки в интервале от 20 до 30 минут. Возможно, именно для них стоит провести промоакцию?\n",
    "\n",
    "Для этого:\n",
    "\n",
    "1. Создайте переменные `low` и `high`, указывающие на начало и конец интересующего временного интервала. В этом случае они равны 20 и 30 минут.\n",
    "2. Используйте кумулятивную функцию распределения (CDF) для объекта `duration_norm_dist`, чтобы вычислить вероятность достижения верхней границы (`high`) и нижней границы (`low`).\n",
    "3. Вычислите вероятность попадания в интервал, округлите до трёх знаков после точки стандартной функцией `round()` и сохраните в переменную `prob_interval`.\n",
    "4. Выведите ответ, используя шаблон."
   ]
  },
  {
   "cell_type": "code",
   "execution_count": 91,
   "metadata": {
    "deletable": false,
    "id": "aujB5fDhU15e"
   },
   "outputs": [
    {
     "name": "stdout",
     "output_type": "stream",
     "text": [
      "Вероятность того, что пользователь совершит поездку длительностью от 20 до 30 минут: 0.377\n"
     ]
    }
   ],
   "source": [
    "# Определяем границы интервала\n",
    "low = 20\n",
    "high = 30\n",
    "\n",
    "# Вычисляем вероятность попадания в интервал\n",
    "duration_norm_dist_l  = st.norm.cdf(low, mu, sigma)\n",
    "duration_norm_dist_h  = st.norm.cdf(high, mu, sigma)\n",
    "\n",
    "prob_interval = round(duration_norm_dist_h - duration_norm_dist_l, 3)\n",
    "\n",
    "# Выводим результат\n",
    "print(f'Вероятность того, что пользователь совершит поездку длительностью от {low} до {high} минут: {prob_interval}')"
   ]
  },
  {
   "cell_type": "markdown",
   "metadata": {
    "deletable": false,
    "editable": false,
    "id": "HDjUsAV8VB_t",
    "tags": [
     "start_task"
    ]
   },
   "source": [
    "### Задача 7.4 Определение критической дистанции поездок (PPF)\n",
    "Длительные поездки могут негативно сказываться на сроке службы самоката. В связи с этим принято решение установить критическую дистанцию, превышение которой будет сопровождаться дополнительной платой. Для этого необходимо определить расстояние, которое превышается только в 10% поездок (90-й процентиль).\n",
    "\n",
    "Ваша задача — смоделировать распределение длительности поездок, предполагая, что оно подчиняется нормальному закону, и рассчитать критическую дистанцию, ниже которой находится 90% всех поездок.\n",
    "\n",
    "Для этого:\n",
    "1. Рассчитайте среднюю дистанцию поездки для всех пользователей из датафрейма `df` (с подпиской и без) и сохраните в переменную `mu`.\n",
    "2. Вычислите стандартное отклонение дистанции поездки `distance` и сохраните в переменную `sigma`. Для вычисления стандартного отклонения можно применить метод `std()` к столбцу датасета.\n",
    "3. Задайте значение переменной `target_prob`, равное `0.90`. Эта переменная будет использоваться для последующего вычисления критической дистанции.\n",
    "4. Создайте объект нормального распределения `distance_norm` с заданными значениями `mu` и `sigma`.\n",
    "5. Примените к созданному нормальному распределению `distance_norm` метод `ppf()` и в качестве аргумента передайте целевую вероятность `target_prob`. Полученное значение сохраните в переменную `critical_distance`.\n",
    "6. Выведите ответ, используя шаблон.\n",
    "\n"
   ]
  },
  {
   "cell_type": "code",
   "execution_count": 96,
   "metadata": {
    "deletable": false,
    "id": "uviLDRSKVkho"
   },
   "outputs": [
    {
     "name": "stdout",
     "output_type": "stream",
     "text": [
      "90.0 % поездок имеют дистанцию ниже критического значения 4501.94 М.\n"
     ]
    }
   ],
   "source": [
    "# Вычисляем среднее значение\n",
    "mu = df['distance'].mean()\n",
    "\n",
    "# Вычисляем стандартное отклонение\n",
    "sigma = df['distance'].std()\n",
    "\n",
    "# Вероятность, для которой хотим найти значение (90% случаев)\n",
    "target_prob = 0.9\n",
    "\n",
    "# Создаём объект нормального распределения\n",
    "distance_norm = st.norm(mu, sigma)\n",
    "\n",
    "# Рассчитываем критическую дистанцию для заданного процентиля поездок\n",
    "critical_distance = distance_norm.ppf(target_prob)\n",
    "\n",
    "print(f'{100 * target_prob} % поездок имеют дистанцию ниже критического значения {critical_distance:.2f} М.')"
   ]
  },
  {
   "cell_type": "markdown",
   "metadata": {
    "deletable": false,
    "editable": false,
    "id": "17NpJxLAau6M"
   },
   "source": [
    "Поздравляем! Вы продемонстрировали глубокое понимание статистических методов и мастерски справились с задачами, используя CDF и PPF. Ваш анализ помог выявить ключевые характеристики распределения данных и определить критические значения, что очень ценно для принятия эффективных бизнес-решений."
   ]
  }
 ],
 "metadata": {
  "ExecuteTimeLog": [
   {
    "duration": 392,
    "start_time": "2025-08-16T20:48:37.805Z"
   },
   {
    "duration": 120,
    "start_time": "2025-08-16T20:48:41.889Z"
   },
   {
    "duration": 15,
    "start_time": "2025-08-16T20:50:10.287Z"
   },
   {
    "duration": 18,
    "start_time": "2025-08-16T20:51:21.760Z"
   },
   {
    "duration": 75,
    "start_time": "2025-08-16T20:53:35.816Z"
   },
   {
    "duration": 8,
    "start_time": "2025-08-16T20:53:42.695Z"
   },
   {
    "duration": 3,
    "start_time": "2025-08-16T20:53:49.891Z"
   },
   {
    "duration": 3,
    "start_time": "2025-08-16T20:53:55.055Z"
   },
   {
    "duration": 4,
    "start_time": "2025-08-16T20:54:14.511Z"
   },
   {
    "duration": 3,
    "start_time": "2025-08-16T20:54:27.390Z"
   },
   {
    "duration": 4,
    "start_time": "2025-08-16T20:54:41.312Z"
   },
   {
    "duration": 8,
    "start_time": "2025-08-16T20:55:11.763Z"
   },
   {
    "duration": 5,
    "start_time": "2025-08-16T20:55:14.867Z"
   },
   {
    "duration": 6,
    "start_time": "2025-08-16T20:55:28.300Z"
   },
   {
    "duration": 12,
    "start_time": "2025-08-16T20:57:45.342Z"
   },
   {
    "duration": 9,
    "start_time": "2025-08-16T20:57:51.861Z"
   },
   {
    "duration": 8,
    "start_time": "2025-08-16T20:58:36.381Z"
   },
   {
    "duration": 5,
    "start_time": "2025-08-16T20:58:58.703Z"
   },
   {
    "duration": 10,
    "start_time": "2025-08-16T20:59:36.199Z"
   },
   {
    "duration": 20,
    "start_time": "2025-08-16T21:00:36.242Z"
   },
   {
    "duration": 5,
    "start_time": "2025-08-16T21:00:41.872Z"
   },
   {
    "duration": 9,
    "start_time": "2025-08-16T21:01:33.187Z"
   },
   {
    "duration": 8,
    "start_time": "2025-08-16T21:02:33.491Z"
   },
   {
    "duration": 5,
    "start_time": "2025-08-16T21:02:39.894Z"
   },
   {
    "duration": 9,
    "start_time": "2025-08-16T21:03:53.749Z"
   },
   {
    "duration": 4,
    "start_time": "2025-08-16T21:06:11.688Z"
   },
   {
    "duration": 11,
    "start_time": "2025-08-16T21:06:40.384Z"
   },
   {
    "duration": 7,
    "start_time": "2025-08-16T21:08:56.741Z"
   },
   {
    "duration": 3,
    "start_time": "2025-08-16T21:09:09.179Z"
   },
   {
    "duration": 5,
    "start_time": "2025-08-16T21:09:36.156Z"
   },
   {
    "duration": 7,
    "start_time": "2025-08-16T21:10:07.402Z"
   },
   {
    "duration": 7,
    "start_time": "2025-08-16T21:10:11.412Z"
   },
   {
    "duration": 88,
    "start_time": "2025-08-16T21:10:22.330Z"
   },
   {
    "duration": 13,
    "start_time": "2025-08-16T21:11:35.097Z"
   },
   {
    "duration": 6,
    "start_time": "2025-08-16T21:12:46.784Z"
   },
   {
    "duration": 6,
    "start_time": "2025-08-16T21:13:10.688Z"
   },
   {
    "duration": 6,
    "start_time": "2025-08-16T21:13:16.602Z"
   },
   {
    "duration": 3,
    "start_time": "2025-08-16T21:14:13.936Z"
   },
   {
    "duration": 7,
    "start_time": "2025-08-16T21:14:37.184Z"
   },
   {
    "duration": 6,
    "start_time": "2025-08-16T21:15:21.902Z"
   },
   {
    "duration": 6,
    "start_time": "2025-08-16T21:15:25.551Z"
   },
   {
    "duration": 6,
    "start_time": "2025-08-16T21:18:22.291Z"
   },
   {
    "duration": 6,
    "start_time": "2025-08-16T21:20:36.913Z"
   },
   {
    "duration": 462,
    "start_time": "2025-08-16T21:22:43.311Z"
   },
   {
    "duration": 11,
    "start_time": "2025-08-16T21:23:06.856Z"
   },
   {
    "duration": 8,
    "start_time": "2025-08-16T21:23:21.652Z"
   },
   {
    "duration": 8,
    "start_time": "2025-08-16T21:23:36.656Z"
   },
   {
    "duration": 88,
    "start_time": "2025-08-16T21:23:46.594Z"
   },
   {
    "duration": 80,
    "start_time": "2025-08-16T21:23:52.474Z"
   },
   {
    "duration": 98,
    "start_time": "2025-08-16T21:23:56.439Z"
   },
   {
    "duration": 8,
    "start_time": "2025-08-16T21:24:36.456Z"
   },
   {
    "duration": 147,
    "start_time": "2025-08-16T21:25:04.560Z"
   },
   {
    "duration": 83,
    "start_time": "2025-08-16T21:25:07.530Z"
   },
   {
    "duration": 89,
    "start_time": "2025-08-16T21:25:12.356Z"
   },
   {
    "duration": 88,
    "start_time": "2025-08-16T21:26:03.724Z"
   },
   {
    "duration": 89,
    "start_time": "2025-08-16T21:34:44.565Z"
   },
   {
    "duration": 4,
    "start_time": "2025-08-16T21:35:39.010Z"
   },
   {
    "duration": 5,
    "start_time": "2025-08-16T21:35:51.450Z"
   },
   {
    "duration": 147,
    "start_time": "2025-08-16T21:36:45.933Z"
   },
   {
    "duration": 165,
    "start_time": "2025-08-16T21:36:56.653Z"
   },
   {
    "duration": 170,
    "start_time": "2025-08-16T21:37:15.691Z"
   },
   {
    "duration": 177,
    "start_time": "2025-08-16T21:37:50.225Z"
   },
   {
    "duration": 180,
    "start_time": "2025-08-16T21:38:31.919Z"
   },
   {
    "duration": 173,
    "start_time": "2025-08-16T21:38:51.978Z"
   },
   {
    "duration": 252,
    "start_time": "2025-08-16T21:39:01.239Z"
   },
   {
    "duration": 184,
    "start_time": "2025-08-16T21:39:28.135Z"
   },
   {
    "duration": 175,
    "start_time": "2025-08-16T21:40:10.980Z"
   },
   {
    "duration": 172,
    "start_time": "2025-08-16T21:40:24.634Z"
   },
   {
    "duration": 181,
    "start_time": "2025-08-16T21:40:59.535Z"
   },
   {
    "duration": 3,
    "start_time": "2025-08-16T21:41:55.219Z"
   },
   {
    "duration": 7,
    "start_time": "2025-08-16T21:41:59.823Z"
   },
   {
    "duration": 8,
    "start_time": "2025-08-16T21:42:01.663Z"
   },
   {
    "duration": 92,
    "start_time": "2025-08-16T21:42:03.925Z"
   },
   {
    "duration": 194,
    "start_time": "2025-08-16T21:42:09.869Z"
   },
   {
    "duration": 8,
    "start_time": "2025-08-16T21:43:52.928Z"
   },
   {
    "duration": 9,
    "start_time": "2025-08-16T21:44:17.345Z"
   },
   {
    "duration": 7,
    "start_time": "2025-08-16T21:44:32.192Z"
   },
   {
    "duration": 83,
    "start_time": "2025-08-16T21:44:51.554Z"
   },
   {
    "duration": 5,
    "start_time": "2025-08-16T21:44:54.929Z"
   },
   {
    "duration": 5,
    "start_time": "2025-08-16T21:45:03.897Z"
   },
   {
    "duration": 5,
    "start_time": "2025-08-16T21:45:28.645Z"
   },
   {
    "duration": 5,
    "start_time": "2025-08-16T21:45:49.522Z"
   },
   {
    "duration": 6,
    "start_time": "2025-08-16T21:46:04.114Z"
   },
   {
    "duration": 5,
    "start_time": "2025-08-16T21:46:19.171Z"
   },
   {
    "duration": 116,
    "start_time": "2025-08-16T21:47:10.446Z"
   },
   {
    "duration": 102,
    "start_time": "2025-08-16T21:47:58.383Z"
   },
   {
    "duration": 11,
    "start_time": "2025-08-16T21:48:04.308Z"
   },
   {
    "duration": 8,
    "start_time": "2025-08-16T21:48:40.677Z"
   },
   {
    "duration": 7,
    "start_time": "2025-08-16T21:48:44.876Z"
   },
   {
    "duration": 8,
    "start_time": "2025-08-16T21:49:44.227Z"
   },
   {
    "duration": 124,
    "start_time": "2025-08-16T21:51:08.804Z"
   },
   {
    "duration": 19,
    "start_time": "2025-08-16T21:51:18.602Z"
   },
   {
    "duration": 19,
    "start_time": "2025-08-16T21:51:37.483Z"
   },
   {
    "duration": 9,
    "start_time": "2025-08-16T21:52:34.521Z"
   },
   {
    "duration": 20,
    "start_time": "2025-08-16T21:52:40.166Z"
   },
   {
    "duration": 26,
    "start_time": "2025-08-16T21:54:29.878Z"
   },
   {
    "duration": 20,
    "start_time": "2025-08-16T21:54:46.849Z"
   },
   {
    "duration": 23,
    "start_time": "2025-08-16T21:55:09.598Z"
   },
   {
    "duration": 14,
    "start_time": "2025-08-16T21:56:49.435Z"
   },
   {
    "duration": 21,
    "start_time": "2025-08-16T21:57:43.878Z"
   },
   {
    "duration": 117,
    "start_time": "2025-08-16T21:59:56.830Z"
   },
   {
    "duration": 16,
    "start_time": "2025-08-16T22:00:04.738Z"
   },
   {
    "duration": 105,
    "start_time": "2025-08-16T22:04:13.676Z"
   },
   {
    "duration": 5,
    "start_time": "2025-08-16T22:04:20.405Z"
   },
   {
    "duration": 5,
    "start_time": "2025-08-16T22:04:27.469Z"
   },
   {
    "duration": 5,
    "start_time": "2025-08-16T22:04:45.621Z"
   },
   {
    "duration": 3,
    "start_time": "2025-08-16T22:04:55.339Z"
   },
   {
    "duration": 1691,
    "start_time": "2025-08-16T22:12:20.217Z"
   },
   {
    "duration": 180,
    "start_time": "2025-08-16T22:12:31.202Z"
   },
   {
    "duration": 178,
    "start_time": "2025-08-16T22:13:19.864Z"
   },
   {
    "duration": 208,
    "start_time": "2025-08-16T22:14:45.861Z"
   },
   {
    "duration": 345,
    "start_time": "2025-08-16T22:15:08.608Z"
   },
   {
    "duration": 231,
    "start_time": "2025-08-16T22:15:40.250Z"
   },
   {
    "duration": 276,
    "start_time": "2025-08-16T22:15:53.098Z"
   },
   {
    "duration": 183,
    "start_time": "2025-08-16T22:17:13.354Z"
   },
   {
    "duration": 256,
    "start_time": "2025-08-16T22:17:19.783Z"
   },
   {
    "duration": 257,
    "start_time": "2025-08-16T22:17:33.757Z"
   },
   {
    "duration": 354,
    "start_time": "2025-08-16T22:17:45.532Z"
   },
   {
    "duration": 260,
    "start_time": "2025-08-16T22:17:52.904Z"
   },
   {
    "duration": 217,
    "start_time": "2025-08-16T22:18:57.663Z"
   },
   {
    "duration": 92,
    "start_time": "2025-08-16T22:19:07.883Z"
   },
   {
    "duration": 216,
    "start_time": "2025-08-16T22:19:12.208Z"
   },
   {
    "duration": 167,
    "start_time": "2025-08-16T22:19:23.581Z"
   },
   {
    "duration": 104,
    "start_time": "2025-08-16T22:19:28.693Z"
   },
   {
    "duration": 218,
    "start_time": "2025-08-16T22:19:32.770Z"
   },
   {
    "duration": 223,
    "start_time": "2025-08-16T22:19:45.241Z"
   },
   {
    "duration": 219,
    "start_time": "2025-08-16T22:19:51.364Z"
   },
   {
    "duration": 215,
    "start_time": "2025-08-16T22:21:58.981Z"
   },
   {
    "duration": 212,
    "start_time": "2025-08-16T22:22:03.605Z"
   },
   {
    "duration": 322,
    "start_time": "2025-08-16T22:22:13.178Z"
   },
   {
    "duration": 221,
    "start_time": "2025-08-16T22:22:31.743Z"
   },
   {
    "duration": 214,
    "start_time": "2025-08-16T22:22:38.547Z"
   },
   {
    "duration": 208,
    "start_time": "2025-08-16T22:22:53.089Z"
   },
   {
    "duration": 215,
    "start_time": "2025-08-16T22:23:01.440Z"
   },
   {
    "duration": 214,
    "start_time": "2025-08-16T22:23:10.590Z"
   },
   {
    "duration": 212,
    "start_time": "2025-08-16T22:23:24.900Z"
   },
   {
    "duration": 218,
    "start_time": "2025-08-16T22:23:30.035Z"
   },
   {
    "duration": 219,
    "start_time": "2025-08-16T22:24:32.515Z"
   },
   {
    "duration": 212,
    "start_time": "2025-08-16T22:24:57.108Z"
   },
   {
    "duration": 213,
    "start_time": "2025-08-16T22:25:08.632Z"
   },
   {
    "duration": 163,
    "start_time": "2025-08-16T22:27:43.631Z"
   },
   {
    "duration": 53,
    "start_time": "2025-08-16T22:28:15.228Z"
   },
   {
    "duration": 4,
    "start_time": "2025-08-16T22:37:08.830Z"
   },
   {
    "duration": 7,
    "start_time": "2025-08-16T22:37:32.229Z"
   },
   {
    "duration": 3,
    "start_time": "2025-08-16T22:37:48.801Z"
   },
   {
    "duration": 190,
    "start_time": "2025-08-16T22:37:51.406Z"
   },
   {
    "duration": 189,
    "start_time": "2025-08-16T22:38:20.039Z"
   },
   {
    "duration": 196,
    "start_time": "2025-08-16T22:38:23.899Z"
   },
   {
    "duration": 191,
    "start_time": "2025-08-16T22:38:28.986Z"
   },
   {
    "duration": 95,
    "start_time": "2025-08-16T22:42:40.382Z"
   },
   {
    "duration": 8,
    "start_time": "2025-08-16T22:42:47.855Z"
   },
   {
    "duration": 7,
    "start_time": "2025-08-16T22:42:55.679Z"
   },
   {
    "duration": 7,
    "start_time": "2025-08-16T22:42:58.767Z"
   },
   {
    "duration": 9,
    "start_time": "2025-08-16T22:43:11.217Z"
   },
   {
    "duration": 9,
    "start_time": "2025-08-16T22:43:22.928Z"
   },
   {
    "duration": 6,
    "start_time": "2025-08-16T22:43:37.319Z"
   },
   {
    "duration": 14,
    "start_time": "2025-08-16T22:43:46.504Z"
   },
   {
    "duration": 11,
    "start_time": "2025-08-16T22:44:18.522Z"
   },
   {
    "duration": 10,
    "start_time": "2025-08-16T22:44:48.242Z"
   },
   {
    "duration": 8,
    "start_time": "2025-08-16T22:45:10.828Z"
   },
   {
    "duration": 17,
    "start_time": "2025-08-16T22:46:19.387Z"
   },
   {
    "duration": 11,
    "start_time": "2025-08-16T22:46:39.350Z"
   },
   {
    "duration": 1309,
    "start_time": "2025-08-16T22:47:01.062Z"
   },
   {
    "duration": 194,
    "start_time": "2025-08-16T22:47:13.845Z"
   },
   {
    "duration": 1312,
    "start_time": "2025-08-16T22:47:15.757Z"
   },
   {
    "duration": 648,
    "start_time": "2025-08-16T22:48:27.826Z"
   },
   {
    "duration": 15,
    "start_time": "2025-08-16T22:48:37.759Z"
   },
   {
    "duration": 666,
    "start_time": "2025-08-17T16:57:50.429Z"
   },
   {
    "duration": 406,
    "start_time": "2025-08-18T10:39:19.183Z"
   },
   {
    "duration": 374,
    "start_time": "2025-08-18T10:39:21.695Z"
   },
   {
    "duration": 25,
    "start_time": "2025-08-18T10:39:24.692Z"
   },
   {
    "duration": 5,
    "start_time": "2025-08-18T10:39:27.406Z"
   },
   {
    "duration": 6,
    "start_time": "2025-08-18T10:39:30.432Z"
   },
   {
    "duration": 9,
    "start_time": "2025-08-18T10:39:32.227Z"
   },
   {
    "duration": 5,
    "start_time": "2025-08-18T10:39:32.595Z"
   },
   {
    "duration": 5,
    "start_time": "2025-08-18T10:39:34.367Z"
   },
   {
    "duration": 10,
    "start_time": "2025-08-18T10:39:35.026Z"
   },
   {
    "duration": 9,
    "start_time": "2025-08-18T10:39:37.428Z"
   },
   {
    "duration": 6,
    "start_time": "2025-08-18T10:40:10.617Z"
   },
   {
    "duration": 10,
    "start_time": "2025-08-18T10:40:26.727Z"
   },
   {
    "duration": 4,
    "start_time": "2025-08-18T10:40:49.014Z"
   },
   {
    "duration": 10,
    "start_time": "2025-08-18T10:40:49.840Z"
   },
   {
    "duration": 4,
    "start_time": "2025-08-18T10:40:51.863Z"
   },
   {
    "duration": 6,
    "start_time": "2025-08-18T10:40:52.471Z"
   },
   {
    "duration": 9,
    "start_time": "2025-08-18T10:41:07.800Z"
   },
   {
    "duration": 438,
    "start_time": "2025-08-18T10:41:10.929Z"
   },
   {
    "duration": 8,
    "start_time": "2025-08-18T10:41:12.561Z"
   },
   {
    "duration": 6,
    "start_time": "2025-08-18T10:41:20.717Z"
   },
   {
    "duration": 102,
    "start_time": "2025-08-18T10:41:27.946Z"
   },
   {
    "duration": 183,
    "start_time": "2025-08-18T10:41:32.374Z"
   },
   {
    "duration": 5,
    "start_time": "2025-08-18T10:41:36.381Z"
   },
   {
    "duration": 8,
    "start_time": "2025-08-18T10:41:43.066Z"
   },
   {
    "duration": 21,
    "start_time": "2025-08-18T10:41:50.072Z"
   },
   {
    "duration": 20,
    "start_time": "2025-08-18T10:41:54.884Z"
   },
   {
    "duration": 15,
    "start_time": "2025-08-18T10:42:27.585Z"
   },
   {
    "duration": 11,
    "start_time": "2025-08-18T10:42:30.900Z"
   },
   {
    "duration": 213,
    "start_time": "2025-08-18T10:42:36.460Z"
   },
   {
    "duration": 3,
    "start_time": "2025-08-18T10:43:13.848Z"
   },
   {
    "duration": 63,
    "start_time": "2025-08-18T10:43:17.280Z"
   },
   {
    "duration": 4,
    "start_time": "2025-08-18T10:43:42.845Z"
   },
   {
    "duration": 193,
    "start_time": "2025-08-18T10:43:54.052Z"
   },
   {
    "duration": 87,
    "start_time": "2025-08-18T10:44:01.679Z"
   },
   {
    "duration": 10,
    "start_time": "2025-08-18T10:44:10.793Z"
   },
   {
    "duration": 12,
    "start_time": "2025-08-18T10:44:19.826Z"
   },
   {
    "duration": 12,
    "start_time": "2025-08-18T10:44:30.807Z"
   },
   {
    "duration": 21,
    "start_time": "2025-08-18T10:44:36.647Z"
   },
   {
    "duration": 508,
    "start_time": "2025-08-18T10:44:49.883Z"
   },
   {
    "duration": 5,
    "start_time": "2025-08-18T10:56:12.014Z"
   },
   {
    "duration": 4,
    "start_time": "2025-08-18T10:57:20.086Z"
   },
   {
    "duration": 41,
    "start_time": "2025-08-18T11:05:06.085Z"
   },
   {
    "duration": 12,
    "start_time": "2025-08-18T11:05:40.728Z"
   },
   {
    "duration": 11,
    "start_time": "2025-08-18T11:05:45.302Z"
   },
   {
    "duration": 10,
    "start_time": "2025-08-18T11:06:02.459Z"
   },
   {
    "duration": 4,
    "start_time": "2025-08-18T11:06:08.402Z"
   },
   {
    "duration": 7,
    "start_time": "2025-08-18T11:06:14.069Z"
   },
   {
    "duration": 6,
    "start_time": "2025-08-18T11:06:22.644Z"
   },
   {
    "duration": 7,
    "start_time": "2025-08-18T11:06:59.284Z"
   },
   {
    "duration": 7,
    "start_time": "2025-08-18T11:07:06.892Z"
   },
   {
    "duration": 7,
    "start_time": "2025-08-18T11:07:12.155Z"
   },
   {
    "duration": 7,
    "start_time": "2025-08-18T11:07:28.140Z"
   },
   {
    "duration": 10,
    "start_time": "2025-08-18T11:10:36.344Z"
   },
   {
    "duration": 12,
    "start_time": "2025-08-18T11:10:48.973Z"
   },
   {
    "duration": 10,
    "start_time": "2025-08-18T11:10:58.108Z"
   },
   {
    "duration": 5,
    "start_time": "2025-08-18T11:11:02.429Z"
   },
   {
    "duration": 6,
    "start_time": "2025-08-18T11:11:31.418Z"
   },
   {
    "duration": 15,
    "start_time": "2025-08-18T11:13:18.710Z"
   },
   {
    "duration": 642,
    "start_time": "2025-08-18T11:15:09.696Z"
   },
   {
    "duration": 615,
    "start_time": "2025-08-18T11:15:15.383Z"
   },
   {
    "duration": 579,
    "start_time": "2025-08-18T11:15:28.099Z"
   },
   {
    "duration": 96,
    "start_time": "2025-08-18T11:15:36.909Z"
   },
   {
    "duration": 6,
    "start_time": "2025-08-18T11:15:50.264Z"
   },
   {
    "duration": 7,
    "start_time": "2025-08-18T11:15:58.402Z"
   },
   {
    "duration": 6,
    "start_time": "2025-08-18T11:21:37.533Z"
   },
   {
    "duration": 9,
    "start_time": "2025-08-18T11:22:27.469Z"
   },
   {
    "duration": 9,
    "start_time": "2025-08-18T11:23:25.669Z"
   },
   {
    "duration": 16,
    "start_time": "2025-08-18T11:26:05.816Z"
   },
   {
    "duration": 10,
    "start_time": "2025-08-18T11:26:50.151Z"
   },
   {
    "duration": 10,
    "start_time": "2025-08-18T11:26:55.997Z"
   },
   {
    "duration": 12,
    "start_time": "2025-08-18T11:27:00.065Z"
   },
   {
    "duration": 10,
    "start_time": "2025-08-18T11:27:47.546Z"
   },
   {
    "duration": 20,
    "start_time": "2025-08-18T11:46:34.767Z"
   },
   {
    "duration": 47,
    "start_time": "2025-08-18T11:49:16.514Z"
   },
   {
    "duration": 5,
    "start_time": "2025-08-18T11:50:06.144Z"
   },
   {
    "duration": 4,
    "start_time": "2025-08-18T11:55:27.018Z"
   },
   {
    "duration": 4,
    "start_time": "2025-08-18T11:55:41.370Z"
   },
   {
    "duration": 5,
    "start_time": "2025-08-18T11:55:48.869Z"
   },
   {
    "duration": 5,
    "start_time": "2025-08-18T11:55:57.295Z"
   },
   {
    "duration": 5,
    "start_time": "2025-08-18T11:56:01.241Z"
   },
   {
    "duration": 5,
    "start_time": "2025-08-18T11:56:04.373Z"
   },
   {
    "duration": 4,
    "start_time": "2025-08-18T11:56:06.221Z"
   },
   {
    "duration": 5,
    "start_time": "2025-08-18T11:56:09.260Z"
   },
   {
    "duration": 4,
    "start_time": "2025-08-18T11:56:28.254Z"
   },
   {
    "duration": 4,
    "start_time": "2025-08-18T11:56:31.045Z"
   },
   {
    "duration": 4,
    "start_time": "2025-08-18T11:58:57.084Z"
   },
   {
    "duration": 9,
    "start_time": "2025-08-18T12:04:24.133Z"
   },
   {
    "duration": 91,
    "start_time": "2025-08-18T12:04:25.557Z"
   },
   {
    "duration": 8,
    "start_time": "2025-08-18T12:04:29.492Z"
   },
   {
    "duration": 5,
    "start_time": "2025-08-18T12:04:35.488Z"
   },
   {
    "duration": 5,
    "start_time": "2025-08-18T12:04:47.896Z"
   },
   {
    "duration": 5,
    "start_time": "2025-08-18T12:04:51.663Z"
   },
   {
    "duration": 6,
    "start_time": "2025-08-18T12:07:05.044Z"
   },
   {
    "duration": 4,
    "start_time": "2025-08-18T12:07:06.698Z"
   },
   {
    "duration": 8,
    "start_time": "2025-08-18T12:07:16.835Z"
   },
   {
    "duration": 7,
    "start_time": "2025-08-18T12:07:43.836Z"
   },
   {
    "duration": 19,
    "start_time": "2025-08-18T12:12:14.748Z"
   },
   {
    "duration": 19,
    "start_time": "2025-08-18T12:12:36.282Z"
   },
   {
    "duration": 19,
    "start_time": "2025-08-18T12:14:36.346Z"
   },
   {
    "duration": 3,
    "start_time": "2025-08-18T12:15:28.530Z"
   },
   {
    "duration": 7,
    "start_time": "2025-08-18T12:19:50.188Z"
   },
   {
    "duration": 6,
    "start_time": "2025-08-18T12:22:00.565Z"
   },
   {
    "duration": 96,
    "start_time": "2025-08-18T12:22:56.104Z"
   },
   {
    "duration": 5,
    "start_time": "2025-08-18T12:23:56.535Z"
   },
   {
    "duration": 5,
    "start_time": "2025-08-18T12:25:59.406Z"
   },
   {
    "duration": 326,
    "start_time": "2025-08-18T12:33:30.768Z"
   },
   {
    "duration": 204,
    "start_time": "2025-08-18T12:34:14.548Z"
   },
   {
    "duration": 200,
    "start_time": "2025-08-18T12:36:34.072Z"
   },
   {
    "duration": 437,
    "start_time": "2025-08-19T08:02:37.153Z"
   },
   {
    "duration": 153,
    "start_time": "2025-08-19T08:02:37.592Z"
   },
   {
    "duration": 37,
    "start_time": "2025-08-19T08:02:38.962Z"
   },
   {
    "duration": 4,
    "start_time": "2025-08-19T08:02:39.847Z"
   },
   {
    "duration": 6,
    "start_time": "2025-08-19T08:02:40.830Z"
   },
   {
    "duration": 10,
    "start_time": "2025-08-19T08:02:41.885Z"
   },
   {
    "duration": 6,
    "start_time": "2025-08-19T08:02:42.272Z"
   },
   {
    "duration": 5,
    "start_time": "2025-08-19T08:02:43.086Z"
   },
   {
    "duration": 9,
    "start_time": "2025-08-19T08:02:43.428Z"
   },
   {
    "duration": 9,
    "start_time": "2025-08-19T08:02:44.198Z"
   },
   {
    "duration": 11,
    "start_time": "2025-08-19T08:02:45.193Z"
   },
   {
    "duration": 4,
    "start_time": "2025-08-19T08:02:45.853Z"
   },
   {
    "duration": 9,
    "start_time": "2025-08-19T08:02:46.162Z"
   },
   {
    "duration": 4,
    "start_time": "2025-08-19T08:02:46.560Z"
   },
   {
    "duration": 5,
    "start_time": "2025-08-19T08:02:46.959Z"
   },
   {
    "duration": 10,
    "start_time": "2025-08-19T08:02:47.380Z"
   },
   {
    "duration": 416,
    "start_time": "2025-08-19T08:02:48.485Z"
   },
   {
    "duration": 7,
    "start_time": "2025-08-19T08:02:49.739Z"
   },
   {
    "duration": 6,
    "start_time": "2025-08-19T08:02:50.993Z"
   },
   {
    "duration": 109,
    "start_time": "2025-08-19T08:02:51.777Z"
   },
   {
    "duration": 186,
    "start_time": "2025-08-19T08:02:52.711Z"
   },
   {
    "duration": 5,
    "start_time": "2025-08-19T08:02:54.125Z"
   },
   {
    "duration": 8,
    "start_time": "2025-08-19T08:02:55.592Z"
   },
   {
    "duration": 19,
    "start_time": "2025-08-19T08:02:57.008Z"
   },
   {
    "duration": 18,
    "start_time": "2025-08-19T08:02:59.006Z"
   },
   {
    "duration": 14,
    "start_time": "2025-08-19T08:02:59.922Z"
   },
   {
    "duration": 10,
    "start_time": "2025-08-19T08:03:00.772Z"
   },
   {
    "duration": 200,
    "start_time": "2025-08-19T08:03:02.224Z"
   },
   {
    "duration": 4,
    "start_time": "2025-08-19T08:03:03.934Z"
   },
   {
    "duration": 62,
    "start_time": "2025-08-19T08:03:11.301Z"
   },
   {
    "duration": 115,
    "start_time": "2025-08-19T08:04:01.134Z"
   },
   {
    "duration": 54,
    "start_time": "2025-08-19T08:04:08.817Z"
   },
   {
    "duration": 49,
    "start_time": "2025-08-19T08:04:45.481Z"
   },
   {
    "duration": 72,
    "start_time": "2025-08-19T08:06:46.936Z"
   },
   {
    "duration": 12,
    "start_time": "2025-08-19T08:06:54.453Z"
   },
   {
    "duration": 509,
    "start_time": "2025-08-19T08:07:02.356Z"
   },
   {
    "duration": 5,
    "start_time": "2025-08-19T08:07:29.652Z"
   },
   {
    "duration": 5,
    "start_time": "2025-08-19T08:08:03.500Z"
   },
   {
    "duration": 7,
    "start_time": "2025-08-19T08:11:45.542Z"
   },
   {
    "duration": 7,
    "start_time": "2025-08-19T08:11:49.698Z"
   },
   {
    "duration": 5,
    "start_time": "2025-08-19T08:11:57.855Z"
   },
   {
    "duration": 4,
    "start_time": "2025-08-19T08:13:22.770Z"
   },
   {
    "duration": 8,
    "start_time": "2025-08-19T08:15:01.620Z"
   },
   {
    "duration": 7,
    "start_time": "2025-08-19T08:15:55.745Z"
   },
   {
    "duration": 7,
    "start_time": "2025-08-19T08:16:19.778Z"
   },
   {
    "duration": 7,
    "start_time": "2025-08-19T08:17:28.032Z"
   },
   {
    "duration": 10,
    "start_time": "2025-08-19T08:17:32.029Z"
   },
   {
    "duration": 8,
    "start_time": "2025-08-19T08:21:13.643Z"
   },
   {
    "duration": 10,
    "start_time": "2025-08-19T08:21:32.008Z"
   },
   {
    "duration": 9,
    "start_time": "2025-08-19T08:21:35.691Z"
   },
   {
    "duration": 9,
    "start_time": "2025-08-19T08:23:01.787Z"
   },
   {
    "duration": 9,
    "start_time": "2025-08-19T08:23:29.646Z"
   },
   {
    "duration": 7,
    "start_time": "2025-08-19T08:23:44.744Z"
   },
   {
    "duration": 7,
    "start_time": "2025-08-19T08:24:00.962Z"
   },
   {
    "duration": 7,
    "start_time": "2025-08-19T08:25:30.733Z"
   },
   {
    "duration": 8,
    "start_time": "2025-08-19T08:26:44.932Z"
   },
   {
    "duration": 8,
    "start_time": "2025-08-19T08:27:08.933Z"
   },
   {
    "duration": 7,
    "start_time": "2025-08-19T08:27:13.507Z"
   },
   {
    "duration": 8,
    "start_time": "2025-08-19T08:27:22.189Z"
   },
   {
    "duration": 8,
    "start_time": "2025-08-19T08:27:32.235Z"
   },
   {
    "duration": 7,
    "start_time": "2025-08-19T08:27:44.145Z"
   },
   {
    "duration": 7,
    "start_time": "2025-08-19T08:28:06.654Z"
   },
   {
    "duration": 9,
    "start_time": "2025-08-19T08:28:26.870Z"
   },
   {
    "duration": 13,
    "start_time": "2025-08-19T08:28:56.356Z"
   },
   {
    "duration": 1535,
    "start_time": "2025-08-19T08:28:58.552Z"
   },
   {
    "duration": 1446,
    "start_time": "2025-08-19T08:29:09.964Z"
   },
   {
    "duration": 12,
    "start_time": "2025-08-19T08:29:33.688Z"
   },
   {
    "duration": 4,
    "start_time": "2025-08-19T08:29:39.684Z"
   },
   {
    "duration": 200,
    "start_time": "2025-08-19T08:29:46.502Z"
   },
   {
    "duration": 27,
    "start_time": "2025-08-19T08:29:50.673Z"
   },
   {
    "duration": 17,
    "start_time": "2025-08-19T08:29:55.370Z"
   },
   {
    "duration": 15,
    "start_time": "2025-08-19T08:30:27.946Z"
   },
   {
    "duration": 14,
    "start_time": "2025-08-19T08:30:30.475Z"
   },
   {
    "duration": 11,
    "start_time": "2025-08-19T08:30:42.201Z"
   },
   {
    "duration": 11,
    "start_time": "2025-08-19T08:30:57.912Z"
   },
   {
    "duration": 13,
    "start_time": "2025-08-19T08:31:02.589Z"
   },
   {
    "duration": 16,
    "start_time": "2025-08-19T08:31:24.918Z"
   },
   {
    "duration": 10,
    "start_time": "2025-08-19T08:31:38.509Z"
   },
   {
    "duration": 11,
    "start_time": "2025-08-19T08:32:23.902Z"
   },
   {
    "duration": 5,
    "start_time": "2025-08-19T08:32:44.421Z"
   },
   {
    "duration": 5,
    "start_time": "2025-08-19T08:33:02.964Z"
   },
   {
    "duration": 5,
    "start_time": "2025-08-19T08:34:29.041Z"
   },
   {
    "duration": 9,
    "start_time": "2025-08-19T08:34:45.892Z"
   },
   {
    "duration": 5,
    "start_time": "2025-08-19T08:35:13.501Z"
   },
   {
    "duration": 4,
    "start_time": "2025-08-19T08:35:23.161Z"
   },
   {
    "duration": 4,
    "start_time": "2025-08-19T08:35:28.056Z"
   },
   {
    "duration": 4,
    "start_time": "2025-08-19T08:35:39.842Z"
   },
   {
    "duration": 5,
    "start_time": "2025-08-19T08:37:52.740Z"
   },
   {
    "duration": 7,
    "start_time": "2025-08-19T08:38:21.584Z"
   },
   {
    "duration": 5,
    "start_time": "2025-08-19T08:38:51.146Z"
   },
   {
    "duration": 5,
    "start_time": "2025-08-19T08:39:10.547Z"
   }
  ],
  "colab": {
   "provenance": [],
   "toc_visible": true
  },
  "kernelspec": {
   "display_name": "Python 3 (ipykernel)",
   "language": "python",
   "name": "python3"
  },
  "language_info": {
   "codemirror_mode": {
    "name": "ipython",
    "version": 3
   },
   "file_extension": ".py",
   "mimetype": "text/x-python",
   "name": "python",
   "nbconvert_exporter": "python",
   "pygments_lexer": "ipython3",
   "version": "3.9.5"
  },
  "toc": {
   "base_numbering": 1,
   "nav_menu": {},
   "number_sections": true,
   "sideBar": true,
   "skip_h1_title": true,
   "title_cell": "Table of Contents",
   "title_sidebar": "Contents",
   "toc_cell": false,
   "toc_position": {},
   "toc_section_display": true,
   "toc_window_display": false
  }
 },
 "nbformat": 4,
 "nbformat_minor": 1
}
